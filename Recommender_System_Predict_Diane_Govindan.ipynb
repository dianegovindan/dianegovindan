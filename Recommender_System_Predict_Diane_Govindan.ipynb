{
 "cells": [
  {
   "cell_type": "markdown",
   "id": "6c7e849a",
   "metadata": {
    "ExecuteTime": {
     "end_time": "2021-06-11T09:24:53.643384Z",
     "start_time": "2021-06-11T09:24:53.622385Z"
    }
   },
   "source": [
    "# The Recommender System Predict\n",
    "\n",
    "© Explore Data Science Academy\n",
    "\n",
    "---\n",
    "### Honour Code\n",
    "\n",
    "I {**DIANE, GOVINDAN**}, confirm - by submitting this document - that the solutions in this notebook are a result of my own work and that I abide by the [EDSA honour code](https://drive.google.com/file/d/1QDCjGZJ8-FmJE3bZdIQNwnJyQKPhHZBn/view?usp=sharing).\n",
    "\n",
    "Non-compliance with the honour code constitutes a material breach of contract.\n",
    "\n",
    "### Predict Overview: EDSA Movie Recommendation Predict\n",
    "\n",
    "https://www.kaggle.com/competitions/edsa-movie-recommendation-predict/overview\n",
    "\n",
    "**Description**\n",
    "\n",
    "In today’s technology driven world, recommender systems are socially and economically critical for ensuring that individuals can make appropriate choices surrounding the content they engage with on a daily basis. One application where this is especially true surrounds movie content recommendations; where intelligent algorithms can help viewers find great titles from tens of thousands of options. ...ever wondered how Netflix, Amazon Prime, Showmax, Disney and the likes somehow know what to recommend to you? ![](https://www.googleapis.com/download/storage/v1/b/kaggle-user-content/o/inbox%2F2205222%2Fbca114f2e4f6b9b46f2cc76527d7401e%2FImage_header.png?generation=1593773828621598&alt=media) ...it's not just a guess drawn out of the hat. There is an algorithm behind it. With this context, EDSA is challenging you to construct a recommendation algorithm based on **content** or **collaborative** filtering, capable of accurately predicting how a user will rate a movie they have not yet viewed based on their historical preferences. ### What value is achieved through building a functional recommender system? Providing an accurate and robust solution to this challenge has immense economic potential, with users of the system being exposed to content they would like to view or purchase - generating revenue and platform affinity. !\n",
    "\n",
    "**Evaluation**\n",
    "\n",
    "The evaluation metric for this competition is Root Mean Square Error. Root Mean Square Error (RMSE) is commonly used in regression analysis and forecasting, and measures the standard deviation of the residuals arising between predicted and actual observed values for a modelling process. \n",
    "\n",
    "\n",
    "**Submission Format**\n",
    "\n",
    "For every author in the dataset, submission files should contain two columns: Id and rating. Id is a concatenation of the userID and movieID given in the test file (using an _ character). rating is the predicted rating for a given user-movie pair\n",
    "\n",
    "The file should contain a header and have the following format:\n",
    "\n",
    "Id,rating\n",
    "\n",
    "1_2011,1.0\n",
    "\n",
    "**Data**\n",
    "\n",
    "genome_scores.csv - a score mapping the strength between movies and tag-related properties. \n",
    "\n",
    "genome_tags.csv - user assigned tags for genome-related scores\n",
    "\n",
    "imdb_data.csv - Additional movie metadata scraped from IMDB using the links.csv file.\n",
    "\n",
    "links.csv - File providing a mapping between a MovieLens ID and associated IMDB and TMDB IDs.\n",
    "\n",
    "sample_submission.csv - Sample of the submission format for the hackathon.\n",
    "\n",
    "tags.csv - User assigned for the movies within the dataset.\n",
    "\n",
    "test.csv - The test split of the dataset. Contains user and movie IDs with no rating data.\n",
    "\n",
    "train.csv - The training split of the dataset. Contains user and movie IDs with associated rating data."
   ]
  },
  {
   "cell_type": "markdown",
   "id": "05600c92",
   "metadata": {},
   "source": [
    "<a id=\"cont\"></a>\n",
    "\n",
    "## Table of Contents\n",
    "\n",
    "<a href=#one>1. Importing Packages</a>\n",
    "\n",
    "<a href=#two>2. Loading Data</a>\n",
    "\n",
    "<a href=#three>3. Exploratory Data Analysis (EDA)</a>\n",
    "\n",
    "<a href=#four>4. Data Engineering</a>\n",
    "\n",
    "<a href=#five>5. Modeling</a>\n",
    "\n",
    "<a href=#six>6. Model Performance</a>\n",
    "\n",
    "<a href=#seven>7. Model Explanations</a>"
   ]
  },
  {
   "cell_type": "markdown",
   "id": "997462e2",
   "metadata": {},
   "source": [
    " <a id=\"one\"></a>\n",
    "## 1. Importing Packages\n",
    "<a href=#cont>Back to Table of Contents</a>\n",
    "\n",
    "---\n",
    "    \n",
    "| ⚡ Description: Importing Packages ⚡ |\n",
    "| :--------------------------- |\n",
    "| In this section you are required to import, and briefly discuss, the libraries that will be used throughout your analysis and modelling. |\n",
    "\n",
    "---"
   ]
  },
  {
   "cell_type": "code",
   "execution_count": 1,
   "id": "475dbe93",
   "metadata": {
    "ExecuteTime": {
     "end_time": "2021-06-23T10:30:53.800892Z",
     "start_time": "2021-06-23T10:30:50.215449Z"
    }
   },
   "outputs": [],
   "source": [
    "# Libraries for data loading, data manipulation and data visulisation\n",
    "import numpy as np\n",
    "import pandas as pd\n",
    "import matplotlib.pyplot as plt\n",
    "import seaborn as sns\n",
    "%matplotlib inline\n",
    "\n",
    "from statsmodels.graphics.correlation import plot_corr\n",
    "from scipy.stats import pearsonr\n",
    "from sklearn.utils import resample\n",
    "\n",
    "# Libraries for data preparation and model building\n",
    "import re\n",
    "import nltk\n",
    "from nltk.stem import WordNetLemmatizer\n",
    "from nltk.corpus import stopwords\n",
    "from sklearn.feature_extraction.text import TfidfVectorizer\n",
    "from sklearn.feature_extraction.text import CountVectorizer\n",
    "from sklearn.model_selection import train_test_split\n",
    "from sklearn.ensemble import RandomForestClassifier\n",
    "from sklearn.metrics import classification_report\n",
    "from sklearn.model_selection import GridSearchCV\n",
    "from sklearn.pipeline import Pipeline\n",
    "from sklearn.metrics import f1_score\n",
    "from sklearn.preprocessing import StandardScaler\n",
    "from sklearn.tree import DecisionTreeClassifier\n",
    "from sklearn.svm import SVC\n",
    "from sklearn.linear_model import LogisticRegression\n",
    "from sklearn.naive_bayes import MultinomialNB\n",
    "from sklearn.neighbors import KNeighborsClassifier\n",
    "from sklearn import metrics\n",
    "import xgboost as xgb\n",
    "from numpy import loadtxt\n",
    "from xgboost import XGBClassifier\n",
    "import catboost as ctb\n",
    "from catboost import CatBoostClassifier\n",
    "from sklearn.preprocessing import LabelEncoder\n",
    "from sklearn.linear_model import PassiveAggressiveClassifier\n",
    "\n",
    "# Setting global constants to ensure notebook results are reproducible\n",
    "PARAMETER_CONSTANT = 42\n",
    "\n",
    "# Ignore warnings\n",
    "import warnings\n",
    "warnings.simplefilter(action='ignore')\n"
   ]
  },
  {
   "cell_type": "code",
   "execution_count": 2,
   "id": "1ad63f60",
   "metadata": {},
   "outputs": [],
   "source": [
    "# Import our regular old heroes \n",
    "import numpy as np\n",
    "import pandas as pd\n",
    "import scipy as sp # <-- The sister of Numpy, used in our code for numerical efficientcy. \n",
    "import matplotlib.pyplot as plt\n",
    "import seaborn as sns\n",
    "import random\n",
    "\n",
    "# Entity featurization and similarity computation\n",
    "from sklearn.metrics.pairwise import cosine_similarity \n",
    "from sklearn.feature_extraction.text import TfidfVectorizer\n",
    "\n",
    "# Libraries used during sorting procedures.\n",
    "import operator # <-- Convienient item retrieval during iteration \n",
    "import heapq # <-- Efficient sorting of large lists\n",
    "\n",
    "# Imported for our sanity\n",
    "import warnings\n",
    "warnings.filterwarnings('ignore')"
   ]
  },
  {
   "cell_type": "markdown",
   "id": "f22a6718",
   "metadata": {},
   "source": [
    "<a id=\"two\"></a>\n",
    "## 2. Loading the Data\n",
    "<a class=\"anchor\" id=\"1.1\"></a>\n",
    "<a href=#cont>Back to Table of Contents</a>\n",
    "\n",
    "---\n",
    "    \n",
    "| ⚡ Description: Loading the data ⚡ |\n",
    "| :--------------------------- |\n",
    "| In this section you are required to load the data from the `df_train` file into a DataFrame. |\n",
    "\n",
    "---"
   ]
  },
  {
   "cell_type": "code",
   "execution_count": 53,
   "id": "fbbb6c18",
   "metadata": {
    "ExecuteTime": {
     "end_time": "2021-06-28T08:49:35.311495Z",
     "start_time": "2021-06-28T08:49:35.295494Z"
    }
   },
   "outputs": [],
   "source": [
    "# load the data\n",
    "\n",
    "\n",
    "\n",
    "df_test = pd.read_csv('rs_test.csv')\n",
    "df_tags = pd.read_csv('tags.csv')\n",
    "df_genome_tags = pd.read_csv('genome_tags.csv')\n",
    "df_genome_scores = pd.read_csv('genome_scores.csv')\n",
    "df_movies = pd.read_csv('movies.csv')\n",
    "df_links = pd.read_csv('links.csv')\n",
    "df_imdb_data = pd.read_csv('imdb_data.csv')\n"
   ]
  },
  {
   "cell_type": "code",
   "execution_count": 199,
   "id": "f34291de",
   "metadata": {},
   "outputs": [],
   "source": [
    "filename = 'rs_train.csv'\n",
    "n = sum(1 for line in open(filename)) - 1   #10000038\n",
    "s = 1000\n",
    "random.seed(47)\n",
    "skip = sorted(random.sample(range(1,n+1),n-s))\n",
    "df_train = pd.read_csv(filename, skiprows=skip)\n"
   ]
  },
  {
   "cell_type": "markdown",
   "id": "81132ab3",
   "metadata": {},
   "source": [
    "<a id=\"three\"></a>\n",
    "## 3. Exploratory Data Analysis (EDA)\n",
    "<a class=\"anchor\" id=\"1.1\"></a>\n",
    "<a href=#cont>Back to Table of Contents</a>\n",
    "\n",
    "---\n",
    "    \n",
    "| ⚡ Description: Exploratory data analysis ⚡ |\n",
    "| :--------------------------- |\n",
    "| In this section, you are required to perform an in-depth analysis of all the variables in the DataFrame. |\n",
    "\n",
    "---\n"
   ]
  },
  {
   "cell_type": "code",
   "execution_count": 200,
   "id": "4b045c95",
   "metadata": {},
   "outputs": [
    {
     "data": {
      "text/html": [
       "<div>\n",
       "<style scoped>\n",
       "    .dataframe tbody tr th:only-of-type {\n",
       "        vertical-align: middle;\n",
       "    }\n",
       "\n",
       "    .dataframe tbody tr th {\n",
       "        vertical-align: top;\n",
       "    }\n",
       "\n",
       "    .dataframe thead th {\n",
       "        text-align: right;\n",
       "    }\n",
       "</style>\n",
       "<table border=\"1\" class=\"dataframe\">\n",
       "  <thead>\n",
       "    <tr style=\"text-align: right;\">\n",
       "      <th></th>\n",
       "      <th>userId</th>\n",
       "      <th>movieId</th>\n",
       "      <th>rating</th>\n",
       "      <th>timestamp</th>\n",
       "    </tr>\n",
       "  </thead>\n",
       "  <tbody>\n",
       "    <tr>\n",
       "      <th>0</th>\n",
       "      <td>65185</td>\n",
       "      <td>1221</td>\n",
       "      <td>5.0</td>\n",
       "      <td>1399148438</td>\n",
       "    </tr>\n",
       "    <tr>\n",
       "      <th>1</th>\n",
       "      <td>65868</td>\n",
       "      <td>5299</td>\n",
       "      <td>3.5</td>\n",
       "      <td>1467232974</td>\n",
       "    </tr>\n",
       "    <tr>\n",
       "      <th>2</th>\n",
       "      <td>63400</td>\n",
       "      <td>1202</td>\n",
       "      <td>4.0</td>\n",
       "      <td>1487699583</td>\n",
       "    </tr>\n",
       "    <tr>\n",
       "      <th>3</th>\n",
       "      <td>67860</td>\n",
       "      <td>380</td>\n",
       "      <td>2.5</td>\n",
       "      <td>1222787787</td>\n",
       "    </tr>\n",
       "    <tr>\n",
       "      <th>4</th>\n",
       "      <td>123770</td>\n",
       "      <td>225</td>\n",
       "      <td>4.0</td>\n",
       "      <td>841296479</td>\n",
       "    </tr>\n",
       "  </tbody>\n",
       "</table>\n",
       "</div>"
      ],
      "text/plain": [
       "   userId  movieId  rating   timestamp\n",
       "0   65185     1221     5.0  1399148438\n",
       "1   65868     5299     3.5  1467232974\n",
       "2   63400     1202     4.0  1487699583\n",
       "3   67860      380     2.5  1222787787\n",
       "4  123770      225     4.0   841296479"
      ]
     },
     "execution_count": 200,
     "metadata": {},
     "output_type": "execute_result"
    }
   ],
   "source": [
    "# Look at Data provided \n",
    "df_train.head()\n"
   ]
  },
  {
   "cell_type": "code",
   "execution_count": 201,
   "id": "5e2ad262",
   "metadata": {},
   "outputs": [
    {
     "data": {
      "text/plain": [
       "userId       0\n",
       "movieId      0\n",
       "rating       0\n",
       "timestamp    0\n",
       "dtype: int64"
      ]
     },
     "execution_count": 201,
     "metadata": {},
     "output_type": "execute_result"
    }
   ],
   "source": [
    "df_train.isnull().sum()"
   ]
  },
  {
   "cell_type": "code",
   "execution_count": 202,
   "id": "1c22b9c3",
   "metadata": {},
   "outputs": [
    {
     "data": {
      "text/plain": [
       "196889"
      ]
     },
     "execution_count": 202,
     "metadata": {},
     "output_type": "execute_result"
    }
   ],
   "source": [
    "max_movies = df_train['movieId'].max()\n",
    "max_movies"
   ]
  },
  {
   "cell_type": "code",
   "execution_count": 203,
   "id": "1cf05317",
   "metadata": {},
   "outputs": [
    {
     "data": {
      "text/plain": [
       "196889"
      ]
     },
     "execution_count": 203,
     "metadata": {},
     "output_type": "execute_result"
    }
   ],
   "source": [
    "df_train['movieId'].max()"
   ]
  },
  {
   "cell_type": "code",
   "execution_count": 172,
   "id": "01d9329f",
   "metadata": {},
   "outputs": [
    {
     "data": {
      "text/html": [
       "<div>\n",
       "<style scoped>\n",
       "    .dataframe tbody tr th:only-of-type {\n",
       "        vertical-align: middle;\n",
       "    }\n",
       "\n",
       "    .dataframe tbody tr th {\n",
       "        vertical-align: top;\n",
       "    }\n",
       "\n",
       "    .dataframe thead th {\n",
       "        text-align: right;\n",
       "    }\n",
       "</style>\n",
       "<table border=\"1\" class=\"dataframe\">\n",
       "  <thead>\n",
       "    <tr style=\"text-align: right;\">\n",
       "      <th></th>\n",
       "      <th>userId</th>\n",
       "      <th>movieId</th>\n",
       "    </tr>\n",
       "  </thead>\n",
       "  <tbody>\n",
       "    <tr>\n",
       "      <th>0</th>\n",
       "      <td>1</td>\n",
       "      <td>2011</td>\n",
       "    </tr>\n",
       "    <tr>\n",
       "      <th>1</th>\n",
       "      <td>1</td>\n",
       "      <td>4144</td>\n",
       "    </tr>\n",
       "    <tr>\n",
       "      <th>2</th>\n",
       "      <td>1</td>\n",
       "      <td>5767</td>\n",
       "    </tr>\n",
       "    <tr>\n",
       "      <th>3</th>\n",
       "      <td>1</td>\n",
       "      <td>6711</td>\n",
       "    </tr>\n",
       "    <tr>\n",
       "      <th>4</th>\n",
       "      <td>1</td>\n",
       "      <td>7318</td>\n",
       "    </tr>\n",
       "  </tbody>\n",
       "</table>\n",
       "</div>"
      ],
      "text/plain": [
       "   userId  movieId\n",
       "0       1     2011\n",
       "1       1     4144\n",
       "2       1     5767\n",
       "3       1     6711\n",
       "4       1     7318"
      ]
     },
     "execution_count": 172,
     "metadata": {},
     "output_type": "execute_result"
    }
   ],
   "source": [
    "df_test.head()"
   ]
  },
  {
   "cell_type": "code",
   "execution_count": 173,
   "id": "76f06991",
   "metadata": {},
   "outputs": [
    {
     "data": {
      "text/plain": [
       "162541"
      ]
     },
     "execution_count": 173,
     "metadata": {},
     "output_type": "execute_result"
    }
   ],
   "source": [
    "df_test['userId'].max()"
   ]
  },
  {
   "cell_type": "code",
   "execution_count": 174,
   "id": "f3e6cee0",
   "metadata": {},
   "outputs": [
    {
     "data": {
      "text/plain": [
       "209163"
      ]
     },
     "execution_count": 174,
     "metadata": {},
     "output_type": "execute_result"
    }
   ],
   "source": [
    "df_test['movieId'].max()"
   ]
  },
  {
   "cell_type": "code",
   "execution_count": 175,
   "id": "a7b18602",
   "metadata": {},
   "outputs": [
    {
     "data": {
      "text/html": [
       "<div>\n",
       "<style scoped>\n",
       "    .dataframe tbody tr th:only-of-type {\n",
       "        vertical-align: middle;\n",
       "    }\n",
       "\n",
       "    .dataframe tbody tr th {\n",
       "        vertical-align: top;\n",
       "    }\n",
       "\n",
       "    .dataframe thead th {\n",
       "        text-align: right;\n",
       "    }\n",
       "</style>\n",
       "<table border=\"1\" class=\"dataframe\">\n",
       "  <thead>\n",
       "    <tr style=\"text-align: right;\">\n",
       "      <th></th>\n",
       "      <th>userId</th>\n",
       "      <th>movieId</th>\n",
       "      <th>tag</th>\n",
       "      <th>timestamp</th>\n",
       "    </tr>\n",
       "  </thead>\n",
       "  <tbody>\n",
       "    <tr>\n",
       "      <th>0</th>\n",
       "      <td>3</td>\n",
       "      <td>260</td>\n",
       "      <td>classic</td>\n",
       "      <td>1439472355</td>\n",
       "    </tr>\n",
       "    <tr>\n",
       "      <th>1</th>\n",
       "      <td>3</td>\n",
       "      <td>260</td>\n",
       "      <td>sci-fi</td>\n",
       "      <td>1439472256</td>\n",
       "    </tr>\n",
       "    <tr>\n",
       "      <th>2</th>\n",
       "      <td>4</td>\n",
       "      <td>1732</td>\n",
       "      <td>dark comedy</td>\n",
       "      <td>1573943598</td>\n",
       "    </tr>\n",
       "    <tr>\n",
       "      <th>3</th>\n",
       "      <td>4</td>\n",
       "      <td>1732</td>\n",
       "      <td>great dialogue</td>\n",
       "      <td>1573943604</td>\n",
       "    </tr>\n",
       "    <tr>\n",
       "      <th>4</th>\n",
       "      <td>4</td>\n",
       "      <td>7569</td>\n",
       "      <td>so bad it's good</td>\n",
       "      <td>1573943455</td>\n",
       "    </tr>\n",
       "  </tbody>\n",
       "</table>\n",
       "</div>"
      ],
      "text/plain": [
       "   userId  movieId               tag   timestamp\n",
       "0       3      260           classic  1439472355\n",
       "1       3      260            sci-fi  1439472256\n",
       "2       4     1732       dark comedy  1573943598\n",
       "3       4     1732    great dialogue  1573943604\n",
       "4       4     7569  so bad it's good  1573943455"
      ]
     },
     "execution_count": 175,
     "metadata": {},
     "output_type": "execute_result"
    }
   ],
   "source": [
    "df_tags.head()"
   ]
  },
  {
   "cell_type": "code",
   "execution_count": 176,
   "id": "48a1e7f5",
   "metadata": {},
   "outputs": [
    {
     "data": {
      "text/plain": [
       "209063"
      ]
     },
     "execution_count": 176,
     "metadata": {},
     "output_type": "execute_result"
    }
   ],
   "source": [
    "df_tags['movieId'].max()"
   ]
  },
  {
   "cell_type": "code",
   "execution_count": 177,
   "id": "ebbd37c8",
   "metadata": {},
   "outputs": [
    {
     "data": {
      "text/plain": [
       "162534"
      ]
     },
     "execution_count": 177,
     "metadata": {},
     "output_type": "execute_result"
    }
   ],
   "source": [
    "df_tags['userId'].max()"
   ]
  },
  {
   "cell_type": "code",
   "execution_count": 178,
   "id": "02a527f7",
   "metadata": {},
   "outputs": [
    {
     "data": {
      "text/html": [
       "<div>\n",
       "<style scoped>\n",
       "    .dataframe tbody tr th:only-of-type {\n",
       "        vertical-align: middle;\n",
       "    }\n",
       "\n",
       "    .dataframe tbody tr th {\n",
       "        vertical-align: top;\n",
       "    }\n",
       "\n",
       "    .dataframe thead th {\n",
       "        text-align: right;\n",
       "    }\n",
       "</style>\n",
       "<table border=\"1\" class=\"dataframe\">\n",
       "  <thead>\n",
       "    <tr style=\"text-align: right;\">\n",
       "      <th></th>\n",
       "      <th>tagId</th>\n",
       "      <th>tag</th>\n",
       "    </tr>\n",
       "  </thead>\n",
       "  <tbody>\n",
       "    <tr>\n",
       "      <th>0</th>\n",
       "      <td>1</td>\n",
       "      <td>007</td>\n",
       "    </tr>\n",
       "    <tr>\n",
       "      <th>1</th>\n",
       "      <td>2</td>\n",
       "      <td>007 (series)</td>\n",
       "    </tr>\n",
       "    <tr>\n",
       "      <th>2</th>\n",
       "      <td>3</td>\n",
       "      <td>18th century</td>\n",
       "    </tr>\n",
       "    <tr>\n",
       "      <th>3</th>\n",
       "      <td>4</td>\n",
       "      <td>1920s</td>\n",
       "    </tr>\n",
       "    <tr>\n",
       "      <th>4</th>\n",
       "      <td>5</td>\n",
       "      <td>1930s</td>\n",
       "    </tr>\n",
       "  </tbody>\n",
       "</table>\n",
       "</div>"
      ],
      "text/plain": [
       "   tagId           tag\n",
       "0      1           007\n",
       "1      2  007 (series)\n",
       "2      3  18th century\n",
       "3      4         1920s\n",
       "4      5         1930s"
      ]
     },
     "execution_count": 178,
     "metadata": {},
     "output_type": "execute_result"
    }
   ],
   "source": [
    "df_genome_tags.head()"
   ]
  },
  {
   "cell_type": "code",
   "execution_count": 64,
   "id": "8d91605c",
   "metadata": {},
   "outputs": [
    {
     "data": {
      "text/html": [
       "<div>\n",
       "<style scoped>\n",
       "    .dataframe tbody tr th:only-of-type {\n",
       "        vertical-align: middle;\n",
       "    }\n",
       "\n",
       "    .dataframe tbody tr th {\n",
       "        vertical-align: top;\n",
       "    }\n",
       "\n",
       "    .dataframe thead th {\n",
       "        text-align: right;\n",
       "    }\n",
       "</style>\n",
       "<table border=\"1\" class=\"dataframe\">\n",
       "  <thead>\n",
       "    <tr style=\"text-align: right;\">\n",
       "      <th></th>\n",
       "      <th>movieId</th>\n",
       "      <th>tagId</th>\n",
       "      <th>relevance</th>\n",
       "    </tr>\n",
       "  </thead>\n",
       "  <tbody>\n",
       "    <tr>\n",
       "      <th>0</th>\n",
       "      <td>1</td>\n",
       "      <td>1</td>\n",
       "      <td>0.02875</td>\n",
       "    </tr>\n",
       "    <tr>\n",
       "      <th>1</th>\n",
       "      <td>1</td>\n",
       "      <td>2</td>\n",
       "      <td>0.02375</td>\n",
       "    </tr>\n",
       "    <tr>\n",
       "      <th>2</th>\n",
       "      <td>1</td>\n",
       "      <td>3</td>\n",
       "      <td>0.06250</td>\n",
       "    </tr>\n",
       "    <tr>\n",
       "      <th>3</th>\n",
       "      <td>1</td>\n",
       "      <td>4</td>\n",
       "      <td>0.07575</td>\n",
       "    </tr>\n",
       "    <tr>\n",
       "      <th>4</th>\n",
       "      <td>1</td>\n",
       "      <td>5</td>\n",
       "      <td>0.14075</td>\n",
       "    </tr>\n",
       "  </tbody>\n",
       "</table>\n",
       "</div>"
      ],
      "text/plain": [
       "   movieId  tagId  relevance\n",
       "0        1      1    0.02875\n",
       "1        1      2    0.02375\n",
       "2        1      3    0.06250\n",
       "3        1      4    0.07575\n",
       "4        1      5    0.14075"
      ]
     },
     "execution_count": 64,
     "metadata": {},
     "output_type": "execute_result"
    }
   ],
   "source": [
    "df_genome_scores.head()"
   ]
  },
  {
   "cell_type": "code",
   "execution_count": 179,
   "id": "c22a902b",
   "metadata": {},
   "outputs": [
    {
     "data": {
      "text/plain": [
       "206499"
      ]
     },
     "execution_count": 179,
     "metadata": {},
     "output_type": "execute_result"
    }
   ],
   "source": [
    "df_genome_scores['movieId'].max()"
   ]
  },
  {
   "cell_type": "code",
   "execution_count": 180,
   "id": "b0ea1096",
   "metadata": {},
   "outputs": [
    {
     "data": {
      "text/html": [
       "<div>\n",
       "<style scoped>\n",
       "    .dataframe tbody tr th:only-of-type {\n",
       "        vertical-align: middle;\n",
       "    }\n",
       "\n",
       "    .dataframe tbody tr th {\n",
       "        vertical-align: top;\n",
       "    }\n",
       "\n",
       "    .dataframe thead th {\n",
       "        text-align: right;\n",
       "    }\n",
       "</style>\n",
       "<table border=\"1\" class=\"dataframe\">\n",
       "  <thead>\n",
       "    <tr style=\"text-align: right;\">\n",
       "      <th></th>\n",
       "      <th>movieId</th>\n",
       "      <th>title</th>\n",
       "      <th>genres</th>\n",
       "    </tr>\n",
       "  </thead>\n",
       "  <tbody>\n",
       "    <tr>\n",
       "      <th>0</th>\n",
       "      <td>1</td>\n",
       "      <td>Toy Story (1995)</td>\n",
       "      <td>Adventure|Animation|Children|Comedy|Fantasy</td>\n",
       "    </tr>\n",
       "    <tr>\n",
       "      <th>1</th>\n",
       "      <td>2</td>\n",
       "      <td>Jumanji (1995)</td>\n",
       "      <td>Adventure|Children|Fantasy</td>\n",
       "    </tr>\n",
       "    <tr>\n",
       "      <th>2</th>\n",
       "      <td>3</td>\n",
       "      <td>Grumpier Old Men (1995)</td>\n",
       "      <td>Comedy|Romance</td>\n",
       "    </tr>\n",
       "    <tr>\n",
       "      <th>3</th>\n",
       "      <td>4</td>\n",
       "      <td>Waiting to Exhale (1995)</td>\n",
       "      <td>Comedy|Drama|Romance</td>\n",
       "    </tr>\n",
       "    <tr>\n",
       "      <th>4</th>\n",
       "      <td>5</td>\n",
       "      <td>Father of the Bride Part II (1995)</td>\n",
       "      <td>Comedy</td>\n",
       "    </tr>\n",
       "  </tbody>\n",
       "</table>\n",
       "</div>"
      ],
      "text/plain": [
       "   movieId                               title  \\\n",
       "0        1                    Toy Story (1995)   \n",
       "1        2                      Jumanji (1995)   \n",
       "2        3             Grumpier Old Men (1995)   \n",
       "3        4            Waiting to Exhale (1995)   \n",
       "4        5  Father of the Bride Part II (1995)   \n",
       "\n",
       "                                        genres  \n",
       "0  Adventure|Animation|Children|Comedy|Fantasy  \n",
       "1                   Adventure|Children|Fantasy  \n",
       "2                               Comedy|Romance  \n",
       "3                         Comedy|Drama|Romance  \n",
       "4                                       Comedy  "
      ]
     },
     "execution_count": 180,
     "metadata": {},
     "output_type": "execute_result"
    }
   ],
   "source": [
    "df_movies.head()"
   ]
  },
  {
   "cell_type": "code",
   "execution_count": 97,
   "id": "679a5d35",
   "metadata": {},
   "outputs": [
    {
     "data": {
      "text/plain": [
       "209171"
      ]
     },
     "execution_count": 97,
     "metadata": {},
     "output_type": "execute_result"
    }
   ],
   "source": [
    "df_movies['movieId'].max()"
   ]
  },
  {
   "cell_type": "code",
   "execution_count": 68,
   "id": "f996ebb9",
   "metadata": {},
   "outputs": [
    {
     "data": {
      "text/html": [
       "<div>\n",
       "<style scoped>\n",
       "    .dataframe tbody tr th:only-of-type {\n",
       "        vertical-align: middle;\n",
       "    }\n",
       "\n",
       "    .dataframe tbody tr th {\n",
       "        vertical-align: top;\n",
       "    }\n",
       "\n",
       "    .dataframe thead th {\n",
       "        text-align: right;\n",
       "    }\n",
       "</style>\n",
       "<table border=\"1\" class=\"dataframe\">\n",
       "  <thead>\n",
       "    <tr style=\"text-align: right;\">\n",
       "      <th></th>\n",
       "      <th>movieId</th>\n",
       "      <th>imdbId</th>\n",
       "      <th>tmdbId</th>\n",
       "    </tr>\n",
       "  </thead>\n",
       "  <tbody>\n",
       "    <tr>\n",
       "      <th>0</th>\n",
       "      <td>1</td>\n",
       "      <td>114709</td>\n",
       "      <td>862.0</td>\n",
       "    </tr>\n",
       "    <tr>\n",
       "      <th>1</th>\n",
       "      <td>2</td>\n",
       "      <td>113497</td>\n",
       "      <td>8844.0</td>\n",
       "    </tr>\n",
       "    <tr>\n",
       "      <th>2</th>\n",
       "      <td>3</td>\n",
       "      <td>113228</td>\n",
       "      <td>15602.0</td>\n",
       "    </tr>\n",
       "    <tr>\n",
       "      <th>3</th>\n",
       "      <td>4</td>\n",
       "      <td>114885</td>\n",
       "      <td>31357.0</td>\n",
       "    </tr>\n",
       "    <tr>\n",
       "      <th>4</th>\n",
       "      <td>5</td>\n",
       "      <td>113041</td>\n",
       "      <td>11862.0</td>\n",
       "    </tr>\n",
       "  </tbody>\n",
       "</table>\n",
       "</div>"
      ],
      "text/plain": [
       "   movieId  imdbId   tmdbId\n",
       "0        1  114709    862.0\n",
       "1        2  113497   8844.0\n",
       "2        3  113228  15602.0\n",
       "3        4  114885  31357.0\n",
       "4        5  113041  11862.0"
      ]
     },
     "execution_count": 68,
     "metadata": {},
     "output_type": "execute_result"
    }
   ],
   "source": [
    "df_links.head()"
   ]
  },
  {
   "cell_type": "code",
   "execution_count": 98,
   "id": "7f9c80a0",
   "metadata": {},
   "outputs": [
    {
     "data": {
      "text/html": [
       "<div>\n",
       "<style scoped>\n",
       "    .dataframe tbody tr th:only-of-type {\n",
       "        vertical-align: middle;\n",
       "    }\n",
       "\n",
       "    .dataframe tbody tr th {\n",
       "        vertical-align: top;\n",
       "    }\n",
       "\n",
       "    .dataframe thead th {\n",
       "        text-align: right;\n",
       "    }\n",
       "</style>\n",
       "<table border=\"1\" class=\"dataframe\">\n",
       "  <thead>\n",
       "    <tr style=\"text-align: right;\">\n",
       "      <th></th>\n",
       "      <th>movieId</th>\n",
       "      <th>title_cast</th>\n",
       "      <th>director</th>\n",
       "      <th>runtime</th>\n",
       "      <th>budget</th>\n",
       "      <th>plot_keywords</th>\n",
       "    </tr>\n",
       "  </thead>\n",
       "  <tbody>\n",
       "    <tr>\n",
       "      <th>0</th>\n",
       "      <td>1</td>\n",
       "      <td>Tom Hanks|Tim Allen|Don Rickles|Jim Varney|Wal...</td>\n",
       "      <td>John Lasseter</td>\n",
       "      <td>81.0</td>\n",
       "      <td>$30,000,000</td>\n",
       "      <td>toy|rivalry|cowboy|cgi animation</td>\n",
       "    </tr>\n",
       "    <tr>\n",
       "      <th>1</th>\n",
       "      <td>2</td>\n",
       "      <td>Robin Williams|Jonathan Hyde|Kirsten Dunst|Bra...</td>\n",
       "      <td>Jonathan Hensleigh</td>\n",
       "      <td>104.0</td>\n",
       "      <td>$65,000,000</td>\n",
       "      <td>board game|adventurer|fight|game</td>\n",
       "    </tr>\n",
       "    <tr>\n",
       "      <th>2</th>\n",
       "      <td>3</td>\n",
       "      <td>Walter Matthau|Jack Lemmon|Sophia Loren|Ann-Ma...</td>\n",
       "      <td>Mark Steven Johnson</td>\n",
       "      <td>101.0</td>\n",
       "      <td>$25,000,000</td>\n",
       "      <td>boat|lake|neighbor|rivalry</td>\n",
       "    </tr>\n",
       "    <tr>\n",
       "      <th>3</th>\n",
       "      <td>4</td>\n",
       "      <td>Whitney Houston|Angela Bassett|Loretta Devine|...</td>\n",
       "      <td>Terry McMillan</td>\n",
       "      <td>124.0</td>\n",
       "      <td>$16,000,000</td>\n",
       "      <td>black american|husband wife relationship|betra...</td>\n",
       "    </tr>\n",
       "    <tr>\n",
       "      <th>4</th>\n",
       "      <td>5</td>\n",
       "      <td>Steve Martin|Diane Keaton|Martin Short|Kimberl...</td>\n",
       "      <td>Albert Hackett</td>\n",
       "      <td>106.0</td>\n",
       "      <td>$30,000,000</td>\n",
       "      <td>fatherhood|doberman|dog|mansion</td>\n",
       "    </tr>\n",
       "  </tbody>\n",
       "</table>\n",
       "</div>"
      ],
      "text/plain": [
       "   movieId                                         title_cast  \\\n",
       "0        1  Tom Hanks|Tim Allen|Don Rickles|Jim Varney|Wal...   \n",
       "1        2  Robin Williams|Jonathan Hyde|Kirsten Dunst|Bra...   \n",
       "2        3  Walter Matthau|Jack Lemmon|Sophia Loren|Ann-Ma...   \n",
       "3        4  Whitney Houston|Angela Bassett|Loretta Devine|...   \n",
       "4        5  Steve Martin|Diane Keaton|Martin Short|Kimberl...   \n",
       "\n",
       "              director  runtime       budget  \\\n",
       "0        John Lasseter     81.0  $30,000,000   \n",
       "1   Jonathan Hensleigh    104.0  $65,000,000   \n",
       "2  Mark Steven Johnson    101.0  $25,000,000   \n",
       "3       Terry McMillan    124.0  $16,000,000   \n",
       "4       Albert Hackett    106.0  $30,000,000   \n",
       "\n",
       "                                       plot_keywords  \n",
       "0                   toy|rivalry|cowboy|cgi animation  \n",
       "1                   board game|adventurer|fight|game  \n",
       "2                         boat|lake|neighbor|rivalry  \n",
       "3  black american|husband wife relationship|betra...  \n",
       "4                    fatherhood|doberman|dog|mansion  "
      ]
     },
     "execution_count": 98,
     "metadata": {},
     "output_type": "execute_result"
    }
   ],
   "source": [
    "df_imdb_data.head()"
   ]
  },
  {
   "cell_type": "code",
   "execution_count": 99,
   "id": "7d179398",
   "metadata": {},
   "outputs": [
    {
     "data": {
      "text/plain": [
       "131262"
      ]
     },
     "execution_count": 99,
     "metadata": {},
     "output_type": "execute_result"
    }
   ],
   "source": [
    "df_imdb_data['movieId'].max()"
   ]
  },
  {
   "cell_type": "code",
   "execution_count": 140,
   "id": "e805134e",
   "metadata": {
    "ExecuteTime": {
     "end_time": "2021-06-28T08:52:37.824204Z",
     "start_time": "2021-06-28T08:52:37.811206Z"
    }
   },
   "outputs": [
    {
     "name": "stdout",
     "output_type": "stream",
     "text": [
      "<class 'pandas.core.frame.DataFrame'>\n",
      "RangeIndex: 1000 entries, 0 to 999\n",
      "Data columns (total 5 columns):\n",
      " #   Column          Non-Null Count  Dtype  \n",
      "---  ------          --------------  -----  \n",
      " 0   userId          1000 non-null   int64  \n",
      " 1   movieId         1000 non-null   int64  \n",
      " 2   rating          1000 non-null   float64\n",
      " 3   timestamp       1000 non-null   int64  \n",
      " 4   userId_movieId  1000 non-null   object \n",
      "dtypes: float64(1), int64(3), object(1)\n",
      "memory usage: 39.2+ KB\n"
     ]
    }
   ],
   "source": [
    "# look at data statistics\n",
    "df_train.info()"
   ]
  },
  {
   "cell_type": "code",
   "execution_count": 181,
   "id": "dd7d0bcb",
   "metadata": {},
   "outputs": [
    {
     "data": {
      "text/html": [
       "<div>\n",
       "<style scoped>\n",
       "    .dataframe tbody tr th:only-of-type {\n",
       "        vertical-align: middle;\n",
       "    }\n",
       "\n",
       "    .dataframe tbody tr th {\n",
       "        vertical-align: top;\n",
       "    }\n",
       "\n",
       "    .dataframe thead th {\n",
       "        text-align: right;\n",
       "    }\n",
       "</style>\n",
       "<table border=\"1\" class=\"dataframe\">\n",
       "  <thead>\n",
       "    <tr style=\"text-align: right;\">\n",
       "      <th></th>\n",
       "      <th>movieId</th>\n",
       "      <th>title</th>\n",
       "      <th>genres</th>\n",
       "      <th>title_cast</th>\n",
       "      <th>director</th>\n",
       "      <th>runtime</th>\n",
       "      <th>budget</th>\n",
       "      <th>plot_keywords</th>\n",
       "    </tr>\n",
       "  </thead>\n",
       "  <tbody>\n",
       "    <tr>\n",
       "      <th>56888</th>\n",
       "      <td>195155</td>\n",
       "      <td>B&amp;B (2017)</td>\n",
       "      <td>Thriller</td>\n",
       "      <td>NaN</td>\n",
       "      <td>NaN</td>\n",
       "      <td>NaN</td>\n",
       "      <td>NaN</td>\n",
       "      <td>NaN</td>\n",
       "    </tr>\n",
       "    <tr>\n",
       "      <th>56889</th>\n",
       "      <td>195157</td>\n",
       "      <td>Crazy About Tiffany's (2016)</td>\n",
       "      <td>Documentary</td>\n",
       "      <td>NaN</td>\n",
       "      <td>NaN</td>\n",
       "      <td>NaN</td>\n",
       "      <td>NaN</td>\n",
       "      <td>NaN</td>\n",
       "    </tr>\n",
       "    <tr>\n",
       "      <th>56890</th>\n",
       "      <td>195159</td>\n",
       "      <td>Spider-Man: Into the Spider-Verse (2018)</td>\n",
       "      <td>Action|Adventure|Animation|Sci-Fi</td>\n",
       "      <td>NaN</td>\n",
       "      <td>NaN</td>\n",
       "      <td>NaN</td>\n",
       "      <td>NaN</td>\n",
       "      <td>NaN</td>\n",
       "    </tr>\n",
       "    <tr>\n",
       "      <th>56891</th>\n",
       "      <td>195161</td>\n",
       "      <td>Mary Poppins Returns (2018)</td>\n",
       "      <td>Children|Fantasy</td>\n",
       "      <td>NaN</td>\n",
       "      <td>NaN</td>\n",
       "      <td>NaN</td>\n",
       "      <td>NaN</td>\n",
       "      <td>NaN</td>\n",
       "    </tr>\n",
       "    <tr>\n",
       "      <th>56892</th>\n",
       "      <td>195163</td>\n",
       "      <td>Bumblebee (2018)</td>\n",
       "      <td>Action|Adventure|Sci-Fi</td>\n",
       "      <td>NaN</td>\n",
       "      <td>NaN</td>\n",
       "      <td>NaN</td>\n",
       "      <td>NaN</td>\n",
       "      <td>NaN</td>\n",
       "    </tr>\n",
       "  </tbody>\n",
       "</table>\n",
       "</div>"
      ],
      "text/plain": [
       "       movieId                                     title  \\\n",
       "56888   195155                                B&B (2017)   \n",
       "56889   195157              Crazy About Tiffany's (2016)   \n",
       "56890   195159  Spider-Man: Into the Spider-Verse (2018)   \n",
       "56891   195161               Mary Poppins Returns (2018)   \n",
       "56892   195163                          Bumblebee (2018)   \n",
       "\n",
       "                                  genres title_cast director  runtime budget  \\\n",
       "56888                           Thriller        NaN      NaN      NaN    NaN   \n",
       "56889                        Documentary        NaN      NaN      NaN    NaN   \n",
       "56890  Action|Adventure|Animation|Sci-Fi        NaN      NaN      NaN    NaN   \n",
       "56891                   Children|Fantasy        NaN      NaN      NaN    NaN   \n",
       "56892            Action|Adventure|Sci-Fi        NaN      NaN      NaN    NaN   \n",
       "\n",
       "      plot_keywords  \n",
       "56888           NaN  \n",
       "56889           NaN  \n",
       "56890           NaN  \n",
       "56891           NaN  \n",
       "56892           NaN  "
      ]
     },
     "execution_count": 181,
     "metadata": {},
     "output_type": "execute_result"
    }
   ],
   "source": [
    "# Create movie features matrix\n",
    "\n",
    "df_movies_content = pd.merge(df_movies, df_imdb_data, on=['movieId'], how='left')\n",
    "#df_movies_content = df_movies_content.drop(['budget'], axis = 1)\n",
    "#df_movies_content = df_movies_content.drop(['budget'], axis = 1)\n",
    "#df_movies_content = df_movies_content[:max_movies+1]\n",
    "df_movies_content  = df_movies_content[df_movies_content['movieId'] <= max_movies+1]\n",
    "\n",
    "df_movies_content.tail()"
   ]
  },
  {
   "cell_type": "code",
   "execution_count": 182,
   "id": "e497d8f9",
   "metadata": {},
   "outputs": [
    {
     "data": {
      "text/plain": [
       "195163"
      ]
     },
     "execution_count": 182,
     "metadata": {},
     "output_type": "execute_result"
    }
   ],
   "source": [
    "df_movies_content['movieId'].max()"
   ]
  },
  {
   "cell_type": "code",
   "execution_count": 183,
   "id": "ff54cbb1",
   "metadata": {},
   "outputs": [
    {
     "data": {
      "text/html": [
       "<div>\n",
       "<style scoped>\n",
       "    .dataframe tbody tr th:only-of-type {\n",
       "        vertical-align: middle;\n",
       "    }\n",
       "\n",
       "    .dataframe tbody tr th {\n",
       "        vertical-align: top;\n",
       "    }\n",
       "\n",
       "    .dataframe thead th {\n",
       "        text-align: right;\n",
       "    }\n",
       "</style>\n",
       "<table border=\"1\" class=\"dataframe\">\n",
       "  <thead>\n",
       "    <tr style=\"text-align: right;\">\n",
       "      <th></th>\n",
       "      <th>userId</th>\n",
       "      <th>movieId</th>\n",
       "      <th>tag</th>\n",
       "      <th>rating</th>\n",
       "      <th>userId_movieId</th>\n",
       "    </tr>\n",
       "  </thead>\n",
       "  <tbody>\n",
       "    <tr>\n",
       "      <th>0</th>\n",
       "      <td>21345</td>\n",
       "      <td>98961</td>\n",
       "      <td>politics</td>\n",
       "      <td>4.0</td>\n",
       "      <td>21345_98961</td>\n",
       "    </tr>\n",
       "    <tr>\n",
       "      <th>1</th>\n",
       "      <td>70092</td>\n",
       "      <td>8266</td>\n",
       "      <td>Betamax</td>\n",
       "      <td>4.0</td>\n",
       "      <td>70092_8266</td>\n",
       "    </tr>\n",
       "    <tr>\n",
       "      <th>2</th>\n",
       "      <td>70092</td>\n",
       "      <td>97817</td>\n",
       "      <td>Betamax</td>\n",
       "      <td>4.0</td>\n",
       "      <td>70092_97817</td>\n",
       "    </tr>\n",
       "    <tr>\n",
       "      <th>3</th>\n",
       "      <td>110243</td>\n",
       "      <td>8807</td>\n",
       "      <td>drugs</td>\n",
       "      <td>3.0</td>\n",
       "      <td>110243_8807</td>\n",
       "    </tr>\n",
       "    <tr>\n",
       "      <th>4</th>\n",
       "      <td>112887</td>\n",
       "      <td>194016</td>\n",
       "      <td>existential crisis</td>\n",
       "      <td>5.0</td>\n",
       "      <td>112887_194016</td>\n",
       "    </tr>\n",
       "  </tbody>\n",
       "</table>\n",
       "</div>"
      ],
      "text/plain": [
       "   userId  movieId                 tag  rating userId_movieId\n",
       "0   21345    98961            politics     4.0    21345_98961\n",
       "1   70092     8266             Betamax     4.0     70092_8266\n",
       "2   70092    97817             Betamax     4.0    70092_97817\n",
       "3  110243     8807               drugs     3.0    110243_8807\n",
       "4  112887   194016  existential crisis     5.0  112887_194016"
      ]
     },
     "execution_count": 183,
     "metadata": {},
     "output_type": "execute_result"
    }
   ],
   "source": [
    "# Create users features matrix\n",
    "\n",
    "df_users_info = pd.merge(df_tags, df_train, on=['movieId', 'userId'])\n",
    "df_users_info = df_users_info.drop(['timestamp_x','timestamp_y'], axis = 1)\n",
    "df_users_info.head()"
   ]
  },
  {
   "cell_type": "code",
   "execution_count": 184,
   "id": "131855a0",
   "metadata": {},
   "outputs": [
    {
     "data": {
      "text/html": [
       "<div>\n",
       "<style scoped>\n",
       "    .dataframe tbody tr th:only-of-type {\n",
       "        vertical-align: middle;\n",
       "    }\n",
       "\n",
       "    .dataframe tbody tr th {\n",
       "        vertical-align: top;\n",
       "    }\n",
       "\n",
       "    .dataframe thead th {\n",
       "        text-align: right;\n",
       "    }\n",
       "</style>\n",
       "<table border=\"1\" class=\"dataframe\">\n",
       "  <thead>\n",
       "    <tr style=\"text-align: right;\">\n",
       "      <th></th>\n",
       "      <th>userId</th>\n",
       "      <th>movieId</th>\n",
       "      <th>rating</th>\n",
       "      <th>userId_movieId</th>\n",
       "    </tr>\n",
       "  </thead>\n",
       "  <tbody>\n",
       "    <tr>\n",
       "      <th>900</th>\n",
       "      <td>110752</td>\n",
       "      <td>1212</td>\n",
       "      <td>5.0</td>\n",
       "      <td>110752_1212</td>\n",
       "    </tr>\n",
       "    <tr>\n",
       "      <th>901</th>\n",
       "      <td>39651</td>\n",
       "      <td>2291</td>\n",
       "      <td>2.0</td>\n",
       "      <td>39651_2291</td>\n",
       "    </tr>\n",
       "    <tr>\n",
       "      <th>902</th>\n",
       "      <td>149844</td>\n",
       "      <td>3864</td>\n",
       "      <td>3.0</td>\n",
       "      <td>149844_3864</td>\n",
       "    </tr>\n",
       "    <tr>\n",
       "      <th>903</th>\n",
       "      <td>132731</td>\n",
       "      <td>2395</td>\n",
       "      <td>3.5</td>\n",
       "      <td>132731_2395</td>\n",
       "    </tr>\n",
       "    <tr>\n",
       "      <th>904</th>\n",
       "      <td>157628</td>\n",
       "      <td>44665</td>\n",
       "      <td>3.0</td>\n",
       "      <td>157628_44665</td>\n",
       "    </tr>\n",
       "    <tr>\n",
       "      <th>...</th>\n",
       "      <td>...</td>\n",
       "      <td>...</td>\n",
       "      <td>...</td>\n",
       "      <td>...</td>\n",
       "    </tr>\n",
       "    <tr>\n",
       "      <th>995</th>\n",
       "      <td>51200</td>\n",
       "      <td>223</td>\n",
       "      <td>5.0</td>\n",
       "      <td>51200_223</td>\n",
       "    </tr>\n",
       "    <tr>\n",
       "      <th>996</th>\n",
       "      <td>134225</td>\n",
       "      <td>357</td>\n",
       "      <td>5.0</td>\n",
       "      <td>134225_357</td>\n",
       "    </tr>\n",
       "    <tr>\n",
       "      <th>997</th>\n",
       "      <td>154442</td>\n",
       "      <td>3163</td>\n",
       "      <td>5.0</td>\n",
       "      <td>154442_3163</td>\n",
       "    </tr>\n",
       "    <tr>\n",
       "      <th>998</th>\n",
       "      <td>52459</td>\n",
       "      <td>1380</td>\n",
       "      <td>2.0</td>\n",
       "      <td>52459_1380</td>\n",
       "    </tr>\n",
       "    <tr>\n",
       "      <th>999</th>\n",
       "      <td>90810</td>\n",
       "      <td>67255</td>\n",
       "      <td>4.0</td>\n",
       "      <td>90810_67255</td>\n",
       "    </tr>\n",
       "  </tbody>\n",
       "</table>\n",
       "<p>100 rows × 4 columns</p>\n",
       "</div>"
      ],
      "text/plain": [
       "     userId  movieId  rating userId_movieId\n",
       "900  110752     1212     5.0    110752_1212\n",
       "901   39651     2291     2.0     39651_2291\n",
       "902  149844     3864     3.0    149844_3864\n",
       "903  132731     2395     3.5    132731_2395\n",
       "904  157628    44665     3.0   157628_44665\n",
       "..      ...      ...     ...            ...\n",
       "995   51200      223     5.0      51200_223\n",
       "996  134225      357     5.0     134225_357\n",
       "997  154442     3163     5.0    154442_3163\n",
       "998   52459     1380     2.0     52459_1380\n",
       "999   90810    67255     4.0    90810_67255\n",
       "\n",
       "[100 rows x 4 columns]"
      ]
     },
     "execution_count": 184,
     "metadata": {},
     "output_type": "execute_result"
    }
   ],
   "source": [
    "# reindex tables\n",
    "\n",
    "df_users_info = df_train\n",
    "df_users_info['userId_movieId'] = df_users_info['userId'].apply(str) + \"_\" + df_users_info['movieId'].apply(str)\n",
    "\n",
    "df_users_info = df_users_info.drop(['timestamp'], axis = 1)\n",
    "df_users_info.tail(100)\n"
   ]
  },
  {
   "cell_type": "code",
   "execution_count": null,
   "id": "a5f9a73f",
   "metadata": {},
   "outputs": [],
   "source": []
  },
  {
   "cell_type": "code",
   "execution_count": null,
   "id": "6ff3bb80",
   "metadata": {},
   "outputs": [],
   "source": [
    "# Clean up columns to be added to df movies "
   ]
  },
  {
   "cell_type": "code",
   "execution_count": 145,
   "id": "181042fd",
   "metadata": {},
   "outputs": [],
   "source": [
    "#book ratings similar to users matrix above\n",
    "\n",
    "#books is book contents matrix similar to movies\n",
    "\n",
    "df_movies_content['director_tags'] = (pd.Series(df_movies_content[['director','plot_keywords']]\n",
    "                                                .fillna('').values.tolist()).str.join(' '))\n",
    "\n",
    "# indexes to map between movie titles and indexes of the movies dataframe\n",
    "#titles = df_movies_content['title']\n",
    "indices = pd.Series(df_movies_content.index, index=df_movies_content['movieId'])"
   ]
  },
  {
   "cell_type": "code",
   "execution_count": 146,
   "id": "af7e802f",
   "metadata": {},
   "outputs": [
    {
     "data": {
      "text/html": [
       "<div>\n",
       "<style scoped>\n",
       "    .dataframe tbody tr th:only-of-type {\n",
       "        vertical-align: middle;\n",
       "    }\n",
       "\n",
       "    .dataframe tbody tr th {\n",
       "        vertical-align: top;\n",
       "    }\n",
       "\n",
       "    .dataframe thead th {\n",
       "        text-align: right;\n",
       "    }\n",
       "</style>\n",
       "<table border=\"1\" class=\"dataframe\">\n",
       "  <thead>\n",
       "    <tr style=\"text-align: right;\">\n",
       "      <th></th>\n",
       "      <th>movieId</th>\n",
       "      <th>title</th>\n",
       "      <th>genres</th>\n",
       "      <th>title_cast</th>\n",
       "      <th>director</th>\n",
       "      <th>runtime</th>\n",
       "      <th>budget</th>\n",
       "      <th>plot_keywords</th>\n",
       "      <th>director_tags</th>\n",
       "    </tr>\n",
       "  </thead>\n",
       "  <tbody>\n",
       "    <tr>\n",
       "      <th>0</th>\n",
       "      <td>1</td>\n",
       "      <td>Toy Story (1995)</td>\n",
       "      <td>Adventure|Animation|Children|Comedy|Fantasy</td>\n",
       "      <td>Tom Hanks|Tim Allen|Don Rickles|Jim Varney|Wal...</td>\n",
       "      <td>John Lasseter</td>\n",
       "      <td>81.0</td>\n",
       "      <td>$30,000,000</td>\n",
       "      <td>toy|rivalry|cowboy|cgi animation</td>\n",
       "      <td>John Lasseter toy|rivalry|cowboy|cgi animation</td>\n",
       "    </tr>\n",
       "    <tr>\n",
       "      <th>1</th>\n",
       "      <td>2</td>\n",
       "      <td>Jumanji (1995)</td>\n",
       "      <td>Adventure|Children|Fantasy</td>\n",
       "      <td>Robin Williams|Jonathan Hyde|Kirsten Dunst|Bra...</td>\n",
       "      <td>Jonathan Hensleigh</td>\n",
       "      <td>104.0</td>\n",
       "      <td>$65,000,000</td>\n",
       "      <td>board game|adventurer|fight|game</td>\n",
       "      <td>Jonathan Hensleigh board game|adventurer|fight...</td>\n",
       "    </tr>\n",
       "    <tr>\n",
       "      <th>2</th>\n",
       "      <td>3</td>\n",
       "      <td>Grumpier Old Men (1995)</td>\n",
       "      <td>Comedy|Romance</td>\n",
       "      <td>Walter Matthau|Jack Lemmon|Sophia Loren|Ann-Ma...</td>\n",
       "      <td>Mark Steven Johnson</td>\n",
       "      <td>101.0</td>\n",
       "      <td>$25,000,000</td>\n",
       "      <td>boat|lake|neighbor|rivalry</td>\n",
       "      <td>Mark Steven Johnson boat|lake|neighbor|rivalry</td>\n",
       "    </tr>\n",
       "    <tr>\n",
       "      <th>3</th>\n",
       "      <td>4</td>\n",
       "      <td>Waiting to Exhale (1995)</td>\n",
       "      <td>Comedy|Drama|Romance</td>\n",
       "      <td>Whitney Houston|Angela Bassett|Loretta Devine|...</td>\n",
       "      <td>Terry McMillan</td>\n",
       "      <td>124.0</td>\n",
       "      <td>$16,000,000</td>\n",
       "      <td>black american|husband wife relationship|betra...</td>\n",
       "      <td>Terry McMillan black american|husband wife rel...</td>\n",
       "    </tr>\n",
       "    <tr>\n",
       "      <th>4</th>\n",
       "      <td>5</td>\n",
       "      <td>Father of the Bride Part II (1995)</td>\n",
       "      <td>Comedy</td>\n",
       "      <td>Steve Martin|Diane Keaton|Martin Short|Kimberl...</td>\n",
       "      <td>Albert Hackett</td>\n",
       "      <td>106.0</td>\n",
       "      <td>$30,000,000</td>\n",
       "      <td>fatherhood|doberman|dog|mansion</td>\n",
       "      <td>Albert Hackett fatherhood|doberman|dog|mansion</td>\n",
       "    </tr>\n",
       "  </tbody>\n",
       "</table>\n",
       "</div>"
      ],
      "text/plain": [
       "   movieId                               title  \\\n",
       "0        1                    Toy Story (1995)   \n",
       "1        2                      Jumanji (1995)   \n",
       "2        3             Grumpier Old Men (1995)   \n",
       "3        4            Waiting to Exhale (1995)   \n",
       "4        5  Father of the Bride Part II (1995)   \n",
       "\n",
       "                                        genres  \\\n",
       "0  Adventure|Animation|Children|Comedy|Fantasy   \n",
       "1                   Adventure|Children|Fantasy   \n",
       "2                               Comedy|Romance   \n",
       "3                         Comedy|Drama|Romance   \n",
       "4                                       Comedy   \n",
       "\n",
       "                                          title_cast             director  \\\n",
       "0  Tom Hanks|Tim Allen|Don Rickles|Jim Varney|Wal...        John Lasseter   \n",
       "1  Robin Williams|Jonathan Hyde|Kirsten Dunst|Bra...   Jonathan Hensleigh   \n",
       "2  Walter Matthau|Jack Lemmon|Sophia Loren|Ann-Ma...  Mark Steven Johnson   \n",
       "3  Whitney Houston|Angela Bassett|Loretta Devine|...       Terry McMillan   \n",
       "4  Steve Martin|Diane Keaton|Martin Short|Kimberl...       Albert Hackett   \n",
       "\n",
       "   runtime       budget                                      plot_keywords  \\\n",
       "0     81.0  $30,000,000                   toy|rivalry|cowboy|cgi animation   \n",
       "1    104.0  $65,000,000                   board game|adventurer|fight|game   \n",
       "2    101.0  $25,000,000                         boat|lake|neighbor|rivalry   \n",
       "3    124.0  $16,000,000  black american|husband wife relationship|betra...   \n",
       "4    106.0  $30,000,000                    fatherhood|doberman|dog|mansion   \n",
       "\n",
       "                                       director_tags  \n",
       "0     John Lasseter toy|rivalry|cowboy|cgi animation  \n",
       "1  Jonathan Hensleigh board game|adventurer|fight...  \n",
       "2     Mark Steven Johnson boat|lake|neighbor|rivalry  \n",
       "3  Terry McMillan black american|husband wife rel...  \n",
       "4     Albert Hackett fatherhood|doberman|dog|mansion  "
      ]
     },
     "execution_count": 146,
     "metadata": {},
     "output_type": "execute_result"
    }
   ],
   "source": [
    "df_movies_content.head()"
   ]
  },
  {
   "cell_type": "code",
   "execution_count": 106,
   "id": "8fbe0976",
   "metadata": {},
   "outputs": [],
   "source": [
    "#titles.head()\n"
   ]
  },
  {
   "cell_type": "code",
   "execution_count": 147,
   "id": "1d674745",
   "metadata": {},
   "outputs": [
    {
     "data": {
      "text/plain": [
       "movieId\n",
       "195155    56888\n",
       "195157    56889\n",
       "195159    56890\n",
       "195161    56891\n",
       "195163    56892\n",
       "dtype: int64"
      ]
     },
     "execution_count": 147,
     "metadata": {},
     "output_type": "execute_result"
    }
   ],
   "source": [
    "indices.tail()"
   ]
  },
  {
   "cell_type": "code",
   "execution_count": null,
   "id": "7c442809",
   "metadata": {},
   "outputs": [],
   "source": [
    "# clean text - lowercase, combine, etc"
   ]
  },
  {
   "cell_type": "code",
   "execution_count": 148,
   "id": "9d90bf40",
   "metadata": {},
   "outputs": [],
   "source": [
    "tf = TfidfVectorizer(analyzer='word', ngram_range=(1,2),\n",
    "                     min_df=0, stop_words='english')\n",
    "\n",
    "# Produce a feature matrix, where each row corresponds to a movie, with TF-IDF features as columns \n",
    "tf_directorTags_matrix = tf.fit_transform(df_movies_content['director_tags'])"
   ]
  },
  {
   "cell_type": "code",
   "execution_count": 149,
   "id": "7100818b",
   "metadata": {},
   "outputs": [
    {
     "name": "stdout",
     "output_type": "stream",
     "text": [
      "(56893, 93029)\n"
     ]
    }
   ],
   "source": [
    "print (tf_directorTags_matrix.shape)"
   ]
  },
  {
   "cell_type": "code",
   "execution_count": 150,
   "id": "bbbcb7e2",
   "metadata": {},
   "outputs": [],
   "source": [
    "#try PCA\n",
    "from sklearn.decomposition import TruncatedSVD\n",
    "from scipy.sparse import csr_matrix\n",
    "\n",
    "svd = TruncatedSVD(n_components = 200)\n",
    "\n",
    "svd_trunc_tf_directorTags_matrix = csr_matrix(svd.fit_transform(tf_directorTags_matrix))\n"
   ]
  },
  {
   "cell_type": "code",
   "execution_count": 151,
   "id": "18685094",
   "metadata": {},
   "outputs": [
    {
     "name": "stdout",
     "output_type": "stream",
     "text": [
      "(56893, 93029)\n"
     ]
    }
   ],
   "source": [
    "#print (svd_trunc_tf_directorTags_matrix.shape)\n",
    "print (tf_directorTags_matrix.shape)"
   ]
  },
  {
   "cell_type": "code",
   "execution_count": 152,
   "id": "82643a6b",
   "metadata": {},
   "outputs": [
    {
     "ename": "MemoryError",
     "evalue": "Unable to allocate 12.1 GiB for an array with shape (56893, 56893) and data type float32",
     "output_type": "error",
     "traceback": [
      "\u001b[1;31m---------------------------------------------------------------------------\u001b[0m",
      "\u001b[1;31mMemoryError\u001b[0m                               Traceback (most recent call last)",
      "Input \u001b[1;32mIn [152]\u001b[0m, in \u001b[0;36m<cell line: 3>\u001b[1;34m()\u001b[0m\n\u001b[0;32m      1\u001b[0m normalized_df \u001b[38;5;241m=\u001b[39m svd_trunc_tf_directorTags_matrix\u001b[38;5;241m.\u001b[39mastype(np\u001b[38;5;241m.\u001b[39mfloat32)\n\u001b[1;32m----> 3\u001b[0m cosine_sim_directorTags \u001b[38;5;241m=\u001b[39m \u001b[43mcosine_similarity\u001b[49m\u001b[43m(\u001b[49m\u001b[43mnormalized_df\u001b[49m\u001b[43m,\u001b[49m\u001b[43m \u001b[49m\u001b[43mnormalized_df\u001b[49m\u001b[43m)\u001b[49m\n\u001b[0;32m      5\u001b[0m \u001b[38;5;28mprint\u001b[39m (cosine_sim_directorTags\u001b[38;5;241m.\u001b[39mshape)\n",
      "File \u001b[1;32m~\\Anaconda3\\lib\\site-packages\\sklearn\\metrics\\pairwise.py:1401\u001b[0m, in \u001b[0;36mcosine_similarity\u001b[1;34m(X, Y, dense_output)\u001b[0m\n\u001b[0;32m   1398\u001b[0m \u001b[38;5;28;01melse\u001b[39;00m:\n\u001b[0;32m   1399\u001b[0m     Y_normalized \u001b[38;5;241m=\u001b[39m normalize(Y, copy\u001b[38;5;241m=\u001b[39m\u001b[38;5;28;01mTrue\u001b[39;00m)\n\u001b[1;32m-> 1401\u001b[0m K \u001b[38;5;241m=\u001b[39m \u001b[43msafe_sparse_dot\u001b[49m\u001b[43m(\u001b[49m\u001b[43mX_normalized\u001b[49m\u001b[43m,\u001b[49m\u001b[43m \u001b[49m\u001b[43mY_normalized\u001b[49m\u001b[38;5;241;43m.\u001b[39;49m\u001b[43mT\u001b[49m\u001b[43m,\u001b[49m\u001b[43m \u001b[49m\u001b[43mdense_output\u001b[49m\u001b[38;5;241;43m=\u001b[39;49m\u001b[43mdense_output\u001b[49m\u001b[43m)\u001b[49m\n\u001b[0;32m   1403\u001b[0m \u001b[38;5;28;01mreturn\u001b[39;00m K\n",
      "File \u001b[1;32m~\\Anaconda3\\lib\\site-packages\\sklearn\\utils\\extmath.py:197\u001b[0m, in \u001b[0;36msafe_sparse_dot\u001b[1;34m(a, b, dense_output)\u001b[0m\n\u001b[0;32m    189\u001b[0m     ret \u001b[38;5;241m=\u001b[39m a \u001b[38;5;241m@\u001b[39m b\n\u001b[0;32m    191\u001b[0m \u001b[38;5;28;01mif\u001b[39;00m (\n\u001b[0;32m    192\u001b[0m     sparse\u001b[38;5;241m.\u001b[39missparse(a)\n\u001b[0;32m    193\u001b[0m     \u001b[38;5;129;01mand\u001b[39;00m sparse\u001b[38;5;241m.\u001b[39missparse(b)\n\u001b[0;32m    194\u001b[0m     \u001b[38;5;129;01mand\u001b[39;00m dense_output\n\u001b[0;32m    195\u001b[0m     \u001b[38;5;129;01mand\u001b[39;00m \u001b[38;5;28mhasattr\u001b[39m(ret, \u001b[38;5;124m\"\u001b[39m\u001b[38;5;124mtoarray\u001b[39m\u001b[38;5;124m\"\u001b[39m)\n\u001b[0;32m    196\u001b[0m ):\n\u001b[1;32m--> 197\u001b[0m     \u001b[38;5;28;01mreturn\u001b[39;00m \u001b[43mret\u001b[49m\u001b[38;5;241;43m.\u001b[39;49m\u001b[43mtoarray\u001b[49m\u001b[43m(\u001b[49m\u001b[43m)\u001b[49m\n\u001b[0;32m    198\u001b[0m \u001b[38;5;28;01mreturn\u001b[39;00m ret\n",
      "File \u001b[1;32m~\\Anaconda3\\lib\\site-packages\\scipy\\sparse\\compressed.py:1039\u001b[0m, in \u001b[0;36m_cs_matrix.toarray\u001b[1;34m(self, order, out)\u001b[0m\n\u001b[0;32m   1037\u001b[0m \u001b[38;5;28;01mif\u001b[39;00m out \u001b[38;5;129;01mis\u001b[39;00m \u001b[38;5;28;01mNone\u001b[39;00m \u001b[38;5;129;01mand\u001b[39;00m order \u001b[38;5;129;01mis\u001b[39;00m \u001b[38;5;28;01mNone\u001b[39;00m:\n\u001b[0;32m   1038\u001b[0m     order \u001b[38;5;241m=\u001b[39m \u001b[38;5;28mself\u001b[39m\u001b[38;5;241m.\u001b[39m_swap(\u001b[38;5;124m'\u001b[39m\u001b[38;5;124mcf\u001b[39m\u001b[38;5;124m'\u001b[39m)[\u001b[38;5;241m0\u001b[39m]\n\u001b[1;32m-> 1039\u001b[0m out \u001b[38;5;241m=\u001b[39m \u001b[38;5;28;43mself\u001b[39;49m\u001b[38;5;241;43m.\u001b[39;49m\u001b[43m_process_toarray_args\u001b[49m\u001b[43m(\u001b[49m\u001b[43morder\u001b[49m\u001b[43m,\u001b[49m\u001b[43m \u001b[49m\u001b[43mout\u001b[49m\u001b[43m)\u001b[49m\n\u001b[0;32m   1040\u001b[0m \u001b[38;5;28;01mif\u001b[39;00m \u001b[38;5;129;01mnot\u001b[39;00m (out\u001b[38;5;241m.\u001b[39mflags\u001b[38;5;241m.\u001b[39mc_contiguous \u001b[38;5;129;01mor\u001b[39;00m out\u001b[38;5;241m.\u001b[39mflags\u001b[38;5;241m.\u001b[39mf_contiguous):\n\u001b[0;32m   1041\u001b[0m     \u001b[38;5;28;01mraise\u001b[39;00m \u001b[38;5;167;01mValueError\u001b[39;00m(\u001b[38;5;124m'\u001b[39m\u001b[38;5;124mOutput array must be C or F contiguous\u001b[39m\u001b[38;5;124m'\u001b[39m)\n",
      "File \u001b[1;32m~\\Anaconda3\\lib\\site-packages\\scipy\\sparse\\base.py:1202\u001b[0m, in \u001b[0;36mspmatrix._process_toarray_args\u001b[1;34m(self, order, out)\u001b[0m\n\u001b[0;32m   1200\u001b[0m     \u001b[38;5;28;01mreturn\u001b[39;00m out\n\u001b[0;32m   1201\u001b[0m \u001b[38;5;28;01melse\u001b[39;00m:\n\u001b[1;32m-> 1202\u001b[0m     \u001b[38;5;28;01mreturn\u001b[39;00m \u001b[43mnp\u001b[49m\u001b[38;5;241;43m.\u001b[39;49m\u001b[43mzeros\u001b[49m\u001b[43m(\u001b[49m\u001b[38;5;28;43mself\u001b[39;49m\u001b[38;5;241;43m.\u001b[39;49m\u001b[43mshape\u001b[49m\u001b[43m,\u001b[49m\u001b[43m \u001b[49m\u001b[43mdtype\u001b[49m\u001b[38;5;241;43m=\u001b[39;49m\u001b[38;5;28;43mself\u001b[39;49m\u001b[38;5;241;43m.\u001b[39;49m\u001b[43mdtype\u001b[49m\u001b[43m,\u001b[49m\u001b[43m \u001b[49m\u001b[43morder\u001b[49m\u001b[38;5;241;43m=\u001b[39;49m\u001b[43morder\u001b[49m\u001b[43m)\u001b[49m\n",
      "\u001b[1;31mMemoryError\u001b[0m: Unable to allocate 12.1 GiB for an array with shape (56893, 56893) and data type float32"
     ]
    }
   ],
   "source": [
    "\n",
    "normalized_df = svd_trunc_tf_directorTags_matrix.astype(np.float32)\n",
    "\n",
    "cosine_sim_directorTags = cosine_similarity(normalized_df, normalized_df)\n",
    "\n",
    "print (cosine_sim_directorTags.shape)"
   ]
  },
  {
   "cell_type": "code",
   "execution_count": 114,
   "id": "70585020",
   "metadata": {},
   "outputs": [
    {
     "data": {
      "text/plain": [
       "array([[ 0.9999999 , -0.03403043,  0.06843688, ...,  0.        ,\n",
       "         0.        ,  0.        ],\n",
       "       [-0.03403043,  1.        ,  0.04186973, ...,  0.        ,\n",
       "         0.        ,  0.        ],\n",
       "       [ 0.06843688,  0.04186973,  1.0000001 , ...,  0.        ,\n",
       "         0.        ,  0.        ],\n",
       "       [-0.00993515,  0.00110359,  0.00891077, ...,  0.        ,\n",
       "         0.        ,  0.        ],\n",
       "       [-0.01348324, -0.03369158, -0.02158324, ...,  0.        ,\n",
       "         0.        ,  0.        ]], dtype=float32)"
      ]
     },
     "execution_count": 114,
     "metadata": {},
     "output_type": "execute_result"
    }
   ],
   "source": [
    "cosine_sim_directorTags[:5]"
   ]
  },
  {
   "cell_type": "code",
   "execution_count": 136,
   "id": "d71ff45a",
   "metadata": {},
   "outputs": [],
   "source": [
    "def content_generate_rating_estimate(Comb_Id):\n",
    "    \n",
    "    k=20\n",
    "    threshold=0.0\n",
    "    \n",
    "    user = int(Comb_Id.split('_')[0])\n",
    "    movie_id = int(Comb_Id.split('_')[1])\n",
    "     \n",
    "    # Convert the movie id to a numeric index for our similarity matrix\n",
    "    b_idx = indices[movie_id]\n",
    "    neighbors = [] # <-- Stores our collection of similarity values \n",
    "     \n",
    "    # Gather the similarity ratings between each movie the user has rated and the reference movie \n",
    "    for index, row in df_users_info[df_users_info['userId']==user].iterrows():\n",
    "        sim = cosine_sim_directorTags[b_idx-1, indices[row['movieId']]-1]\n",
    "        neighbors.append((sim, row['rating']))\n",
    "    \n",
    "    # Select the top-N values from our collection\n",
    "    k_neighbors = heapq.nlargest(k, neighbors, key=lambda t: t[0])\n",
    "\n",
    "    # Compute the weighted average using similarity scores and \n",
    "    # user item ratings. \n",
    "    simTotal, weightedSum = 0, 0\n",
    "    for (simScore, rating) in k_neighbors:\n",
    "        \n",
    "        # Ensure that similarity ratings are above a given threshold\n",
    "        if (simScore > threshold):\n",
    "            simTotal += simScore\n",
    "            weightedSum += simScore * rating\n",
    "    try:\n",
    "        predictedRating = weightedSum / simTotal\n",
    "    except ZeroDivisionError:\n",
    "        # Cold-start problem - No ratings given by user. \n",
    "        # We use the average rating for the reference item as a proxy in this case \n",
    "        predictedRating = np.mean(df_users_info[df_users_info['movieId']==movie_id]['rating'])\n",
    "    return predictedRating"
   ]
  },
  {
   "cell_type": "code",
   "execution_count": 137,
   "id": "a87954a2",
   "metadata": {},
   "outputs": [
    {
     "ename": "KeyError",
     "evalue": "176101",
     "output_type": "error",
     "traceback": [
      "\u001b[1;31m---------------------------------------------------------------------------\u001b[0m",
      "\u001b[1;31mKeyError\u001b[0m                                  Traceback (most recent call last)",
      "File \u001b[1;32m~\\Anaconda3\\lib\\site-packages\\pandas\\core\\indexes\\base.py:3629\u001b[0m, in \u001b[0;36mIndex.get_loc\u001b[1;34m(self, key, method, tolerance)\u001b[0m\n\u001b[0;32m   3628\u001b[0m \u001b[38;5;28;01mtry\u001b[39;00m:\n\u001b[1;32m-> 3629\u001b[0m     \u001b[38;5;28;01mreturn\u001b[39;00m \u001b[38;5;28;43mself\u001b[39;49m\u001b[38;5;241;43m.\u001b[39;49m\u001b[43m_engine\u001b[49m\u001b[38;5;241;43m.\u001b[39;49m\u001b[43mget_loc\u001b[49m\u001b[43m(\u001b[49m\u001b[43mcasted_key\u001b[49m\u001b[43m)\u001b[49m\n\u001b[0;32m   3630\u001b[0m \u001b[38;5;28;01mexcept\u001b[39;00m \u001b[38;5;167;01mKeyError\u001b[39;00m \u001b[38;5;28;01mas\u001b[39;00m err:\n",
      "File \u001b[1;32m~\\Anaconda3\\lib\\site-packages\\pandas\\_libs\\index.pyx:136\u001b[0m, in \u001b[0;36mpandas._libs.index.IndexEngine.get_loc\u001b[1;34m()\u001b[0m\n",
      "File \u001b[1;32m~\\Anaconda3\\lib\\site-packages\\pandas\\_libs\\index.pyx:163\u001b[0m, in \u001b[0;36mpandas._libs.index.IndexEngine.get_loc\u001b[1;34m()\u001b[0m\n",
      "File \u001b[1;32mpandas\\_libs\\hashtable_class_helper.pxi:2131\u001b[0m, in \u001b[0;36mpandas._libs.hashtable.Int64HashTable.get_item\u001b[1;34m()\u001b[0m\n",
      "File \u001b[1;32mpandas\\_libs\\hashtable_class_helper.pxi:2140\u001b[0m, in \u001b[0;36mpandas._libs.hashtable.Int64HashTable.get_item\u001b[1;34m()\u001b[0m\n",
      "\u001b[1;31mKeyError\u001b[0m: 176101",
      "\nThe above exception was the direct cause of the following exception:\n",
      "\u001b[1;31mKeyError\u001b[0m                                  Traceback (most recent call last)",
      "Input \u001b[1;32mIn [137]\u001b[0m, in \u001b[0;36m<cell line: 1>\u001b[1;34m()\u001b[0m\n\u001b[1;32m----> 1\u001b[0m \u001b[43mindices\u001b[49m\u001b[43m[\u001b[49m\u001b[38;5;241;43m176101\u001b[39;49m\u001b[43m]\u001b[49m\n",
      "File \u001b[1;32m~\\Anaconda3\\lib\\site-packages\\pandas\\core\\series.py:958\u001b[0m, in \u001b[0;36mSeries.__getitem__\u001b[1;34m(self, key)\u001b[0m\n\u001b[0;32m    955\u001b[0m     \u001b[38;5;28;01mreturn\u001b[39;00m \u001b[38;5;28mself\u001b[39m\u001b[38;5;241m.\u001b[39m_values[key]\n\u001b[0;32m    957\u001b[0m \u001b[38;5;28;01melif\u001b[39;00m key_is_scalar:\n\u001b[1;32m--> 958\u001b[0m     \u001b[38;5;28;01mreturn\u001b[39;00m \u001b[38;5;28;43mself\u001b[39;49m\u001b[38;5;241;43m.\u001b[39;49m\u001b[43m_get_value\u001b[49m\u001b[43m(\u001b[49m\u001b[43mkey\u001b[49m\u001b[43m)\u001b[49m\n\u001b[0;32m    960\u001b[0m \u001b[38;5;28;01mif\u001b[39;00m is_hashable(key):\n\u001b[0;32m    961\u001b[0m     \u001b[38;5;66;03m# Otherwise index.get_value will raise InvalidIndexError\u001b[39;00m\n\u001b[0;32m    962\u001b[0m     \u001b[38;5;28;01mtry\u001b[39;00m:\n\u001b[0;32m    963\u001b[0m         \u001b[38;5;66;03m# For labels that don't resolve as scalars like tuples and frozensets\u001b[39;00m\n",
      "File \u001b[1;32m~\\Anaconda3\\lib\\site-packages\\pandas\\core\\series.py:1069\u001b[0m, in \u001b[0;36mSeries._get_value\u001b[1;34m(self, label, takeable)\u001b[0m\n\u001b[0;32m   1066\u001b[0m     \u001b[38;5;28;01mreturn\u001b[39;00m \u001b[38;5;28mself\u001b[39m\u001b[38;5;241m.\u001b[39m_values[label]\n\u001b[0;32m   1068\u001b[0m \u001b[38;5;66;03m# Similar to Index.get_value, but we do not fall back to positional\u001b[39;00m\n\u001b[1;32m-> 1069\u001b[0m loc \u001b[38;5;241m=\u001b[39m \u001b[38;5;28;43mself\u001b[39;49m\u001b[38;5;241;43m.\u001b[39;49m\u001b[43mindex\u001b[49m\u001b[38;5;241;43m.\u001b[39;49m\u001b[43mget_loc\u001b[49m\u001b[43m(\u001b[49m\u001b[43mlabel\u001b[49m\u001b[43m)\u001b[49m\n\u001b[0;32m   1070\u001b[0m \u001b[38;5;28;01mreturn\u001b[39;00m \u001b[38;5;28mself\u001b[39m\u001b[38;5;241m.\u001b[39mindex\u001b[38;5;241m.\u001b[39m_get_values_for_loc(\u001b[38;5;28mself\u001b[39m, loc, label)\n",
      "File \u001b[1;32m~\\Anaconda3\\lib\\site-packages\\pandas\\core\\indexes\\base.py:3631\u001b[0m, in \u001b[0;36mIndex.get_loc\u001b[1;34m(self, key, method, tolerance)\u001b[0m\n\u001b[0;32m   3629\u001b[0m     \u001b[38;5;28;01mreturn\u001b[39;00m \u001b[38;5;28mself\u001b[39m\u001b[38;5;241m.\u001b[39m_engine\u001b[38;5;241m.\u001b[39mget_loc(casted_key)\n\u001b[0;32m   3630\u001b[0m \u001b[38;5;28;01mexcept\u001b[39;00m \u001b[38;5;167;01mKeyError\u001b[39;00m \u001b[38;5;28;01mas\u001b[39;00m err:\n\u001b[1;32m-> 3631\u001b[0m     \u001b[38;5;28;01mraise\u001b[39;00m \u001b[38;5;167;01mKeyError\u001b[39;00m(key) \u001b[38;5;28;01mfrom\u001b[39;00m \u001b[38;5;21;01merr\u001b[39;00m\n\u001b[0;32m   3632\u001b[0m \u001b[38;5;28;01mexcept\u001b[39;00m \u001b[38;5;167;01mTypeError\u001b[39;00m:\n\u001b[0;32m   3633\u001b[0m     \u001b[38;5;66;03m# If we have a listlike key, _check_indexing_error will raise\u001b[39;00m\n\u001b[0;32m   3634\u001b[0m     \u001b[38;5;66;03m#  InvalidIndexError. Otherwise we fall through and re-raise\u001b[39;00m\n\u001b[0;32m   3635\u001b[0m     \u001b[38;5;66;03m#  the TypeError.\u001b[39;00m\n\u001b[0;32m   3636\u001b[0m     \u001b[38;5;28mself\u001b[39m\u001b[38;5;241m.\u001b[39m_check_indexing_error(key)\n",
      "\u001b[1;31mKeyError\u001b[0m: 176101"
     ]
    }
   ],
   "source": [
    "indices[176101]"
   ]
  },
  {
   "cell_type": "code",
   "execution_count": 138,
   "id": "130583a1",
   "metadata": {},
   "outputs": [
    {
     "ename": "KeyError",
     "evalue": "176101",
     "output_type": "error",
     "traceback": [
      "\u001b[1;31m---------------------------------------------------------------------------\u001b[0m",
      "\u001b[1;31mKeyError\u001b[0m                                  Traceback (most recent call last)",
      "File \u001b[1;32m~\\Anaconda3\\lib\\site-packages\\pandas\\core\\indexes\\base.py:3629\u001b[0m, in \u001b[0;36mIndex.get_loc\u001b[1;34m(self, key, method, tolerance)\u001b[0m\n\u001b[0;32m   3628\u001b[0m \u001b[38;5;28;01mtry\u001b[39;00m:\n\u001b[1;32m-> 3629\u001b[0m     \u001b[38;5;28;01mreturn\u001b[39;00m \u001b[38;5;28;43mself\u001b[39;49m\u001b[38;5;241;43m.\u001b[39;49m\u001b[43m_engine\u001b[49m\u001b[38;5;241;43m.\u001b[39;49m\u001b[43mget_loc\u001b[49m\u001b[43m(\u001b[49m\u001b[43mcasted_key\u001b[49m\u001b[43m)\u001b[49m\n\u001b[0;32m   3630\u001b[0m \u001b[38;5;28;01mexcept\u001b[39;00m \u001b[38;5;167;01mKeyError\u001b[39;00m \u001b[38;5;28;01mas\u001b[39;00m err:\n",
      "File \u001b[1;32m~\\Anaconda3\\lib\\site-packages\\pandas\\_libs\\index.pyx:136\u001b[0m, in \u001b[0;36mpandas._libs.index.IndexEngine.get_loc\u001b[1;34m()\u001b[0m\n",
      "File \u001b[1;32m~\\Anaconda3\\lib\\site-packages\\pandas\\_libs\\index.pyx:163\u001b[0m, in \u001b[0;36mpandas._libs.index.IndexEngine.get_loc\u001b[1;34m()\u001b[0m\n",
      "File \u001b[1;32mpandas\\_libs\\hashtable_class_helper.pxi:2131\u001b[0m, in \u001b[0;36mpandas._libs.hashtable.Int64HashTable.get_item\u001b[1;34m()\u001b[0m\n",
      "File \u001b[1;32mpandas\\_libs\\hashtable_class_helper.pxi:2140\u001b[0m, in \u001b[0;36mpandas._libs.hashtable.Int64HashTable.get_item\u001b[1;34m()\u001b[0m\n",
      "\u001b[1;31mKeyError\u001b[0m: 176101",
      "\nThe above exception was the direct cause of the following exception:\n",
      "\u001b[1;31mKeyError\u001b[0m                                  Traceback (most recent call last)",
      "Input \u001b[1;32mIn [138]\u001b[0m, in \u001b[0;36m<cell line: 5>\u001b[1;34m()\u001b[0m\n\u001b[0;32m      1\u001b[0m \u001b[38;5;66;03m#r = '5163_57669'.split('_')[0]\u001b[39;00m\n\u001b[0;32m      2\u001b[0m \n\u001b[0;32m      3\u001b[0m \u001b[38;5;66;03m#r = content_generate_rating_estimate('146790_5459')\u001b[39;00m\n\u001b[0;32m      4\u001b[0m \u001b[38;5;66;03m#print (r)\u001b[39;00m\n\u001b[1;32m----> 5\u001b[0m df_users_info[\u001b[38;5;124m'\u001b[39m\u001b[38;5;124mpredictedRating\u001b[39m\u001b[38;5;124m'\u001b[39m] \u001b[38;5;241m=\u001b[39m \u001b[43mdf_users_info\u001b[49m\u001b[43m[\u001b[49m\u001b[38;5;124;43m'\u001b[39;49m\u001b[38;5;124;43muserId_movieId\u001b[39;49m\u001b[38;5;124;43m'\u001b[39;49m\u001b[43m]\u001b[49m\u001b[38;5;241;43m.\u001b[39;49m\u001b[43mapply\u001b[49m\u001b[43m(\u001b[49m\u001b[43mcontent_generate_rating_estimate\u001b[49m\u001b[43m)\u001b[49m\n",
      "File \u001b[1;32m~\\Anaconda3\\lib\\site-packages\\pandas\\core\\series.py:4433\u001b[0m, in \u001b[0;36mSeries.apply\u001b[1;34m(self, func, convert_dtype, args, **kwargs)\u001b[0m\n\u001b[0;32m   4323\u001b[0m \u001b[38;5;28;01mdef\u001b[39;00m \u001b[38;5;21mapply\u001b[39m(\n\u001b[0;32m   4324\u001b[0m     \u001b[38;5;28mself\u001b[39m,\n\u001b[0;32m   4325\u001b[0m     func: AggFuncType,\n\u001b[1;32m   (...)\u001b[0m\n\u001b[0;32m   4328\u001b[0m     \u001b[38;5;241m*\u001b[39m\u001b[38;5;241m*\u001b[39mkwargs,\n\u001b[0;32m   4329\u001b[0m ) \u001b[38;5;241m-\u001b[39m\u001b[38;5;241m>\u001b[39m DataFrame \u001b[38;5;241m|\u001b[39m Series:\n\u001b[0;32m   4330\u001b[0m     \u001b[38;5;124;03m\"\"\"\u001b[39;00m\n\u001b[0;32m   4331\u001b[0m \u001b[38;5;124;03m    Invoke function on values of Series.\u001b[39;00m\n\u001b[0;32m   4332\u001b[0m \n\u001b[1;32m   (...)\u001b[0m\n\u001b[0;32m   4431\u001b[0m \u001b[38;5;124;03m    dtype: float64\u001b[39;00m\n\u001b[0;32m   4432\u001b[0m \u001b[38;5;124;03m    \"\"\"\u001b[39;00m\n\u001b[1;32m-> 4433\u001b[0m     \u001b[38;5;28;01mreturn\u001b[39;00m \u001b[43mSeriesApply\u001b[49m\u001b[43m(\u001b[49m\u001b[38;5;28;43mself\u001b[39;49m\u001b[43m,\u001b[49m\u001b[43m \u001b[49m\u001b[43mfunc\u001b[49m\u001b[43m,\u001b[49m\u001b[43m \u001b[49m\u001b[43mconvert_dtype\u001b[49m\u001b[43m,\u001b[49m\u001b[43m \u001b[49m\u001b[43margs\u001b[49m\u001b[43m,\u001b[49m\u001b[43m \u001b[49m\u001b[43mkwargs\u001b[49m\u001b[43m)\u001b[49m\u001b[38;5;241;43m.\u001b[39;49m\u001b[43mapply\u001b[49m\u001b[43m(\u001b[49m\u001b[43m)\u001b[49m\n",
      "File \u001b[1;32m~\\Anaconda3\\lib\\site-packages\\pandas\\core\\apply.py:1088\u001b[0m, in \u001b[0;36mSeriesApply.apply\u001b[1;34m(self)\u001b[0m\n\u001b[0;32m   1084\u001b[0m \u001b[38;5;28;01mif\u001b[39;00m \u001b[38;5;28misinstance\u001b[39m(\u001b[38;5;28mself\u001b[39m\u001b[38;5;241m.\u001b[39mf, \u001b[38;5;28mstr\u001b[39m):\n\u001b[0;32m   1085\u001b[0m     \u001b[38;5;66;03m# if we are a string, try to dispatch\u001b[39;00m\n\u001b[0;32m   1086\u001b[0m     \u001b[38;5;28;01mreturn\u001b[39;00m \u001b[38;5;28mself\u001b[39m\u001b[38;5;241m.\u001b[39mapply_str()\n\u001b[1;32m-> 1088\u001b[0m \u001b[38;5;28;01mreturn\u001b[39;00m \u001b[38;5;28;43mself\u001b[39;49m\u001b[38;5;241;43m.\u001b[39;49m\u001b[43mapply_standard\u001b[49m\u001b[43m(\u001b[49m\u001b[43m)\u001b[49m\n",
      "File \u001b[1;32m~\\Anaconda3\\lib\\site-packages\\pandas\\core\\apply.py:1143\u001b[0m, in \u001b[0;36mSeriesApply.apply_standard\u001b[1;34m(self)\u001b[0m\n\u001b[0;32m   1137\u001b[0m         values \u001b[38;5;241m=\u001b[39m obj\u001b[38;5;241m.\u001b[39mastype(\u001b[38;5;28mobject\u001b[39m)\u001b[38;5;241m.\u001b[39m_values\n\u001b[0;32m   1138\u001b[0m         \u001b[38;5;66;03m# error: Argument 2 to \"map_infer\" has incompatible type\u001b[39;00m\n\u001b[0;32m   1139\u001b[0m         \u001b[38;5;66;03m# \"Union[Callable[..., Any], str, List[Union[Callable[..., Any], str]],\u001b[39;00m\n\u001b[0;32m   1140\u001b[0m         \u001b[38;5;66;03m# Dict[Hashable, Union[Union[Callable[..., Any], str],\u001b[39;00m\n\u001b[0;32m   1141\u001b[0m         \u001b[38;5;66;03m# List[Union[Callable[..., Any], str]]]]]\"; expected\u001b[39;00m\n\u001b[0;32m   1142\u001b[0m         \u001b[38;5;66;03m# \"Callable[[Any], Any]\"\u001b[39;00m\n\u001b[1;32m-> 1143\u001b[0m         mapped \u001b[38;5;241m=\u001b[39m \u001b[43mlib\u001b[49m\u001b[38;5;241;43m.\u001b[39;49m\u001b[43mmap_infer\u001b[49m\u001b[43m(\u001b[49m\n\u001b[0;32m   1144\u001b[0m \u001b[43m            \u001b[49m\u001b[43mvalues\u001b[49m\u001b[43m,\u001b[49m\n\u001b[0;32m   1145\u001b[0m \u001b[43m            \u001b[49m\u001b[43mf\u001b[49m\u001b[43m,\u001b[49m\u001b[43m  \u001b[49m\u001b[38;5;66;43;03m# type: ignore[arg-type]\u001b[39;49;00m\n\u001b[0;32m   1146\u001b[0m \u001b[43m            \u001b[49m\u001b[43mconvert\u001b[49m\u001b[38;5;241;43m=\u001b[39;49m\u001b[38;5;28;43mself\u001b[39;49m\u001b[38;5;241;43m.\u001b[39;49m\u001b[43mconvert_dtype\u001b[49m\u001b[43m,\u001b[49m\n\u001b[0;32m   1147\u001b[0m \u001b[43m        \u001b[49m\u001b[43m)\u001b[49m\n\u001b[0;32m   1149\u001b[0m \u001b[38;5;28;01mif\u001b[39;00m \u001b[38;5;28mlen\u001b[39m(mapped) \u001b[38;5;129;01mand\u001b[39;00m \u001b[38;5;28misinstance\u001b[39m(mapped[\u001b[38;5;241m0\u001b[39m], ABCSeries):\n\u001b[0;32m   1150\u001b[0m     \u001b[38;5;66;03m# GH#43986 Need to do list(mapped) in order to get treated as nested\u001b[39;00m\n\u001b[0;32m   1151\u001b[0m     \u001b[38;5;66;03m#  See also GH#25959 regarding EA support\u001b[39;00m\n\u001b[0;32m   1152\u001b[0m     \u001b[38;5;28;01mreturn\u001b[39;00m obj\u001b[38;5;241m.\u001b[39m_constructor_expanddim(\u001b[38;5;28mlist\u001b[39m(mapped), index\u001b[38;5;241m=\u001b[39mobj\u001b[38;5;241m.\u001b[39mindex)\n",
      "File \u001b[1;32m~\\Anaconda3\\lib\\site-packages\\pandas\\_libs\\lib.pyx:2870\u001b[0m, in \u001b[0;36mpandas._libs.lib.map_infer\u001b[1;34m()\u001b[0m\n",
      "Input \u001b[1;32mIn [136]\u001b[0m, in \u001b[0;36mcontent_generate_rating_estimate\u001b[1;34m(Comb_Id)\u001b[0m\n\u001b[0;32m      7\u001b[0m movie_id \u001b[38;5;241m=\u001b[39m \u001b[38;5;28mint\u001b[39m(Comb_Id\u001b[38;5;241m.\u001b[39msplit(\u001b[38;5;124m'\u001b[39m\u001b[38;5;124m_\u001b[39m\u001b[38;5;124m'\u001b[39m)[\u001b[38;5;241m1\u001b[39m])\n\u001b[0;32m      9\u001b[0m \u001b[38;5;66;03m# Convert the movie id to a numeric index for our similarity matrix\u001b[39;00m\n\u001b[1;32m---> 10\u001b[0m b_idx \u001b[38;5;241m=\u001b[39m \u001b[43mindices\u001b[49m\u001b[43m[\u001b[49m\u001b[43mmovie_id\u001b[49m\u001b[43m]\u001b[49m\n\u001b[0;32m     11\u001b[0m neighbors \u001b[38;5;241m=\u001b[39m [] \u001b[38;5;66;03m# <-- Stores our collection of similarity values \u001b[39;00m\n\u001b[0;32m     13\u001b[0m \u001b[38;5;66;03m# Gather the similarity ratings between each movie the user has rated and the reference movie \u001b[39;00m\n",
      "File \u001b[1;32m~\\Anaconda3\\lib\\site-packages\\pandas\\core\\series.py:958\u001b[0m, in \u001b[0;36mSeries.__getitem__\u001b[1;34m(self, key)\u001b[0m\n\u001b[0;32m    955\u001b[0m     \u001b[38;5;28;01mreturn\u001b[39;00m \u001b[38;5;28mself\u001b[39m\u001b[38;5;241m.\u001b[39m_values[key]\n\u001b[0;32m    957\u001b[0m \u001b[38;5;28;01melif\u001b[39;00m key_is_scalar:\n\u001b[1;32m--> 958\u001b[0m     \u001b[38;5;28;01mreturn\u001b[39;00m \u001b[38;5;28;43mself\u001b[39;49m\u001b[38;5;241;43m.\u001b[39;49m\u001b[43m_get_value\u001b[49m\u001b[43m(\u001b[49m\u001b[43mkey\u001b[49m\u001b[43m)\u001b[49m\n\u001b[0;32m    960\u001b[0m \u001b[38;5;28;01mif\u001b[39;00m is_hashable(key):\n\u001b[0;32m    961\u001b[0m     \u001b[38;5;66;03m# Otherwise index.get_value will raise InvalidIndexError\u001b[39;00m\n\u001b[0;32m    962\u001b[0m     \u001b[38;5;28;01mtry\u001b[39;00m:\n\u001b[0;32m    963\u001b[0m         \u001b[38;5;66;03m# For labels that don't resolve as scalars like tuples and frozensets\u001b[39;00m\n",
      "File \u001b[1;32m~\\Anaconda3\\lib\\site-packages\\pandas\\core\\series.py:1069\u001b[0m, in \u001b[0;36mSeries._get_value\u001b[1;34m(self, label, takeable)\u001b[0m\n\u001b[0;32m   1066\u001b[0m     \u001b[38;5;28;01mreturn\u001b[39;00m \u001b[38;5;28mself\u001b[39m\u001b[38;5;241m.\u001b[39m_values[label]\n\u001b[0;32m   1068\u001b[0m \u001b[38;5;66;03m# Similar to Index.get_value, but we do not fall back to positional\u001b[39;00m\n\u001b[1;32m-> 1069\u001b[0m loc \u001b[38;5;241m=\u001b[39m \u001b[38;5;28;43mself\u001b[39;49m\u001b[38;5;241;43m.\u001b[39;49m\u001b[43mindex\u001b[49m\u001b[38;5;241;43m.\u001b[39;49m\u001b[43mget_loc\u001b[49m\u001b[43m(\u001b[49m\u001b[43mlabel\u001b[49m\u001b[43m)\u001b[49m\n\u001b[0;32m   1070\u001b[0m \u001b[38;5;28;01mreturn\u001b[39;00m \u001b[38;5;28mself\u001b[39m\u001b[38;5;241m.\u001b[39mindex\u001b[38;5;241m.\u001b[39m_get_values_for_loc(\u001b[38;5;28mself\u001b[39m, loc, label)\n",
      "File \u001b[1;32m~\\Anaconda3\\lib\\site-packages\\pandas\\core\\indexes\\base.py:3631\u001b[0m, in \u001b[0;36mIndex.get_loc\u001b[1;34m(self, key, method, tolerance)\u001b[0m\n\u001b[0;32m   3629\u001b[0m     \u001b[38;5;28;01mreturn\u001b[39;00m \u001b[38;5;28mself\u001b[39m\u001b[38;5;241m.\u001b[39m_engine\u001b[38;5;241m.\u001b[39mget_loc(casted_key)\n\u001b[0;32m   3630\u001b[0m \u001b[38;5;28;01mexcept\u001b[39;00m \u001b[38;5;167;01mKeyError\u001b[39;00m \u001b[38;5;28;01mas\u001b[39;00m err:\n\u001b[1;32m-> 3631\u001b[0m     \u001b[38;5;28;01mraise\u001b[39;00m \u001b[38;5;167;01mKeyError\u001b[39;00m(key) \u001b[38;5;28;01mfrom\u001b[39;00m \u001b[38;5;21;01merr\u001b[39;00m\n\u001b[0;32m   3632\u001b[0m \u001b[38;5;28;01mexcept\u001b[39;00m \u001b[38;5;167;01mTypeError\u001b[39;00m:\n\u001b[0;32m   3633\u001b[0m     \u001b[38;5;66;03m# If we have a listlike key, _check_indexing_error will raise\u001b[39;00m\n\u001b[0;32m   3634\u001b[0m     \u001b[38;5;66;03m#  InvalidIndexError. Otherwise we fall through and re-raise\u001b[39;00m\n\u001b[0;32m   3635\u001b[0m     \u001b[38;5;66;03m#  the TypeError.\u001b[39;00m\n\u001b[0;32m   3636\u001b[0m     \u001b[38;5;28mself\u001b[39m\u001b[38;5;241m.\u001b[39m_check_indexing_error(key)\n",
      "\u001b[1;31mKeyError\u001b[0m: 176101"
     ]
    }
   ],
   "source": [
    "#r = '5163_57669'.split('_')[0]\n",
    "\n",
    "#r = content_generate_rating_estimate('146790_5459')\n",
    "#print (r)\n",
    "df_users_info['predictedRating'] = df_users_info['userId_movieId'].apply(content_generate_rating_estimate)"
   ]
  },
  {
   "cell_type": "markdown",
   "id": "1c3b7f98",
   "metadata": {},
   "source": [
    "#### Findings\n",
    "\n",
    "There are no null values in the data set for cleaning/imputations. However, tweetid does not seem to provide any useful information to the analysis and should be considered to be dropped from the data"
   ]
  },
  {
   "cell_type": "code",
   "execution_count": 4,
   "id": "41d76177",
   "metadata": {},
   "outputs": [
    {
     "name": "stdout",
     "output_type": "stream",
     "text": [
      " 1    0.539225\n",
      " 2    0.230103\n",
      " 0    0.148745\n",
      "-1    0.081927\n",
      "Name: sentiment, dtype: float64\n"
     ]
    },
    {
     "data": {
      "image/png": "[encoded data removed]",
      "text/plain": [
       "<Figure size 1008x360 with 2 Axes>"
      ]
     },
     "metadata": {
      "needs_background": "light"
     },
     "output_type": "display_data"
    }
   ],
   "source": [
    "# Plotting frequency and proportions of sentiment classes (response variable) for train data\n",
    "\n",
    "stats_sentiment = df_train['sentiment'].value_counts(normalize=True)\n",
    "print(stats_sentiment)\n",
    "\n",
    "plt.figure(figsize=(14,5))\n",
    "plt.subplot(1,2,1)\n",
    "sns.countplot(data=df_train,y='sentiment')\n",
    "plt.subplot(1,2,2)\n",
    "stats_sentiment.plot.bar(rot=25)\n",
    "plt.ylabel('% distribution per class')\n",
    "plt.xlabel('sentiment class')\n",
    "plt.tight_layout()\n",
    "plt.show()"
   ]
  },
  {
   "cell_type": "markdown",
   "id": "b4b98962",
   "metadata": {},
   "source": [
    "#### Findings\n",
    "\n",
    "Around 54% of the data tweets belong to class 1 (Pro climate change), while the remaining class proportions are significantly\n",
    "smaller in comparison.This could lead to the model being biased where it is able to predict class 1 better than \n",
    "the other classes, and can incorrectly lead the audience to believe that the general tweet sentiment is pro climate change.\n",
    "A possible consideration to balance the class imbalance of data, and reduce model bias is to try resampling \n",
    "the data (up/down/combination of both)\n"
   ]
  },
  {
   "cell_type": "code",
   "execution_count": 5,
   "id": "4c24bec1",
   "metadata": {},
   "outputs": [],
   "source": [
    "# reweights to be used in models to perform redistribution\n",
    "cw = {-1: 0.46, 0:1.09, 1:1.67, 2:3.13}"
   ]
  },
  {
   "cell_type": "code",
   "execution_count": 6,
   "id": "2acd5e6b",
   "metadata": {},
   "outputs": [],
   "source": [
    "# drop tweetid column\n",
    "df_train = df_train.drop(['tweetid'], axis = 1)"
   ]
  },
  {
   "cell_type": "code",
   "execution_count": 7,
   "id": "6eb51e4b",
   "metadata": {},
   "outputs": [
    {
     "data": {
      "text/plain": [
       "('RT @LiterateLiberal: Leading global warming deniers just told us what they want trump to do https://t.co/tkZVNzDDd3 via @MotherJones',\n",
       " 2)"
      ]
     },
     "execution_count": 7,
     "metadata": {},
     "output_type": "execute_result"
    }
   ],
   "source": [
    "# General analysis of tweets\n",
    "row = 188\n",
    "df_train['message'][row],df_train['sentiment'][row] "
   ]
  },
  {
   "cell_type": "markdown",
   "id": "cd956ec9",
   "metadata": {},
   "source": [
    "#### Findings\n",
    "\n",
    "There may be some correlations between the below possible features (to be engineered) and the relevant sentiment class:\n",
    "1. Number of hastags in a tweet\n",
    "2. If tweet is a RT\n",
    "3. Number of @'s in a tweet\n",
    "4. Presence and number of https links in a tweet\n",
    "5. If there are ?, ! or ''/\"\"  which could signal emotions\n",
    "6. Tweet length (limit is 280 characters)\n"
   ]
  },
  {
   "cell_type": "code",
   "execution_count": 8,
   "id": "50468232",
   "metadata": {},
   "outputs": [],
   "source": [
    "# Add Tweet length feature\n",
    "\n",
    "# Converting of http link to http word only to remove bias due to length of link\n",
    "# Some preprocessing is required as only the actual tweet length is to be summed. Counting chars only from : onwards for RT\n",
    "\n",
    "def clean_http(text):\n",
    "    text = re.sub(r'http[s]?://(?:[A-Za-z]|[0-9]|[$-_@.&+]|[!*\\(\\),]|(?:%[0-9A-Fa-f][0-9A-Fa-f]))+', r'http', text) #remove the url and replace with http\n",
    "    return text\n",
    "\n",
    "def tweet_length(text):\n",
    "    count = 0\n",
    "    \n",
    "    # search if RT then search the :, count from that\n",
    "    if text[0:2]=='RT':\n",
    "        pos = text.find(':')\n",
    "        count = len(text[pos:])\n",
    "    else: # if not RT, count length\n",
    "        count = len(text)    \n",
    "    \n",
    "    return count\n"
   ]
  },
  {
   "cell_type": "code",
   "execution_count": 9,
   "id": "a97e1def",
   "metadata": {},
   "outputs": [
    {
     "data": {
      "text/html": [
       "<div>\n",
       "<style scoped>\n",
       "    .dataframe tbody tr th:only-of-type {\n",
       "        vertical-align: middle;\n",
       "    }\n",
       "\n",
       "    .dataframe tbody tr th {\n",
       "        vertical-align: top;\n",
       "    }\n",
       "\n",
       "    .dataframe thead th {\n",
       "        text-align: right;\n",
       "    }\n",
       "</style>\n",
       "<table border=\"1\" class=\"dataframe\">\n",
       "  <thead>\n",
       "    <tr style=\"text-align: right;\">\n",
       "      <th></th>\n",
       "      <th>sentiment</th>\n",
       "      <th>message</th>\n",
       "      <th>tweet_length</th>\n",
       "    </tr>\n",
       "  </thead>\n",
       "  <tbody>\n",
       "    <tr>\n",
       "      <th>0</th>\n",
       "      <td>1</td>\n",
       "      <td>PolySciMajor EPA chief doesn't think carbon di...</td>\n",
       "      <td>121</td>\n",
       "    </tr>\n",
       "    <tr>\n",
       "      <th>1</th>\n",
       "      <td>1</td>\n",
       "      <td>It's not like we lack evidence of anthropogeni...</td>\n",
       "      <td>62</td>\n",
       "    </tr>\n",
       "    <tr>\n",
       "      <th>2</th>\n",
       "      <td>2</td>\n",
       "      <td>RT @RawStory: Researchers say we have three ye...</td>\n",
       "      <td>94</td>\n",
       "    </tr>\n",
       "    <tr>\n",
       "      <th>3</th>\n",
       "      <td>1</td>\n",
       "      <td>#TodayinMaker# WIRED : 2016 was a pivotal year...</td>\n",
       "      <td>80</td>\n",
       "    </tr>\n",
       "    <tr>\n",
       "      <th>4</th>\n",
       "      <td>1</td>\n",
       "      <td>RT @SoyNovioDeTodas: It's 2016, and a racist, ...</td>\n",
       "      <td>103</td>\n",
       "    </tr>\n",
       "  </tbody>\n",
       "</table>\n",
       "</div>"
      ],
      "text/plain": [
       "   sentiment                                            message  tweet_length\n",
       "0          1  PolySciMajor EPA chief doesn't think carbon di...           121\n",
       "1          1  It's not like we lack evidence of anthropogeni...            62\n",
       "2          2  RT @RawStory: Researchers say we have three ye...            94\n",
       "3          1  #TodayinMaker# WIRED : 2016 was a pivotal year...            80\n",
       "4          1  RT @SoyNovioDeTodas: It's 2016, and a racist, ...           103"
      ]
     },
     "execution_count": 9,
     "metadata": {},
     "output_type": "execute_result"
    }
   ],
   "source": [
    "# run functions and apply to message column\n",
    "df_train['message'] = df_train['message'].apply(clean_http)\n",
    "df_train['tweet_length'] = df_train['message'].apply(tweet_length)\n",
    "df_train.head()"
   ]
  },
  {
   "cell_type": "code",
   "execution_count": 10,
   "id": "fe952528",
   "metadata": {},
   "outputs": [
    {
     "data": {
      "text/html": [
       "<div>\n",
       "<style scoped>\n",
       "    .dataframe tbody tr th:only-of-type {\n",
       "        vertical-align: middle;\n",
       "    }\n",
       "\n",
       "    .dataframe tbody tr th {\n",
       "        vertical-align: top;\n",
       "    }\n",
       "\n",
       "    .dataframe thead th {\n",
       "        text-align: right;\n",
       "    }\n",
       "</style>\n",
       "<table border=\"1\" class=\"dataframe\">\n",
       "  <thead>\n",
       "    <tr style=\"text-align: right;\">\n",
       "      <th>sentiment</th>\n",
       "      <th>-1</th>\n",
       "      <th>0</th>\n",
       "      <th>1</th>\n",
       "      <th>2</th>\n",
       "    </tr>\n",
       "  </thead>\n",
       "  <tbody>\n",
       "    <tr>\n",
       "      <th>count</th>\n",
       "      <td>1296.000000</td>\n",
       "      <td>2353.000000</td>\n",
       "      <td>8530.000000</td>\n",
       "      <td>3640.000000</td>\n",
       "    </tr>\n",
       "    <tr>\n",
       "      <th>mean</th>\n",
       "      <td>108.044753</td>\n",
       "      <td>97.289843</td>\n",
       "      <td>110.212309</td>\n",
       "      <td>91.246703</td>\n",
       "    </tr>\n",
       "    <tr>\n",
       "      <th>std</th>\n",
       "      <td>24.644803</td>\n",
       "      <td>30.905484</td>\n",
       "      <td>21.609617</td>\n",
       "      <td>19.667534</td>\n",
       "    </tr>\n",
       "    <tr>\n",
       "      <th>min</th>\n",
       "      <td>1.000000</td>\n",
       "      <td>1.000000</td>\n",
       "      <td>1.000000</td>\n",
       "      <td>1.000000</td>\n",
       "    </tr>\n",
       "    <tr>\n",
       "      <th>25%</th>\n",
       "      <td>95.000000</td>\n",
       "      <td>72.000000</td>\n",
       "      <td>100.000000</td>\n",
       "      <td>77.000000</td>\n",
       "    </tr>\n",
       "    <tr>\n",
       "      <th>50%</th>\n",
       "      <td>118.000000</td>\n",
       "      <td>105.000000</td>\n",
       "      <td>117.000000</td>\n",
       "      <td>91.000000</td>\n",
       "    </tr>\n",
       "    <tr>\n",
       "      <th>75%</th>\n",
       "      <td>124.000000</td>\n",
       "      <td>122.000000</td>\n",
       "      <td>124.000000</td>\n",
       "      <td>106.000000</td>\n",
       "    </tr>\n",
       "    <tr>\n",
       "      <th>max</th>\n",
       "      <td>160.000000</td>\n",
       "      <td>155.000000</td>\n",
       "      <td>195.000000</td>\n",
       "      <td>145.000000</td>\n",
       "    </tr>\n",
       "  </tbody>\n",
       "</table>\n",
       "</div>"
      ],
      "text/plain": [
       "sentiment           -1            0            1            2\n",
       "count      1296.000000  2353.000000  8530.000000  3640.000000\n",
       "mean        108.044753    97.289843   110.212309    91.246703\n",
       "std          24.644803    30.905484    21.609617    19.667534\n",
       "min           1.000000     1.000000     1.000000     1.000000\n",
       "25%          95.000000    72.000000   100.000000    77.000000\n",
       "50%         118.000000   105.000000   117.000000    91.000000\n",
       "75%         124.000000   122.000000   124.000000   106.000000\n",
       "max         160.000000   155.000000   195.000000   145.000000"
      ]
     },
     "execution_count": 10,
     "metadata": {},
     "output_type": "execute_result"
    }
   ],
   "source": [
    "# Descriptive statistics for tweet length per sentiment class\n",
    "df_train.groupby('sentiment')['tweet_length'].describe().T"
   ]
  },
  {
   "cell_type": "code",
   "execution_count": 11,
   "id": "e54edb98",
   "metadata": {},
   "outputs": [],
   "source": [
    "# Add Hastag count feature\n",
    "\n",
    "def hashtag_count(text):\n",
    "    count = 0\n",
    "    count = text.count('#')\n",
    "    return count"
   ]
  },
  {
   "cell_type": "code",
   "execution_count": 12,
   "id": "2be38e01",
   "metadata": {},
   "outputs": [
    {
     "data": {
      "text/html": [
       "<div>\n",
       "<style scoped>\n",
       "    .dataframe tbody tr th:only-of-type {\n",
       "        vertical-align: middle;\n",
       "    }\n",
       "\n",
       "    .dataframe tbody tr th {\n",
       "        vertical-align: top;\n",
       "    }\n",
       "\n",
       "    .dataframe thead th {\n",
       "        text-align: right;\n",
       "    }\n",
       "</style>\n",
       "<table border=\"1\" class=\"dataframe\">\n",
       "  <thead>\n",
       "    <tr style=\"text-align: right;\">\n",
       "      <th></th>\n",
       "      <th>sentiment</th>\n",
       "      <th>message</th>\n",
       "      <th>tweet_length</th>\n",
       "      <th>hashtag_count</th>\n",
       "    </tr>\n",
       "  </thead>\n",
       "  <tbody>\n",
       "    <tr>\n",
       "      <th>0</th>\n",
       "      <td>1</td>\n",
       "      <td>PolySciMajor EPA chief doesn't think carbon di...</td>\n",
       "      <td>121</td>\n",
       "      <td>0</td>\n",
       "    </tr>\n",
       "    <tr>\n",
       "      <th>1</th>\n",
       "      <td>1</td>\n",
       "      <td>It's not like we lack evidence of anthropogeni...</td>\n",
       "      <td>62</td>\n",
       "      <td>0</td>\n",
       "    </tr>\n",
       "    <tr>\n",
       "      <th>2</th>\n",
       "      <td>2</td>\n",
       "      <td>RT @RawStory: Researchers say we have three ye...</td>\n",
       "      <td>94</td>\n",
       "      <td>0</td>\n",
       "    </tr>\n",
       "    <tr>\n",
       "      <th>3</th>\n",
       "      <td>1</td>\n",
       "      <td>#TodayinMaker# WIRED : 2016 was a pivotal year...</td>\n",
       "      <td>80</td>\n",
       "      <td>2</td>\n",
       "    </tr>\n",
       "    <tr>\n",
       "      <th>4</th>\n",
       "      <td>1</td>\n",
       "      <td>RT @SoyNovioDeTodas: It's 2016, and a racist, ...</td>\n",
       "      <td>103</td>\n",
       "      <td>1</td>\n",
       "    </tr>\n",
       "  </tbody>\n",
       "</table>\n",
       "</div>"
      ],
      "text/plain": [
       "   sentiment                                            message  tweet_length  \\\n",
       "0          1  PolySciMajor EPA chief doesn't think carbon di...           121   \n",
       "1          1  It's not like we lack evidence of anthropogeni...            62   \n",
       "2          2  RT @RawStory: Researchers say we have three ye...            94   \n",
       "3          1  #TodayinMaker# WIRED : 2016 was a pivotal year...            80   \n",
       "4          1  RT @SoyNovioDeTodas: It's 2016, and a racist, ...           103   \n",
       "\n",
       "   hashtag_count  \n",
       "0              0  \n",
       "1              0  \n",
       "2              0  \n",
       "3              2  \n",
       "4              1  "
      ]
     },
     "execution_count": 12,
     "metadata": {},
     "output_type": "execute_result"
    }
   ],
   "source": [
    "df_train['hashtag_count'] = df_train['message'].apply(hashtag_count)\n",
    "df_train.head()"
   ]
  },
  {
   "cell_type": "code",
   "execution_count": 13,
   "id": "73daebaf",
   "metadata": {},
   "outputs": [
    {
     "name": "stdout",
     "output_type": "stream",
     "text": [
      "sentiment\n",
      "-1    0.187500\n",
      " 0    0.176371\n",
      " 1    0.308675\n",
      " 2    0.241209\n",
      "dtype: float64\n"
     ]
    }
   ],
   "source": [
    "# Get stats for hashtag count per sentiment class\n",
    "stats_hashtag = df_train.groupby('sentiment')['hashtag_count'].sum()\n",
    "total_per_class = df_train.groupby('sentiment')['sentiment'].count()\n",
    "hashtag_perc = stats_hashtag/total_per_class\n",
    "print(hashtag_perc)"
   ]
  },
  {
   "cell_type": "code",
   "execution_count": 14,
   "id": "becad3f8",
   "metadata": {},
   "outputs": [
    {
     "data": {
      "image/png": "[encoded data removed]",
      "text/plain": [
       "<Figure size 432x288 with 1 Axes>"
      ]
     },
     "metadata": {
      "needs_background": "light"
     },
     "output_type": "display_data"
    }
   ],
   "source": [
    "# Plot hashtag count %\n",
    "sns.barplot(y=hashtag_perc, x=[-1,0,1,2])\n",
    "plt.xlabel(\"sentiment\")\n",
    "plt.ylabel(\"%\")\n",
    "plt.title(\"Hashtags per sentiment class as % of total per class\")\n",
    "plt.show()"
   ]
  },
  {
   "cell_type": "markdown",
   "id": "564a0180",
   "metadata": {},
   "source": [
    "#### Findings\n",
    "\n",
    "There seems to be a large proportion of tweets with hashtags that is applicable to Pro climate change class (31%).\n",
    "This could be showing some predictabilty with this feature"
   ]
  },
  {
   "cell_type": "code",
   "execution_count": 15,
   "id": "0e2a0fc9",
   "metadata": {},
   "outputs": [],
   "source": [
    "# Add RT count feature\n",
    "\n",
    "def RT_count(text):\n",
    "    if text[0:2]=='RT':\n",
    "        count = 1\n",
    "    else:\n",
    "        count = 0\n",
    "    return count"
   ]
  },
  {
   "cell_type": "code",
   "execution_count": 16,
   "id": "0fd3014b",
   "metadata": {},
   "outputs": [
    {
     "data": {
      "text/html": [
       "<div>\n",
       "<style scoped>\n",
       "    .dataframe tbody tr th:only-of-type {\n",
       "        vertical-align: middle;\n",
       "    }\n",
       "\n",
       "    .dataframe tbody tr th {\n",
       "        vertical-align: top;\n",
       "    }\n",
       "\n",
       "    .dataframe thead th {\n",
       "        text-align: right;\n",
       "    }\n",
       "</style>\n",
       "<table border=\"1\" class=\"dataframe\">\n",
       "  <thead>\n",
       "    <tr style=\"text-align: right;\">\n",
       "      <th></th>\n",
       "      <th>sentiment</th>\n",
       "      <th>message</th>\n",
       "      <th>tweet_length</th>\n",
       "      <th>hashtag_count</th>\n",
       "      <th>RT_count</th>\n",
       "    </tr>\n",
       "  </thead>\n",
       "  <tbody>\n",
       "    <tr>\n",
       "      <th>0</th>\n",
       "      <td>1</td>\n",
       "      <td>PolySciMajor EPA chief doesn't think carbon di...</td>\n",
       "      <td>121</td>\n",
       "      <td>0</td>\n",
       "      <td>0</td>\n",
       "    </tr>\n",
       "    <tr>\n",
       "      <th>1</th>\n",
       "      <td>1</td>\n",
       "      <td>It's not like we lack evidence of anthropogeni...</td>\n",
       "      <td>62</td>\n",
       "      <td>0</td>\n",
       "      <td>0</td>\n",
       "    </tr>\n",
       "    <tr>\n",
       "      <th>2</th>\n",
       "      <td>2</td>\n",
       "      <td>RT @RawStory: Researchers say we have three ye...</td>\n",
       "      <td>94</td>\n",
       "      <td>0</td>\n",
       "      <td>1</td>\n",
       "    </tr>\n",
       "    <tr>\n",
       "      <th>3</th>\n",
       "      <td>1</td>\n",
       "      <td>#TodayinMaker# WIRED : 2016 was a pivotal year...</td>\n",
       "      <td>80</td>\n",
       "      <td>2</td>\n",
       "      <td>0</td>\n",
       "    </tr>\n",
       "    <tr>\n",
       "      <th>4</th>\n",
       "      <td>1</td>\n",
       "      <td>RT @SoyNovioDeTodas: It's 2016, and a racist, ...</td>\n",
       "      <td>103</td>\n",
       "      <td>1</td>\n",
       "      <td>1</td>\n",
       "    </tr>\n",
       "  </tbody>\n",
       "</table>\n",
       "</div>"
      ],
      "text/plain": [
       "   sentiment                                            message  tweet_length  \\\n",
       "0          1  PolySciMajor EPA chief doesn't think carbon di...           121   \n",
       "1          1  It's not like we lack evidence of anthropogeni...            62   \n",
       "2          2  RT @RawStory: Researchers say we have three ye...            94   \n",
       "3          1  #TodayinMaker# WIRED : 2016 was a pivotal year...            80   \n",
       "4          1  RT @SoyNovioDeTodas: It's 2016, and a racist, ...           103   \n",
       "\n",
       "   hashtag_count  RT_count  \n",
       "0              0         0  \n",
       "1              0         0  \n",
       "2              0         1  \n",
       "3              2         0  \n",
       "4              1         1  "
      ]
     },
     "execution_count": 16,
     "metadata": {},
     "output_type": "execute_result"
    }
   ],
   "source": [
    "df_train['RT_count'] = df_train['message'].apply(RT_count)\n",
    "df_train.head()"
   ]
  },
  {
   "cell_type": "code",
   "execution_count": 17,
   "id": "4c9a1912",
   "metadata": {},
   "outputs": [
    {
     "name": "stdout",
     "output_type": "stream",
     "text": [
      "sentiment\n",
      "-1    0.526235\n",
      " 0    0.458564\n",
      " 1    0.674209\n",
      " 2    0.584615\n",
      "dtype: float64\n"
     ]
    }
   ],
   "source": [
    "# Get stats for RT count per sentiment class\n",
    "stats_RT = df_train.groupby('sentiment')['RT_count'].sum()\n",
    "total_per_class = df_train.groupby('sentiment')['sentiment'].count()\n",
    "RT_perc = stats_RT/total_per_class\n",
    "print(RT_perc)"
   ]
  },
  {
   "cell_type": "code",
   "execution_count": 18,
   "id": "4b06f13f",
   "metadata": {},
   "outputs": [
    {
     "data": {
      "image/png": "[encoded data removed]",
      "text/plain": [
       "<Figure size 432x288 with 1 Axes>"
      ]
     },
     "metadata": {
      "needs_background": "light"
     },
     "output_type": "display_data"
    }
   ],
   "source": [
    "# Plot RT count %\n",
    "sns.barplot(y=RT_perc, x=[-1,0,1,2])\n",
    "plt.xlabel(\"sentiment\")\n",
    "plt.ylabel(\"%\")\n",
    "plt.title(\"RT % per sentiment class\")\n",
    "plt.show()"
   ]
  },
  {
   "cell_type": "markdown",
   "id": "20f7621f",
   "metadata": {},
   "source": [
    "#### Findings\n",
    "\n",
    "There seems to be a large proportion of Retweets applicable to Pro climate change (67%).\n",
    "This could be showing some predictabilty with this feature"
   ]
  },
  {
   "cell_type": "code",
   "execution_count": 19,
   "id": "a4a02795",
   "metadata": {},
   "outputs": [],
   "source": [
    "# Add punctuation (?!'\") count feature\n",
    "\n",
    "def punc_count(text):\n",
    "    count_qm = 0\n",
    "    count_em = 0\n",
    "    count_sq = 0\n",
    "    count_dq = 0\n",
    "    \n",
    "    count_qm = text.count('?')\n",
    "    count_em = text.count('!')\n",
    "    count_sq = text.count('\\'')\n",
    "    if count_sq % 2 != 0:\n",
    "           count_sq = count_sq - 1\n",
    "    count_dq = text.count('\"')\n",
    "    sum_count = count_qm + count_em + count_sq + count_dq     \n",
    "    \n",
    "    return sum_count"
   ]
  },
  {
   "cell_type": "code",
   "execution_count": 20,
   "id": "dfacc8a8",
   "metadata": {},
   "outputs": [
    {
     "data": {
      "text/html": [
       "<div>\n",
       "<style scoped>\n",
       "    .dataframe tbody tr th:only-of-type {\n",
       "        vertical-align: middle;\n",
       "    }\n",
       "\n",
       "    .dataframe tbody tr th {\n",
       "        vertical-align: top;\n",
       "    }\n",
       "\n",
       "    .dataframe thead th {\n",
       "        text-align: right;\n",
       "    }\n",
       "</style>\n",
       "<table border=\"1\" class=\"dataframe\">\n",
       "  <thead>\n",
       "    <tr style=\"text-align: right;\">\n",
       "      <th></th>\n",
       "      <th>sentiment</th>\n",
       "      <th>message</th>\n",
       "      <th>tweet_length</th>\n",
       "      <th>hashtag_count</th>\n",
       "      <th>RT_count</th>\n",
       "      <th>punc_count</th>\n",
       "    </tr>\n",
       "  </thead>\n",
       "  <tbody>\n",
       "    <tr>\n",
       "      <th>0</th>\n",
       "      <td>1</td>\n",
       "      <td>PolySciMajor EPA chief doesn't think carbon di...</td>\n",
       "      <td>121</td>\n",
       "      <td>0</td>\n",
       "      <td>0</td>\n",
       "      <td>2</td>\n",
       "    </tr>\n",
       "    <tr>\n",
       "      <th>1</th>\n",
       "      <td>1</td>\n",
       "      <td>It's not like we lack evidence of anthropogeni...</td>\n",
       "      <td>62</td>\n",
       "      <td>0</td>\n",
       "      <td>0</td>\n",
       "      <td>0</td>\n",
       "    </tr>\n",
       "    <tr>\n",
       "      <th>2</th>\n",
       "      <td>2</td>\n",
       "      <td>RT @RawStory: Researchers say we have three ye...</td>\n",
       "      <td>94</td>\n",
       "      <td>0</td>\n",
       "      <td>1</td>\n",
       "      <td>0</td>\n",
       "    </tr>\n",
       "    <tr>\n",
       "      <th>3</th>\n",
       "      <td>1</td>\n",
       "      <td>#TodayinMaker# WIRED : 2016 was a pivotal year...</td>\n",
       "      <td>80</td>\n",
       "      <td>2</td>\n",
       "      <td>0</td>\n",
       "      <td>0</td>\n",
       "    </tr>\n",
       "    <tr>\n",
       "      <th>4</th>\n",
       "      <td>1</td>\n",
       "      <td>RT @SoyNovioDeTodas: It's 2016, and a racist, ...</td>\n",
       "      <td>103</td>\n",
       "      <td>1</td>\n",
       "      <td>1</td>\n",
       "      <td>0</td>\n",
       "    </tr>\n",
       "  </tbody>\n",
       "</table>\n",
       "</div>"
      ],
      "text/plain": [
       "   sentiment                                            message  tweet_length  \\\n",
       "0          1  PolySciMajor EPA chief doesn't think carbon di...           121   \n",
       "1          1  It's not like we lack evidence of anthropogeni...            62   \n",
       "2          2  RT @RawStory: Researchers say we have three ye...            94   \n",
       "3          1  #TodayinMaker# WIRED : 2016 was a pivotal year...            80   \n",
       "4          1  RT @SoyNovioDeTodas: It's 2016, and a racist, ...           103   \n",
       "\n",
       "   hashtag_count  RT_count  punc_count  \n",
       "0              0         0           2  \n",
       "1              0         0           0  \n",
       "2              0         1           0  \n",
       "3              2         0           0  \n",
       "4              1         1           0  "
      ]
     },
     "execution_count": 20,
     "metadata": {},
     "output_type": "execute_result"
    }
   ],
   "source": [
    "df_train['punc_count'] = df_train['message'].apply(punc_count)\n",
    "df_train.head()"
   ]
  },
  {
   "cell_type": "code",
   "execution_count": 21,
   "id": "1e9005a7",
   "metadata": {},
   "outputs": [
    {
     "name": "stdout",
     "output_type": "stream",
     "text": [
      "sentiment\n",
      "-1    0.851080\n",
      " 0    0.693158\n",
      " 1    0.569050\n",
      " 2    0.328297\n",
      "dtype: float64\n"
     ]
    }
   ],
   "source": [
    "# Get stats for punc count per sentiment class\n",
    "stats_punc = df_train.groupby('sentiment')['punc_count'].sum()\n",
    "total_per_class = df_train.groupby('sentiment')['sentiment'].count()\n",
    "punc_perc = stats_punc/total_per_class\n",
    "print(punc_perc)"
   ]
  },
  {
   "cell_type": "code",
   "execution_count": 22,
   "id": "903e69c0",
   "metadata": {},
   "outputs": [
    {
     "data": {
      "image/png": "[encoded data removed]",
      "text/plain": [
       "<Figure size 432x288 with 1 Axes>"
      ]
     },
     "metadata": {
      "needs_background": "light"
     },
     "output_type": "display_data"
    }
   ],
   "source": [
    "# Plot punc_count %\n",
    "sns.barplot(y=punc_perc, x=[-1,0,1,2])\n",
    "plt.xlabel(\"sentiment\")\n",
    "plt.ylabel(\"%\")\n",
    "plt.title(\"Punctuation % per sentiment class\")\n",
    "plt.show()"
   ]
  },
  {
   "cell_type": "markdown",
   "id": "ebc721e3",
   "metadata": {},
   "source": [
    "#### Findings\n",
    "\n",
    "There seems to be a large proportion of Retweets applicable to Anti climate change (85%),\n",
    "with decreasing proportions across the other classes.\n",
    "This could be showing some predictabilty with this feature"
   ]
  },
  {
   "cell_type": "code",
   "execution_count": 23,
   "id": "2f977c07",
   "metadata": {},
   "outputs": [],
   "source": [
    "# add word count feature\n",
    "\n",
    "def word_count(text):\n",
    "\n",
    "    # search if RT then search the :, count from that\n",
    "    if text[0:2]=='RT':\n",
    "        pos = text.find(':')\n",
    "        text = text[pos:]\n",
    "    \n",
    "    text_list = text.split()\n",
    "    \n",
    "    return len(text_list)"
   ]
  },
  {
   "cell_type": "code",
   "execution_count": 24,
   "id": "1ce01675",
   "metadata": {},
   "outputs": [
    {
     "data": {
      "text/html": [
       "<div>\n",
       "<style scoped>\n",
       "    .dataframe tbody tr th:only-of-type {\n",
       "        vertical-align: middle;\n",
       "    }\n",
       "\n",
       "    .dataframe tbody tr th {\n",
       "        vertical-align: top;\n",
       "    }\n",
       "\n",
       "    .dataframe thead th {\n",
       "        text-align: right;\n",
       "    }\n",
       "</style>\n",
       "<table border=\"1\" class=\"dataframe\">\n",
       "  <thead>\n",
       "    <tr style=\"text-align: right;\">\n",
       "      <th></th>\n",
       "      <th>sentiment</th>\n",
       "      <th>message</th>\n",
       "      <th>tweet_length</th>\n",
       "      <th>hashtag_count</th>\n",
       "      <th>RT_count</th>\n",
       "      <th>punc_count</th>\n",
       "      <th>tweet_word_count</th>\n",
       "    </tr>\n",
       "  </thead>\n",
       "  <tbody>\n",
       "    <tr>\n",
       "      <th>0</th>\n",
       "      <td>1</td>\n",
       "      <td>PolySciMajor EPA chief doesn't think carbon di...</td>\n",
       "      <td>121</td>\n",
       "      <td>0</td>\n",
       "      <td>0</td>\n",
       "      <td>2</td>\n",
       "      <td>19</td>\n",
       "    </tr>\n",
       "    <tr>\n",
       "      <th>1</th>\n",
       "      <td>1</td>\n",
       "      <td>It's not like we lack evidence of anthropogeni...</td>\n",
       "      <td>62</td>\n",
       "      <td>0</td>\n",
       "      <td>0</td>\n",
       "      <td>0</td>\n",
       "      <td>10</td>\n",
       "    </tr>\n",
       "    <tr>\n",
       "      <th>2</th>\n",
       "      <td>2</td>\n",
       "      <td>RT @RawStory: Researchers say we have three ye...</td>\n",
       "      <td>94</td>\n",
       "      <td>0</td>\n",
       "      <td>1</td>\n",
       "      <td>0</td>\n",
       "      <td>18</td>\n",
       "    </tr>\n",
       "    <tr>\n",
       "      <th>3</th>\n",
       "      <td>1</td>\n",
       "      <td>#TodayinMaker# WIRED : 2016 was a pivotal year...</td>\n",
       "      <td>80</td>\n",
       "      <td>2</td>\n",
       "      <td>0</td>\n",
       "      <td>0</td>\n",
       "      <td>15</td>\n",
       "    </tr>\n",
       "    <tr>\n",
       "      <th>4</th>\n",
       "      <td>1</td>\n",
       "      <td>RT @SoyNovioDeTodas: It's 2016, and a racist, ...</td>\n",
       "      <td>103</td>\n",
       "      <td>1</td>\n",
       "      <td>1</td>\n",
       "      <td>0</td>\n",
       "      <td>17</td>\n",
       "    </tr>\n",
       "  </tbody>\n",
       "</table>\n",
       "</div>"
      ],
      "text/plain": [
       "   sentiment                                            message  tweet_length  \\\n",
       "0          1  PolySciMajor EPA chief doesn't think carbon di...           121   \n",
       "1          1  It's not like we lack evidence of anthropogeni...            62   \n",
       "2          2  RT @RawStory: Researchers say we have three ye...            94   \n",
       "3          1  #TodayinMaker# WIRED : 2016 was a pivotal year...            80   \n",
       "4          1  RT @SoyNovioDeTodas: It's 2016, and a racist, ...           103   \n",
       "\n",
       "   hashtag_count  RT_count  punc_count  tweet_word_count  \n",
       "0              0         0           2                19  \n",
       "1              0         0           0                10  \n",
       "2              0         1           0                18  \n",
       "3              2         0           0                15  \n",
       "4              1         1           0                17  "
      ]
     },
     "execution_count": 24,
     "metadata": {},
     "output_type": "execute_result"
    }
   ],
   "source": [
    "df_train['tweet_word_count'] = df_train['message'].apply(word_count)\n",
    "df_train.head()"
   ]
  },
  {
   "cell_type": "code",
   "execution_count": 25,
   "id": "f06fc355",
   "metadata": {},
   "outputs": [
    {
     "data": {
      "text/html": [
       "<div>\n",
       "<style scoped>\n",
       "    .dataframe tbody tr th:only-of-type {\n",
       "        vertical-align: middle;\n",
       "    }\n",
       "\n",
       "    .dataframe tbody tr th {\n",
       "        vertical-align: top;\n",
       "    }\n",
       "\n",
       "    .dataframe thead th {\n",
       "        text-align: right;\n",
       "    }\n",
       "</style>\n",
       "<table border=\"1\" class=\"dataframe\">\n",
       "  <thead>\n",
       "    <tr style=\"text-align: right;\">\n",
       "      <th>sentiment</th>\n",
       "      <th>-1</th>\n",
       "      <th>0</th>\n",
       "      <th>1</th>\n",
       "      <th>2</th>\n",
       "    </tr>\n",
       "  </thead>\n",
       "  <tbody>\n",
       "    <tr>\n",
       "      <th>count</th>\n",
       "      <td>1296.000000</td>\n",
       "      <td>2353.000000</td>\n",
       "      <td>8530.000000</td>\n",
       "      <td>3640.000000</td>\n",
       "    </tr>\n",
       "    <tr>\n",
       "      <th>mean</th>\n",
       "      <td>17.831019</td>\n",
       "      <td>16.078623</td>\n",
       "      <td>18.184877</td>\n",
       "      <td>14.776099</td>\n",
       "    </tr>\n",
       "    <tr>\n",
       "      <th>std</th>\n",
       "      <td>4.450499</td>\n",
       "      <td>5.502413</td>\n",
       "      <td>3.926267</td>\n",
       "      <td>3.262894</td>\n",
       "    </tr>\n",
       "    <tr>\n",
       "      <th>min</th>\n",
       "      <td>1.000000</td>\n",
       "      <td>1.000000</td>\n",
       "      <td>1.000000</td>\n",
       "      <td>1.000000</td>\n",
       "    </tr>\n",
       "    <tr>\n",
       "      <th>25%</th>\n",
       "      <td>15.000000</td>\n",
       "      <td>12.000000</td>\n",
       "      <td>16.000000</td>\n",
       "      <td>12.000000</td>\n",
       "    </tr>\n",
       "    <tr>\n",
       "      <th>50%</th>\n",
       "      <td>19.000000</td>\n",
       "      <td>17.000000</td>\n",
       "      <td>19.000000</td>\n",
       "      <td>15.000000</td>\n",
       "    </tr>\n",
       "    <tr>\n",
       "      <th>75%</th>\n",
       "      <td>21.000000</td>\n",
       "      <td>20.000000</td>\n",
       "      <td>21.000000</td>\n",
       "      <td>17.000000</td>\n",
       "    </tr>\n",
       "    <tr>\n",
       "      <th>max</th>\n",
       "      <td>29.000000</td>\n",
       "      <td>31.000000</td>\n",
       "      <td>31.000000</td>\n",
       "      <td>25.000000</td>\n",
       "    </tr>\n",
       "  </tbody>\n",
       "</table>\n",
       "</div>"
      ],
      "text/plain": [
       "sentiment           -1            0            1            2\n",
       "count      1296.000000  2353.000000  8530.000000  3640.000000\n",
       "mean         17.831019    16.078623    18.184877    14.776099\n",
       "std           4.450499     5.502413     3.926267     3.262894\n",
       "min           1.000000     1.000000     1.000000     1.000000\n",
       "25%          15.000000    12.000000    16.000000    12.000000\n",
       "50%          19.000000    17.000000    19.000000    15.000000\n",
       "75%          21.000000    20.000000    21.000000    17.000000\n",
       "max          29.000000    31.000000    31.000000    25.000000"
      ]
     },
     "execution_count": 25,
     "metadata": {},
     "output_type": "execute_result"
    }
   ],
   "source": [
    "# Descriptive statistics for tweet word count per sentiment class\n",
    "df_train.groupby('sentiment')['tweet_word_count'].describe().T"
   ]
  },
  {
   "cell_type": "markdown",
   "id": "168b4796",
   "metadata": {},
   "source": [
    "#### Findings \n",
    "\n",
    "The mean word count does have slight difference between the different sentiment classes.\n",
    "A mean difference significance test might be required or a correlation check.\n"
   ]
  },
  {
   "cell_type": "code",
   "execution_count": 26,
   "id": "d450b614",
   "metadata": {},
   "outputs": [],
   "source": [
    "# Add @ count feature\n",
    "\n",
    "def at_count(text):\n",
    "    count = 0\n",
    "    count = text.count('@')\n",
    "    return count"
   ]
  },
  {
   "cell_type": "code",
   "execution_count": 27,
   "id": "c0eab944",
   "metadata": {},
   "outputs": [
    {
     "data": {
      "text/html": [
       "<div>\n",
       "<style scoped>\n",
       "    .dataframe tbody tr th:only-of-type {\n",
       "        vertical-align: middle;\n",
       "    }\n",
       "\n",
       "    .dataframe tbody tr th {\n",
       "        vertical-align: top;\n",
       "    }\n",
       "\n",
       "    .dataframe thead th {\n",
       "        text-align: right;\n",
       "    }\n",
       "</style>\n",
       "<table border=\"1\" class=\"dataframe\">\n",
       "  <thead>\n",
       "    <tr style=\"text-align: right;\">\n",
       "      <th></th>\n",
       "      <th>sentiment</th>\n",
       "      <th>message</th>\n",
       "      <th>tweet_length</th>\n",
       "      <th>hashtag_count</th>\n",
       "      <th>RT_count</th>\n",
       "      <th>punc_count</th>\n",
       "      <th>tweet_word_count</th>\n",
       "      <th>mentions_count</th>\n",
       "    </tr>\n",
       "  </thead>\n",
       "  <tbody>\n",
       "    <tr>\n",
       "      <th>0</th>\n",
       "      <td>1</td>\n",
       "      <td>PolySciMajor EPA chief doesn't think carbon di...</td>\n",
       "      <td>121</td>\n",
       "      <td>0</td>\n",
       "      <td>0</td>\n",
       "      <td>2</td>\n",
       "      <td>19</td>\n",
       "      <td>1</td>\n",
       "    </tr>\n",
       "    <tr>\n",
       "      <th>1</th>\n",
       "      <td>1</td>\n",
       "      <td>It's not like we lack evidence of anthropogeni...</td>\n",
       "      <td>62</td>\n",
       "      <td>0</td>\n",
       "      <td>0</td>\n",
       "      <td>0</td>\n",
       "      <td>10</td>\n",
       "      <td>0</td>\n",
       "    </tr>\n",
       "    <tr>\n",
       "      <th>2</th>\n",
       "      <td>2</td>\n",
       "      <td>RT @RawStory: Researchers say we have three ye...</td>\n",
       "      <td>94</td>\n",
       "      <td>0</td>\n",
       "      <td>1</td>\n",
       "      <td>0</td>\n",
       "      <td>18</td>\n",
       "      <td>1</td>\n",
       "    </tr>\n",
       "    <tr>\n",
       "      <th>3</th>\n",
       "      <td>1</td>\n",
       "      <td>#TodayinMaker# WIRED : 2016 was a pivotal year...</td>\n",
       "      <td>80</td>\n",
       "      <td>2</td>\n",
       "      <td>0</td>\n",
       "      <td>0</td>\n",
       "      <td>15</td>\n",
       "      <td>0</td>\n",
       "    </tr>\n",
       "    <tr>\n",
       "      <th>4</th>\n",
       "      <td>1</td>\n",
       "      <td>RT @SoyNovioDeTodas: It's 2016, and a racist, ...</td>\n",
       "      <td>103</td>\n",
       "      <td>1</td>\n",
       "      <td>1</td>\n",
       "      <td>0</td>\n",
       "      <td>17</td>\n",
       "      <td>1</td>\n",
       "    </tr>\n",
       "  </tbody>\n",
       "</table>\n",
       "</div>"
      ],
      "text/plain": [
       "   sentiment                                            message  tweet_length  \\\n",
       "0          1  PolySciMajor EPA chief doesn't think carbon di...           121   \n",
       "1          1  It's not like we lack evidence of anthropogeni...            62   \n",
       "2          2  RT @RawStory: Researchers say we have three ye...            94   \n",
       "3          1  #TodayinMaker# WIRED : 2016 was a pivotal year...            80   \n",
       "4          1  RT @SoyNovioDeTodas: It's 2016, and a racist, ...           103   \n",
       "\n",
       "   hashtag_count  RT_count  punc_count  tweet_word_count  mentions_count  \n",
       "0              0         0           2                19               1  \n",
       "1              0         0           0                10               0  \n",
       "2              0         1           0                18               1  \n",
       "3              2         0           0                15               0  \n",
       "4              1         1           0                17               1  "
      ]
     },
     "execution_count": 27,
     "metadata": {},
     "output_type": "execute_result"
    }
   ],
   "source": [
    "df_train['mentions_count'] = df_train['message'].apply(at_count)\n",
    "df_train.head()"
   ]
  },
  {
   "cell_type": "code",
   "execution_count": 28,
   "id": "f15ce61d",
   "metadata": {},
   "outputs": [
    {
     "name": "stdout",
     "output_type": "stream",
     "text": [
      "sentiment\n",
      "-1    1.071759\n",
      " 0    0.937527\n",
      " 1    0.998828\n",
      " 2    0.747253\n",
      "dtype: float64\n"
     ]
    }
   ],
   "source": [
    "# Get stats for @ count per sentiment class\n",
    "stats_mention = df_train.groupby('sentiment')['mentions_count'].sum()\n",
    "total_per_class = df_train.groupby('sentiment')['sentiment'].count()\n",
    "mentions_perc = stats_mention/total_per_class\n",
    "print(mentions_perc)"
   ]
  },
  {
   "cell_type": "code",
   "execution_count": 29,
   "id": "7247dbf3",
   "metadata": {},
   "outputs": [
    {
     "data": {
      "image/png": "[encoded data removed]",
      "text/plain": [
       "<Figure size 432x288 with 1 Axes>"
      ]
     },
     "metadata": {
      "needs_background": "light"
     },
     "output_type": "display_data"
    }
   ],
   "source": [
    "# Plot at_count %\n",
    "sns.barplot(y=mentions_perc, x=[-1,0,1,2])\n",
    "plt.xlabel(\"sentiment\")\n",
    "plt.ylabel(\"%\")\n",
    "plt.title(\"Mentions % per sentiment class\")\n",
    "plt.show()"
   ]
  },
  {
   "cell_type": "markdown",
   "id": "9ddf1ef4",
   "metadata": {},
   "source": [
    "#### Findings\n",
    "\n",
    "There are more mentions applicable to class (-1, 1) i.e Anti and Pro climate change. The least number of mentions is News. The mean of more than 1, shows that more than one mention is observed in the tweet."
   ]
  },
  {
   "cell_type": "code",
   "execution_count": 30,
   "id": "a4cc58fe",
   "metadata": {},
   "outputs": [
    {
     "data": {
      "text/html": [
       "<div>\n",
       "<style scoped>\n",
       "    .dataframe tbody tr th:only-of-type {\n",
       "        vertical-align: middle;\n",
       "    }\n",
       "\n",
       "    .dataframe tbody tr th {\n",
       "        vertical-align: top;\n",
       "    }\n",
       "\n",
       "    .dataframe thead th {\n",
       "        text-align: right;\n",
       "    }\n",
       "</style>\n",
       "<table border=\"1\" class=\"dataframe\">\n",
       "  <thead>\n",
       "    <tr style=\"text-align: right;\">\n",
       "      <th>sentiment</th>\n",
       "      <th>-1</th>\n",
       "      <th>0</th>\n",
       "      <th>1</th>\n",
       "      <th>2</th>\n",
       "    </tr>\n",
       "  </thead>\n",
       "  <tbody>\n",
       "    <tr>\n",
       "      <th>count</th>\n",
       "      <td>1296.000000</td>\n",
       "      <td>2353.000000</td>\n",
       "      <td>8530.000000</td>\n",
       "      <td>3640.000000</td>\n",
       "    </tr>\n",
       "    <tr>\n",
       "      <th>mean</th>\n",
       "      <td>1.071759</td>\n",
       "      <td>0.937527</td>\n",
       "      <td>0.998828</td>\n",
       "      <td>0.747253</td>\n",
       "    </tr>\n",
       "    <tr>\n",
       "      <th>std</th>\n",
       "      <td>0.839344</td>\n",
       "      <td>0.875259</td>\n",
       "      <td>0.726206</td>\n",
       "      <td>0.674074</td>\n",
       "    </tr>\n",
       "    <tr>\n",
       "      <th>min</th>\n",
       "      <td>0.000000</td>\n",
       "      <td>0.000000</td>\n",
       "      <td>0.000000</td>\n",
       "      <td>0.000000</td>\n",
       "    </tr>\n",
       "    <tr>\n",
       "      <th>25%</th>\n",
       "      <td>1.000000</td>\n",
       "      <td>0.000000</td>\n",
       "      <td>1.000000</td>\n",
       "      <td>0.000000</td>\n",
       "    </tr>\n",
       "    <tr>\n",
       "      <th>50%</th>\n",
       "      <td>1.000000</td>\n",
       "      <td>1.000000</td>\n",
       "      <td>1.000000</td>\n",
       "      <td>1.000000</td>\n",
       "    </tr>\n",
       "    <tr>\n",
       "      <th>75%</th>\n",
       "      <td>1.000000</td>\n",
       "      <td>1.000000</td>\n",
       "      <td>1.000000</td>\n",
       "      <td>1.000000</td>\n",
       "    </tr>\n",
       "    <tr>\n",
       "      <th>max</th>\n",
       "      <td>6.000000</td>\n",
       "      <td>7.000000</td>\n",
       "      <td>7.000000</td>\n",
       "      <td>6.000000</td>\n",
       "    </tr>\n",
       "  </tbody>\n",
       "</table>\n",
       "</div>"
      ],
      "text/plain": [
       "sentiment           -1            0            1            2\n",
       "count      1296.000000  2353.000000  8530.000000  3640.000000\n",
       "mean          1.071759     0.937527     0.998828     0.747253\n",
       "std           0.839344     0.875259     0.726206     0.674074\n",
       "min           0.000000     0.000000     0.000000     0.000000\n",
       "25%           1.000000     0.000000     1.000000     0.000000\n",
       "50%           1.000000     1.000000     1.000000     1.000000\n",
       "75%           1.000000     1.000000     1.000000     1.000000\n",
       "max           6.000000     7.000000     7.000000     6.000000"
      ]
     },
     "execution_count": 30,
     "metadata": {},
     "output_type": "execute_result"
    }
   ],
   "source": [
    "# Descriptive statistics for tweet word count per sentiment class\n",
    "df_train.groupby('sentiment')['mentions_count'].describe().T"
   ]
  },
  {
   "cell_type": "code",
   "execution_count": 31,
   "id": "2fb74182",
   "metadata": {},
   "outputs": [
    {
     "data": {
      "text/plain": [
       "Text(0.5, 0, 'tweet length')"
      ]
     },
     "execution_count": 31,
     "metadata": {},
     "output_type": "execute_result"
    },
    {
     "data": {
      "image/png": "[encoded data removed]",
      "text/plain": [
       "<Figure size 432x288 with 1 Axes>"
      ]
     },
     "metadata": {
      "needs_background": "light"
     },
     "output_type": "display_data"
    },
    {
     "data": {
      "image/png": "[encoded data removed]",
      "text/plain": [
       "<Figure size 432x288 with 1 Axes>"
      ]
     },
     "metadata": {
      "needs_background": "light"
     },
     "output_type": "display_data"
    },
    {
     "data": {
      "image/png": "[encoded data removed]",
      "text/plain": [
       "<Figure size 432x288 with 1 Axes>"
      ]
     },
     "metadata": {
      "needs_background": "light"
     },
     "output_type": "display_data"
    },
    {
     "data": {
      "image/png": "[encoded data removed]",
      "text/plain": [
       "<Figure size 432x288 with 1 Axes>"
      ]
     },
     "metadata": {
      "needs_background": "light"
     },
     "output_type": "display_data"
    }
   ],
   "source": [
    "# plot relevant feature interactions\n",
    "\n",
    "# tweet length histogram\n",
    "df_train.groupby('sentiment')['tweet_length'].hist(by=df_train['sentiment'], color = 'purple')\n",
    "plt.ylabel('count')\n",
    "plt.xlabel('tweet length')"
   ]
  },
  {
   "cell_type": "code",
   "execution_count": 32,
   "id": "e9b621c8",
   "metadata": {},
   "outputs": [
    {
     "data": {
      "text/plain": [
       "Text(0.5, 0, 'tweet length')"
      ]
     },
     "execution_count": 32,
     "metadata": {},
     "output_type": "execute_result"
    },
    {
     "data": {
      "image/png": "[encoded data removed]",
      "text/plain": [
       "<Figure size 432x288 with 1 Axes>"
      ]
     },
     "metadata": {
      "needs_background": "light"
     },
     "output_type": "display_data"
    },
    {
     "data": {
      "image/png": "[encoded data removed]",
      "text/plain": [
       "<Figure size 432x288 with 1 Axes>"
      ]
     },
     "metadata": {
      "needs_background": "light"
     },
     "output_type": "display_data"
    },
    {
     "data": {
      "image/png": "[encoded data removed]",
      "text/plain": [
       "<Figure size 432x288 with 1 Axes>"
      ]
     },
     "metadata": {
      "needs_background": "light"
     },
     "output_type": "display_data"
    },
    {
     "data": {
      "image/png": "[encoded data removed]",
      "text/plain": [
       "<Figure size 432x288 with 1 Axes>"
      ]
     },
     "metadata": {
      "needs_background": "light"
     },
     "output_type": "display_data"
    }
   ],
   "source": [
    "# tweet word count histogram\n",
    "df_train.groupby('sentiment')['tweet_word_count'].hist(by=df_train['sentiment'], color = 'green')\n",
    "plt.ylabel('count')\n",
    "plt.xlabel('tweet length')"
   ]
  },
  {
   "cell_type": "code",
   "execution_count": 33,
   "id": "17b82b45",
   "metadata": {},
   "outputs": [],
   "source": [
    "# Message Preprocessing\n",
    "\n",
    "def clean_text_two(text):\n",
    "    #text = str(text)\n",
    "    text = re.sub('[\\d-]', '', text) #remove any numbers\n",
    "    text = re.sub(r'RT', '', text) #remove the retweets\n",
    "    return text"
   ]
  },
  {
   "cell_type": "code",
   "execution_count": 34,
   "id": "2891c50e",
   "metadata": {},
   "outputs": [
    {
     "data": {
      "text/html": [
       "<div>\n",
       "<style scoped>\n",
       "    .dataframe tbody tr th:only-of-type {\n",
       "        vertical-align: middle;\n",
       "    }\n",
       "\n",
       "    .dataframe tbody tr th {\n",
       "        vertical-align: top;\n",
       "    }\n",
       "\n",
       "    .dataframe thead th {\n",
       "        text-align: right;\n",
       "    }\n",
       "</style>\n",
       "<table border=\"1\" class=\"dataframe\">\n",
       "  <thead>\n",
       "    <tr style=\"text-align: right;\">\n",
       "      <th></th>\n",
       "      <th>sentiment</th>\n",
       "      <th>message</th>\n",
       "      <th>tweet_length</th>\n",
       "      <th>hashtag_count</th>\n",
       "      <th>RT_count</th>\n",
       "      <th>punc_count</th>\n",
       "      <th>tweet_word_count</th>\n",
       "      <th>mentions_count</th>\n",
       "    </tr>\n",
       "  </thead>\n",
       "  <tbody>\n",
       "    <tr>\n",
       "      <th>0</th>\n",
       "      <td>1</td>\n",
       "      <td>PolySciMajor EPA chief doesn't think carbon di...</td>\n",
       "      <td>121</td>\n",
       "      <td>0</td>\n",
       "      <td>0</td>\n",
       "      <td>2</td>\n",
       "      <td>19</td>\n",
       "      <td>1</td>\n",
       "    </tr>\n",
       "    <tr>\n",
       "      <th>1</th>\n",
       "      <td>1</td>\n",
       "      <td>It's not like we lack evidence of anthropogeni...</td>\n",
       "      <td>62</td>\n",
       "      <td>0</td>\n",
       "      <td>0</td>\n",
       "      <td>0</td>\n",
       "      <td>10</td>\n",
       "      <td>0</td>\n",
       "    </tr>\n",
       "    <tr>\n",
       "      <th>2</th>\n",
       "      <td>2</td>\n",
       "      <td>@RawStory: Researchers say we have three year...</td>\n",
       "      <td>94</td>\n",
       "      <td>0</td>\n",
       "      <td>1</td>\n",
       "      <td>0</td>\n",
       "      <td>18</td>\n",
       "      <td>1</td>\n",
       "    </tr>\n",
       "    <tr>\n",
       "      <th>3</th>\n",
       "      <td>1</td>\n",
       "      <td>#TodayinMaker# WIRED :  was a pivotal year in ...</td>\n",
       "      <td>80</td>\n",
       "      <td>2</td>\n",
       "      <td>0</td>\n",
       "      <td>0</td>\n",
       "      <td>15</td>\n",
       "      <td>0</td>\n",
       "    </tr>\n",
       "    <tr>\n",
       "      <th>4</th>\n",
       "      <td>1</td>\n",
       "      <td>@SoyNovioDeTodas: It's , and a racist, sexist...</td>\n",
       "      <td>103</td>\n",
       "      <td>1</td>\n",
       "      <td>1</td>\n",
       "      <td>0</td>\n",
       "      <td>17</td>\n",
       "      <td>1</td>\n",
       "    </tr>\n",
       "  </tbody>\n",
       "</table>\n",
       "</div>"
      ],
      "text/plain": [
       "   sentiment                                            message  tweet_length  \\\n",
       "0          1  PolySciMajor EPA chief doesn't think carbon di...           121   \n",
       "1          1  It's not like we lack evidence of anthropogeni...            62   \n",
       "2          2   @RawStory: Researchers say we have three year...            94   \n",
       "3          1  #TodayinMaker# WIRED :  was a pivotal year in ...            80   \n",
       "4          1   @SoyNovioDeTodas: It's , and a racist, sexist...           103   \n",
       "\n",
       "   hashtag_count  RT_count  punc_count  tweet_word_count  mentions_count  \n",
       "0              0         0           2                19               1  \n",
       "1              0         0           0                10               0  \n",
       "2              0         1           0                18               1  \n",
       "3              2         0           0                15               0  \n",
       "4              1         1           0                17               1  "
      ]
     },
     "execution_count": 34,
     "metadata": {},
     "output_type": "execute_result"
    }
   ],
   "source": [
    "# apply text cleaning two\n",
    "df_train['message'] = df_train['message'].apply(clean_text_two)\n",
    "df_train.head()"
   ]
  },
  {
   "cell_type": "code",
   "execution_count": 35,
   "id": "2efbbba1",
   "metadata": {},
   "outputs": [],
   "source": [
    "# Tokenize, Lemmatize, Stopwords\n",
    "\n",
    "tokenizer = nltk.RegexpTokenizer(r\"\\w+\")\n",
    "lemmatizer = WordNetLemmatizer()\n",
    "stopwords = stopwords.words('english')\n",
    "\n",
    "def message_to_token(s):\n",
    "    tokens = tokenizer.tokenize(s)\n",
    "    lower_cased_tokens = [t.lower() for t in tokens]\n",
    "    lemmatized_tokens = [lemmatizer.lemmatize(t) for t in lower_cased_tokens]\n",
    "    useful_tokens = [t for t in lemmatized_tokens if t not in stopwords]\n",
    "    return useful_tokens"
   ]
  },
  {
   "cell_type": "code",
   "execution_count": 36,
   "id": "88400cb5",
   "metadata": {},
   "outputs": [
    {
     "data": {
      "text/html": [
       "<div>\n",
       "<style scoped>\n",
       "    .dataframe tbody tr th:only-of-type {\n",
       "        vertical-align: middle;\n",
       "    }\n",
       "\n",
       "    .dataframe tbody tr th {\n",
       "        vertical-align: top;\n",
       "    }\n",
       "\n",
       "    .dataframe thead th {\n",
       "        text-align: right;\n",
       "    }\n",
       "</style>\n",
       "<table border=\"1\" class=\"dataframe\">\n",
       "  <thead>\n",
       "    <tr style=\"text-align: right;\">\n",
       "      <th></th>\n",
       "      <th>sentiment</th>\n",
       "      <th>message</th>\n",
       "      <th>tweet_length</th>\n",
       "      <th>hashtag_count</th>\n",
       "      <th>RT_count</th>\n",
       "      <th>punc_count</th>\n",
       "      <th>tweet_word_count</th>\n",
       "      <th>mentions_count</th>\n",
       "    </tr>\n",
       "  </thead>\n",
       "  <tbody>\n",
       "    <tr>\n",
       "      <th>0</th>\n",
       "      <td>1</td>\n",
       "      <td>polyscimajor epa chief think carbon dioxide ma...</td>\n",
       "      <td>121</td>\n",
       "      <td>0</td>\n",
       "      <td>0</td>\n",
       "      <td>2</td>\n",
       "      <td>19</td>\n",
       "      <td>1</td>\n",
       "    </tr>\n",
       "    <tr>\n",
       "      <th>1</th>\n",
       "      <td>1</td>\n",
       "      <td>like lack evidence anthropogenic global warming</td>\n",
       "      <td>62</td>\n",
       "      <td>0</td>\n",
       "      <td>0</td>\n",
       "      <td>0</td>\n",
       "      <td>10</td>\n",
       "      <td>0</td>\n",
       "    </tr>\n",
       "    <tr>\n",
       "      <th>2</th>\n",
       "      <td>2</td>\n",
       "      <td>rawstory researcher say three year act climate...</td>\n",
       "      <td>94</td>\n",
       "      <td>0</td>\n",
       "      <td>1</td>\n",
       "      <td>0</td>\n",
       "      <td>18</td>\n",
       "      <td>1</td>\n",
       "    </tr>\n",
       "    <tr>\n",
       "      <th>3</th>\n",
       "      <td>1</td>\n",
       "      <td>todayinmaker wired wa pivotal year war climate...</td>\n",
       "      <td>80</td>\n",
       "      <td>2</td>\n",
       "      <td>0</td>\n",
       "      <td>0</td>\n",
       "      <td>15</td>\n",
       "      <td>0</td>\n",
       "    </tr>\n",
       "    <tr>\n",
       "      <th>4</th>\n",
       "      <td>1</td>\n",
       "      <td>soynoviodetodas racist sexist climate change d...</td>\n",
       "      <td>103</td>\n",
       "      <td>1</td>\n",
       "      <td>1</td>\n",
       "      <td>0</td>\n",
       "      <td>17</td>\n",
       "      <td>1</td>\n",
       "    </tr>\n",
       "  </tbody>\n",
       "</table>\n",
       "</div>"
      ],
      "text/plain": [
       "   sentiment                                            message  tweet_length  \\\n",
       "0          1  polyscimajor epa chief think carbon dioxide ma...           121   \n",
       "1          1    like lack evidence anthropogenic global warming            62   \n",
       "2          2  rawstory researcher say three year act climate...            94   \n",
       "3          1  todayinmaker wired wa pivotal year war climate...            80   \n",
       "4          1  soynoviodetodas racist sexist climate change d...           103   \n",
       "\n",
       "   hashtag_count  RT_count  punc_count  tweet_word_count  mentions_count  \n",
       "0              0         0           2                19               1  \n",
       "1              0         0           0                10               0  \n",
       "2              0         1           0                18               1  \n",
       "3              2         0           0                15               0  \n",
       "4              1         1           0                17               1  "
      ]
     },
     "execution_count": 36,
     "metadata": {},
     "output_type": "execute_result"
    }
   ],
   "source": [
    "df_train['message'] = df_train['message'].apply(message_to_token)\n",
    "df_train['message']= df_train['message'].apply(lambda x: \" \".join(x))\n",
    "df_train.head()"
   ]
  },
  {
   "cell_type": "code",
   "execution_count": 37,
   "id": "3454e17d",
   "metadata": {},
   "outputs": [
    {
     "data": {
      "text/plain": [
       "sentiment            int64\n",
       "message             object\n",
       "tweet_length         int64\n",
       "hashtag_count        int64\n",
       "RT_count             int64\n",
       "punc_count           int64\n",
       "tweet_word_count     int64\n",
       "mentions_count       int64\n",
       "dtype: object"
      ]
     },
     "execution_count": 37,
     "metadata": {},
     "output_type": "execute_result"
    }
   ],
   "source": [
    "df_train.dtypes"
   ]
  },
  {
   "cell_type": "code",
   "execution_count": 38,
   "id": "bb10bc23",
   "metadata": {},
   "outputs": [
    {
     "data": {
      "text/plain": [
       "sentiment            0.122976\n",
       "tweet_length         0.166845\n",
       "hashtag_count       18.935808\n",
       "RT_count            -1.799091\n",
       "punc_count          67.595762\n",
       "tweet_word_count    -0.072091\n",
       "mentions_count       5.621192\n",
       "dtype: float64"
      ]
     },
     "execution_count": 38,
     "metadata": {},
     "output_type": "execute_result"
    }
   ],
   "source": [
    "# Check for outliers: Values>3 indicate large outliers \n",
    "\n",
    "df_num = df_train.drop(['message'], axis = 1)\n",
    "df_num.kurtosis() "
   ]
  },
  {
   "cell_type": "code",
   "execution_count": 39,
   "id": "85d20c4a",
   "metadata": {},
   "outputs": [
    {
     "data": {
      "text/plain": [
       "Text(0.5, 1.0, 'Boxplot: Hashtag Count')"
      ]
     },
     "execution_count": 39,
     "metadata": {},
     "output_type": "execute_result"
    },
    {
     "data": {
      "image/png": "[encoded data removed]",
      "text/plain": [
       "<Figure size 432x288 with 1 Axes>"
      ]
     },
     "metadata": {
      "needs_background": "light"
     },
     "output_type": "display_data"
    }
   ],
   "source": [
    "# Check boxplots for outlier values\n",
    "\n",
    "sns.boxplot(x='hashtag_count', data=df_train)\n",
    "plt.title('Boxplot: Hashtag Count')\n"
   ]
  },
  {
   "cell_type": "code",
   "execution_count": 40,
   "id": "7a899415",
   "metadata": {},
   "outputs": [
    {
     "data": {
      "text/plain": [
       "Text(0.5, 1.0, 'Boxplot: Punctuation Count')"
      ]
     },
     "execution_count": 40,
     "metadata": {},
     "output_type": "execute_result"
    },
    {
     "data": {
      "image/png": "[encoded data removed]",
      "text/plain": [
       "<Figure size 432x288 with 1 Axes>"
      ]
     },
     "metadata": {
      "needs_background": "light"
     },
     "output_type": "display_data"
    }
   ],
   "source": [
    "sns.boxplot(x='punc_count', data=df_train)\n",
    "plt.title('Boxplot: Punctuation Count')"
   ]
  },
  {
   "cell_type": "code",
   "execution_count": 41,
   "id": "31438bd0",
   "metadata": {},
   "outputs": [
    {
     "data": {
      "text/plain": [
       "Text(0.5, 1.0, 'Boxplot: Mentions Count')"
      ]
     },
     "execution_count": 41,
     "metadata": {},
     "output_type": "execute_result"
    },
    {
     "data": {
      "image/png": "[encoded data removed]",
      "text/plain": [
       "<Figure size 432x288 with 1 Axes>"
      ]
     },
     "metadata": {
      "needs_background": "light"
     },
     "output_type": "display_data"
    }
   ],
   "source": [
    "sns.boxplot(x='mentions_count', data=df_train)\n",
    "plt.title('Boxplot: Mentions Count')"
   ]
  },
  {
   "cell_type": "code",
   "execution_count": 42,
   "id": "57e37548",
   "metadata": {},
   "outputs": [
    {
     "data": {
      "text/plain": [
       "<seaborn.axisgrid.PairGrid at 0x1c0d15d2490>"
      ]
     },
     "execution_count": 42,
     "metadata": {},
     "output_type": "execute_result"
    },
    {
     "data": {
      "image/png": "[encoded data removed]",
      "text/plain": [
       "<Figure size 1260x1260 with 56 Axes>"
      ]
     },
     "metadata": {
      "needs_background": "light"
     },
     "output_type": "display_data"
    }
   ],
   "source": [
    "# feature interactions\n",
    "sns.pairplot(df_train[['sentiment','tweet_length','hashtag_count','RT_count','punc_count','tweet_word_count','mentions_count']],diag_kind='kde')"
   ]
  },
  {
   "cell_type": "markdown",
   "id": "9ee3cca7",
   "metadata": {},
   "source": [
    "#### Findings\n",
    "\n",
    "Tweet length and Tweet word count is correlated which would be expected as one is a function of the other. One of the variables can be dropped due to the correlation. \n",
    "\n",
    "No material outliers found in the analysis."
   ]
  },
  {
   "cell_type": "code",
   "execution_count": 43,
   "id": "6dd6ee8c",
   "metadata": {},
   "outputs": [
    {
     "data": {
      "text/html": [
       "<div>\n",
       "<style scoped>\n",
       "    .dataframe tbody tr th:only-of-type {\n",
       "        vertical-align: middle;\n",
       "    }\n",
       "\n",
       "    .dataframe tbody tr th {\n",
       "        vertical-align: top;\n",
       "    }\n",
       "\n",
       "    .dataframe thead th {\n",
       "        text-align: right;\n",
       "    }\n",
       "</style>\n",
       "<table border=\"1\" class=\"dataframe\">\n",
       "  <thead>\n",
       "    <tr style=\"text-align: right;\">\n",
       "      <th></th>\n",
       "      <th>sentiment</th>\n",
       "      <th>tweet_length</th>\n",
       "      <th>hashtag_count</th>\n",
       "      <th>RT_count</th>\n",
       "      <th>punc_count</th>\n",
       "      <th>tweet_word_count</th>\n",
       "      <th>mentions_count</th>\n",
       "    </tr>\n",
       "  </thead>\n",
       "  <tbody>\n",
       "    <tr>\n",
       "      <th>sentiment</th>\n",
       "      <td>1.000000</td>\n",
       "      <td>-0.128002</td>\n",
       "      <td>0.036509</td>\n",
       "      <td>0.074389</td>\n",
       "      <td>-0.129680</td>\n",
       "      <td>-0.138936</td>\n",
       "      <td>-0.103909</td>\n",
       "    </tr>\n",
       "    <tr>\n",
       "      <th>tweet_length</th>\n",
       "      <td>-0.128002</td>\n",
       "      <td>1.000000</td>\n",
       "      <td>0.079693</td>\n",
       "      <td>0.128583</td>\n",
       "      <td>0.128397</td>\n",
       "      <td>0.880954</td>\n",
       "      <td>0.209489</td>\n",
       "    </tr>\n",
       "    <tr>\n",
       "      <th>hashtag_count</th>\n",
       "      <td>0.036509</td>\n",
       "      <td>0.079693</td>\n",
       "      <td>1.000000</td>\n",
       "      <td>-0.018445</td>\n",
       "      <td>-0.060955</td>\n",
       "      <td>-0.059771</td>\n",
       "      <td>-0.017948</td>\n",
       "    </tr>\n",
       "    <tr>\n",
       "      <th>RT_count</th>\n",
       "      <td>0.074389</td>\n",
       "      <td>0.128583</td>\n",
       "      <td>-0.018445</td>\n",
       "      <td>1.000000</td>\n",
       "      <td>0.002632</td>\n",
       "      <td>0.193688</td>\n",
       "      <td>0.454681</td>\n",
       "    </tr>\n",
       "    <tr>\n",
       "      <th>punc_count</th>\n",
       "      <td>-0.129680</td>\n",
       "      <td>0.128397</td>\n",
       "      <td>-0.060955</td>\n",
       "      <td>0.002632</td>\n",
       "      <td>1.000000</td>\n",
       "      <td>0.119963</td>\n",
       "      <td>0.014608</td>\n",
       "    </tr>\n",
       "    <tr>\n",
       "      <th>tweet_word_count</th>\n",
       "      <td>-0.138936</td>\n",
       "      <td>0.880954</td>\n",
       "      <td>-0.059771</td>\n",
       "      <td>0.193688</td>\n",
       "      <td>0.119963</td>\n",
       "      <td>1.000000</td>\n",
       "      <td>0.102549</td>\n",
       "    </tr>\n",
       "    <tr>\n",
       "      <th>mentions_count</th>\n",
       "      <td>-0.103909</td>\n",
       "      <td>0.209489</td>\n",
       "      <td>-0.017948</td>\n",
       "      <td>0.454681</td>\n",
       "      <td>0.014608</td>\n",
       "      <td>0.102549</td>\n",
       "      <td>1.000000</td>\n",
       "    </tr>\n",
       "  </tbody>\n",
       "</table>\n",
       "</div>"
      ],
      "text/plain": [
       "                  sentiment  tweet_length  hashtag_count  RT_count  \\\n",
       "sentiment          1.000000     -0.128002       0.036509  0.074389   \n",
       "tweet_length      -0.128002      1.000000       0.079693  0.128583   \n",
       "hashtag_count      0.036509      0.079693       1.000000 -0.018445   \n",
       "RT_count           0.074389      0.128583      -0.018445  1.000000   \n",
       "punc_count        -0.129680      0.128397      -0.060955  0.002632   \n",
       "tweet_word_count  -0.138936      0.880954      -0.059771  0.193688   \n",
       "mentions_count    -0.103909      0.209489      -0.017948  0.454681   \n",
       "\n",
       "                  punc_count  tweet_word_count  mentions_count  \n",
       "sentiment          -0.129680         -0.138936       -0.103909  \n",
       "tweet_length        0.128397          0.880954        0.209489  \n",
       "hashtag_count      -0.060955         -0.059771       -0.017948  \n",
       "RT_count            0.002632          0.193688        0.454681  \n",
       "punc_count          1.000000          0.119963        0.014608  \n",
       "tweet_word_count    0.119963          1.000000        0.102549  \n",
       "mentions_count      0.014608          0.102549        1.000000  "
      ]
     },
     "execution_count": 43,
     "metadata": {},
     "output_type": "execute_result"
    }
   ],
   "source": [
    "# evaluate correlation\n",
    "\n",
    "df_num = df_train.drop(['message'], axis = 1)\n",
    "df_num.corr()"
   ]
  },
  {
   "cell_type": "code",
   "execution_count": 44,
   "id": "85f1dae0",
   "metadata": {},
   "outputs": [
    {
     "data": {
      "image/png": "[encoded data removed]",
      "text/plain": [
       "<Figure size 504x504 with 1 Axes>"
      ]
     },
     "metadata": {
      "needs_background": "light"
     },
     "output_type": "display_data"
    }
   ],
   "source": [
    "# Correlation Heatmap\n",
    "\n",
    "fig = plt.figure(figsize=(7,7));\n",
    "ax = fig.add_subplot(111);\n",
    "plot_corr(df_num.corr(), xnames = df_num.corr().columns, ax = ax);"
   ]
  },
  {
   "cell_type": "markdown",
   "id": "ff79fa8c",
   "metadata": {},
   "source": [
    "#### Findings:\n",
    "\n",
    "The features **tweet_length, punc_count, tweet_word_count, mentions_count** have stronger correlation with **sentiment** than **hashtag_count** and **RT_count**. However, the correlations are weak (less than 0.5). This means it may not provide much predictability to the model.\n"
   ]
  },
  {
   "cell_type": "markdown",
   "id": "3fa93ec6",
   "metadata": {},
   "source": [
    "<a id=\"four\"></a>\n",
    "## 4. Data Engineering\n",
    "<a class=\"anchor\" id=\"1.1\"></a>\n",
    "<a href=#cont>Back to Table of Contents</a>\n",
    "\n",
    "---\n",
    "    \n",
    "| ⚡ Description: Data engineering ⚡ |\n",
    "| :--------------------------- |\n",
    "| In this section you are required to: clean the dataset, and possibly create new features - as identified in the EDA phase. |\n",
    "\n",
    "---"
   ]
  },
  {
   "cell_type": "markdown",
   "id": "7980b209",
   "metadata": {},
   "source": [
    "#### See above for new features engineered i.e. tweet_length, punc_count, tweet_word_count, mentions_count, hashtag_count, RT_count\n",
    "#### Once the new features where included in the modelling it did not provide better results and were consequently removed."
   ]
  },
  {
   "cell_type": "code",
   "execution_count": 45,
   "id": "e5b3389c",
   "metadata": {},
   "outputs": [
    {
     "data": {
      "text/html": [
       "<div>\n",
       "<style scoped>\n",
       "    .dataframe tbody tr th:only-of-type {\n",
       "        vertical-align: middle;\n",
       "    }\n",
       "\n",
       "    .dataframe tbody tr th {\n",
       "        vertical-align: top;\n",
       "    }\n",
       "\n",
       "    .dataframe thead th {\n",
       "        text-align: right;\n",
       "    }\n",
       "</style>\n",
       "<table border=\"1\" class=\"dataframe\">\n",
       "  <thead>\n",
       "    <tr style=\"text-align: right;\">\n",
       "      <th></th>\n",
       "      <th>message</th>\n",
       "      <th>tweetid</th>\n",
       "    </tr>\n",
       "  </thead>\n",
       "  <tbody>\n",
       "    <tr>\n",
       "      <th>0</th>\n",
       "      <td>europe looking china make sure alone fighting ...</td>\n",
       "      <td>169760</td>\n",
       "    </tr>\n",
       "    <tr>\n",
       "      <th>1</th>\n",
       "      <td>combine polling staffer climate change woman r...</td>\n",
       "      <td>35326</td>\n",
       "    </tr>\n",
       "    <tr>\n",
       "      <th>2</th>\n",
       "      <td>scary unimpeachable evidence climate change al...</td>\n",
       "      <td>224985</td>\n",
       "    </tr>\n",
       "    <tr>\n",
       "      <th>3</th>\n",
       "      <td>karoli morgfair osborneink dailykos putin got ...</td>\n",
       "      <td>476263</td>\n",
       "    </tr>\n",
       "    <tr>\n",
       "      <th>4</th>\n",
       "      <td>fakewillmoore female orgasm cause global warmi...</td>\n",
       "      <td>872928</td>\n",
       "    </tr>\n",
       "  </tbody>\n",
       "</table>\n",
       "</div>"
      ],
      "text/plain": [
       "                                             message  tweetid\n",
       "0  europe looking china make sure alone fighting ...   169760\n",
       "1  combine polling staffer climate change woman r...    35326\n",
       "2  scary unimpeachable evidence climate change al...   224985\n",
       "3  karoli morgfair osborneink dailykos putin got ...   476263\n",
       "4  fakewillmoore female orgasm cause global warmi...   872928"
      ]
     },
     "execution_count": 45,
     "metadata": {},
     "output_type": "execute_result"
    }
   ],
   "source": [
    "# Transform Test Data\n",
    "\n",
    "df_test['message'] = df_test['message'].apply(clean_http)\n",
    "df_test['message'] = df_test['message'].apply(clean_text_two)\n",
    "df_test['message'] = df_test['message'].apply(message_to_token)\n",
    "df_test['message'] = df_test['message'].apply(lambda x: \" \".join(x))\n",
    "df_test.head()"
   ]
  },
  {
   "cell_type": "markdown",
   "id": "43b2d523",
   "metadata": {},
   "source": [
    "<a id=\"five\"></a>\n",
    "## 5. Modelling\n",
    "<a class=\"anchor\" id=\"1.1\"></a>\n",
    "<a href=#cont>Back to Table of Contents</a>\n",
    "\n",
    "---\n",
    "    \n",
    "| ⚡ Description: Modelling ⚡ |\n",
    "| :--------------------------- |\n",
    "| In this section, you are required to create one or more regression models that are able to accurately predict the thee hour load shortfall. |\n",
    "\n",
    "---"
   ]
  },
  {
   "cell_type": "code",
   "execution_count": 155,
   "id": "20d073e0",
   "metadata": {},
   "outputs": [],
   "source": [
    "# Vectorizer Function\n",
    "\n",
    "def vectorize_data(data, test):\n",
    "    vectorizer = CountVectorizer(ngram_range = (1,2)) \n",
    "    \n",
    "    # Below vectorizers or tunings did not yield better results\n",
    "    #----------------------------------------------------------------------------------\n",
    "    #vectorizer = CountVectorizer() \n",
    "    #vectorizer = TfidfVectorizer() \n",
    "    #vectorizer = TfidfVectorizer(ngram_range = (1,2), max_df = 0.5)\n",
    "    #vectorizer = TfidfVectorizer(min_df = 0.0001, max_features = 600)\n",
    "    #----------------------------------------------------------------------------------\n",
    "    \n",
    "    vector_data = vectorizer.fit_transform(data)\n",
    "    test_data = vectorizer.transform(test)\n",
    "    return vector_data, vectorizer, test_data"
   ]
  },
  {
   "cell_type": "code",
   "execution_count": 156,
   "id": "3e4f60d3",
   "metadata": {},
   "outputs": [
    {
     "data": {
      "text/plain": [
       "array(['______', '__branman', '__branman global', ...,\n",
       "       '米国政府はある研究者に連絡して 申請書のアブストラクトに', 'ｎｈｋラジオ英会話', 'ｎｈｋラジオ英会話 より'],\n",
       "      dtype=object)"
      ]
     },
     "execution_count": 156,
     "metadata": {},
     "output_type": "execute_result"
    }
   ],
   "source": [
    "# Vectorize train data and get feature names\n",
    "\n",
    "train_data, vectorizer, test_arr = vectorize_data(df_train['message'], df_test['message'])\n",
    "\n",
    "feature_names = vectorizer.get_feature_names_out()  \n",
    "feature_names\n"
   ]
  },
  {
   "cell_type": "code",
   "execution_count": 157,
   "id": "9ec263f6",
   "metadata": {},
   "outputs": [
    {
     "data": {
      "text/plain": [
       "(15819, 105163)"
      ]
     },
     "execution_count": 157,
     "metadata": {},
     "output_type": "execute_result"
    }
   ],
   "source": [
    "# Split into X and y matix\n",
    "\n",
    "y = df_train[['sentiment']]\n",
    "X = train_data\n",
    "X.shape"
   ]
  },
  {
   "cell_type": "code",
   "execution_count": 49,
   "id": "60e001b0",
   "metadata": {},
   "outputs": [],
   "source": [
    "#splitting into Train and Validation sets\n",
    "\n",
    "from imblearn.over_sampling import SMOTE\n",
    "from imblearn.combine import SMOTEENN\n",
    "from imblearn.over_sampling import BorderlineSMOTE\n",
    "from imblearn.over_sampling import SVMSMOTE\n",
    "from imblearn.over_sampling import RandomOverSampler\n",
    "from imblearn.over_sampling import KMeansSMOTE\n",
    "from imblearn.combine import SMOTETomek\n",
    "\n",
    "def split_data(X_data, y_data):\n",
    "    \n",
    "    X_train_s, X_valid_s, y_train_s, y_valid_s = train_test_split(X_data, y_data, test_size=0.20, random_state=42) \n",
    "    \n",
    "    # Below sampling methods did not yield better results\n",
    "    #---------------------------------------------------------------------------------------------\n",
    "    #sampling = RandomOverSampler(random_state = 42, sampling_strategy='minority')\n",
    "    #sampling = RandomOverSampler(random_state = 42)\n",
    "    #sampling = ADASYN(random_state = 42, sampling_strategy='minority')\n",
    "    #sampling = SMOTETomek(random_state = 42, sampling_strategy='minority')\n",
    "    #sampling = SMOTE(random_state = 42, sampling_strategy='minority')\n",
    "    #sampling = SMOTEENN(random_state = 42, sampling_strategy='minority')\n",
    "    #sampling = BorderlineSMOTE(random_state = 42, sampling_strategy='minority')\n",
    "    #sampling = SVMSMOTE(random_state = 42, sampling_strategy='minority')\n",
    "    \n",
    "    #sampling = RandomOverSampler(random_state = 42, sampling_strategy='not majority')\n",
    "    \n",
    "    #X_train_s, y_train_s = sampling.fit_resample(X_train_s, y_train_s)\n",
    "    #----------------------------------------------------------------------------------------------\n",
    "    \n",
    "    return X_train_s, X_valid_s, y_train_s, y_valid_s"
   ]
  },
  {
   "cell_type": "code",
   "execution_count": 158,
   "id": "cf22f9c0",
   "metadata": {},
   "outputs": [],
   "source": [
    "# Call split function\n",
    "\n",
    "X_train, X_valid, y_train, y_valid = split_data(X,y)\n"
   ]
  },
  {
   "cell_type": "code",
   "execution_count": 159,
   "id": "1dad09b0",
   "metadata": {},
   "outputs": [],
   "source": [
    "## Import the var thresh model and choose a threshold\n",
    "\n",
    "from sklearn.feature_selection import VarianceThreshold\n",
    "\n",
    "selector = VarianceThreshold(threshold=0.0000001)\n",
    "\n",
    "## Transform (i.e.: run selection on) the training data\n",
    "X_train = selector.fit_transform(X_train)\n",
    "\n",
    "\n",
    "## Now we'll need to remove the same features we did in the thresholding process\n",
    "X_valid = selector.transform(X_valid)\n",
    "test_arr = selector.transform(test_arr)\n"
   ]
  },
  {
   "cell_type": "code",
   "execution_count": 137,
   "id": "0e0b4ca8",
   "metadata": {},
   "outputs": [],
   "source": [
    "## Import the feature selector module\n",
    "\n",
    "#from sklearn import feature_selection\n",
    "#from sklearn.feature_selection import f_classif\n",
    "\n",
    "### Set up selector, choosing score function and number of features to retain\n",
    "#selector_kbest = feature_selection.SelectKBest(score_func=f_classif, k=90000)\n",
    "\n",
    "## Transform (i.e.: run selection on) the training data\n",
    "#X_train = selector_kbest.fit_transform(X_train, y_train)\n",
    "\n",
    "## Before generating predictions, we'll need to transform the test data the same way we did the train data\n",
    "#X_valid = selector_kbest.transform(X_valid)\n",
    "#test_arr = selector_kbest.transform(test_arr)\n"
   ]
  },
  {
   "cell_type": "code",
   "execution_count": 160,
   "id": "0acc1ad5",
   "metadata": {},
   "outputs": [
    {
     "data": {
      "text/plain": [
       "(3164, 87827)"
      ]
     },
     "execution_count": 160,
     "metadata": {},
     "output_type": "execute_result"
    }
   ],
   "source": [
    "X_valid.shape"
   ]
  },
  {
   "cell_type": "code",
   "execution_count": 52,
   "id": "ca1b94c0",
   "metadata": {},
   "outputs": [],
   "source": [
    "# Get f1-score\n",
    "\n",
    "def f1_score_calc(y_true, y_pred):\n",
    "    report = classification_report(y_true, y_pred, output_dict=True)\n",
    "    df_report = pd.DataFrame(report)\n",
    "    f1_score_out = df_report.iloc[2:3,4:5]\n",
    "    return f1_score_out"
   ]
  },
  {
   "cell_type": "code",
   "execution_count": 53,
   "id": "289b2061",
   "metadata": {},
   "outputs": [],
   "source": [
    "# Model fitting\n",
    "\n",
    "def fit_model(X_train_fit, y_train_fit, X_valid_fit, model_init):\n",
    "    model_init.fit(X_train_fit, y_train_fit)\n",
    "    predictions = model_init.predict(X_valid_fit)\n",
    "    predictions_train = model_init.predict(X_train_fit)\n",
    "    return predictions, predictions_train \n"
   ]
  },
  {
   "cell_type": "code",
   "execution_count": 76,
   "id": "4f08d66c",
   "metadata": {},
   "outputs": [
    {
     "name": "stdout",
     "output_type": "stream",
     "text": [
      "Model 1: Random Forest Classifier\n"
     ]
    },
    {
     "data": {
      "text/html": [
       "<div>\n",
       "<style scoped>\n",
       "    .dataframe tbody tr th:only-of-type {\n",
       "        vertical-align: middle;\n",
       "    }\n",
       "\n",
       "    .dataframe tbody tr th {\n",
       "        vertical-align: top;\n",
       "    }\n",
       "\n",
       "    .dataframe thead th {\n",
       "        text-align: right;\n",
       "    }\n",
       "</style>\n",
       "<table border=\"1\" class=\"dataframe\">\n",
       "  <thead>\n",
       "    <tr style=\"text-align: right;\">\n",
       "      <th></th>\n",
       "      <th>accuracy</th>\n",
       "    </tr>\n",
       "  </thead>\n",
       "  <tbody>\n",
       "    <tr>\n",
       "      <th>f1-score</th>\n",
       "      <td>0.633059</td>\n",
       "    </tr>\n",
       "  </tbody>\n",
       "</table>\n",
       "</div>"
      ],
      "text/plain": [
       "          accuracy\n",
       "f1-score  0.633059"
      ]
     },
     "execution_count": 76,
     "metadata": {},
     "output_type": "execute_result"
    }
   ],
   "source": [
    "# Model 1: Random Forest Classifier\n",
    "\n",
    "RF_model = RandomForestClassifier(max_depth = 40, random_state=42)\n",
    "y_model_predicts, y_model_predicts_train  = fit_model(X_train, y_train, X_valid, RF_model)\n",
    "print('Model 1: Random Forest Classifier')\n",
    "RF_f1_train = f1_score_calc(y_train, y_model_predicts_train)\n",
    "RF_f1 = f1_score_calc(y_valid, y_model_predicts)\n",
    "RF_f1"
   ]
  },
  {
   "cell_type": "code",
   "execution_count": 77,
   "id": "b6c9a12a",
   "metadata": {},
   "outputs": [
    {
     "name": "stdout",
     "output_type": "stream",
     "text": [
      "              precision    recall  f1-score   support\n",
      "\n",
      "          -1       0.53      0.14      0.22       278\n",
      "           0       0.45      0.27      0.34       425\n",
      "           1       0.67      0.81      0.73      1755\n",
      "           2       0.61      0.61      0.61       706\n",
      "\n",
      "    accuracy                           0.63      3164\n",
      "   macro avg       0.56      0.46      0.47      3164\n",
      "weighted avg       0.61      0.63      0.61      3164\n",
      "\n"
     ]
    }
   ],
   "source": [
    "report = classification_report(y_valid, y_model_predicts)\n",
    "print(report)  "
   ]
  },
  {
   "cell_type": "markdown",
   "id": "fe40542f",
   "metadata": {},
   "source": [
    "#### Findings\n",
    "\n",
    "Random forest has very low F1 scores on smaller sampled -1, 0 and 2 classes.\n",
    "Accuracy on 1 is also very low in comparison to other models. Class imbalance seems to be impacting results\n"
   ]
  },
  {
   "cell_type": "code",
   "execution_count": null,
   "id": "ff57de15",
   "metadata": {},
   "outputs": [],
   "source": [
    "# Results from tuning\n",
    "# 10%,100 = 66   max depth 40\n",
    "# 1%,200 = 68    max depth 40\n",
    "# 0.0005, 400    max depth 40 = 68.7421\n",
    "# 0.0005, 500    max depth 40 = 68.99\n",
    "# 0.0001, 500    max depth 40 = 69.21\n",
    "# 0.0001, 600    max depth 40 = 69.6587\n",
    "# 0.0001, 600    max depth 40 and added features 70.41  ---------------------------------\n",
    "# add feat1 (same as above hp) = 70.25\n",
    "# add feat 2 = 69.97\n",
    "# add feat 3 = 69.94\n",
    "# add feat 4 = 70.1\n",
    "# add feat 5 = 70.32"
   ]
  },
  {
   "cell_type": "code",
   "execution_count": null,
   "id": "726377da",
   "metadata": {},
   "outputs": [],
   "source": [
    "# Model 2: Decision Tree Classifier\n",
    "\n",
    "decision_tree_model = DecisionTreeClassifier(max_depth = 25, random_state=42)\n",
    "y_model_predicts, y_model_predicts_train = fit_model(X_train, y_train, X_valid, decision_tree_model)\n",
    "print('Model 2: Decision Tree Classifier')\n",
    "DT_f1_train = f1_score_calc(y_train, y_model_predicts_train)\n",
    "DT_f1 = f1_score_calc(y_valid, y_model_predicts)\n",
    "DT_f1"
   ]
  },
  {
   "cell_type": "code",
   "execution_count": null,
   "id": "244763da",
   "metadata": {},
   "outputs": [],
   "source": [
    "report = classification_report(y_valid, y_model_predicts)\n",
    "print(report)"
   ]
  },
  {
   "cell_type": "markdown",
   "id": "b6c5a91e",
   "metadata": {},
   "source": [
    "#### Findings\n",
    "On average across the classes the precision is around 63%, which is lower than the Random Forest.\n",
    "Again the smaller sampled classes have lower F1 scores but these are higher than the Random Forest."
   ]
  },
  {
   "cell_type": "code",
   "execution_count": null,
   "id": "18e3d47a",
   "metadata": {},
   "outputs": [],
   "source": [
    "# Results from tuning:\n",
    "# gini, max depth 25 = 65.77  --------------------\n",
    "# added features 63.93\n",
    "# add feat1 = 64.53\n",
    "# add feat 2 = 64.15\n",
    "# add feat 3 = 63.87\n",
    "# add feat 4 = 63.93\n",
    "# add feat 5 = 64.25"
   ]
  },
  {
   "cell_type": "code",
   "execution_count": null,
   "id": "fc03bb3c",
   "metadata": {},
   "outputs": [],
   "source": [
    "# Model 3: Support Vector Machine (SVM)\n",
    "\n",
    "svc = SVC(random_state = 42)\n",
    "y_model_predicts, y_model_predicts_train = fit_model(X_train, y_train, X_valid, svc)\n",
    "print('Model 3: Support Vector Machine (SVM)')\n",
    "SVM_f1_train = f1_score_calc(y_train, y_model_predicts_train)\n",
    "SVM_f1 = f1_score_calc(y_valid, y_model_predicts)\n",
    "SVM_f1"
   ]
  },
  {
   "cell_type": "code",
   "execution_count": null,
   "id": "1e9cc13d",
   "metadata": {},
   "outputs": [],
   "source": [
    "report = classification_report(y_valid, y_model_predicts)\n",
    "print(report)"
   ]
  },
  {
   "cell_type": "markdown",
   "id": "1188e2ef",
   "metadata": {},
   "source": [
    "#### Findings\n",
    "Classes -1 and 0 classified with higher FN rates (recall) implying these were labelled as other classes instead.\n",
    "Class 1 was good with 71% precision and 91% recall (showing low FP and FN). Class imbalance seems to impact the results"
   ]
  },
  {
   "cell_type": "code",
   "execution_count": null,
   "id": "94e44f9e",
   "metadata": {},
   "outputs": [],
   "source": [
    "# Results from tuning:\n",
    "# linear, 70.8913\n",
    "# rbf, 73.0405 default     ----------------------------------\n",
    "# added features  57.86%\n",
    "# add feat1 = 57.64 very long\n",
    "# feat 2 = 57.71\n",
    "# feat 4 = 57.83\n",
    "# all vectors 73.89"
   ]
  },
  {
   "cell_type": "code",
   "execution_count": 154,
   "id": "445ff10f",
   "metadata": {},
   "outputs": [
    {
     "name": "stdout",
     "output_type": "stream",
     "text": [
      "Model 4: Logistic Regression\n"
     ]
    },
    {
     "data": {
      "text/html": [
       "<div>\n",
       "<style scoped>\n",
       "    .dataframe tbody tr th:only-of-type {\n",
       "        vertical-align: middle;\n",
       "    }\n",
       "\n",
       "    .dataframe tbody tr th {\n",
       "        vertical-align: top;\n",
       "    }\n",
       "\n",
       "    .dataframe thead th {\n",
       "        text-align: right;\n",
       "    }\n",
       "</style>\n",
       "<table border=\"1\" class=\"dataframe\">\n",
       "  <thead>\n",
       "    <tr style=\"text-align: right;\">\n",
       "      <th></th>\n",
       "      <th>accuracy</th>\n",
       "    </tr>\n",
       "  </thead>\n",
       "  <tbody>\n",
       "    <tr>\n",
       "      <th>f1-score</th>\n",
       "      <td>0.745259</td>\n",
       "    </tr>\n",
       "  </tbody>\n",
       "</table>\n",
       "</div>"
      ],
      "text/plain": [
       "          accuracy\n",
       "f1-score  0.745259"
      ]
     },
     "execution_count": 154,
     "metadata": {},
     "output_type": "execute_result"
    }
   ],
   "source": [
    "# Model 4: Logistic Regression\n",
    "\n",
    "Log_model = LogisticRegression(solver='liblinear', random_state=42, C = 5.5)\n",
    "y_model_predicts, y_model_predicts_train = fit_model(X_train, y_train, X_valid, Log_model)\n",
    "print('Model 4: Logistic Regression')\n",
    "MLR_f1_train = f1_score_calc(y_train, y_model_predicts_train)\n",
    "MLR_f1 = f1_score_calc(y_valid, y_model_predicts)\n",
    "MLR_f1\n"
   ]
  },
  {
   "cell_type": "code",
   "execution_count": 130,
   "id": "fc7c7cab",
   "metadata": {},
   "outputs": [
    {
     "name": "stdout",
     "output_type": "stream",
     "text": [
      "              precision    recall  f1-score   support\n",
      "\n",
      "          -1       0.78      0.45      0.57       278\n",
      "           0       0.61      0.44      0.51       425\n",
      "           1       0.78      0.87      0.82      1755\n",
      "           2       0.77      0.79      0.78       706\n",
      "\n",
      "    accuracy                           0.76      3164\n",
      "   macro avg       0.74      0.64      0.67      3164\n",
      "weighted avg       0.75      0.76      0.75      3164\n",
      "\n"
     ]
    }
   ],
   "source": [
    "report = classification_report(y_valid, y_model_predicts)\n",
    "print(report)"
   ]
  },
  {
   "cell_type": "markdown",
   "id": "2f4a82c7",
   "metadata": {},
   "source": [
    "#### Findings\n",
    "Classes -1 and 0 classified with higher FN rates (recall) implying these were labelled as other classes instead. However, \n",
    "has faired better than SVM on the lower samples.\n",
    "Class 1 was good with 79% precision and 87% recall (showing low FP and FN). Class imbalance seems to impact the results\n"
   ]
  },
  {
   "cell_type": "code",
   "execution_count": null,
   "id": "09fee111",
   "metadata": {},
   "outputs": [],
   "source": [
    "# Results from tuning:\n",
    "# lbfgs = 71.33  ------------------------\n",
    "# added features 61%\n",
    "# added feat 1 69.02%\n",
    "# added feat 2 67.03\n",
    "# added feat 3 64.44\n",
    "# added feat 4 62.48\n",
    "# added feat 5 59.73\n",
    "# all vectroizers = 73.79"
   ]
  },
  {
   "cell_type": "code",
   "execution_count": null,
   "id": "479cdd5d",
   "metadata": {},
   "outputs": [],
   "source": [
    "# Model 5: Naive Bayes\n",
    "\n",
    "naive_bayes_model = MultinomialNB()\n",
    "y_model_predicts, y_model_predicts_train = fit_model(X_train, y_train, X_valid, naive_bayes_model)\n",
    "print('Model 5: Naive Bayes')\n",
    "NB_f1_train = f1_score_calc(y_train, y_model_predicts_train)\n",
    "NB_f1 = f1_score_calc(y_valid, y_model_predicts)\n",
    "NB_f1"
   ]
  },
  {
   "cell_type": "code",
   "execution_count": null,
   "id": "a66caded",
   "metadata": {},
   "outputs": [],
   "source": [
    "report = classification_report(y_valid, y_model_predicts)\n",
    "print(report)"
   ]
  },
  {
   "cell_type": "markdown",
   "id": "a4126abd",
   "metadata": {},
   "source": [
    "#### Findings\n",
    "Higher average precision and recall than Decision Tree model. The classes -1 and 0 still show lower F1 scores.\n",
    "However, class 2 is an improvement on F1 scores compared to Random Forest and Decision Trees.\n"
   ]
  },
  {
   "cell_type": "code",
   "execution_count": null,
   "id": "aa1ff125",
   "metadata": {},
   "outputs": [],
   "source": [
    "# Results from tuning:\n",
    "# added features 67.54\n",
    "# added feat1 67.92\n",
    "# added feat2 68.36  ----------------\n",
    "# added feat3 68.04\n",
    "# added feat 4 67.44\n",
    "# added feat 5 67.54"
   ]
  },
  {
   "cell_type": "code",
   "execution_count": 117,
   "id": "4d8cfd18",
   "metadata": {},
   "outputs": [
    {
     "name": "stdout",
     "output_type": "stream",
     "text": [
      "Model 6: XG Boost\n"
     ]
    },
    {
     "data": {
      "text/html": [
       "<div>\n",
       "<style scoped>\n",
       "    .dataframe tbody tr th:only-of-type {\n",
       "        vertical-align: middle;\n",
       "    }\n",
       "\n",
       "    .dataframe tbody tr th {\n",
       "        vertical-align: top;\n",
       "    }\n",
       "\n",
       "    .dataframe thead th {\n",
       "        text-align: right;\n",
       "    }\n",
       "</style>\n",
       "<table border=\"1\" class=\"dataframe\">\n",
       "  <thead>\n",
       "    <tr style=\"text-align: right;\">\n",
       "      <th></th>\n",
       "      <th>accuracy</th>\n",
       "    </tr>\n",
       "  </thead>\n",
       "  <tbody>\n",
       "    <tr>\n",
       "      <th>f1-score</th>\n",
       "      <td>0.71397</td>\n",
       "    </tr>\n",
       "  </tbody>\n",
       "</table>\n",
       "</div>"
      ],
      "text/plain": [
       "          accuracy\n",
       "f1-score   0.71397"
      ]
     },
     "execution_count": 117,
     "metadata": {},
     "output_type": "execute_result"
    }
   ],
   "source": [
    "# Model 6: XG Boost\n",
    "\n",
    "XG_Boost_model = xgb.XGBClassifier()\n",
    "\n",
    "le = LabelEncoder()\n",
    "y_train = le.fit_transform(y_train)\n",
    "y_valid = le.fit_transform(y_valid)\n",
    "\n",
    "y_model_predicts, y_model_predicts_train = fit_model(X_train, y_train, X_valid, XG_Boost_model)\n",
    "print('Model 6: XG Boost')\n",
    "XG_f1_train = f1_score_calc(y_train, y_model_predicts_train)\n",
    "XG_f1 = f1_score_calc(y_valid, y_model_predicts)\n",
    "XG_f1"
   ]
  },
  {
   "cell_type": "code",
   "execution_count": 118,
   "id": "38da3f12",
   "metadata": {},
   "outputs": [
    {
     "name": "stdout",
     "output_type": "stream",
     "text": [
      "              precision    recall  f1-score   support\n",
      "\n",
      "           0       0.76      0.33      0.46       278\n",
      "           1       0.65      0.30      0.41       425\n",
      "           2       0.72      0.87      0.79      1755\n",
      "           3       0.72      0.72      0.72       706\n",
      "\n",
      "    accuracy                           0.71      3164\n",
      "   macro avg       0.71      0.55      0.59      3164\n",
      "weighted avg       0.71      0.71      0.69      3164\n",
      "\n"
     ]
    }
   ],
   "source": [
    "report = classification_report(y_valid, y_model_predicts)\n",
    "print(report)"
   ]
  },
  {
   "cell_type": "markdown",
   "id": "c5f3faab",
   "metadata": {},
   "source": [
    "#### Findings\n",
    "\n",
    "Slightly weaker but similar performance to Naive Bayes\n"
   ]
  },
  {
   "cell_type": "code",
   "execution_count": null,
   "id": "1995da98",
   "metadata": {},
   "outputs": [],
   "source": [
    "# Results from tuning:\n",
    "# added feat 5 = 70.95\n",
    "# original data = 70.54"
   ]
  },
  {
   "cell_type": "code",
   "execution_count": null,
   "id": "d3716070",
   "metadata": {},
   "outputs": [],
   "source": [
    "#Model 7: CatBoost ------ removed due to high runtime and lower performance\n",
    "\n",
    "#CB_model = ctb.CatBoostClassifier()\n",
    "#X_train, X_valid, y_train, y_valid = split_data(X,y)\n",
    "#y_model_predicts, y_model_predicts_train = fit_model(X_train, y_train, X_valid, CB_model)\n",
    "#print('Model 7: CatBoost')\n",
    "#CB_f1_train = f1_score_calc(y_train, y_model_predicts_train)\n",
    "#CB_f1 = f1_score_calc(y_valid, y_model_predicts)\n",
    "#CB_f1\n"
   ]
  },
  {
   "cell_type": "code",
   "execution_count": 119,
   "id": "be1c8dfa",
   "metadata": {},
   "outputs": [
    {
     "name": "stdout",
     "output_type": "stream",
     "text": [
      "Model 8: Passive Aggressive Classifier\n"
     ]
    },
    {
     "data": {
      "text/html": [
       "<div>\n",
       "<style scoped>\n",
       "    .dataframe tbody tr th:only-of-type {\n",
       "        vertical-align: middle;\n",
       "    }\n",
       "\n",
       "    .dataframe tbody tr th {\n",
       "        vertical-align: top;\n",
       "    }\n",
       "\n",
       "    .dataframe thead th {\n",
       "        text-align: right;\n",
       "    }\n",
       "</style>\n",
       "<table border=\"1\" class=\"dataframe\">\n",
       "  <thead>\n",
       "    <tr style=\"text-align: right;\">\n",
       "      <th></th>\n",
       "      <th>accuracy</th>\n",
       "    </tr>\n",
       "  </thead>\n",
       "  <tbody>\n",
       "    <tr>\n",
       "      <th>f1-score</th>\n",
       "      <td>0.759798</td>\n",
       "    </tr>\n",
       "  </tbody>\n",
       "</table>\n",
       "</div>"
      ],
      "text/plain": [
       "          accuracy\n",
       "f1-score  0.759798"
      ]
     },
     "execution_count": 119,
     "metadata": {},
     "output_type": "execute_result"
    }
   ],
   "source": [
    "#Model 8: Passive Aggressive \n",
    "\n",
    "PA_model = PassiveAggressiveClassifier(random_state=42, C=0.002)\n",
    "X_train, X_valid, y_train, y_valid = split_data(X,y)\n",
    "y_model_predicts, y_model_predicts_train = fit_model(X_train, y_train, X_valid, PA_model)\n",
    "print('Model 8: Passive Aggressive Classifier')\n",
    "PA_f1_train = f1_score_calc(y_train, y_model_predicts_train)\n",
    "PA_f1 = f1_score_calc(y_valid, y_model_predicts)\n",
    "PA_f1\n"
   ]
  },
  {
   "cell_type": "code",
   "execution_count": 120,
   "id": "1b34cc21",
   "metadata": {},
   "outputs": [
    {
     "name": "stdout",
     "output_type": "stream",
     "text": [
      "              precision    recall  f1-score   support\n",
      "\n",
      "          -1       0.78      0.49      0.60       278\n",
      "           0       0.58      0.47      0.52       425\n",
      "           1       0.80      0.85      0.82      1755\n",
      "           2       0.75      0.82      0.78       706\n",
      "\n",
      "    accuracy                           0.76      3164\n",
      "   macro avg       0.72      0.66      0.68      3164\n",
      "weighted avg       0.75      0.76      0.75      3164\n",
      "\n"
     ]
    }
   ],
   "source": [
    "report = classification_report(y_valid, y_model_predicts)\n",
    "print(report)"
   ]
  },
  {
   "cell_type": "markdown",
   "id": "6141aec1",
   "metadata": {},
   "source": [
    "#### Findings\n",
    "Similar performance to SGD model"
   ]
  },
  {
   "cell_type": "code",
   "execution_count": null,
   "id": "71cbb43e",
   "metadata": {},
   "outputs": [],
   "source": [
    "#Model 9: KNN\n",
    "\n",
    "n_neighbors = 3\n",
    "KNN_model = KNeighborsClassifier(n_neighbors)\n",
    "y_model_predicts, y_model_predicts_train = fit_model(X_train, y_train, X_valid, KNN_model)\n",
    "print('Model 9: KNN')\n",
    "KNN_f1_train = f1_score_calc(y_train, y_model_predicts_train)\n",
    "KNN_f1 = f1_score_calc(y_valid, y_model_predicts)\n",
    "KNN_f1\n"
   ]
  },
  {
   "cell_type": "code",
   "execution_count": null,
   "id": "566730cf",
   "metadata": {},
   "outputs": [],
   "source": [
    "report = classification_report(y_valid, y_model_predicts)\n",
    "print(report)"
   ]
  },
  {
   "cell_type": "markdown",
   "id": "16d49953",
   "metadata": {},
   "source": [
    "#### Findings\n",
    "\n",
    "This model yielded the lowest results on both precision and F1 scores.\n",
    "An interesting observation was that the precision for Class 2 was the highest than for any other model, and seems to \n",
    "classify Class 2 better. However, performed poorer on the other classes."
   ]
  },
  {
   "cell_type": "code",
   "execution_count": null,
   "id": "73d3ffdf",
   "metadata": {},
   "outputs": [],
   "source": [
    "# Results from tuning:\n",
    "# best with countvec, n=3  58.9"
   ]
  },
  {
   "cell_type": "code",
   "execution_count": 146,
   "id": "a521574b",
   "metadata": {},
   "outputs": [
    {
     "name": "stdout",
     "output_type": "stream",
     "text": [
      "Model 10: SGD Classifier\n"
     ]
    },
    {
     "data": {
      "text/html": [
       "<div>\n",
       "<style scoped>\n",
       "    .dataframe tbody tr th:only-of-type {\n",
       "        vertical-align: middle;\n",
       "    }\n",
       "\n",
       "    .dataframe tbody tr th {\n",
       "        vertical-align: top;\n",
       "    }\n",
       "\n",
       "    .dataframe thead th {\n",
       "        text-align: right;\n",
       "    }\n",
       "</style>\n",
       "<table border=\"1\" class=\"dataframe\">\n",
       "  <thead>\n",
       "    <tr style=\"text-align: right;\">\n",
       "      <th></th>\n",
       "      <th>accuracy</th>\n",
       "    </tr>\n",
       "  </thead>\n",
       "  <tbody>\n",
       "    <tr>\n",
       "      <th>f1-score</th>\n",
       "      <td>0.758534</td>\n",
       "    </tr>\n",
       "  </tbody>\n",
       "</table>\n",
       "</div>"
      ],
      "text/plain": [
       "          accuracy\n",
       "f1-score  0.758534"
      ]
     },
     "execution_count": 146,
     "metadata": {},
     "output_type": "execute_result"
    }
   ],
   "source": [
    "# Model 10: SGD Classifier\n",
    "\n",
    "from sklearn.linear_model import SGDClassifier\n",
    "\n",
    "sgd_model = SGDClassifier(random_state = 42, penalty = 'elasticnet', learning_rate = 'adaptive', eta0 = 0.0151)\n",
    "y_model_predicts, y_model_predicts_train = fit_model(X_train, y_train, X_valid, sgd_model)\n",
    "print('Model 10: SGD Classifier')\n",
    "SGD_f1_train = f1_score_calc(y_train, y_model_predicts_train)\n",
    "SGD_f1 = f1_score_calc(y_valid, y_model_predicts)\n",
    "SGD_f1"
   ]
  },
  {
   "cell_type": "code",
   "execution_count": 147,
   "id": "d9ad6859",
   "metadata": {},
   "outputs": [
    {
     "name": "stdout",
     "output_type": "stream",
     "text": [
      "              precision    recall  f1-score   support\n",
      "\n",
      "          -1       0.78      0.51      0.61       278\n",
      "           0       0.56      0.46      0.51       425\n",
      "           1       0.79      0.85      0.82      1755\n",
      "           2       0.76      0.81      0.78       706\n",
      "\n",
      "    accuracy                           0.76      3164\n",
      "   macro avg       0.72      0.66      0.68      3164\n",
      "weighted avg       0.75      0.76      0.75      3164\n",
      "\n"
     ]
    }
   ],
   "source": [
    "report = classification_report(y_valid, y_model_predicts)\n",
    "print(report)"
   ]
  },
  {
   "cell_type": "markdown",
   "id": "e29fd93f",
   "metadata": {},
   "source": [
    "#### Findings\n",
    "\n",
    "This was the best performing model, with high precision, recall and F1 scores.\n",
    "The small sample classes (-1,0) also performed better compared to the other models."
   ]
  },
  {
   "cell_type": "code",
   "execution_count": null,
   "id": "27b8cf64",
   "metadata": {},
   "outputs": [],
   "source": [
    "# Model 11: Neural Network ------ removed due to high runtime and lower performance\n",
    "\n",
    "#from sklearn.neural_network import MLPClassifier\n",
    "\n",
    "#MPL_NN_model = MLPClassifier(random_state=42, max_iter=3, early_stopping = True, activation = 'tanh', \n",
    "#                             hidden_layer_sizes = (400,), verbose = True) \n",
    "                             \n",
    "#X_train, X_valid, y_train, y_valid = split_data(X,y)\n",
    "#y_model_predicts, y_model_predicts_train = fit_model(X_train, y_train, X_valid, MPL_NN_model)\n",
    "#print('Model 11: Neural Network')\n",
    "#MPL_f1_train = f1_score_calc(y_train, y_model_predicts_train)\n",
    "#MPL_f1 = f1_score_calc(y_valid, y_model_predicts)\n",
    "#MPL_f1\n"
   ]
  },
  {
   "cell_type": "code",
   "execution_count": null,
   "id": "73162950",
   "metadata": {},
   "outputs": [],
   "source": [
    "#report = classification_report(y_valid, y_model_predicts)\n",
    "#print(report)"
   ]
  },
  {
   "cell_type": "code",
   "execution_count": 165,
   "id": "69096375",
   "metadata": {},
   "outputs": [
    {
     "ename": "MemoryError",
     "evalue": "Unable to allocate 4.14 GiB for an array with shape (1111450685,) and data type float32",
     "output_type": "error",
     "traceback": [
      "\u001b[1;31m---------------------------------------------------------------------------\u001b[0m",
      "\u001b[1;31mMemoryError\u001b[0m                               Traceback (most recent call last)",
      "Input \u001b[1;32mIn [165]\u001b[0m, in \u001b[0;36m<cell line: 4>\u001b[1;34m()\u001b[0m\n\u001b[0;32m      1\u001b[0m \u001b[38;5;28;01mimport\u001b[39;00m \u001b[38;5;21;01mlightgbm\u001b[39;00m \u001b[38;5;28;01mas\u001b[39;00m \u001b[38;5;21;01mlgb\u001b[39;00m\n\u001b[0;32m      3\u001b[0m LGB_model \u001b[38;5;241m=\u001b[39m lgb\u001b[38;5;241m.\u001b[39mLGBMClassifier()\n\u001b[1;32m----> 4\u001b[0m y_model_predicts, y_model_predicts_train \u001b[38;5;241m=\u001b[39m \u001b[43mfit_model\u001b[49m\u001b[43m(\u001b[49m\u001b[43mX_train\u001b[49m\u001b[38;5;241;43m.\u001b[39;49m\u001b[43mtoarray\u001b[49m\u001b[43m(\u001b[49m\u001b[43m)\u001b[49m\u001b[43m,\u001b[49m\u001b[43m \u001b[49m\u001b[43my_train\u001b[49m\u001b[43m,\u001b[49m\u001b[43m \u001b[49m\u001b[43mX_valid\u001b[49m\u001b[43m,\u001b[49m\u001b[43m \u001b[49m\u001b[43mLGB_model\u001b[49m\u001b[43m)\u001b[49m\n\u001b[0;32m      5\u001b[0m \u001b[38;5;28mprint\u001b[39m(\u001b[38;5;124m'\u001b[39m\u001b[38;5;124mModel 12: LGM Classifier\u001b[39m\u001b[38;5;124m'\u001b[39m)\n\u001b[0;32m      6\u001b[0m LGM_f1_train \u001b[38;5;241m=\u001b[39m f1_score_calc(y_train, y_model_predicts_train)\n",
      "Input \u001b[1;32mIn [53]\u001b[0m, in \u001b[0;36mfit_model\u001b[1;34m(X_train_fit, y_train_fit, X_valid_fit, model_init)\u001b[0m\n\u001b[0;32m      3\u001b[0m \u001b[38;5;28;01mdef\u001b[39;00m \u001b[38;5;21mfit_model\u001b[39m(X_train_fit, y_train_fit, X_valid_fit, model_init):\n\u001b[1;32m----> 4\u001b[0m     \u001b[43mmodel_init\u001b[49m\u001b[38;5;241;43m.\u001b[39;49m\u001b[43mfit\u001b[49m\u001b[43m(\u001b[49m\u001b[43mX_train_fit\u001b[49m\u001b[43m,\u001b[49m\u001b[43m \u001b[49m\u001b[43my_train_fit\u001b[49m\u001b[43m)\u001b[49m\n\u001b[0;32m      5\u001b[0m     predictions \u001b[38;5;241m=\u001b[39m model_init\u001b[38;5;241m.\u001b[39mpredict(X_valid_fit)\n\u001b[0;32m      6\u001b[0m     predictions_train \u001b[38;5;241m=\u001b[39m model_init\u001b[38;5;241m.\u001b[39mpredict(X_train_fit)\n",
      "File \u001b[1;32m~\\Anaconda3\\lib\\site-packages\\lightgbm\\sklearn.py:967\u001b[0m, in \u001b[0;36mLGBMClassifier.fit\u001b[1;34m(self, X, y, sample_weight, init_score, eval_set, eval_names, eval_sample_weight, eval_class_weight, eval_init_score, eval_metric, early_stopping_rounds, verbose, feature_name, categorical_feature, callbacks, init_model)\u001b[0m\n\u001b[0;32m    964\u001b[0m         \u001b[38;5;28;01melse\u001b[39;00m:\n\u001b[0;32m    965\u001b[0m             valid_sets[i] \u001b[38;5;241m=\u001b[39m (valid_x, \u001b[38;5;28mself\u001b[39m\u001b[38;5;241m.\u001b[39m_le\u001b[38;5;241m.\u001b[39mtransform(valid_y))\n\u001b[1;32m--> 967\u001b[0m \u001b[38;5;28;43msuper\u001b[39;49m\u001b[43m(\u001b[49m\u001b[43m)\u001b[49m\u001b[38;5;241;43m.\u001b[39;49m\u001b[43mfit\u001b[49m\u001b[43m(\u001b[49m\u001b[43mX\u001b[49m\u001b[43m,\u001b[49m\u001b[43m \u001b[49m\u001b[43m_y\u001b[49m\u001b[43m,\u001b[49m\u001b[43m \u001b[49m\u001b[43msample_weight\u001b[49m\u001b[38;5;241;43m=\u001b[39;49m\u001b[43msample_weight\u001b[49m\u001b[43m,\u001b[49m\u001b[43m \u001b[49m\u001b[43minit_score\u001b[49m\u001b[38;5;241;43m=\u001b[39;49m\u001b[43minit_score\u001b[49m\u001b[43m,\u001b[49m\u001b[43m \u001b[49m\u001b[43meval_set\u001b[49m\u001b[38;5;241;43m=\u001b[39;49m\u001b[43mvalid_sets\u001b[49m\u001b[43m,\u001b[49m\n\u001b[0;32m    968\u001b[0m \u001b[43m            \u001b[49m\u001b[43meval_names\u001b[49m\u001b[38;5;241;43m=\u001b[39;49m\u001b[43meval_names\u001b[49m\u001b[43m,\u001b[49m\u001b[43m \u001b[49m\u001b[43meval_sample_weight\u001b[49m\u001b[38;5;241;43m=\u001b[39;49m\u001b[43meval_sample_weight\u001b[49m\u001b[43m,\u001b[49m\n\u001b[0;32m    969\u001b[0m \u001b[43m            \u001b[49m\u001b[43meval_class_weight\u001b[49m\u001b[38;5;241;43m=\u001b[39;49m\u001b[43meval_class_weight\u001b[49m\u001b[43m,\u001b[49m\u001b[43m \u001b[49m\u001b[43meval_init_score\u001b[49m\u001b[38;5;241;43m=\u001b[39;49m\u001b[43meval_init_score\u001b[49m\u001b[43m,\u001b[49m\n\u001b[0;32m    970\u001b[0m \u001b[43m            \u001b[49m\u001b[43meval_metric\u001b[49m\u001b[38;5;241;43m=\u001b[39;49m\u001b[43meval_metric\u001b[49m\u001b[43m,\u001b[49m\u001b[43m \u001b[49m\u001b[43mearly_stopping_rounds\u001b[49m\u001b[38;5;241;43m=\u001b[39;49m\u001b[43mearly_stopping_rounds\u001b[49m\u001b[43m,\u001b[49m\n\u001b[0;32m    971\u001b[0m \u001b[43m            \u001b[49m\u001b[43mverbose\u001b[49m\u001b[38;5;241;43m=\u001b[39;49m\u001b[43mverbose\u001b[49m\u001b[43m,\u001b[49m\u001b[43m \u001b[49m\u001b[43mfeature_name\u001b[49m\u001b[38;5;241;43m=\u001b[39;49m\u001b[43mfeature_name\u001b[49m\u001b[43m,\u001b[49m\u001b[43m \u001b[49m\u001b[43mcategorical_feature\u001b[49m\u001b[38;5;241;43m=\u001b[39;49m\u001b[43mcategorical_feature\u001b[49m\u001b[43m,\u001b[49m\n\u001b[0;32m    972\u001b[0m \u001b[43m            \u001b[49m\u001b[43mcallbacks\u001b[49m\u001b[38;5;241;43m=\u001b[39;49m\u001b[43mcallbacks\u001b[49m\u001b[43m,\u001b[49m\u001b[43m \u001b[49m\u001b[43minit_model\u001b[49m\u001b[38;5;241;43m=\u001b[39;49m\u001b[43minit_model\u001b[49m\u001b[43m)\u001b[49m\n\u001b[0;32m    973\u001b[0m \u001b[38;5;28;01mreturn\u001b[39;00m \u001b[38;5;28mself\u001b[39m\n",
      "File \u001b[1;32m~\\Anaconda3\\lib\\site-packages\\lightgbm\\sklearn.py:748\u001b[0m, in \u001b[0;36mLGBMModel.fit\u001b[1;34m(self, X, y, sample_weight, init_score, group, eval_set, eval_names, eval_sample_weight, eval_class_weight, eval_init_score, eval_group, eval_metric, early_stopping_rounds, verbose, feature_name, categorical_feature, callbacks, init_model)\u001b[0m\n\u001b[0;32m    745\u001b[0m evals_result \u001b[38;5;241m=\u001b[39m {}\n\u001b[0;32m    746\u001b[0m callbacks\u001b[38;5;241m.\u001b[39mappend(record_evaluation(evals_result))\n\u001b[1;32m--> 748\u001b[0m \u001b[38;5;28mself\u001b[39m\u001b[38;5;241m.\u001b[39m_Booster \u001b[38;5;241m=\u001b[39m \u001b[43mtrain\u001b[49m\u001b[43m(\u001b[49m\n\u001b[0;32m    749\u001b[0m \u001b[43m    \u001b[49m\u001b[43mparams\u001b[49m\u001b[38;5;241;43m=\u001b[39;49m\u001b[43mparams\u001b[49m\u001b[43m,\u001b[49m\n\u001b[0;32m    750\u001b[0m \u001b[43m    \u001b[49m\u001b[43mtrain_set\u001b[49m\u001b[38;5;241;43m=\u001b[39;49m\u001b[43mtrain_set\u001b[49m\u001b[43m,\u001b[49m\n\u001b[0;32m    751\u001b[0m \u001b[43m    \u001b[49m\u001b[43mnum_boost_round\u001b[49m\u001b[38;5;241;43m=\u001b[39;49m\u001b[38;5;28;43mself\u001b[39;49m\u001b[38;5;241;43m.\u001b[39;49m\u001b[43mn_estimators\u001b[49m\u001b[43m,\u001b[49m\n\u001b[0;32m    752\u001b[0m \u001b[43m    \u001b[49m\u001b[43mvalid_sets\u001b[49m\u001b[38;5;241;43m=\u001b[39;49m\u001b[43mvalid_sets\u001b[49m\u001b[43m,\u001b[49m\n\u001b[0;32m    753\u001b[0m \u001b[43m    \u001b[49m\u001b[43mvalid_names\u001b[49m\u001b[38;5;241;43m=\u001b[39;49m\u001b[43meval_names\u001b[49m\u001b[43m,\u001b[49m\n\u001b[0;32m    754\u001b[0m \u001b[43m    \u001b[49m\u001b[43mfobj\u001b[49m\u001b[38;5;241;43m=\u001b[39;49m\u001b[38;5;28;43mself\u001b[39;49m\u001b[38;5;241;43m.\u001b[39;49m\u001b[43m_fobj\u001b[49m\u001b[43m,\u001b[49m\n\u001b[0;32m    755\u001b[0m \u001b[43m    \u001b[49m\u001b[43mfeval\u001b[49m\u001b[38;5;241;43m=\u001b[39;49m\u001b[43meval_metrics_callable\u001b[49m\u001b[43m,\u001b[49m\n\u001b[0;32m    756\u001b[0m \u001b[43m    \u001b[49m\u001b[43minit_model\u001b[49m\u001b[38;5;241;43m=\u001b[39;49m\u001b[43minit_model\u001b[49m\u001b[43m,\u001b[49m\n\u001b[0;32m    757\u001b[0m \u001b[43m    \u001b[49m\u001b[43mfeature_name\u001b[49m\u001b[38;5;241;43m=\u001b[39;49m\u001b[43mfeature_name\u001b[49m\u001b[43m,\u001b[49m\n\u001b[0;32m    758\u001b[0m \u001b[43m    \u001b[49m\u001b[43mcallbacks\u001b[49m\u001b[38;5;241;43m=\u001b[39;49m\u001b[43mcallbacks\u001b[49m\n\u001b[0;32m    759\u001b[0m \u001b[43m\u001b[49m\u001b[43m)\u001b[49m\n\u001b[0;32m    761\u001b[0m \u001b[38;5;28;01mif\u001b[39;00m evals_result:\n\u001b[0;32m    762\u001b[0m     \u001b[38;5;28mself\u001b[39m\u001b[38;5;241m.\u001b[39m_evals_result \u001b[38;5;241m=\u001b[39m evals_result\n",
      "File \u001b[1;32m~\\Anaconda3\\lib\\site-packages\\lightgbm\\engine.py:271\u001b[0m, in \u001b[0;36mtrain\u001b[1;34m(params, train_set, num_boost_round, valid_sets, valid_names, fobj, feval, init_model, feature_name, categorical_feature, early_stopping_rounds, evals_result, verbose_eval, learning_rates, keep_training_booster, callbacks)\u001b[0m\n\u001b[0;32m    269\u001b[0m \u001b[38;5;66;03m# construct booster\u001b[39;00m\n\u001b[0;32m    270\u001b[0m \u001b[38;5;28;01mtry\u001b[39;00m:\n\u001b[1;32m--> 271\u001b[0m     booster \u001b[38;5;241m=\u001b[39m \u001b[43mBooster\u001b[49m\u001b[43m(\u001b[49m\u001b[43mparams\u001b[49m\u001b[38;5;241;43m=\u001b[39;49m\u001b[43mparams\u001b[49m\u001b[43m,\u001b[49m\u001b[43m \u001b[49m\u001b[43mtrain_set\u001b[49m\u001b[38;5;241;43m=\u001b[39;49m\u001b[43mtrain_set\u001b[49m\u001b[43m)\u001b[49m\n\u001b[0;32m    272\u001b[0m     \u001b[38;5;28;01mif\u001b[39;00m is_valid_contain_train:\n\u001b[0;32m    273\u001b[0m         booster\u001b[38;5;241m.\u001b[39mset_train_data_name(train_data_name)\n",
      "File \u001b[1;32m~\\Anaconda3\\lib\\site-packages\\lightgbm\\basic.py:2605\u001b[0m, in \u001b[0;36mBooster.__init__\u001b[1;34m(self, params, train_set, model_file, model_str, silent)\u001b[0m\n\u001b[0;32m   2598\u001b[0m     \u001b[38;5;28mself\u001b[39m\u001b[38;5;241m.\u001b[39mset_network(\n\u001b[0;32m   2599\u001b[0m         machines\u001b[38;5;241m=\u001b[39mmachines,\n\u001b[0;32m   2600\u001b[0m         local_listen_port\u001b[38;5;241m=\u001b[39mparams[\u001b[38;5;124m\"\u001b[39m\u001b[38;5;124mlocal_listen_port\u001b[39m\u001b[38;5;124m\"\u001b[39m],\n\u001b[0;32m   2601\u001b[0m         listen_time_out\u001b[38;5;241m=\u001b[39mparams\u001b[38;5;241m.\u001b[39mget(\u001b[38;5;124m\"\u001b[39m\u001b[38;5;124mtime_out\u001b[39m\u001b[38;5;124m\"\u001b[39m, \u001b[38;5;241m120\u001b[39m),\n\u001b[0;32m   2602\u001b[0m         num_machines\u001b[38;5;241m=\u001b[39mparams[\u001b[38;5;124m\"\u001b[39m\u001b[38;5;124mnum_machines\u001b[39m\u001b[38;5;124m\"\u001b[39m]\n\u001b[0;32m   2603\u001b[0m     )\n\u001b[0;32m   2604\u001b[0m \u001b[38;5;66;03m# construct booster object\u001b[39;00m\n\u001b[1;32m-> 2605\u001b[0m \u001b[43mtrain_set\u001b[49m\u001b[38;5;241;43m.\u001b[39;49m\u001b[43mconstruct\u001b[49m\u001b[43m(\u001b[49m\u001b[43m)\u001b[49m\n\u001b[0;32m   2606\u001b[0m \u001b[38;5;66;03m# copy the parameters from train_set\u001b[39;00m\n\u001b[0;32m   2607\u001b[0m params\u001b[38;5;241m.\u001b[39mupdate(train_set\u001b[38;5;241m.\u001b[39mget_params())\n",
      "File \u001b[1;32m~\\Anaconda3\\lib\\site-packages\\lightgbm\\basic.py:1815\u001b[0m, in \u001b[0;36mDataset.construct\u001b[1;34m(self)\u001b[0m\n\u001b[0;32m   1812\u001b[0m             \u001b[38;5;28mself\u001b[39m\u001b[38;5;241m.\u001b[39m_set_init_score_by_predictor(\u001b[38;5;28mself\u001b[39m\u001b[38;5;241m.\u001b[39m_predictor, \u001b[38;5;28mself\u001b[39m\u001b[38;5;241m.\u001b[39mdata, used_indices)\n\u001b[0;32m   1813\u001b[0m \u001b[38;5;28;01melse\u001b[39;00m:\n\u001b[0;32m   1814\u001b[0m     \u001b[38;5;66;03m# create train\u001b[39;00m\n\u001b[1;32m-> 1815\u001b[0m     \u001b[38;5;28;43mself\u001b[39;49m\u001b[38;5;241;43m.\u001b[39;49m\u001b[43m_lazy_init\u001b[49m\u001b[43m(\u001b[49m\u001b[38;5;28;43mself\u001b[39;49m\u001b[38;5;241;43m.\u001b[39;49m\u001b[43mdata\u001b[49m\u001b[43m,\u001b[49m\u001b[43m \u001b[49m\u001b[43mlabel\u001b[49m\u001b[38;5;241;43m=\u001b[39;49m\u001b[38;5;28;43mself\u001b[39;49m\u001b[38;5;241;43m.\u001b[39;49m\u001b[43mlabel\u001b[49m\u001b[43m,\u001b[49m\n\u001b[0;32m   1816\u001b[0m \u001b[43m                    \u001b[49m\u001b[43mweight\u001b[49m\u001b[38;5;241;43m=\u001b[39;49m\u001b[38;5;28;43mself\u001b[39;49m\u001b[38;5;241;43m.\u001b[39;49m\u001b[43mweight\u001b[49m\u001b[43m,\u001b[49m\u001b[43m \u001b[49m\u001b[43mgroup\u001b[49m\u001b[38;5;241;43m=\u001b[39;49m\u001b[38;5;28;43mself\u001b[39;49m\u001b[38;5;241;43m.\u001b[39;49m\u001b[43mgroup\u001b[49m\u001b[43m,\u001b[49m\n\u001b[0;32m   1817\u001b[0m \u001b[43m                    \u001b[49m\u001b[43minit_score\u001b[49m\u001b[38;5;241;43m=\u001b[39;49m\u001b[38;5;28;43mself\u001b[39;49m\u001b[38;5;241;43m.\u001b[39;49m\u001b[43minit_score\u001b[49m\u001b[43m,\u001b[49m\u001b[43m \u001b[49m\u001b[43mpredictor\u001b[49m\u001b[38;5;241;43m=\u001b[39;49m\u001b[38;5;28;43mself\u001b[39;49m\u001b[38;5;241;43m.\u001b[39;49m\u001b[43m_predictor\u001b[49m\u001b[43m,\u001b[49m\n\u001b[0;32m   1818\u001b[0m \u001b[43m                    \u001b[49m\u001b[43msilent\u001b[49m\u001b[38;5;241;43m=\u001b[39;49m\u001b[38;5;28;43mself\u001b[39;49m\u001b[38;5;241;43m.\u001b[39;49m\u001b[43msilent\u001b[49m\u001b[43m,\u001b[49m\u001b[43m \u001b[49m\u001b[43mfeature_name\u001b[49m\u001b[38;5;241;43m=\u001b[39;49m\u001b[38;5;28;43mself\u001b[39;49m\u001b[38;5;241;43m.\u001b[39;49m\u001b[43mfeature_name\u001b[49m\u001b[43m,\u001b[49m\n\u001b[0;32m   1819\u001b[0m \u001b[43m                    \u001b[49m\u001b[43mcategorical_feature\u001b[49m\u001b[38;5;241;43m=\u001b[39;49m\u001b[38;5;28;43mself\u001b[39;49m\u001b[38;5;241;43m.\u001b[39;49m\u001b[43mcategorical_feature\u001b[49m\u001b[43m,\u001b[49m\u001b[43m \u001b[49m\u001b[43mparams\u001b[49m\u001b[38;5;241;43m=\u001b[39;49m\u001b[38;5;28;43mself\u001b[39;49m\u001b[38;5;241;43m.\u001b[39;49m\u001b[43mparams\u001b[49m\u001b[43m)\u001b[49m\n\u001b[0;32m   1820\u001b[0m \u001b[38;5;28;01mif\u001b[39;00m \u001b[38;5;28mself\u001b[39m\u001b[38;5;241m.\u001b[39mfree_raw_data:\n\u001b[0;32m   1821\u001b[0m     \u001b[38;5;28mself\u001b[39m\u001b[38;5;241m.\u001b[39mdata \u001b[38;5;241m=\u001b[39m \u001b[38;5;28;01mNone\u001b[39;00m\n",
      "File \u001b[1;32m~\\Anaconda3\\lib\\site-packages\\lightgbm\\basic.py:1538\u001b[0m, in \u001b[0;36mDataset._lazy_init\u001b[1;34m(self, data, label, reference, weight, group, init_score, predictor, silent, feature_name, categorical_feature, params)\u001b[0m\n\u001b[0;32m   1536\u001b[0m     \u001b[38;5;28mself\u001b[39m\u001b[38;5;241m.\u001b[39m__init_from_csc(data, params_str, ref_dataset)\n\u001b[0;32m   1537\u001b[0m \u001b[38;5;28;01melif\u001b[39;00m \u001b[38;5;28misinstance\u001b[39m(data, np\u001b[38;5;241m.\u001b[39mndarray):\n\u001b[1;32m-> 1538\u001b[0m     \u001b[38;5;28;43mself\u001b[39;49m\u001b[38;5;241;43m.\u001b[39;49m\u001b[43m__init_from_np2d\u001b[49m\u001b[43m(\u001b[49m\u001b[43mdata\u001b[49m\u001b[43m,\u001b[49m\u001b[43m \u001b[49m\u001b[43mparams_str\u001b[49m\u001b[43m,\u001b[49m\u001b[43m \u001b[49m\u001b[43mref_dataset\u001b[49m\u001b[43m)\u001b[49m\n\u001b[0;32m   1539\u001b[0m \u001b[38;5;28;01melif\u001b[39;00m \u001b[38;5;28misinstance\u001b[39m(data, \u001b[38;5;28mlist\u001b[39m) \u001b[38;5;129;01mand\u001b[39;00m \u001b[38;5;28mlen\u001b[39m(data) \u001b[38;5;241m>\u001b[39m \u001b[38;5;241m0\u001b[39m:\n\u001b[0;32m   1540\u001b[0m     \u001b[38;5;28;01mif\u001b[39;00m \u001b[38;5;28mall\u001b[39m(\u001b[38;5;28misinstance\u001b[39m(x, np\u001b[38;5;241m.\u001b[39mndarray) \u001b[38;5;28;01mfor\u001b[39;00m x \u001b[38;5;129;01min\u001b[39;00m data):\n",
      "File \u001b[1;32m~\\Anaconda3\\lib\\site-packages\\lightgbm\\basic.py:1656\u001b[0m, in \u001b[0;36mDataset.__init_from_np2d\u001b[1;34m(self, mat, params_str, ref_dataset)\u001b[0m\n\u001b[0;32m   1654\u001b[0m     data \u001b[38;5;241m=\u001b[39m np\u001b[38;5;241m.\u001b[39marray(mat\u001b[38;5;241m.\u001b[39mreshape(mat\u001b[38;5;241m.\u001b[39msize), dtype\u001b[38;5;241m=\u001b[39mmat\u001b[38;5;241m.\u001b[39mdtype, copy\u001b[38;5;241m=\u001b[39m\u001b[38;5;28;01mFalse\u001b[39;00m)\n\u001b[0;32m   1655\u001b[0m \u001b[38;5;28;01melse\u001b[39;00m:  \u001b[38;5;66;03m# change non-float data to float data, need to copy\u001b[39;00m\n\u001b[1;32m-> 1656\u001b[0m     data \u001b[38;5;241m=\u001b[39m \u001b[43mnp\u001b[49m\u001b[38;5;241;43m.\u001b[39;49m\u001b[43marray\u001b[49m\u001b[43m(\u001b[49m\u001b[43mmat\u001b[49m\u001b[38;5;241;43m.\u001b[39;49m\u001b[43mreshape\u001b[49m\u001b[43m(\u001b[49m\u001b[43mmat\u001b[49m\u001b[38;5;241;43m.\u001b[39;49m\u001b[43msize\u001b[49m\u001b[43m)\u001b[49m\u001b[43m,\u001b[49m\u001b[43m \u001b[49m\u001b[43mdtype\u001b[49m\u001b[38;5;241;43m=\u001b[39;49m\u001b[43mnp\u001b[49m\u001b[38;5;241;43m.\u001b[39;49m\u001b[43mfloat32\u001b[49m\u001b[43m)\u001b[49m\n\u001b[0;32m   1658\u001b[0m ptr_data, type_ptr_data, _ \u001b[38;5;241m=\u001b[39m c_float_array(data)\n\u001b[0;32m   1659\u001b[0m _safe_call(_LIB\u001b[38;5;241m.\u001b[39mLGBM_DatasetCreateFromMat(\n\u001b[0;32m   1660\u001b[0m     ptr_data,\n\u001b[0;32m   1661\u001b[0m     ctypes\u001b[38;5;241m.\u001b[39mc_int(type_ptr_data),\n\u001b[1;32m   (...)\u001b[0m\n\u001b[0;32m   1666\u001b[0m     ref_dataset,\n\u001b[0;32m   1667\u001b[0m     ctypes\u001b[38;5;241m.\u001b[39mbyref(\u001b[38;5;28mself\u001b[39m\u001b[38;5;241m.\u001b[39mhandle)))\n",
      "\u001b[1;31mMemoryError\u001b[0m: Unable to allocate 4.14 GiB for an array with shape (1111450685,) and data type float32"
     ]
    }
   ],
   "source": [
    "import lightgbm as lgb\n",
    "\n",
    "LGB_model = lgb.LGBMClassifier()\n",
    "y_model_predicts, y_model_predicts_train = fit_model(X_train.toarray(), y_train, X_valid, LGB_model)\n",
    "print('Model 12: LGM Classifier')\n",
    "LGM_f1_train = f1_score_calc(y_train, y_model_predicts_train)\n",
    "LGM_f1 = f1_score_calc(y_valid, y_model_predicts)\n",
    "LGM_f1\n"
   ]
  },
  {
   "cell_type": "markdown",
   "id": "6b530251",
   "metadata": {},
   "source": [
    "<a id=\"six\"></a>\n",
    "## 6. Model Performance\n",
    "<a class=\"anchor\" id=\"1.1\"></a>\n",
    "<a href=#cont>Back to Table of Contents</a>\n",
    "\n",
    "---\n",
    "    \n",
    "| ⚡ Description: Model performance ⚡ |\n",
    "| :--------------------------- |\n",
    "| In this section you are required to compare the relative performance of the various trained ML models on a holdout dataset and comment on what model is the best and why. |\n",
    "\n",
    "---"
   ]
  },
  {
   "cell_type": "code",
   "execution_count": null,
   "id": "6a69b5a1",
   "metadata": {},
   "outputs": [],
   "source": [
    "# Compare model performance\n",
    "\n",
    "# Dictionary of results\n",
    "results_dict = {'F1 (Valid)':\n",
    "                    {\n",
    "                        \"Random Forest Classifier\": RF_f1.iat[0,0],\n",
    "                        \"Decision Tree Classifier\": DT_f1.iat[0,0],\n",
    "                        \"Support Vector Machine (SVM)\": SVM_f1.iat[0,0],\n",
    "                        \"Logistic Regression\": MLR_f1.iat[0,0],\n",
    "                        \"Naive Bayes\": NB_f1.iat[0,0],\n",
    "                        \"XG Boost\": XG_f1.iat[0,0],\n",
    "                      #  \"CatBoost\": CB_f1.iat[0,0],\n",
    "                        \"KNN\": KNN_f1.iat[0,0],\n",
    "                        \"Passive Aggressive\": PA_f1.iat[0,0],\n",
    "                        \"SGD\": SGD_f1.iat[0,0] \n",
    "                    },\n",
    "                \n",
    "                'F1 (Train)':\n",
    "                    {\n",
    "                        \"Random Forest Classifier\": RF_f1_train.iat[0,0],\n",
    "                        \"Decision Tree Classifier\": DT_f1_train.iat[0,0],\n",
    "                        \"Support Vector Machine (SVM)\": SVM_f1_train.iat[0,0],\n",
    "                        \"Logistic Regression\": MLR_f1_train.iat[0,0],\n",
    "                        \"Naive Bayes\": NB_f1_train.iat[0,0],\n",
    "                        \"XG Boost\": XG_f1_train.iat[0,0],\n",
    "                       # \"CatBoost\": CB_f1_train.iat[0,0],\n",
    "                        \"KNN\": KNN_f1_train.iat[0,0],\n",
    "                        \"Passive Aggressive\": PA_f1_train.iat[0,0],\n",
    "                        \"SGD\": SGD_f1_train.iat[0,0] \n",
    "                    },\n",
    "                            \n",
    "                  }"
   ]
  },
  {
   "cell_type": "code",
   "execution_count": null,
   "id": "64dc9421",
   "metadata": {},
   "outputs": [],
   "source": [
    "# Create dataframe from dictionary\n",
    "results_df = pd.DataFrame(data=results_dict)\n",
    "results_df.sort_values(by=['F1 (Valid)'], ascending = False)"
   ]
  },
  {
   "cell_type": "code",
   "execution_count": null,
   "id": "dff7e374",
   "metadata": {},
   "outputs": [],
   "source": [
    "fig, ax = plt.subplots(1, 2, figsize=(10, 5))\n",
    "results_df.sort_values('F1 (Valid)', ascending=False, inplace=True)\n",
    "results_df.plot(y=['F1 (Valid)'], kind='bar', ax=ax[0], xlim=[0,1.1])\n",
    "results_df.plot(y='F1 (Train)', kind='bar', ax=ax[1])"
   ]
  },
  {
   "cell_type": "markdown",
   "id": "1479a37b",
   "metadata": {},
   "source": [
    "**Best model motivation**\n",
    "\n",
    "Best model was the SGD Classifier model.\n",
    "Although this did not give the highest F1 validation score, it handled unseen data better with the highest **kaggle F1 score of 0.74253**, compared to the other classifier models and also ran quicker than the other models.\n",
    "\n",
    "Despite feature engineering, extensive hypertuning (both on the vectorizers as well as the classifier models), application of resampling methods (to address data imbalance), application of class_weights in the models (to reweight the data), and applying various models, the F1 score did not improve from the best model above. \n",
    "\n",
    "Additional models, Catboost classifier (Model 7) and a tuned neural network based classifier (Model 11: MPL Classifier) was also applied to the data but again did not provide better F1 scores than the SGD model and ran for a considerable amount of time. These models were consquently removed from the comparison.\n",
    "\n",
    "Additional data can be collected for the smaller sample sentiment classes (-1, 0) in order to improve the F1 scores on these classes as the general theme across the models were low F1 scores on these classes.\n",
    "\n",
    "One observation was that the linear models seem to classify better or provide better F1 scores on the data. Maybe other optimised linear models, similar to SGD can be investigated for future modelling.\n"
   ]
  },
  {
   "cell_type": "markdown",
   "id": "a8ad0c0d",
   "metadata": {},
   "source": [
    "<a id=\"seven\"></a>\n",
    "## 7. Model Explanations\n",
    "<a class=\"anchor\" id=\"1.1\"></a>\n",
    "<a href=#cont>Back to Table of Contents</a>\n",
    "\n",
    "---\n",
    "    \n",
    "| ⚡ Description: Model explanation ⚡ |\n",
    "| :--------------------------- |\n",
    "| In this section, you are required to discuss how the best performing model works in a simple way so that both technical and non-technical stakeholders can grasp the intuition behind the model's inner workings. |\n",
    "\n",
    "---"
   ]
  },
  {
   "cell_type": "markdown",
   "id": "3bfe130c",
   "metadata": {},
   "source": [
    "**Discuss chosen methods logic**\n",
    "\n",
    "SGD (Stochastic Gradient Descent) Classifier was the chosen model \n",
    "\n",
    "SGD Classifier is a linear classifier (SVM, logistic regression, a.o.) optimized by the SGD.\n",
    "The underlying classifier model is the SVM with default parameters of the 'hinge' loss function (i.e. soft-margin linear Support Vector Machine)\n",
    "\n",
    "SGD is used to find the model parameters that correspond to the best fit between predicted and actual outputs.\n",
    "\n",
    "The objective of regression, is to minimize the sum of squared residuals. A function reaches its minimum value when the slope (gradient) is equal to 0. Gradient descent is an iterative algorithm, that starts from a random point on a function and travels down its slope in steps until it reaches the lowest point of that function, to minimise the error. Where the optimal points cannot be found by equating the slope of the function to 0 to minimise the error, this algorithm can be used to descend down the slope to find the lowest point. SGD can be regarded as a stochastic approximation of gradient descent optimization, since it replaces the actual gradient (calculated from the entire data set) by an estimate (calculated from a randomly selected subset of the data). In high-dimensional optimization problems this reduces the very high computational burden (i.e. speed it takes to compute the model), achieving faster iterations in exchange for a lower convergence rate. \n",
    "\n",
    "In this analysis, the number of features used where quite a large number (105,163) and therefore the speed of the SGD classifier assisted to considerably improve computation time, compared to other models.\n",
    "\n",
    "In terms of the underlying model, SVM or Support Vector Machine, this is a linear model and can be used for both classification and regression problems. The model works by creating a line or a hyperplane which separates the data into the different classes. SVM tries to make a decision boundary between the classes that maximises the distance between the classes. This is to create clarity for the model to easily distinguish between classes and avoid misclassification. "
   ]
  },
  {
   "cell_type": "markdown",
   "id": "61a4500b",
   "metadata": {},
   "source": [
    "<a id=\"six\"></a>\n",
    "## 8. Submission to Kaggle\n",
    "<a class=\"anchor\" id=\"1.1\"></a>\n",
    "<a href=#cont>Back to Table of Contents</a>"
   ]
  },
  {
   "cell_type": "code",
   "execution_count": null,
   "id": "7d87f026",
   "metadata": {},
   "outputs": [],
   "source": [
    "# Submission to Kaggle\n",
    "\n",
    "best_model = sgd_model\n",
    "predictions = best_model.predict(test_arr)\n",
    "submission = pd.DataFrame({'tweetid': df_test['tweetid'], 'sentiment':predictions})\n",
    "submission.to_csv('submission_Diane_Govindan_Best_Model_SGD.csv', index=False)\n",
    "predictions.shape\n"
   ]
  },
  {
   "cell_type": "code",
   "execution_count": null,
   "id": "a9d470d8",
   "metadata": {},
   "outputs": [],
   "source": []
  }
 ],
 "metadata": {
  "kernelspec": {
   "display_name": "Python 3 (ipykernel)",
   "language": "python",
   "name": "python3"
  },
  "language_info": {
   "codemirror_mode": {
    "name": "ipython",
    "version": 3
   },
   "file_extension": ".py",
   "mimetype": "text/x-python",
   "name": "python",
   "nbconvert_exporter": "python",
   "pygments_lexer": "ipython3",
   "version": "3.9.12"
  },
  "latex_envs": {
   "LaTeX_envs_menu_present": true,
   "autoclose": false,
   "autocomplete": true,
   "bibliofile": "biblio.bib",
   "cite_by": "apalike",
   "current_citInitial": 1,
   "eqLabelWithNumbers": true,
   "eqNumInitial": 1,
   "hotkeys": {
    "equation": "Ctrl-E",
    "itemize": "Ctrl-I"
   },
   "labels_anchors": false,
   "latex_user_defs": false,
   "report_style_numbering": false,
   "user_envs_cfg": false
  },
  "toc": {
   "base_numbering": 1,
   "nav_menu": {},
   "number_sections": true,
   "sideBar": true,
   "skip_h1_title": false,
   "title_cell": "Table of Contents",
   "title_sidebar": "Contents",
   "toc_cell": false,
   "toc_position": {},
   "toc_section_display": true,
   "toc_window_display": false
  },
  "varInspector": {
   "cols": {
    "lenName": 16,
    "lenType": 16,
    "lenVar": 40
   },
   "kernels_config": {
    "python": {
     "delete_cmd_postfix": "",
     "delete_cmd_prefix": "del ",
     "library": "var_list.py",
     "varRefreshCmd": "print(var_dic_list())"
    },
    "r": {
     "delete_cmd_postfix": ") ",
     "delete_cmd_prefix": "rm(",
     "library": "var_list.r",
     "varRefreshCmd": "cat(var_dic_list()) "
    }
   },
   "types_to_exclude": [
    "module",
    "function",
    "builtin_function_or_method",
    "instance",
    "_Feature"
   ],
   "window_display": false
  }
 },
 "nbformat": 4,
 "nbformat_minor": 5
}
