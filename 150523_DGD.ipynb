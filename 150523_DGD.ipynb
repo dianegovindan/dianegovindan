{
 "cells": [
  {
   "cell_type": "markdown",
   "id": "6c7e849a",
   "metadata": {
    "ExecuteTime": {
     "end_time": "2021-06-11T09:24:53.643384Z",
     "start_time": "2021-06-11T09:24:53.622385Z"
    }
   },
   "source": [
    "# The Classification Predict\n",
    "\n",
    "© Explore Data Science Academy\n",
    "\n",
    "---\n",
    "### Honour Code\n",
    "\n",
    "I {**DIANE, GOVINDAN**}, confirm - by submitting this document - that the solutions in this notebook are a result of my own work and that I abide by the [EDSA honour code](https://drive.google.com/file/d/1QDCjGZJ8-FmJE3bZdIQNwnJyQKPhHZBn/view?usp=sharing).\n",
    "\n",
    "Non-compliance with the honour code constitutes a material breach of contract.\n",
    "\n",
    "### Predict Overview: EDSA - Twitter Sentiment Classification\n",
    "\n",
    "**Description**\n",
    "\n",
    "Many companies are built around lessening one’s environmental impact or carbon footprint. They offer products and services that are environmentally friendly and sustainable, in line with their values and ideals. They would like to determine how people perceive climate change and whether or not they believe it is a real threat. This would add to their market research efforts in gauging how their product/service may be received.\n",
    "\n",
    "With this context, EDSA is challenging you during the Classification Sprint with the task of creating a Machine Learning model that is able to classify whether or not a person believes in climate change, based on their novel tweet data.\n",
    "\n",
    "Providing an accurate and robust solution to this task gives companies access to a broad base of consumer sentiment, spanning multiple demographic and geographic categories - thus increasing their insights and informing future marketing strategies.\n",
    "\n",
    "**Evaluation**\n",
    "\n",
    "The evaluation metric\n",
    "Mean F1-Score. The F1 score, commonly used in information retrieval, measures performance using the statistics precision and recall.\n",
    "\n",
    "Precision is the ratio of true positives to all predicted positives. Recall is the ratio of true positives to all actual positives.\n",
    "The F1 metric weights recall and precision equally, and a good retrieval algorithm will maximize both precision and recall simultaneously. Thus, moderately good performance on both will be favored over extremely good performance on one and poor performance on the other.\n",
    "\n",
    "Submission Format\n",
    "For every tweet in the dataset, submission files should contain two columns: tweetid and sentiment. sentiment should be a space-delimited list. Every tweetid will have a sentiment, as per your prediction. Refer to the Description page for more information about the valid classes in the sentiment column.\n",
    "\n",
    "The file should contain a header and have the following format:\n",
    "\n",
    "tweetid,sentiment\n",
    "35326,1\n",
    "15327,-1\n",
    "54232,0\n",
    "\n",
    "**Data**\n",
    "\n",
    "Label   Sentiments    Description\n",
    "     2       News:         the tweet link to factual news about climate change\n",
    "     1       Pro:          the tweet supports the belief of man-made climate change\n",
    "     0       Neutral:      the tweet neither supports nor refutes the belief of man-made climate change\n",
    "    -1       Anti:         the tweet does not believe in man-made climate change"
   ]
  },
  {
   "cell_type": "markdown",
   "id": "05600c92",
   "metadata": {},
   "source": [
    "<a id=\"cont\"></a>\n",
    "\n",
    "## Table of Contents\n",
    "\n",
    "<a href=#one>1. Importing Packages</a>\n",
    "\n",
    "<a href=#two>2. Loading Data</a>\n",
    "\n",
    "<a href=#three>3. Exploratory Data Analysis (EDA)</a>\n",
    "\n",
    "<a href=#four>4. Data Engineering</a>\n",
    "\n",
    "<a href=#five>5. Modeling</a>\n",
    "\n",
    "<a href=#six>6. Model Performance</a>\n",
    "\n",
    "<a href=#seven>7. Model Explanations</a>"
   ]
  },
  {
   "cell_type": "markdown",
   "id": "997462e2",
   "metadata": {},
   "source": [
    " <a id=\"one\"></a>\n",
    "## 1. Importing Packages\n",
    "<a href=#cont>Back to Table of Contents</a>\n",
    "\n",
    "---\n",
    "    \n",
    "| ⚡ Description: Importing Packages ⚡ |\n",
    "| :--------------------------- |\n",
    "| In this section you are required to import, and briefly discuss, the libraries that will be used throughout your analysis and modelling. |\n",
    "\n",
    "---"
   ]
  },
  {
   "cell_type": "code",
   "execution_count": 1,
   "id": "475dbe93",
   "metadata": {
    "ExecuteTime": {
     "end_time": "2021-06-23T10:30:53.800892Z",
     "start_time": "2021-06-23T10:30:50.215449Z"
    }
   },
   "outputs": [],
   "source": [
    "# Libraries for data loading, data manipulation and data visulisation\n",
    "import numpy as np\n",
    "import pandas as pd\n",
    "import matplotlib.pyplot as plt\n",
    "import seaborn as sns\n",
    "%matplotlib inline\n",
    "\n",
    "#import scipy\n",
    "#import sklearn.externals as extjoblib\n",
    "#import joblib\n",
    "#from profanity_check import predict\n",
    "from better_profanity import profanity\n",
    "from statsmodels.graphics.correlation import plot_corr\n",
    "from scipy.stats import pearsonr\n",
    "from sklearn.utils import resample\n",
    "\n",
    "# Libraries for data preparation and model building\n",
    "import re\n",
    "import nltk\n",
    "from nltk.stem import WordNetLemmatizer\n",
    "from nltk.corpus import stopwords\n",
    "from sklearn.feature_extraction.text import TfidfVectorizer\n",
    "from sklearn.feature_extraction.text import CountVectorizer\n",
    "from sklearn.model_selection import train_test_split\n",
    "from sklearn.ensemble import RandomForestClassifier\n",
    "from sklearn.metrics import classification_report\n",
    "from sklearn.model_selection import GridSearchCV\n",
    "from sklearn.pipeline import Pipeline\n",
    "from sklearn.metrics import f1_score\n",
    "from sklearn.preprocessing import StandardScaler\n",
    "from sklearn.tree import DecisionTreeClassifier\n",
    "from sklearn.svm import SVC\n",
    "from sklearn.linear_model import LogisticRegression\n",
    "from sklearn.naive_bayes import MultinomialNB\n",
    "from sklearn.neighbors import KNeighborsClassifier\n",
    "from sklearn import metrics\n",
    "import xgboost as xgb\n",
    "from numpy import loadtxt\n",
    "from xgboost import XGBClassifier\n",
    "import catboost as ctb\n",
    "from catboost import CatBoostClassifier\n",
    "from sklearn.preprocessing import LabelEncoder\n",
    "import lightgbm as ltb\n",
    "\n",
    "# Setting global constants to ensure notebook results are reproducible\n",
    "PARAMETER_CONSTANT = 42\n",
    "\n",
    "# Ignore warnings\n",
    "import warnings\n",
    "warnings.simplefilter(action='ignore')\n"
   ]
  },
  {
   "cell_type": "markdown",
   "id": "f22a6718",
   "metadata": {},
   "source": [
    "<a id=\"two\"></a>\n",
    "## 2. Loading the Data\n",
    "<a class=\"anchor\" id=\"1.1\"></a>\n",
    "<a href=#cont>Back to Table of Contents</a>\n",
    "\n",
    "---\n",
    "    \n",
    "| ⚡ Description: Loading the data ⚡ |\n",
    "| :--------------------------- |\n",
    "| In this section you are required to load the data from the `df_train` file into a DataFrame. |\n",
    "\n",
    "---"
   ]
  },
  {
   "cell_type": "code",
   "execution_count": 2,
   "id": "fbbb6c18",
   "metadata": {
    "ExecuteTime": {
     "end_time": "2021-06-28T08:49:35.311495Z",
     "start_time": "2021-06-28T08:49:35.295494Z"
    }
   },
   "outputs": [
    {
     "data": {
      "text/html": [
       "<div>\n",
       "<style scoped>\n",
       "    .dataframe tbody tr th:only-of-type {\n",
       "        vertical-align: middle;\n",
       "    }\n",
       "\n",
       "    .dataframe tbody tr th {\n",
       "        vertical-align: top;\n",
       "    }\n",
       "\n",
       "    .dataframe thead th {\n",
       "        text-align: right;\n",
       "    }\n",
       "</style>\n",
       "<table border=\"1\" class=\"dataframe\">\n",
       "  <thead>\n",
       "    <tr style=\"text-align: right;\">\n",
       "      <th></th>\n",
       "      <th>sentiment</th>\n",
       "      <th>message</th>\n",
       "      <th>tweetid</th>\n",
       "    </tr>\n",
       "  </thead>\n",
       "  <tbody>\n",
       "    <tr>\n",
       "      <th>0</th>\n",
       "      <td>1</td>\n",
       "      <td>PolySciMajor EPA chief doesn't think carbon di...</td>\n",
       "      <td>625221</td>\n",
       "    </tr>\n",
       "    <tr>\n",
       "      <th>1</th>\n",
       "      <td>1</td>\n",
       "      <td>It's not like we lack evidence of anthropogeni...</td>\n",
       "      <td>126103</td>\n",
       "    </tr>\n",
       "    <tr>\n",
       "      <th>2</th>\n",
       "      <td>2</td>\n",
       "      <td>RT @RawStory: Researchers say we have three ye...</td>\n",
       "      <td>698562</td>\n",
       "    </tr>\n",
       "    <tr>\n",
       "      <th>3</th>\n",
       "      <td>1</td>\n",
       "      <td>#TodayinMaker# WIRED : 2016 was a pivotal year...</td>\n",
       "      <td>573736</td>\n",
       "    </tr>\n",
       "    <tr>\n",
       "      <th>4</th>\n",
       "      <td>1</td>\n",
       "      <td>RT @SoyNovioDeTodas: It's 2016, and a racist, ...</td>\n",
       "      <td>466954</td>\n",
       "    </tr>\n",
       "  </tbody>\n",
       "</table>\n",
       "</div>"
      ],
      "text/plain": [
       "   sentiment                                            message  tweetid\n",
       "0          1  PolySciMajor EPA chief doesn't think carbon di...   625221\n",
       "1          1  It's not like we lack evidence of anthropogeni...   126103\n",
       "2          2  RT @RawStory: Researchers say we have three ye...   698562\n",
       "3          1  #TodayinMaker# WIRED : 2016 was a pivotal year...   573736\n",
       "4          1  RT @SoyNovioDeTodas: It's 2016, and a racist, ...   466954"
      ]
     },
     "execution_count": 2,
     "metadata": {},
     "output_type": "execute_result"
    }
   ],
   "source": [
    "# load the data\n",
    "df_train = pd.read_csv('https://raw.githubusercontent.com/dianegovindan/dianegovindan/main/train.csv')\n",
    "df_test = pd.read_csv('https://raw.githubusercontent.com/dianegovindan/dianegovindan/main/test_with_no_labels.csv')\n",
    "df_train.head()"
   ]
  },
  {
   "cell_type": "markdown",
   "id": "81132ab3",
   "metadata": {},
   "source": [
    "<a id=\"three\"></a>\n",
    "## 3. Exploratory Data Analysis (EDA)\n",
    "<a class=\"anchor\" id=\"1.1\"></a>\n",
    "<a href=#cont>Back to Table of Contents</a>\n",
    "\n",
    "---\n",
    "    \n",
    "| ⚡ Description: Exploratory data analysis ⚡ |\n",
    "| :--------------------------- |\n",
    "| In this section, you are required to perform an in-depth analysis of all the variables in the DataFrame. |\n",
    "\n",
    "---\n"
   ]
  },
  {
   "cell_type": "code",
   "execution_count": 3,
   "id": "e805134e",
   "metadata": {
    "ExecuteTime": {
     "end_time": "2021-06-28T08:52:37.824204Z",
     "start_time": "2021-06-28T08:52:37.811206Z"
    }
   },
   "outputs": [
    {
     "name": "stdout",
     "output_type": "stream",
     "text": [
      "<class 'pandas.core.frame.DataFrame'>\n",
      "RangeIndex: 15819 entries, 0 to 15818\n",
      "Data columns (total 3 columns):\n",
      " #   Column     Non-Null Count  Dtype \n",
      "---  ------     --------------  ----- \n",
      " 0   sentiment  15819 non-null  int64 \n",
      " 1   message    15819 non-null  object\n",
      " 2   tweetid    15819 non-null  int64 \n",
      "dtypes: int64(2), object(1)\n",
      "memory usage: 370.9+ KB\n"
     ]
    }
   ],
   "source": [
    "# look at data statistics\n",
    "df_train.info()"
   ]
  },
  {
   "cell_type": "code",
   "execution_count": 4,
   "id": "914fa07c",
   "metadata": {},
   "outputs": [],
   "source": [
    "# Findings\n",
    "\n",
    "# There are no null values in the data set for cleaning/imputations.\n",
    "# However, tweetid does not seem to provide any useful information to the \n",
    "# analysis and should be considered to be dropped from the data"
   ]
  },
  {
   "cell_type": "code",
   "execution_count": 5,
   "id": "41d76177",
   "metadata": {},
   "outputs": [
    {
     "name": "stdout",
     "output_type": "stream",
     "text": [
      " 1    0.539225\n",
      " 2    0.230103\n",
      " 0    0.148745\n",
      "-1    0.081927\n",
      "Name: sentiment, dtype: float64\n"
     ]
    },
    {
     "data": {
      "image/png": "[encoded data removed]",
      "text/plain": [
       "<Figure size 1008x360 with 2 Axes>"
      ]
     },
     "metadata": {
      "needs_background": "light"
     },
     "output_type": "display_data"
    }
   ],
   "source": [
    "# Plotting frequency and proportions of sentiment classes (response variable) for train data\n",
    "\n",
    "stats_sentiment = df_train['sentiment'].value_counts(normalize=True)\n",
    "print(stats_sentiment)\n",
    "\n",
    "plt.figure(figsize=(14,5))\n",
    "plt.subplot(1,2,1)\n",
    "sns.countplot(data=df_train,y='sentiment')\n",
    "plt.subplot(1,2,2)\n",
    "stats_sentiment.plot.bar(rot=25)\n",
    "plt.ylabel('% distribution per class')\n",
    "plt.xlabel('sentiment class')\n",
    "plt.tight_layout()\n",
    "plt.show()"
   ]
  },
  {
   "cell_type": "code",
   "execution_count": 6,
   "id": "40c55d93",
   "metadata": {},
   "outputs": [],
   "source": [
    "# Findings\n",
    "\n",
    "# Around 54% of the data tweets belong to class 1 (Pro climate change), while the remaining class proportions are significantly\n",
    "# smaller in comparison.This could lead to the model being biased where it is able to predict class 1 better than \n",
    "# the other classes, and can incorrectly lead the audience to believe that the general tweet sentiment is pro climate change.\n",
    "# A possible consideration to balance the class imbalance of data, and reduce model bias is to try resampling \n",
    "# the data (up/down/combination of both)\n"
   ]
  },
  {
   "cell_type": "code",
   "execution_count": 7,
   "id": "4c24bec1",
   "metadata": {},
   "outputs": [],
   "source": [
    "# reweight\n",
    "cw = {-1: 0.46, 0:1.09, 1:1.67, 2:3.13}"
   ]
  },
  {
   "cell_type": "code",
   "execution_count": 8,
   "id": "2acd5e6b",
   "metadata": {},
   "outputs": [],
   "source": [
    "df_train = df_train.drop(['tweetid'], axis = 1)"
   ]
  },
  {
   "cell_type": "code",
   "execution_count": 9,
   "id": "6eb51e4b",
   "metadata": {},
   "outputs": [
    {
     "data": {
      "text/plain": [
       "('RT @LiterateLiberal: Leading global warming deniers just told us what they want trump to do https://t.co/tkZVNzDDd3 via @MotherJones',\n",
       " 2)"
      ]
     },
     "execution_count": 9,
     "metadata": {},
     "output_type": "execute_result"
    }
   ],
   "source": [
    "# General analysis of tweets\n",
    "row = 188\n",
    "df_train['message'][row],df_train['sentiment'][row] "
   ]
  },
  {
   "cell_type": "code",
   "execution_count": 10,
   "id": "5d545cdc",
   "metadata": {},
   "outputs": [],
   "source": [
    "# Findings\n",
    "\n",
    "# There may be some correlations between the below and the relevant sentiment class:\n",
    "# Number of hastags in a tweet\n",
    "# If tweet is a RT\n",
    "# Number of @'s in a tweet\n",
    "# Presence and number of https links in a tweet\n",
    "# If there are ?, ! or ''/\"\" >>> signal emotions\n",
    "# Tweet length (limit is 280 characters)\n",
    "# Profanity within the tweet >>> signal emotions\n"
   ]
  },
  {
   "cell_type": "code",
   "execution_count": 11,
   "id": "ba0a248f",
   "metadata": {},
   "outputs": [],
   "source": [
    "# Balanced sampling below did not produce better results"
   ]
  },
  {
   "cell_type": "code",
   "execution_count": 12,
   "id": "663786c2",
   "metadata": {},
   "outputs": [],
   "source": [
    "## Resampling \n",
    "## Separate minority and majority classes\n",
    "\n",
    "#anti = df_train[df_train['sentiment']==-1]\n",
    "#neutral = df_train[df_train['sentiment']==0]\n",
    "#pro = df_train[df_train['sentiment']==1]\n",
    "#news = df_train[df_train['sentiment']==2]\n"
   ]
  },
  {
   "cell_type": "code",
   "execution_count": 14,
   "id": "6c221d76",
   "metadata": {},
   "outputs": [],
   "source": [
    "# Downsample majority\n",
    "\n",
    "#min_class = news\n",
    "\n",
    "#pro_downsampled = resample(pro,\n",
    "#                          replace=False, # sample without replacement (no need to duplicate observations)\n",
    "#                          n_samples=len(min_class), # match number in selected minority class\n",
    "#                          random_state=42) # reproducible results\n",
    "\n",
    "# Combine downsampled majority class with minority class\n",
    "#df_downsampled = pd.concat([pro_downsampled, neutral, anti, news])\n",
    "\n",
    "# Check new class counts\n",
    "#df_downsampled['sentiment'].value_counts()\n",
    "\n",
    "#df_train = df_downsampled"
   ]
  },
  {
   "cell_type": "code",
   "execution_count": null,
   "id": "46421a79",
   "metadata": {},
   "outputs": [],
   "source": [
    "##function to upsample\n",
    "\n",
    "#def upsampling(class_name, max_class_name):\n",
    "#    upsampled = resample(class_name,\n",
    "#                         replace=True, # sample without replacement (no need to duplicate observations)\n",
    "#                         n_samples=len(max_class_name), # match number in selected minority class\n",
    "#                         random_state=42) # reproducible results\n",
    "#    return upsampled"
   ]
  },
  {
   "cell_type": "code",
   "execution_count": 15,
   "id": "c371e6b5",
   "metadata": {},
   "outputs": [],
   "source": [
    "## Upsample minority\n",
    "\n",
    "#max_class = news\n",
    "\n",
    "#neutral_upsampled = upsampling(neutral,max_class)\n",
    "\n",
    "#anti_upsampled = upsampling(anti,max_class)\n",
    "\n",
    "#news_upsampled = upsampling(news,max_class)\n",
    "\n",
    "\n",
    "# Combine downsampled majority class with minority class\n",
    "#df_upsampled = pd.concat([pro, neutral_upsampled, anti_upsampled, news_upsampled])\n",
    "#df_upsampled = pd.concat([pro_downsampled, neutral_upsampled, anti_upsampled, news])\n",
    "\n",
    "# Check new class counts\n",
    "#df_upsampled['sentiment'].value_counts()\n",
    "\n",
    "#df_train = df_upsampled"
   ]
  },
  {
   "cell_type": "code",
   "execution_count": 16,
   "id": "6a775967",
   "metadata": {},
   "outputs": [],
   "source": [
    "# Check new class counts\n",
    "#df_upsampled['sentiment'].value_counts()"
   ]
  },
  {
   "cell_type": "code",
   "execution_count": 17,
   "id": "50468232",
   "metadata": {},
   "outputs": [],
   "source": [
    "# Add Tweet length feature\n",
    "\n",
    "# Converting of http link to http word only to remove bias due to length of link\n",
    "# Some preprocessing is required as only the actual tweet length is to be summed. Counting chars only from : onwards for RT\n",
    "\n",
    "def clean_http(text):\n",
    "    text = re.sub(r'http[s]?://(?:[A-Za-z]|[0-9]|[$-_@.&+]|[!*\\(\\),]|(?:%[0-9A-Fa-f][0-9A-Fa-f]))+', r'http', text) #remove the url and replace with http\n",
    "    return text\n",
    "\n",
    "def tweet_length(text):\n",
    "    count = 0\n",
    "    \n",
    "    # search if RT then search the :, count from that\n",
    "    if text[0:2]=='RT':\n",
    "        pos = text.find(':')\n",
    "        count = len(text[pos:])\n",
    "    else: # if not RT, count length\n",
    "        count = len(text)    \n",
    "    \n",
    "    return count\n"
   ]
  },
  {
   "cell_type": "code",
   "execution_count": 18,
   "id": "a97e1def",
   "metadata": {},
   "outputs": [
    {
     "data": {
      "text/html": [
       "<div>\n",
       "<style scoped>\n",
       "    .dataframe tbody tr th:only-of-type {\n",
       "        vertical-align: middle;\n",
       "    }\n",
       "\n",
       "    .dataframe tbody tr th {\n",
       "        vertical-align: top;\n",
       "    }\n",
       "\n",
       "    .dataframe thead th {\n",
       "        text-align: right;\n",
       "    }\n",
       "</style>\n",
       "<table border=\"1\" class=\"dataframe\">\n",
       "  <thead>\n",
       "    <tr style=\"text-align: right;\">\n",
       "      <th></th>\n",
       "      <th>sentiment</th>\n",
       "      <th>message</th>\n",
       "      <th>tweet_length</th>\n",
       "    </tr>\n",
       "  </thead>\n",
       "  <tbody>\n",
       "    <tr>\n",
       "      <th>0</th>\n",
       "      <td>1</td>\n",
       "      <td>PolySciMajor EPA chief doesn't think carbon di...</td>\n",
       "      <td>121</td>\n",
       "    </tr>\n",
       "    <tr>\n",
       "      <th>1</th>\n",
       "      <td>1</td>\n",
       "      <td>It's not like we lack evidence of anthropogeni...</td>\n",
       "      <td>62</td>\n",
       "    </tr>\n",
       "    <tr>\n",
       "      <th>2</th>\n",
       "      <td>2</td>\n",
       "      <td>RT @RawStory: Researchers say we have three ye...</td>\n",
       "      <td>94</td>\n",
       "    </tr>\n",
       "    <tr>\n",
       "      <th>3</th>\n",
       "      <td>1</td>\n",
       "      <td>#TodayinMaker# WIRED : 2016 was a pivotal year...</td>\n",
       "      <td>80</td>\n",
       "    </tr>\n",
       "    <tr>\n",
       "      <th>4</th>\n",
       "      <td>1</td>\n",
       "      <td>RT @SoyNovioDeTodas: It's 2016, and a racist, ...</td>\n",
       "      <td>103</td>\n",
       "    </tr>\n",
       "  </tbody>\n",
       "</table>\n",
       "</div>"
      ],
      "text/plain": [
       "   sentiment                                            message  tweet_length\n",
       "0          1  PolySciMajor EPA chief doesn't think carbon di...           121\n",
       "1          1  It's not like we lack evidence of anthropogeni...            62\n",
       "2          2  RT @RawStory: Researchers say we have three ye...            94\n",
       "3          1  #TodayinMaker# WIRED : 2016 was a pivotal year...            80\n",
       "4          1  RT @SoyNovioDeTodas: It's 2016, and a racist, ...           103"
      ]
     },
     "execution_count": 18,
     "metadata": {},
     "output_type": "execute_result"
    }
   ],
   "source": [
    "# run functions and apply to message column\n",
    "df_train['message'] = df_train['message'].apply(clean_http)\n",
    "df_train['tweet_length'] = df_train['message'].apply(tweet_length)\n",
    "df_train.head()"
   ]
  },
  {
   "cell_type": "code",
   "execution_count": 19,
   "id": "fe952528",
   "metadata": {},
   "outputs": [
    {
     "data": {
      "text/html": [
       "<div>\n",
       "<style scoped>\n",
       "    .dataframe tbody tr th:only-of-type {\n",
       "        vertical-align: middle;\n",
       "    }\n",
       "\n",
       "    .dataframe tbody tr th {\n",
       "        vertical-align: top;\n",
       "    }\n",
       "\n",
       "    .dataframe thead th {\n",
       "        text-align: right;\n",
       "    }\n",
       "</style>\n",
       "<table border=\"1\" class=\"dataframe\">\n",
       "  <thead>\n",
       "    <tr style=\"text-align: right;\">\n",
       "      <th>sentiment</th>\n",
       "      <th>-1</th>\n",
       "      <th>0</th>\n",
       "      <th>1</th>\n",
       "      <th>2</th>\n",
       "    </tr>\n",
       "  </thead>\n",
       "  <tbody>\n",
       "    <tr>\n",
       "      <th>count</th>\n",
       "      <td>1296.000000</td>\n",
       "      <td>2353.000000</td>\n",
       "      <td>8530.000000</td>\n",
       "      <td>3640.000000</td>\n",
       "    </tr>\n",
       "    <tr>\n",
       "      <th>mean</th>\n",
       "      <td>108.044753</td>\n",
       "      <td>97.289843</td>\n",
       "      <td>110.212309</td>\n",
       "      <td>91.246703</td>\n",
       "    </tr>\n",
       "    <tr>\n",
       "      <th>std</th>\n",
       "      <td>24.644803</td>\n",
       "      <td>30.905484</td>\n",
       "      <td>21.609617</td>\n",
       "      <td>19.667534</td>\n",
       "    </tr>\n",
       "    <tr>\n",
       "      <th>min</th>\n",
       "      <td>1.000000</td>\n",
       "      <td>1.000000</td>\n",
       "      <td>1.000000</td>\n",
       "      <td>1.000000</td>\n",
       "    </tr>\n",
       "    <tr>\n",
       "      <th>25%</th>\n",
       "      <td>95.000000</td>\n",
       "      <td>72.000000</td>\n",
       "      <td>100.000000</td>\n",
       "      <td>77.000000</td>\n",
       "    </tr>\n",
       "    <tr>\n",
       "      <th>50%</th>\n",
       "      <td>118.000000</td>\n",
       "      <td>105.000000</td>\n",
       "      <td>117.000000</td>\n",
       "      <td>91.000000</td>\n",
       "    </tr>\n",
       "    <tr>\n",
       "      <th>75%</th>\n",
       "      <td>124.000000</td>\n",
       "      <td>122.000000</td>\n",
       "      <td>124.000000</td>\n",
       "      <td>106.000000</td>\n",
       "    </tr>\n",
       "    <tr>\n",
       "      <th>max</th>\n",
       "      <td>160.000000</td>\n",
       "      <td>155.000000</td>\n",
       "      <td>195.000000</td>\n",
       "      <td>145.000000</td>\n",
       "    </tr>\n",
       "  </tbody>\n",
       "</table>\n",
       "</div>"
      ],
      "text/plain": [
       "sentiment           -1            0            1            2\n",
       "count      1296.000000  2353.000000  8530.000000  3640.000000\n",
       "mean        108.044753    97.289843   110.212309    91.246703\n",
       "std          24.644803    30.905484    21.609617    19.667534\n",
       "min           1.000000     1.000000     1.000000     1.000000\n",
       "25%          95.000000    72.000000   100.000000    77.000000\n",
       "50%         118.000000   105.000000   117.000000    91.000000\n",
       "75%         124.000000   122.000000   124.000000   106.000000\n",
       "max         160.000000   155.000000   195.000000   145.000000"
      ]
     },
     "execution_count": 19,
     "metadata": {},
     "output_type": "execute_result"
    }
   ],
   "source": [
    "# Descriptive statistics for tweet length per sentiment class\n",
    "df_train.groupby('sentiment')['tweet_length'].describe().T"
   ]
  },
  {
   "cell_type": "code",
   "execution_count": 20,
   "id": "e54edb98",
   "metadata": {},
   "outputs": [],
   "source": [
    "# Add Hastag count feature\n",
    "\n",
    "def hashtag_count(text):\n",
    "    count = 0\n",
    "    count = text.count('#')\n",
    "    return count"
   ]
  },
  {
   "cell_type": "code",
   "execution_count": 21,
   "id": "2be38e01",
   "metadata": {},
   "outputs": [
    {
     "data": {
      "text/html": [
       "<div>\n",
       "<style scoped>\n",
       "    .dataframe tbody tr th:only-of-type {\n",
       "        vertical-align: middle;\n",
       "    }\n",
       "\n",
       "    .dataframe tbody tr th {\n",
       "        vertical-align: top;\n",
       "    }\n",
       "\n",
       "    .dataframe thead th {\n",
       "        text-align: right;\n",
       "    }\n",
       "</style>\n",
       "<table border=\"1\" class=\"dataframe\">\n",
       "  <thead>\n",
       "    <tr style=\"text-align: right;\">\n",
       "      <th></th>\n",
       "      <th>sentiment</th>\n",
       "      <th>message</th>\n",
       "      <th>tweet_length</th>\n",
       "      <th>hashtag_count</th>\n",
       "    </tr>\n",
       "  </thead>\n",
       "  <tbody>\n",
       "    <tr>\n",
       "      <th>0</th>\n",
       "      <td>1</td>\n",
       "      <td>PolySciMajor EPA chief doesn't think carbon di...</td>\n",
       "      <td>121</td>\n",
       "      <td>0</td>\n",
       "    </tr>\n",
       "    <tr>\n",
       "      <th>1</th>\n",
       "      <td>1</td>\n",
       "      <td>It's not like we lack evidence of anthropogeni...</td>\n",
       "      <td>62</td>\n",
       "      <td>0</td>\n",
       "    </tr>\n",
       "    <tr>\n",
       "      <th>2</th>\n",
       "      <td>2</td>\n",
       "      <td>RT @RawStory: Researchers say we have three ye...</td>\n",
       "      <td>94</td>\n",
       "      <td>0</td>\n",
       "    </tr>\n",
       "    <tr>\n",
       "      <th>3</th>\n",
       "      <td>1</td>\n",
       "      <td>#TodayinMaker# WIRED : 2016 was a pivotal year...</td>\n",
       "      <td>80</td>\n",
       "      <td>2</td>\n",
       "    </tr>\n",
       "    <tr>\n",
       "      <th>4</th>\n",
       "      <td>1</td>\n",
       "      <td>RT @SoyNovioDeTodas: It's 2016, and a racist, ...</td>\n",
       "      <td>103</td>\n",
       "      <td>1</td>\n",
       "    </tr>\n",
       "  </tbody>\n",
       "</table>\n",
       "</div>"
      ],
      "text/plain": [
       "   sentiment                                            message  tweet_length  \\\n",
       "0          1  PolySciMajor EPA chief doesn't think carbon di...           121   \n",
       "1          1  It's not like we lack evidence of anthropogeni...            62   \n",
       "2          2  RT @RawStory: Researchers say we have three ye...            94   \n",
       "3          1  #TodayinMaker# WIRED : 2016 was a pivotal year...            80   \n",
       "4          1  RT @SoyNovioDeTodas: It's 2016, and a racist, ...           103   \n",
       "\n",
       "   hashtag_count  \n",
       "0              0  \n",
       "1              0  \n",
       "2              0  \n",
       "3              2  \n",
       "4              1  "
      ]
     },
     "execution_count": 21,
     "metadata": {},
     "output_type": "execute_result"
    }
   ],
   "source": [
    "df_train['hashtag_count'] = df_train['message'].apply(hashtag_count)\n",
    "df_train.head()"
   ]
  },
  {
   "cell_type": "code",
   "execution_count": 22,
   "id": "73daebaf",
   "metadata": {},
   "outputs": [
    {
     "name": "stdout",
     "output_type": "stream",
     "text": [
      "sentiment\n",
      "-1    0.187500\n",
      " 0    0.176371\n",
      " 1    0.308675\n",
      " 2    0.241209\n",
      "dtype: float64\n"
     ]
    }
   ],
   "source": [
    "# Get stats for hashtag count per sentiment class\n",
    "stats_hashtag = df_train.groupby('sentiment')['hashtag_count'].sum()\n",
    "total_per_class = df_train.groupby('sentiment')['sentiment'].count()\n",
    "hashtag_perc = stats_hashtag/total_per_class\n",
    "print(hashtag_perc)"
   ]
  },
  {
   "cell_type": "code",
   "execution_count": 23,
   "id": "becad3f8",
   "metadata": {},
   "outputs": [
    {
     "data": {
      "image/png": "[encoded data removed]",
      "text/plain": [
       "<Figure size 432x288 with 1 Axes>"
      ]
     },
     "metadata": {
      "needs_background": "light"
     },
     "output_type": "display_data"
    }
   ],
   "source": [
    "# Plot hashtag count %\n",
    "sns.barplot(y=hashtag_perc, x=[-1,0,1,2])\n",
    "plt.xlabel(\"sentiment\")\n",
    "plt.ylabel(\"%\")\n",
    "plt.title(\"Hashtags per sentiment class as % of total per class\")\n",
    "plt.show()"
   ]
  },
  {
   "cell_type": "code",
   "execution_count": 24,
   "id": "a1c1bade",
   "metadata": {},
   "outputs": [],
   "source": [
    "# Findings\n",
    "\n",
    "# There seems to be a large proportion of tweets with hashtags that is applicable to Pro climate change class (31%)\n",
    "# This could be showing some predictabilty with this feature"
   ]
  },
  {
   "cell_type": "code",
   "execution_count": 25,
   "id": "0e2a0fc9",
   "metadata": {},
   "outputs": [],
   "source": [
    "# Add RT count feature\n",
    "\n",
    "def RT_count(text):\n",
    "    if text[0:2]=='RT':\n",
    "        count = 1\n",
    "    else:\n",
    "        count = 0\n",
    "    return count"
   ]
  },
  {
   "cell_type": "code",
   "execution_count": 26,
   "id": "0fd3014b",
   "metadata": {},
   "outputs": [
    {
     "data": {
      "text/html": [
       "<div>\n",
       "<style scoped>\n",
       "    .dataframe tbody tr th:only-of-type {\n",
       "        vertical-align: middle;\n",
       "    }\n",
       "\n",
       "    .dataframe tbody tr th {\n",
       "        vertical-align: top;\n",
       "    }\n",
       "\n",
       "    .dataframe thead th {\n",
       "        text-align: right;\n",
       "    }\n",
       "</style>\n",
       "<table border=\"1\" class=\"dataframe\">\n",
       "  <thead>\n",
       "    <tr style=\"text-align: right;\">\n",
       "      <th></th>\n",
       "      <th>sentiment</th>\n",
       "      <th>message</th>\n",
       "      <th>tweet_length</th>\n",
       "      <th>hashtag_count</th>\n",
       "      <th>RT_count</th>\n",
       "    </tr>\n",
       "  </thead>\n",
       "  <tbody>\n",
       "    <tr>\n",
       "      <th>0</th>\n",
       "      <td>1</td>\n",
       "      <td>PolySciMajor EPA chief doesn't think carbon di...</td>\n",
       "      <td>121</td>\n",
       "      <td>0</td>\n",
       "      <td>0</td>\n",
       "    </tr>\n",
       "    <tr>\n",
       "      <th>1</th>\n",
       "      <td>1</td>\n",
       "      <td>It's not like we lack evidence of anthropogeni...</td>\n",
       "      <td>62</td>\n",
       "      <td>0</td>\n",
       "      <td>0</td>\n",
       "    </tr>\n",
       "    <tr>\n",
       "      <th>2</th>\n",
       "      <td>2</td>\n",
       "      <td>RT @RawStory: Researchers say we have three ye...</td>\n",
       "      <td>94</td>\n",
       "      <td>0</td>\n",
       "      <td>1</td>\n",
       "    </tr>\n",
       "    <tr>\n",
       "      <th>3</th>\n",
       "      <td>1</td>\n",
       "      <td>#TodayinMaker# WIRED : 2016 was a pivotal year...</td>\n",
       "      <td>80</td>\n",
       "      <td>2</td>\n",
       "      <td>0</td>\n",
       "    </tr>\n",
       "    <tr>\n",
       "      <th>4</th>\n",
       "      <td>1</td>\n",
       "      <td>RT @SoyNovioDeTodas: It's 2016, and a racist, ...</td>\n",
       "      <td>103</td>\n",
       "      <td>1</td>\n",
       "      <td>1</td>\n",
       "    </tr>\n",
       "  </tbody>\n",
       "</table>\n",
       "</div>"
      ],
      "text/plain": [
       "   sentiment                                            message  tweet_length  \\\n",
       "0          1  PolySciMajor EPA chief doesn't think carbon di...           121   \n",
       "1          1  It's not like we lack evidence of anthropogeni...            62   \n",
       "2          2  RT @RawStory: Researchers say we have three ye...            94   \n",
       "3          1  #TodayinMaker# WIRED : 2016 was a pivotal year...            80   \n",
       "4          1  RT @SoyNovioDeTodas: It's 2016, and a racist, ...           103   \n",
       "\n",
       "   hashtag_count  RT_count  \n",
       "0              0         0  \n",
       "1              0         0  \n",
       "2              0         1  \n",
       "3              2         0  \n",
       "4              1         1  "
      ]
     },
     "execution_count": 26,
     "metadata": {},
     "output_type": "execute_result"
    }
   ],
   "source": [
    "df_train['RT_count'] = df_train['message'].apply(RT_count)\n",
    "df_train.head()\n",
    "#df_train['RT_indicator'].drop"
   ]
  },
  {
   "cell_type": "code",
   "execution_count": 27,
   "id": "4c9a1912",
   "metadata": {},
   "outputs": [
    {
     "name": "stdout",
     "output_type": "stream",
     "text": [
      "sentiment\n",
      "-1    0.526235\n",
      " 0    0.458564\n",
      " 1    0.674209\n",
      " 2    0.584615\n",
      "dtype: float64\n"
     ]
    }
   ],
   "source": [
    "# Get stats for RT count per sentiment class\n",
    "stats_RT = df_train.groupby('sentiment')['RT_count'].sum()\n",
    "total_per_class = df_train.groupby('sentiment')['sentiment'].count()\n",
    "RT_perc = stats_RT/total_per_class\n",
    "print(RT_perc)"
   ]
  },
  {
   "cell_type": "code",
   "execution_count": 28,
   "id": "4b06f13f",
   "metadata": {},
   "outputs": [
    {
     "data": {
      "image/png": "[encoded data removed]",
      "text/plain": [
       "<Figure size 432x288 with 1 Axes>"
      ]
     },
     "metadata": {
      "needs_background": "light"
     },
     "output_type": "display_data"
    }
   ],
   "source": [
    "# Plot RT count %\n",
    "sns.barplot(y=RT_perc, x=[-1,0,1,2])\n",
    "plt.xlabel(\"sentiment\")\n",
    "plt.ylabel(\"%\")\n",
    "plt.title(\"RT % per sentiment class\")\n",
    "plt.show()"
   ]
  },
  {
   "cell_type": "code",
   "execution_count": 29,
   "id": "513f8e46",
   "metadata": {},
   "outputs": [],
   "source": [
    "# Findings\n",
    "\n",
    "# There seems to be a large proportion of Retweets applicable to Pro climate change (67%)\n",
    "# This could be showing some predictabilty with this feature"
   ]
  },
  {
   "cell_type": "code",
   "execution_count": 30,
   "id": "a4a02795",
   "metadata": {},
   "outputs": [],
   "source": [
    "# Add punctuation (?!'\") count feature\n",
    "\n",
    "def punc_count(text):\n",
    "    count_qm = 0\n",
    "    count_em = 0\n",
    "    count_sq = 0\n",
    "    count_dq = 0\n",
    "    \n",
    "    count_qm = text.count('?')\n",
    "    count_em = text.count('!')\n",
    "    count_sq = text.count('\\'')\n",
    "    if count_sq % 2 != 0:\n",
    "           count_sq = count_sq - 1\n",
    "    count_dq = text.count('\"')\n",
    "    sum_count = count_qm + count_em + count_sq + count_dq     \n",
    "    \n",
    "    return sum_count"
   ]
  },
  {
   "cell_type": "code",
   "execution_count": 31,
   "id": "dfacc8a8",
   "metadata": {},
   "outputs": [
    {
     "data": {
      "text/html": [
       "<div>\n",
       "<style scoped>\n",
       "    .dataframe tbody tr th:only-of-type {\n",
       "        vertical-align: middle;\n",
       "    }\n",
       "\n",
       "    .dataframe tbody tr th {\n",
       "        vertical-align: top;\n",
       "    }\n",
       "\n",
       "    .dataframe thead th {\n",
       "        text-align: right;\n",
       "    }\n",
       "</style>\n",
       "<table border=\"1\" class=\"dataframe\">\n",
       "  <thead>\n",
       "    <tr style=\"text-align: right;\">\n",
       "      <th></th>\n",
       "      <th>sentiment</th>\n",
       "      <th>message</th>\n",
       "      <th>tweet_length</th>\n",
       "      <th>hashtag_count</th>\n",
       "      <th>RT_count</th>\n",
       "      <th>punc_count</th>\n",
       "    </tr>\n",
       "  </thead>\n",
       "  <tbody>\n",
       "    <tr>\n",
       "      <th>0</th>\n",
       "      <td>1</td>\n",
       "      <td>PolySciMajor EPA chief doesn't think carbon di...</td>\n",
       "      <td>121</td>\n",
       "      <td>0</td>\n",
       "      <td>0</td>\n",
       "      <td>2</td>\n",
       "    </tr>\n",
       "    <tr>\n",
       "      <th>1</th>\n",
       "      <td>1</td>\n",
       "      <td>It's not like we lack evidence of anthropogeni...</td>\n",
       "      <td>62</td>\n",
       "      <td>0</td>\n",
       "      <td>0</td>\n",
       "      <td>0</td>\n",
       "    </tr>\n",
       "    <tr>\n",
       "      <th>2</th>\n",
       "      <td>2</td>\n",
       "      <td>RT @RawStory: Researchers say we have three ye...</td>\n",
       "      <td>94</td>\n",
       "      <td>0</td>\n",
       "      <td>1</td>\n",
       "      <td>0</td>\n",
       "    </tr>\n",
       "    <tr>\n",
       "      <th>3</th>\n",
       "      <td>1</td>\n",
       "      <td>#TodayinMaker# WIRED : 2016 was a pivotal year...</td>\n",
       "      <td>80</td>\n",
       "      <td>2</td>\n",
       "      <td>0</td>\n",
       "      <td>0</td>\n",
       "    </tr>\n",
       "    <tr>\n",
       "      <th>4</th>\n",
       "      <td>1</td>\n",
       "      <td>RT @SoyNovioDeTodas: It's 2016, and a racist, ...</td>\n",
       "      <td>103</td>\n",
       "      <td>1</td>\n",
       "      <td>1</td>\n",
       "      <td>0</td>\n",
       "    </tr>\n",
       "  </tbody>\n",
       "</table>\n",
       "</div>"
      ],
      "text/plain": [
       "   sentiment                                            message  tweet_length  \\\n",
       "0          1  PolySciMajor EPA chief doesn't think carbon di...           121   \n",
       "1          1  It's not like we lack evidence of anthropogeni...            62   \n",
       "2          2  RT @RawStory: Researchers say we have three ye...            94   \n",
       "3          1  #TodayinMaker# WIRED : 2016 was a pivotal year...            80   \n",
       "4          1  RT @SoyNovioDeTodas: It's 2016, and a racist, ...           103   \n",
       "\n",
       "   hashtag_count  RT_count  punc_count  \n",
       "0              0         0           2  \n",
       "1              0         0           0  \n",
       "2              0         1           0  \n",
       "3              2         0           0  \n",
       "4              1         1           0  "
      ]
     },
     "execution_count": 31,
     "metadata": {},
     "output_type": "execute_result"
    }
   ],
   "source": [
    "df_train['punc_count'] = df_train['message'].apply(punc_count)\n",
    "df_train.head()"
   ]
  },
  {
   "cell_type": "code",
   "execution_count": 32,
   "id": "1e9005a7",
   "metadata": {},
   "outputs": [
    {
     "name": "stdout",
     "output_type": "stream",
     "text": [
      "sentiment\n",
      "-1    0.851080\n",
      " 0    0.693158\n",
      " 1    0.569050\n",
      " 2    0.328297\n",
      "dtype: float64\n"
     ]
    }
   ],
   "source": [
    "# Get stats for punc count per sentiment class\n",
    "stats_punc = df_train.groupby('sentiment')['punc_count'].sum()\n",
    "total_per_class = df_train.groupby('sentiment')['sentiment'].count()\n",
    "punc_perc = stats_punc/total_per_class\n",
    "print(punc_perc)"
   ]
  },
  {
   "cell_type": "code",
   "execution_count": 33,
   "id": "903e69c0",
   "metadata": {},
   "outputs": [
    {
     "data": {
      "image/png": "[encoded data removed]",
      "text/plain": [
       "<Figure size 432x288 with 1 Axes>"
      ]
     },
     "metadata": {
      "needs_background": "light"
     },
     "output_type": "display_data"
    }
   ],
   "source": [
    "# Plot punc_count %\n",
    "sns.barplot(y=punc_perc, x=[-1,0,1,2])\n",
    "plt.xlabel(\"sentiment\")\n",
    "plt.ylabel(\"%\")\n",
    "plt.title(\"Punctuation % per sentiment class\")\n",
    "plt.show()"
   ]
  },
  {
   "cell_type": "code",
   "execution_count": 34,
   "id": "9e48a63d",
   "metadata": {},
   "outputs": [],
   "source": [
    "# Findings\n",
    "\n",
    "# There seems to be a large proportion of Retweets applicable to Anti climate change (85%),\n",
    "# with decreasing proportions across the other classes.\n",
    "# This could be showing some predictabilty with this feature"
   ]
  },
  {
   "cell_type": "code",
   "execution_count": 35,
   "id": "2f977c07",
   "metadata": {},
   "outputs": [],
   "source": [
    "# add word count feature\n",
    "\n",
    "def word_count(text):\n",
    "\n",
    "    # search if RT then search the :, count from that\n",
    "    if text[0:2]=='RT':\n",
    "        pos = text.find(':')\n",
    "        text = text[pos:]\n",
    "    \n",
    "    text_list = text.split()\n",
    "    \n",
    "    return len(text_list)"
   ]
  },
  {
   "cell_type": "code",
   "execution_count": 36,
   "id": "1ce01675",
   "metadata": {},
   "outputs": [
    {
     "data": {
      "text/html": [
       "<div>\n",
       "<style scoped>\n",
       "    .dataframe tbody tr th:only-of-type {\n",
       "        vertical-align: middle;\n",
       "    }\n",
       "\n",
       "    .dataframe tbody tr th {\n",
       "        vertical-align: top;\n",
       "    }\n",
       "\n",
       "    .dataframe thead th {\n",
       "        text-align: right;\n",
       "    }\n",
       "</style>\n",
       "<table border=\"1\" class=\"dataframe\">\n",
       "  <thead>\n",
       "    <tr style=\"text-align: right;\">\n",
       "      <th></th>\n",
       "      <th>sentiment</th>\n",
       "      <th>message</th>\n",
       "      <th>tweet_length</th>\n",
       "      <th>hashtag_count</th>\n",
       "      <th>RT_count</th>\n",
       "      <th>punc_count</th>\n",
       "      <th>tweet_word_count</th>\n",
       "    </tr>\n",
       "  </thead>\n",
       "  <tbody>\n",
       "    <tr>\n",
       "      <th>0</th>\n",
       "      <td>1</td>\n",
       "      <td>PolySciMajor EPA chief doesn't think carbon di...</td>\n",
       "      <td>121</td>\n",
       "      <td>0</td>\n",
       "      <td>0</td>\n",
       "      <td>2</td>\n",
       "      <td>19</td>\n",
       "    </tr>\n",
       "    <tr>\n",
       "      <th>1</th>\n",
       "      <td>1</td>\n",
       "      <td>It's not like we lack evidence of anthropogeni...</td>\n",
       "      <td>62</td>\n",
       "      <td>0</td>\n",
       "      <td>0</td>\n",
       "      <td>0</td>\n",
       "      <td>10</td>\n",
       "    </tr>\n",
       "    <tr>\n",
       "      <th>2</th>\n",
       "      <td>2</td>\n",
       "      <td>RT @RawStory: Researchers say we have three ye...</td>\n",
       "      <td>94</td>\n",
       "      <td>0</td>\n",
       "      <td>1</td>\n",
       "      <td>0</td>\n",
       "      <td>18</td>\n",
       "    </tr>\n",
       "    <tr>\n",
       "      <th>3</th>\n",
       "      <td>1</td>\n",
       "      <td>#TodayinMaker# WIRED : 2016 was a pivotal year...</td>\n",
       "      <td>80</td>\n",
       "      <td>2</td>\n",
       "      <td>0</td>\n",
       "      <td>0</td>\n",
       "      <td>15</td>\n",
       "    </tr>\n",
       "    <tr>\n",
       "      <th>4</th>\n",
       "      <td>1</td>\n",
       "      <td>RT @SoyNovioDeTodas: It's 2016, and a racist, ...</td>\n",
       "      <td>103</td>\n",
       "      <td>1</td>\n",
       "      <td>1</td>\n",
       "      <td>0</td>\n",
       "      <td>17</td>\n",
       "    </tr>\n",
       "  </tbody>\n",
       "</table>\n",
       "</div>"
      ],
      "text/plain": [
       "   sentiment                                            message  tweet_length  \\\n",
       "0          1  PolySciMajor EPA chief doesn't think carbon di...           121   \n",
       "1          1  It's not like we lack evidence of anthropogeni...            62   \n",
       "2          2  RT @RawStory: Researchers say we have three ye...            94   \n",
       "3          1  #TodayinMaker# WIRED : 2016 was a pivotal year...            80   \n",
       "4          1  RT @SoyNovioDeTodas: It's 2016, and a racist, ...           103   \n",
       "\n",
       "   hashtag_count  RT_count  punc_count  tweet_word_count  \n",
       "0              0         0           2                19  \n",
       "1              0         0           0                10  \n",
       "2              0         1           0                18  \n",
       "3              2         0           0                15  \n",
       "4              1         1           0                17  "
      ]
     },
     "execution_count": 36,
     "metadata": {},
     "output_type": "execute_result"
    }
   ],
   "source": [
    "df_train['tweet_word_count'] = df_train['message'].apply(word_count)\n",
    "df_train.head()"
   ]
  },
  {
   "cell_type": "code",
   "execution_count": 37,
   "id": "f06fc355",
   "metadata": {},
   "outputs": [
    {
     "data": {
      "text/html": [
       "<div>\n",
       "<style scoped>\n",
       "    .dataframe tbody tr th:only-of-type {\n",
       "        vertical-align: middle;\n",
       "    }\n",
       "\n",
       "    .dataframe tbody tr th {\n",
       "        vertical-align: top;\n",
       "    }\n",
       "\n",
       "    .dataframe thead th {\n",
       "        text-align: right;\n",
       "    }\n",
       "</style>\n",
       "<table border=\"1\" class=\"dataframe\">\n",
       "  <thead>\n",
       "    <tr style=\"text-align: right;\">\n",
       "      <th>sentiment</th>\n",
       "      <th>-1</th>\n",
       "      <th>0</th>\n",
       "      <th>1</th>\n",
       "      <th>2</th>\n",
       "    </tr>\n",
       "  </thead>\n",
       "  <tbody>\n",
       "    <tr>\n",
       "      <th>count</th>\n",
       "      <td>1296.000000</td>\n",
       "      <td>2353.000000</td>\n",
       "      <td>8530.000000</td>\n",
       "      <td>3640.000000</td>\n",
       "    </tr>\n",
       "    <tr>\n",
       "      <th>mean</th>\n",
       "      <td>17.831019</td>\n",
       "      <td>16.078623</td>\n",
       "      <td>18.184877</td>\n",
       "      <td>14.776099</td>\n",
       "    </tr>\n",
       "    <tr>\n",
       "      <th>std</th>\n",
       "      <td>4.450499</td>\n",
       "      <td>5.502413</td>\n",
       "      <td>3.926267</td>\n",
       "      <td>3.262894</td>\n",
       "    </tr>\n",
       "    <tr>\n",
       "      <th>min</th>\n",
       "      <td>1.000000</td>\n",
       "      <td>1.000000</td>\n",
       "      <td>1.000000</td>\n",
       "      <td>1.000000</td>\n",
       "    </tr>\n",
       "    <tr>\n",
       "      <th>25%</th>\n",
       "      <td>15.000000</td>\n",
       "      <td>12.000000</td>\n",
       "      <td>16.000000</td>\n",
       "      <td>12.000000</td>\n",
       "    </tr>\n",
       "    <tr>\n",
       "      <th>50%</th>\n",
       "      <td>19.000000</td>\n",
       "      <td>17.000000</td>\n",
       "      <td>19.000000</td>\n",
       "      <td>15.000000</td>\n",
       "    </tr>\n",
       "    <tr>\n",
       "      <th>75%</th>\n",
       "      <td>21.000000</td>\n",
       "      <td>20.000000</td>\n",
       "      <td>21.000000</td>\n",
       "      <td>17.000000</td>\n",
       "    </tr>\n",
       "    <tr>\n",
       "      <th>max</th>\n",
       "      <td>29.000000</td>\n",
       "      <td>31.000000</td>\n",
       "      <td>31.000000</td>\n",
       "      <td>25.000000</td>\n",
       "    </tr>\n",
       "  </tbody>\n",
       "</table>\n",
       "</div>"
      ],
      "text/plain": [
       "sentiment           -1            0            1            2\n",
       "count      1296.000000  2353.000000  8530.000000  3640.000000\n",
       "mean         17.831019    16.078623    18.184877    14.776099\n",
       "std           4.450499     5.502413     3.926267     3.262894\n",
       "min           1.000000     1.000000     1.000000     1.000000\n",
       "25%          15.000000    12.000000    16.000000    12.000000\n",
       "50%          19.000000    17.000000    19.000000    15.000000\n",
       "75%          21.000000    20.000000    21.000000    17.000000\n",
       "max          29.000000    31.000000    31.000000    25.000000"
      ]
     },
     "execution_count": 37,
     "metadata": {},
     "output_type": "execute_result"
    }
   ],
   "source": [
    "# Descriptive statistics for tweet word count per sentiment class\n",
    "df_train.groupby('sentiment')['tweet_word_count'].describe().T"
   ]
  },
  {
   "cell_type": "code",
   "execution_count": 38,
   "id": "bc5f1eb6",
   "metadata": {},
   "outputs": [],
   "source": [
    "# Findings \n",
    "\n",
    "# The mean word count does have slight difference between the different sentiment classes\n",
    "# Mean difference significance test might be required or correlation check\n"
   ]
  },
  {
   "cell_type": "code",
   "execution_count": 39,
   "id": "d450b614",
   "metadata": {},
   "outputs": [],
   "source": [
    "# Add @ count feature\n",
    "\n",
    "def at_count(text):\n",
    "    count = 0\n",
    "    count = text.count('@')\n",
    "    return count"
   ]
  },
  {
   "cell_type": "code",
   "execution_count": 40,
   "id": "c0eab944",
   "metadata": {},
   "outputs": [
    {
     "data": {
      "text/html": [
       "<div>\n",
       "<style scoped>\n",
       "    .dataframe tbody tr th:only-of-type {\n",
       "        vertical-align: middle;\n",
       "    }\n",
       "\n",
       "    .dataframe tbody tr th {\n",
       "        vertical-align: top;\n",
       "    }\n",
       "\n",
       "    .dataframe thead th {\n",
       "        text-align: right;\n",
       "    }\n",
       "</style>\n",
       "<table border=\"1\" class=\"dataframe\">\n",
       "  <thead>\n",
       "    <tr style=\"text-align: right;\">\n",
       "      <th></th>\n",
       "      <th>sentiment</th>\n",
       "      <th>message</th>\n",
       "      <th>tweet_length</th>\n",
       "      <th>hashtag_count</th>\n",
       "      <th>RT_count</th>\n",
       "      <th>punc_count</th>\n",
       "      <th>tweet_word_count</th>\n",
       "      <th>mentions_count</th>\n",
       "    </tr>\n",
       "  </thead>\n",
       "  <tbody>\n",
       "    <tr>\n",
       "      <th>0</th>\n",
       "      <td>1</td>\n",
       "      <td>PolySciMajor EPA chief doesn't think carbon di...</td>\n",
       "      <td>121</td>\n",
       "      <td>0</td>\n",
       "      <td>0</td>\n",
       "      <td>2</td>\n",
       "      <td>19</td>\n",
       "      <td>1</td>\n",
       "    </tr>\n",
       "    <tr>\n",
       "      <th>1</th>\n",
       "      <td>1</td>\n",
       "      <td>It's not like we lack evidence of anthropogeni...</td>\n",
       "      <td>62</td>\n",
       "      <td>0</td>\n",
       "      <td>0</td>\n",
       "      <td>0</td>\n",
       "      <td>10</td>\n",
       "      <td>0</td>\n",
       "    </tr>\n",
       "    <tr>\n",
       "      <th>2</th>\n",
       "      <td>2</td>\n",
       "      <td>RT @RawStory: Researchers say we have three ye...</td>\n",
       "      <td>94</td>\n",
       "      <td>0</td>\n",
       "      <td>1</td>\n",
       "      <td>0</td>\n",
       "      <td>18</td>\n",
       "      <td>1</td>\n",
       "    </tr>\n",
       "    <tr>\n",
       "      <th>3</th>\n",
       "      <td>1</td>\n",
       "      <td>#TodayinMaker# WIRED : 2016 was a pivotal year...</td>\n",
       "      <td>80</td>\n",
       "      <td>2</td>\n",
       "      <td>0</td>\n",
       "      <td>0</td>\n",
       "      <td>15</td>\n",
       "      <td>0</td>\n",
       "    </tr>\n",
       "    <tr>\n",
       "      <th>4</th>\n",
       "      <td>1</td>\n",
       "      <td>RT @SoyNovioDeTodas: It's 2016, and a racist, ...</td>\n",
       "      <td>103</td>\n",
       "      <td>1</td>\n",
       "      <td>1</td>\n",
       "      <td>0</td>\n",
       "      <td>17</td>\n",
       "      <td>1</td>\n",
       "    </tr>\n",
       "  </tbody>\n",
       "</table>\n",
       "</div>"
      ],
      "text/plain": [
       "   sentiment                                            message  tweet_length  \\\n",
       "0          1  PolySciMajor EPA chief doesn't think carbon di...           121   \n",
       "1          1  It's not like we lack evidence of anthropogeni...            62   \n",
       "2          2  RT @RawStory: Researchers say we have three ye...            94   \n",
       "3          1  #TodayinMaker# WIRED : 2016 was a pivotal year...            80   \n",
       "4          1  RT @SoyNovioDeTodas: It's 2016, and a racist, ...           103   \n",
       "\n",
       "   hashtag_count  RT_count  punc_count  tweet_word_count  mentions_count  \n",
       "0              0         0           2                19               1  \n",
       "1              0         0           0                10               0  \n",
       "2              0         1           0                18               1  \n",
       "3              2         0           0                15               0  \n",
       "4              1         1           0                17               1  "
      ]
     },
     "execution_count": 40,
     "metadata": {},
     "output_type": "execute_result"
    }
   ],
   "source": [
    "df_train['mentions_count'] = df_train['message'].apply(at_count)\n",
    "df_train.head()"
   ]
  },
  {
   "cell_type": "code",
   "execution_count": 41,
   "id": "f15ce61d",
   "metadata": {},
   "outputs": [
    {
     "name": "stdout",
     "output_type": "stream",
     "text": [
      "sentiment\n",
      "-1    1.071759\n",
      " 0    0.937527\n",
      " 1    0.998828\n",
      " 2    0.747253\n",
      "dtype: float64\n"
     ]
    }
   ],
   "source": [
    "# Get stats for @ count per sentiment class\n",
    "stats_mention = df_train.groupby('sentiment')['mentions_count'].sum()\n",
    "total_per_class = df_train.groupby('sentiment')['sentiment'].count()\n",
    "mentions_perc = stats_mention/total_per_class\n",
    "print(mentions_perc)"
   ]
  },
  {
   "cell_type": "code",
   "execution_count": 42,
   "id": "7247dbf3",
   "metadata": {},
   "outputs": [
    {
     "data": {
      "image/png": "[encoded data removed]",
      "text/plain": [
       "<Figure size 432x288 with 1 Axes>"
      ]
     },
     "metadata": {
      "needs_background": "light"
     },
     "output_type": "display_data"
    }
   ],
   "source": [
    "# Plot at_count %\n",
    "sns.barplot(y=mentions_perc, x=[-1,0,1,2])\n",
    "plt.xlabel(\"sentiment\")\n",
    "plt.ylabel(\"%\")\n",
    "plt.title(\"Mentions % per sentiment class\")\n",
    "plt.show()"
   ]
  },
  {
   "cell_type": "code",
   "execution_count": 43,
   "id": "45e29bc8",
   "metadata": {},
   "outputs": [],
   "source": [
    "# Findings\n",
    "\n",
    "# More mentions for class (-1, 1) Anti and Pro climate change. Least is News\n",
    "# > 1 shows that there are more than 1 mention in some tweets "
   ]
  },
  {
   "cell_type": "code",
   "execution_count": 44,
   "id": "a4cc58fe",
   "metadata": {},
   "outputs": [
    {
     "data": {
      "text/html": [
       "<div>\n",
       "<style scoped>\n",
       "    .dataframe tbody tr th:only-of-type {\n",
       "        vertical-align: middle;\n",
       "    }\n",
       "\n",
       "    .dataframe tbody tr th {\n",
       "        vertical-align: top;\n",
       "    }\n",
       "\n",
       "    .dataframe thead th {\n",
       "        text-align: right;\n",
       "    }\n",
       "</style>\n",
       "<table border=\"1\" class=\"dataframe\">\n",
       "  <thead>\n",
       "    <tr style=\"text-align: right;\">\n",
       "      <th>sentiment</th>\n",
       "      <th>-1</th>\n",
       "      <th>0</th>\n",
       "      <th>1</th>\n",
       "      <th>2</th>\n",
       "    </tr>\n",
       "  </thead>\n",
       "  <tbody>\n",
       "    <tr>\n",
       "      <th>count</th>\n",
       "      <td>1296.000000</td>\n",
       "      <td>2353.000000</td>\n",
       "      <td>8530.000000</td>\n",
       "      <td>3640.000000</td>\n",
       "    </tr>\n",
       "    <tr>\n",
       "      <th>mean</th>\n",
       "      <td>1.071759</td>\n",
       "      <td>0.937527</td>\n",
       "      <td>0.998828</td>\n",
       "      <td>0.747253</td>\n",
       "    </tr>\n",
       "    <tr>\n",
       "      <th>std</th>\n",
       "      <td>0.839344</td>\n",
       "      <td>0.875259</td>\n",
       "      <td>0.726206</td>\n",
       "      <td>0.674074</td>\n",
       "    </tr>\n",
       "    <tr>\n",
       "      <th>min</th>\n",
       "      <td>0.000000</td>\n",
       "      <td>0.000000</td>\n",
       "      <td>0.000000</td>\n",
       "      <td>0.000000</td>\n",
       "    </tr>\n",
       "    <tr>\n",
       "      <th>25%</th>\n",
       "      <td>1.000000</td>\n",
       "      <td>0.000000</td>\n",
       "      <td>1.000000</td>\n",
       "      <td>0.000000</td>\n",
       "    </tr>\n",
       "    <tr>\n",
       "      <th>50%</th>\n",
       "      <td>1.000000</td>\n",
       "      <td>1.000000</td>\n",
       "      <td>1.000000</td>\n",
       "      <td>1.000000</td>\n",
       "    </tr>\n",
       "    <tr>\n",
       "      <th>75%</th>\n",
       "      <td>1.000000</td>\n",
       "      <td>1.000000</td>\n",
       "      <td>1.000000</td>\n",
       "      <td>1.000000</td>\n",
       "    </tr>\n",
       "    <tr>\n",
       "      <th>max</th>\n",
       "      <td>6.000000</td>\n",
       "      <td>7.000000</td>\n",
       "      <td>7.000000</td>\n",
       "      <td>6.000000</td>\n",
       "    </tr>\n",
       "  </tbody>\n",
       "</table>\n",
       "</div>"
      ],
      "text/plain": [
       "sentiment           -1            0            1            2\n",
       "count      1296.000000  2353.000000  8530.000000  3640.000000\n",
       "mean          1.071759     0.937527     0.998828     0.747253\n",
       "std           0.839344     0.875259     0.726206     0.674074\n",
       "min           0.000000     0.000000     0.000000     0.000000\n",
       "25%           1.000000     0.000000     1.000000     0.000000\n",
       "50%           1.000000     1.000000     1.000000     1.000000\n",
       "75%           1.000000     1.000000     1.000000     1.000000\n",
       "max           6.000000     7.000000     7.000000     6.000000"
      ]
     },
     "execution_count": 44,
     "metadata": {},
     "output_type": "execute_result"
    }
   ],
   "source": [
    "# Descriptive statistics for tweet word count per sentiment class\n",
    "df_train.groupby('sentiment')['mentions_count'].describe().T"
   ]
  },
  {
   "cell_type": "code",
   "execution_count": 45,
   "id": "2fb74182",
   "metadata": {},
   "outputs": [],
   "source": [
    "# plot relevant feature interactions\n",
    "\n",
    "# tweet length histogram\n",
    "#df_train.groupby('sentiment')['tweet_length'].hist(by=df_train['sentiment'], color = 'purple')\n",
    "#plt.ylabel('count')\n",
    "#plt.xlabel('tweet length')"
   ]
  },
  {
   "cell_type": "code",
   "execution_count": 46,
   "id": "e9b621c8",
   "metadata": {},
   "outputs": [],
   "source": [
    "# tweet word count histogram\n",
    "#df_train.groupby('sentiment')['tweet_word_count'].hist(by=df_train['sentiment'], color = 'green')\n",
    "#plt.ylabel('count')\n",
    "#plt.xlabel('tweet length')"
   ]
  },
  {
   "cell_type": "code",
   "execution_count": 47,
   "id": "17b82b45",
   "metadata": {},
   "outputs": [],
   "source": [
    "# Message Preprocessing\n",
    "\n",
    "def clean_text_two(text):\n",
    "    #text = str(text)\n",
    "    text = re.sub('[\\d-]', '', text) #remove any numbers\n",
    "    text = re.sub(r'RT', '', text) #remove the retweets\n",
    "    return text"
   ]
  },
  {
   "cell_type": "code",
   "execution_count": 48,
   "id": "2891c50e",
   "metadata": {},
   "outputs": [
    {
     "data": {
      "text/html": [
       "<div>\n",
       "<style scoped>\n",
       "    .dataframe tbody tr th:only-of-type {\n",
       "        vertical-align: middle;\n",
       "    }\n",
       "\n",
       "    .dataframe tbody tr th {\n",
       "        vertical-align: top;\n",
       "    }\n",
       "\n",
       "    .dataframe thead th {\n",
       "        text-align: right;\n",
       "    }\n",
       "</style>\n",
       "<table border=\"1\" class=\"dataframe\">\n",
       "  <thead>\n",
       "    <tr style=\"text-align: right;\">\n",
       "      <th></th>\n",
       "      <th>sentiment</th>\n",
       "      <th>message</th>\n",
       "      <th>tweet_length</th>\n",
       "      <th>hashtag_count</th>\n",
       "      <th>RT_count</th>\n",
       "      <th>punc_count</th>\n",
       "      <th>tweet_word_count</th>\n",
       "      <th>mentions_count</th>\n",
       "    </tr>\n",
       "  </thead>\n",
       "  <tbody>\n",
       "    <tr>\n",
       "      <th>0</th>\n",
       "      <td>1</td>\n",
       "      <td>PolySciMajor EPA chief doesn't think carbon di...</td>\n",
       "      <td>121</td>\n",
       "      <td>0</td>\n",
       "      <td>0</td>\n",
       "      <td>2</td>\n",
       "      <td>19</td>\n",
       "      <td>1</td>\n",
       "    </tr>\n",
       "    <tr>\n",
       "      <th>1</th>\n",
       "      <td>1</td>\n",
       "      <td>It's not like we lack evidence of anthropogeni...</td>\n",
       "      <td>62</td>\n",
       "      <td>0</td>\n",
       "      <td>0</td>\n",
       "      <td>0</td>\n",
       "      <td>10</td>\n",
       "      <td>0</td>\n",
       "    </tr>\n",
       "    <tr>\n",
       "      <th>2</th>\n",
       "      <td>2</td>\n",
       "      <td>@RawStory: Researchers say we have three year...</td>\n",
       "      <td>94</td>\n",
       "      <td>0</td>\n",
       "      <td>1</td>\n",
       "      <td>0</td>\n",
       "      <td>18</td>\n",
       "      <td>1</td>\n",
       "    </tr>\n",
       "    <tr>\n",
       "      <th>3</th>\n",
       "      <td>1</td>\n",
       "      <td>#TodayinMaker# WIRED :  was a pivotal year in ...</td>\n",
       "      <td>80</td>\n",
       "      <td>2</td>\n",
       "      <td>0</td>\n",
       "      <td>0</td>\n",
       "      <td>15</td>\n",
       "      <td>0</td>\n",
       "    </tr>\n",
       "    <tr>\n",
       "      <th>4</th>\n",
       "      <td>1</td>\n",
       "      <td>@SoyNovioDeTodas: It's , and a racist, sexist...</td>\n",
       "      <td>103</td>\n",
       "      <td>1</td>\n",
       "      <td>1</td>\n",
       "      <td>0</td>\n",
       "      <td>17</td>\n",
       "      <td>1</td>\n",
       "    </tr>\n",
       "  </tbody>\n",
       "</table>\n",
       "</div>"
      ],
      "text/plain": [
       "   sentiment                                            message  tweet_length  \\\n",
       "0          1  PolySciMajor EPA chief doesn't think carbon di...           121   \n",
       "1          1  It's not like we lack evidence of anthropogeni...            62   \n",
       "2          2   @RawStory: Researchers say we have three year...            94   \n",
       "3          1  #TodayinMaker# WIRED :  was a pivotal year in ...            80   \n",
       "4          1   @SoyNovioDeTodas: It's , and a racist, sexist...           103   \n",
       "\n",
       "   hashtag_count  RT_count  punc_count  tweet_word_count  mentions_count  \n",
       "0              0         0           2                19               1  \n",
       "1              0         0           0                10               0  \n",
       "2              0         1           0                18               1  \n",
       "3              2         0           0                15               0  \n",
       "4              1         1           0                17               1  "
      ]
     },
     "execution_count": 48,
     "metadata": {},
     "output_type": "execute_result"
    }
   ],
   "source": [
    "# apply text cleaning two\n",
    "df_train['message'] = df_train['message'].apply(clean_text_two)\n",
    "df_train.head()"
   ]
  },
  {
   "cell_type": "code",
   "execution_count": 49,
   "id": "2efbbba1",
   "metadata": {},
   "outputs": [],
   "source": [
    "# Tokenize, Lemmatize, Stopwords\n",
    "\n",
    "tokenizer = nltk.RegexpTokenizer(r\"\\w+\")\n",
    "lemmatizer = WordNetLemmatizer()\n",
    "stopwords = stopwords.words('english')\n",
    "\n",
    "def message_to_token(s):\n",
    "    tokens = tokenizer.tokenize(s)\n",
    "    lower_cased_tokens = [t.lower() for t in tokens]\n",
    "    lemmatized_tokens = [lemmatizer.lemmatize(t) for t in lower_cased_tokens]\n",
    "    useful_tokens = [t for t in lemmatized_tokens if t not in stopwords]\n",
    "    return useful_tokens"
   ]
  },
  {
   "cell_type": "code",
   "execution_count": 50,
   "id": "88400cb5",
   "metadata": {},
   "outputs": [
    {
     "data": {
      "text/html": [
       "<div>\n",
       "<style scoped>\n",
       "    .dataframe tbody tr th:only-of-type {\n",
       "        vertical-align: middle;\n",
       "    }\n",
       "\n",
       "    .dataframe tbody tr th {\n",
       "        vertical-align: top;\n",
       "    }\n",
       "\n",
       "    .dataframe thead th {\n",
       "        text-align: right;\n",
       "    }\n",
       "</style>\n",
       "<table border=\"1\" class=\"dataframe\">\n",
       "  <thead>\n",
       "    <tr style=\"text-align: right;\">\n",
       "      <th></th>\n",
       "      <th>sentiment</th>\n",
       "      <th>message</th>\n",
       "      <th>tweet_length</th>\n",
       "      <th>hashtag_count</th>\n",
       "      <th>RT_count</th>\n",
       "      <th>punc_count</th>\n",
       "      <th>tweet_word_count</th>\n",
       "      <th>mentions_count</th>\n",
       "    </tr>\n",
       "  </thead>\n",
       "  <tbody>\n",
       "    <tr>\n",
       "      <th>0</th>\n",
       "      <td>1</td>\n",
       "      <td>polyscimajor epa chief think carbon dioxide ma...</td>\n",
       "      <td>121</td>\n",
       "      <td>0</td>\n",
       "      <td>0</td>\n",
       "      <td>2</td>\n",
       "      <td>19</td>\n",
       "      <td>1</td>\n",
       "    </tr>\n",
       "    <tr>\n",
       "      <th>1</th>\n",
       "      <td>1</td>\n",
       "      <td>like lack evidence anthropogenic global warming</td>\n",
       "      <td>62</td>\n",
       "      <td>0</td>\n",
       "      <td>0</td>\n",
       "      <td>0</td>\n",
       "      <td>10</td>\n",
       "      <td>0</td>\n",
       "    </tr>\n",
       "    <tr>\n",
       "      <th>2</th>\n",
       "      <td>2</td>\n",
       "      <td>rawstory researcher say three year act climate...</td>\n",
       "      <td>94</td>\n",
       "      <td>0</td>\n",
       "      <td>1</td>\n",
       "      <td>0</td>\n",
       "      <td>18</td>\n",
       "      <td>1</td>\n",
       "    </tr>\n",
       "    <tr>\n",
       "      <th>3</th>\n",
       "      <td>1</td>\n",
       "      <td>todayinmaker wired wa pivotal year war climate...</td>\n",
       "      <td>80</td>\n",
       "      <td>2</td>\n",
       "      <td>0</td>\n",
       "      <td>0</td>\n",
       "      <td>15</td>\n",
       "      <td>0</td>\n",
       "    </tr>\n",
       "    <tr>\n",
       "      <th>4</th>\n",
       "      <td>1</td>\n",
       "      <td>soynoviodetodas racist sexist climate change d...</td>\n",
       "      <td>103</td>\n",
       "      <td>1</td>\n",
       "      <td>1</td>\n",
       "      <td>0</td>\n",
       "      <td>17</td>\n",
       "      <td>1</td>\n",
       "    </tr>\n",
       "  </tbody>\n",
       "</table>\n",
       "</div>"
      ],
      "text/plain": [
       "   sentiment                                            message  tweet_length  \\\n",
       "0          1  polyscimajor epa chief think carbon dioxide ma...           121   \n",
       "1          1    like lack evidence anthropogenic global warming            62   \n",
       "2          2  rawstory researcher say three year act climate...            94   \n",
       "3          1  todayinmaker wired wa pivotal year war climate...            80   \n",
       "4          1  soynoviodetodas racist sexist climate change d...           103   \n",
       "\n",
       "   hashtag_count  RT_count  punc_count  tweet_word_count  mentions_count  \n",
       "0              0         0           2                19               1  \n",
       "1              0         0           0                10               0  \n",
       "2              0         1           0                18               1  \n",
       "3              2         0           0                15               0  \n",
       "4              1         1           0                17               1  "
      ]
     },
     "execution_count": 50,
     "metadata": {},
     "output_type": "execute_result"
    }
   ],
   "source": [
    "df_train['message'] = df_train['message'].apply(message_to_token)\n",
    "df_train['message']= df_train['message'].apply(lambda x: \" \".join(x))\n",
    "df_train.head()"
   ]
  },
  {
   "cell_type": "code",
   "execution_count": 51,
   "id": "3454e17d",
   "metadata": {},
   "outputs": [
    {
     "data": {
      "text/plain": [
       "sentiment            int64\n",
       "message             object\n",
       "tweet_length         int64\n",
       "hashtag_count        int64\n",
       "RT_count             int64\n",
       "punc_count           int64\n",
       "tweet_word_count     int64\n",
       "mentions_count       int64\n",
       "dtype: object"
      ]
     },
     "execution_count": 51,
     "metadata": {},
     "output_type": "execute_result"
    }
   ],
   "source": [
    "df_train.dtypes"
   ]
  },
  {
   "cell_type": "code",
   "execution_count": 52,
   "id": "bb10bc23",
   "metadata": {},
   "outputs": [
    {
     "data": {
      "text/plain": [
       "sentiment            0.122976\n",
       "tweet_length         0.166845\n",
       "hashtag_count       18.935808\n",
       "RT_count            -1.799091\n",
       "punc_count          67.595762\n",
       "tweet_word_count    -0.072091\n",
       "mentions_count       5.621192\n",
       "dtype: float64"
      ]
     },
     "execution_count": 52,
     "metadata": {},
     "output_type": "execute_result"
    }
   ],
   "source": [
    "# Check for outliers: Values>3 indicate large outliers \n",
    "\n",
    "df_num = df_train.drop(['message'], axis = 1)\n",
    "df_num.kurtosis() "
   ]
  },
  {
   "cell_type": "code",
   "execution_count": 53,
   "id": "85d20c4a",
   "metadata": {},
   "outputs": [
    {
     "data": {
      "text/plain": [
       "Text(0.5, 1.0, 'Boxplot: Hashtag Count')"
      ]
     },
     "execution_count": 53,
     "metadata": {},
     "output_type": "execute_result"
    },
    {
     "data": {
      "image/png": "[encoded data removed]",
      "text/plain": [
       "<Figure size 432x288 with 1 Axes>"
      ]
     },
     "metadata": {
      "needs_background": "light"
     },
     "output_type": "display_data"
    }
   ],
   "source": [
    "# Check boxplots for outlier values\n",
    "\n",
    "sns.boxplot(x='hashtag_count', data=df_train)\n",
    "plt.title('Boxplot: Hashtag Count')\n"
   ]
  },
  {
   "cell_type": "code",
   "execution_count": 54,
   "id": "7a899415",
   "metadata": {},
   "outputs": [
    {
     "data": {
      "text/plain": [
       "Text(0.5, 1.0, 'Boxplot: Punctuation Count')"
      ]
     },
     "execution_count": 54,
     "metadata": {},
     "output_type": "execute_result"
    },
    {
     "data": {
      "image/png": "[encoded data removed]",
      "text/plain": [
       "<Figure size 432x288 with 1 Axes>"
      ]
     },
     "metadata": {
      "needs_background": "light"
     },
     "output_type": "display_data"
    }
   ],
   "source": [
    "sns.boxplot(x='punc_count', data=df_train)\n",
    "plt.title('Boxplot: Punctuation Count')"
   ]
  },
  {
   "cell_type": "code",
   "execution_count": 55,
   "id": "31438bd0",
   "metadata": {},
   "outputs": [
    {
     "data": {
      "text/plain": [
       "Text(0.5, 1.0, 'Boxplot: Mentions Count')"
      ]
     },
     "execution_count": 55,
     "metadata": {},
     "output_type": "execute_result"
    },
    {
     "data": {
      "image/png": "[encoded data removed]",
      "text/plain": [
       "<Figure size 432x288 with 1 Axes>"
      ]
     },
     "metadata": {
      "needs_background": "light"
     },
     "output_type": "display_data"
    }
   ],
   "source": [
    "sns.boxplot(x='mentions_count', data=df_train)\n",
    "plt.title('Boxplot: Mentions Count')"
   ]
  },
  {
   "cell_type": "code",
   "execution_count": 56,
   "id": "57e37548",
   "metadata": {},
   "outputs": [],
   "source": [
    "# feature interactions\n",
    "#sns.pairplot(df_train[['sentiment','tweet_length','hashtag_count','RT_count','punc_count','tweet_word_count','mentions_count']],diag_kind='kde')"
   ]
  },
  {
   "cell_type": "code",
   "execution_count": 57,
   "id": "e8b4250d",
   "metadata": {},
   "outputs": [],
   "source": [
    "# Findings\n",
    "\n",
    "# Tweet length and Tweet word count is correlated which would be expected as one is a function of the other\n",
    "# Can consider dropping one of the variables \n",
    "# No material outliers found"
   ]
  },
  {
   "cell_type": "code",
   "execution_count": 58,
   "id": "6dd6ee8c",
   "metadata": {},
   "outputs": [
    {
     "data": {
      "text/html": [
       "<div>\n",
       "<style scoped>\n",
       "    .dataframe tbody tr th:only-of-type {\n",
       "        vertical-align: middle;\n",
       "    }\n",
       "\n",
       "    .dataframe tbody tr th {\n",
       "        vertical-align: top;\n",
       "    }\n",
       "\n",
       "    .dataframe thead th {\n",
       "        text-align: right;\n",
       "    }\n",
       "</style>\n",
       "<table border=\"1\" class=\"dataframe\">\n",
       "  <thead>\n",
       "    <tr style=\"text-align: right;\">\n",
       "      <th></th>\n",
       "      <th>sentiment</th>\n",
       "      <th>tweet_length</th>\n",
       "      <th>hashtag_count</th>\n",
       "      <th>RT_count</th>\n",
       "      <th>punc_count</th>\n",
       "      <th>tweet_word_count</th>\n",
       "      <th>mentions_count</th>\n",
       "    </tr>\n",
       "  </thead>\n",
       "  <tbody>\n",
       "    <tr>\n",
       "      <th>sentiment</th>\n",
       "      <td>1.000000</td>\n",
       "      <td>-0.128002</td>\n",
       "      <td>0.036509</td>\n",
       "      <td>0.074389</td>\n",
       "      <td>-0.129680</td>\n",
       "      <td>-0.138936</td>\n",
       "      <td>-0.103909</td>\n",
       "    </tr>\n",
       "    <tr>\n",
       "      <th>tweet_length</th>\n",
       "      <td>-0.128002</td>\n",
       "      <td>1.000000</td>\n",
       "      <td>0.079693</td>\n",
       "      <td>0.128583</td>\n",
       "      <td>0.128397</td>\n",
       "      <td>0.880954</td>\n",
       "      <td>0.209489</td>\n",
       "    </tr>\n",
       "    <tr>\n",
       "      <th>hashtag_count</th>\n",
       "      <td>0.036509</td>\n",
       "      <td>0.079693</td>\n",
       "      <td>1.000000</td>\n",
       "      <td>-0.018445</td>\n",
       "      <td>-0.060955</td>\n",
       "      <td>-0.059771</td>\n",
       "      <td>-0.017948</td>\n",
       "    </tr>\n",
       "    <tr>\n",
       "      <th>RT_count</th>\n",
       "      <td>0.074389</td>\n",
       "      <td>0.128583</td>\n",
       "      <td>-0.018445</td>\n",
       "      <td>1.000000</td>\n",
       "      <td>0.002632</td>\n",
       "      <td>0.193688</td>\n",
       "      <td>0.454681</td>\n",
       "    </tr>\n",
       "    <tr>\n",
       "      <th>punc_count</th>\n",
       "      <td>-0.129680</td>\n",
       "      <td>0.128397</td>\n",
       "      <td>-0.060955</td>\n",
       "      <td>0.002632</td>\n",
       "      <td>1.000000</td>\n",
       "      <td>0.119963</td>\n",
       "      <td>0.014608</td>\n",
       "    </tr>\n",
       "    <tr>\n",
       "      <th>tweet_word_count</th>\n",
       "      <td>-0.138936</td>\n",
       "      <td>0.880954</td>\n",
       "      <td>-0.059771</td>\n",
       "      <td>0.193688</td>\n",
       "      <td>0.119963</td>\n",
       "      <td>1.000000</td>\n",
       "      <td>0.102549</td>\n",
       "    </tr>\n",
       "    <tr>\n",
       "      <th>mentions_count</th>\n",
       "      <td>-0.103909</td>\n",
       "      <td>0.209489</td>\n",
       "      <td>-0.017948</td>\n",
       "      <td>0.454681</td>\n",
       "      <td>0.014608</td>\n",
       "      <td>0.102549</td>\n",
       "      <td>1.000000</td>\n",
       "    </tr>\n",
       "  </tbody>\n",
       "</table>\n",
       "</div>"
      ],
      "text/plain": [
       "                  sentiment  tweet_length  hashtag_count  RT_count  \\\n",
       "sentiment          1.000000     -0.128002       0.036509  0.074389   \n",
       "tweet_length      -0.128002      1.000000       0.079693  0.128583   \n",
       "hashtag_count      0.036509      0.079693       1.000000 -0.018445   \n",
       "RT_count           0.074389      0.128583      -0.018445  1.000000   \n",
       "punc_count        -0.129680      0.128397      -0.060955  0.002632   \n",
       "tweet_word_count  -0.138936      0.880954      -0.059771  0.193688   \n",
       "mentions_count    -0.103909      0.209489      -0.017948  0.454681   \n",
       "\n",
       "                  punc_count  tweet_word_count  mentions_count  \n",
       "sentiment          -0.129680         -0.138936       -0.103909  \n",
       "tweet_length        0.128397          0.880954        0.209489  \n",
       "hashtag_count      -0.060955         -0.059771       -0.017948  \n",
       "RT_count            0.002632          0.193688        0.454681  \n",
       "punc_count          1.000000          0.119963        0.014608  \n",
       "tweet_word_count    0.119963          1.000000        0.102549  \n",
       "mentions_count      0.014608          0.102549        1.000000  "
      ]
     },
     "execution_count": 58,
     "metadata": {},
     "output_type": "execute_result"
    }
   ],
   "source": [
    "# evaluate correlation\n",
    "\n",
    "df_num = df_train.drop(['message'], axis = 1)\n",
    "df_num.corr()"
   ]
  },
  {
   "cell_type": "code",
   "execution_count": 59,
   "id": "85f1dae0",
   "metadata": {},
   "outputs": [
    {
     "data": {
      "image/png": "[encoded data removed]",
      "text/plain": [
       "<Figure size 504x504 with 1 Axes>"
      ]
     },
     "metadata": {
      "needs_background": "light"
     },
     "output_type": "display_data"
    }
   ],
   "source": [
    "# Correlation Heatmap\n",
    "\n",
    "fig = plt.figure(figsize=(7,7));\n",
    "ax = fig.add_subplot(111);\n",
    "plot_corr(df_num.corr(), xnames = df_num.corr().columns, ax = ax);"
   ]
  },
  {
   "cell_type": "code",
   "execution_count": 60,
   "id": "8892fbe9",
   "metadata": {},
   "outputs": [],
   "source": [
    "# tweet_length, punc_count, tweet_word_count, mentions_count looks correlated with sentiment\n"
   ]
  },
  {
   "cell_type": "code",
   "execution_count": 61,
   "id": "58192d86",
   "metadata": {},
   "outputs": [
    {
     "data": {
      "text/plain": [
       "(15819, 8)"
      ]
     },
     "execution_count": 61,
     "metadata": {},
     "output_type": "execute_result"
    }
   ],
   "source": [
    "df_train.shape"
   ]
  },
  {
   "cell_type": "markdown",
   "id": "3fa93ec6",
   "metadata": {},
   "source": [
    "<a id=\"four\"></a>\n",
    "## 4. Data Engineering\n",
    "<a class=\"anchor\" id=\"1.1\"></a>\n",
    "<a href=#cont>Back to Table of Contents</a>\n",
    "\n",
    "---\n",
    "    \n",
    "| ⚡ Description: Data engineering ⚡ |\n",
    "| :--------------------------- |\n",
    "| In this section you are required to: clean the dataset, and possibly create new features - as identified in the EDA phase. |\n",
    "\n",
    "---"
   ]
  },
  {
   "cell_type": "code",
   "execution_count": 62,
   "id": "059c2f3e",
   "metadata": {},
   "outputs": [],
   "source": [
    "# remove missing values/ features\n",
    "# removing the tweetid as this column does not add any informational value to the EDA or feature selection process\n",
    "\n",
    "#df_train = df_train.drop(['tweetid'], axis = 1)"
   ]
  },
  {
   "cell_type": "code",
   "execution_count": 63,
   "id": "77432c7a",
   "metadata": {},
   "outputs": [],
   "source": [
    "# See above for new features. \n",
    "# Once the new features where included in the modelling it did not provide better results and were removed."
   ]
  },
  {
   "cell_type": "code",
   "execution_count": 64,
   "id": "e5b3389c",
   "metadata": {},
   "outputs": [
    {
     "data": {
      "text/html": [
       "<div>\n",
       "<style scoped>\n",
       "    .dataframe tbody tr th:only-of-type {\n",
       "        vertical-align: middle;\n",
       "    }\n",
       "\n",
       "    .dataframe tbody tr th {\n",
       "        vertical-align: top;\n",
       "    }\n",
       "\n",
       "    .dataframe thead th {\n",
       "        text-align: right;\n",
       "    }\n",
       "</style>\n",
       "<table border=\"1\" class=\"dataframe\">\n",
       "  <thead>\n",
       "    <tr style=\"text-align: right;\">\n",
       "      <th></th>\n",
       "      <th>message</th>\n",
       "      <th>tweetid</th>\n",
       "    </tr>\n",
       "  </thead>\n",
       "  <tbody>\n",
       "    <tr>\n",
       "      <th>0</th>\n",
       "      <td>europe looking china make sure alone fighting ...</td>\n",
       "      <td>169760</td>\n",
       "    </tr>\n",
       "    <tr>\n",
       "      <th>1</th>\n",
       "      <td>combine polling staffer climate change woman r...</td>\n",
       "      <td>35326</td>\n",
       "    </tr>\n",
       "    <tr>\n",
       "      <th>2</th>\n",
       "      <td>scary unimpeachable evidence climate change al...</td>\n",
       "      <td>224985</td>\n",
       "    </tr>\n",
       "    <tr>\n",
       "      <th>3</th>\n",
       "      <td>karoli morgfair osborneink dailykos putin got ...</td>\n",
       "      <td>476263</td>\n",
       "    </tr>\n",
       "    <tr>\n",
       "      <th>4</th>\n",
       "      <td>fakewillmoore female orgasm cause global warmi...</td>\n",
       "      <td>872928</td>\n",
       "    </tr>\n",
       "  </tbody>\n",
       "</table>\n",
       "</div>"
      ],
      "text/plain": [
       "                                             message  tweetid\n",
       "0  europe looking china make sure alone fighting ...   169760\n",
       "1  combine polling staffer climate change woman r...    35326\n",
       "2  scary unimpeachable evidence climate change al...   224985\n",
       "3  karoli morgfair osborneink dailykos putin got ...   476263\n",
       "4  fakewillmoore female orgasm cause global warmi...   872928"
      ]
     },
     "execution_count": 64,
     "metadata": {},
     "output_type": "execute_result"
    }
   ],
   "source": [
    "# Transform Test Data\n",
    "\n",
    "df_test['message'] = df_test['message'].apply(clean_http)\n",
    "df_test['message'] = df_test['message'].apply(clean_text_two)\n",
    "df_test['message'] = df_test['message'].apply(message_to_token)\n",
    "df_test['message'] = df_test['message'].apply(lambda x: \" \".join(x))\n",
    "df_test.head()"
   ]
  },
  {
   "cell_type": "markdown",
   "id": "43b2d523",
   "metadata": {},
   "source": [
    "<a id=\"five\"></a>\n",
    "## 5. Modelling\n",
    "<a class=\"anchor\" id=\"1.1\"></a>\n",
    "<a href=#cont>Back to Table of Contents</a>\n",
    "\n",
    "---\n",
    "    \n",
    "| ⚡ Description: Modelling ⚡ |\n",
    "| :--------------------------- |\n",
    "| In this section, you are required to create one or more regression models that are able to accurately predict the thee hour load shortfall. |\n",
    "\n",
    "---"
   ]
  },
  {
   "cell_type": "code",
   "execution_count": 124,
   "id": "20d073e0",
   "metadata": {},
   "outputs": [],
   "source": [
    "# Vectorizer Function\n",
    "\n",
    "def vectorize_data(data, test):\n",
    "    #vectorizer = CountVectorizer(ngram_range = (1,2)) \n",
    "    vectorizer = CountVectorizer() \n",
    "    #vectorizer = TfidfVectorizer(ngram_range = (1,2))\n",
    "    vector_data = vectorizer.fit_transform(data)\n",
    "    test_data = vectorizer.transform(test)\n",
    "    return vector_data, vectorizer, test_data"
   ]
  },
  {
   "cell_type": "code",
   "execution_count": 66,
   "id": "bd7fbdd7",
   "metadata": {},
   "outputs": [],
   "source": [
    "# Tuning/Vectorize options\n",
    "# vectorizer = TfidfVectorizer(min_df = 0.0001, max_features = 600)\n",
    "# vectorizer = CountVectorizer()\n",
    "# vectorizer = TfidfVectorizer()"
   ]
  },
  {
   "cell_type": "code",
   "execution_count": 125,
   "id": "3e4f60d3",
   "metadata": {},
   "outputs": [
    {
     "data": {
      "text/plain": [
       "array(['______', '__branman', '__lyly', ..., '申請書のアブストラクトに',\n",
       "       '米国政府はある研究者に連絡して', 'ｎｈｋラジオ英会話'], dtype=object)"
      ]
     },
     "execution_count": 125,
     "metadata": {},
     "output_type": "execute_result"
    }
   ],
   "source": [
    "# Vectorize train data and get feature names\n",
    "train_data, vectorizer, test_arr = vectorize_data(df_train['message'], df_test['message'])\n",
    "feature_names = vectorizer.get_feature_names_out()  \n",
    "feature_names\n",
    "#for name in feature_names:\n",
    "#    print(name)"
   ]
  },
  {
   "cell_type": "code",
   "execution_count": 126,
   "id": "9ec263f6",
   "metadata": {},
   "outputs": [
    {
     "data": {
      "text/plain": [
       "(15819, 21827)"
      ]
     },
     "execution_count": 126,
     "metadata": {},
     "output_type": "execute_result"
    }
   ],
   "source": [
    "# Split into X and y matix\n",
    "y = df_train[['sentiment']]\n",
    "X = train_data\n",
    "\n",
    "#X.todense()\n",
    "#X2 = X.toarray()\n",
    "#X2.shape\n",
    "X.shape"
   ]
  },
  {
   "cell_type": "code",
   "execution_count": 69,
   "id": "53a3ea81",
   "metadata": {},
   "outputs": [],
   "source": [
    "# Additional features dataframe  15819 x 6\n",
    "\n",
    "#df_af = np.array(df_train.iloc[:, 2:8])\n",
    "#df_af.shape\n",
    "\n",
    "#df_af = np.array(df_train.iloc[:, 2:])\n",
    "#df_af.shape\n"
   ]
  },
  {
   "cell_type": "code",
   "execution_count": 70,
   "id": "f14d0907",
   "metadata": {},
   "outputs": [],
   "source": [
    "# Add engineered features to Vectorized matrix\n",
    "\n",
    "#def create_X_array(X_vect, df_arr):\n",
    "    \n",
    "    #get column names for train data added features\n",
    "    #X_vect.todense()\n",
    "    #df_train\n",
    "   # df_train_col_names = df_train.columns[2:]\n",
    "\n",
    "   # for col in df_train_col_names:\n",
    "    #    col_arr = df_train[col].values          #convert column to array\n",
    "    #df_arr = np.array(df_train.iloc[:, 2:])\n",
    "#    new_X = np.append(X_vect, df_arr, axis=1)   #append columnn array to vectorized X matrix\n",
    "        \n",
    "#   return new_X"
   ]
  },
  {
   "cell_type": "code",
   "execution_count": 71,
   "id": "6502a2a6",
   "metadata": {},
   "outputs": [],
   "source": [
    "# Call function to combine data\n",
    "#X = create_X_array(X2, df_af)\n",
    "#X.shape"
   ]
  },
  {
   "cell_type": "code",
   "execution_count": 72,
   "id": "60e001b0",
   "metadata": {},
   "outputs": [],
   "source": [
    "#splitting into Train and Validation sets\n",
    "# X = train_data & df_train without sentiment and message cols\n",
    "\n",
    "def split_data(X_data, y_data):\n",
    "    \n",
    "    X_train_s, X_valid_s, y_train_s, y_valid_s = train_test_split(X_data, y_data, test_size=0.2, random_state=42) # X was train data\n",
    "    \n",
    "    return X_train_s, X_valid_s, y_train_s, y_valid_s"
   ]
  },
  {
   "cell_type": "code",
   "execution_count": 73,
   "id": "ca1b94c0",
   "metadata": {},
   "outputs": [],
   "source": [
    "# Get f1-score\n",
    "\n",
    "def f1_score_calc(y_true, y_pred):\n",
    "    report = classification_report(y_true, y_pred, output_dict=True)\n",
    "    df_report = pd.DataFrame(report)\n",
    "    f1_score_out = df_report.iloc[2:3,4:5]\n",
    "    return f1_score_out"
   ]
  },
  {
   "cell_type": "code",
   "execution_count": 74,
   "id": "289b2061",
   "metadata": {},
   "outputs": [],
   "source": [
    "# Model fitting\n",
    "\n",
    "def fit_model(X_train_fit, y_train_fit, X_valid_fit, model_init):\n",
    "    model_init.fit(X_train_fit, y_train_fit)\n",
    "    #time_to_run = %timeit -q -o model_init.fit(X_train_fit, y_train_fit)\n",
    "    predictions = model_init.predict(X_valid_fit)\n",
    "    predictions_train = model_init.predict(X_train_fit)\n",
    "    return predictions, predictions_train #, time_to_run.best\n"
   ]
  },
  {
   "cell_type": "code",
   "execution_count": 75,
   "id": "4f08d66c",
   "metadata": {},
   "outputs": [
    {
     "name": "stdout",
     "output_type": "stream",
     "text": [
      "Model 1: Random Forest Classifier\n"
     ]
    },
    {
     "data": {
      "text/html": [
       "<div>\n",
       "<style scoped>\n",
       "    .dataframe tbody tr th:only-of-type {\n",
       "        vertical-align: middle;\n",
       "    }\n",
       "\n",
       "    .dataframe tbody tr th {\n",
       "        vertical-align: top;\n",
       "    }\n",
       "\n",
       "    .dataframe thead th {\n",
       "        text-align: right;\n",
       "    }\n",
       "</style>\n",
       "<table border=\"1\" class=\"dataframe\">\n",
       "  <thead>\n",
       "    <tr style=\"text-align: right;\">\n",
       "      <th></th>\n",
       "      <th>accuracy</th>\n",
       "    </tr>\n",
       "  </thead>\n",
       "  <tbody>\n",
       "    <tr>\n",
       "      <th>f1-score</th>\n",
       "      <td>0.60493</td>\n",
       "    </tr>\n",
       "  </tbody>\n",
       "</table>\n",
       "</div>"
      ],
      "text/plain": [
       "          accuracy\n",
       "f1-score   0.60493"
      ]
     },
     "execution_count": 75,
     "metadata": {},
     "output_type": "execute_result"
    }
   ],
   "source": [
    "# Model 1: Random Forest Classifier\n",
    "\n",
    "RF_model = RandomForestClassifier(max_depth = 40, random_state=42)\n",
    "X_train, X_valid, y_train, y_valid = split_data(X,y)\n",
    "y_model_predicts, y_model_predicts_train  = fit_model(X_train, y_train, X_valid, RF_model)\n",
    "print('Model 1: Random Forest Classifier')\n",
    "RF_f1_train = f1_score_calc(y_train, y_model_predicts_train)\n",
    "RF_f1 = f1_score_calc(y_valid, y_model_predicts)\n",
    "RF_f1"
   ]
  },
  {
   "cell_type": "code",
   "execution_count": 76,
   "id": "b6c9a12a",
   "metadata": {},
   "outputs": [
    {
     "name": "stdout",
     "output_type": "stream",
     "text": [
      "              precision    recall  f1-score   support\n",
      "\n",
      "          -1       1.00      0.07      0.13       278\n",
      "           0       1.00      0.04      0.07       425\n",
      "           1       0.59      0.99      0.74      1755\n",
      "           2       0.91      0.19      0.31       706\n",
      "\n",
      "    accuracy                           0.60      3164\n",
      "   macro avg       0.87      0.32      0.31      3164\n",
      "weighted avg       0.75      0.60      0.50      3164\n",
      "\n"
     ]
    }
   ],
   "source": [
    "report = classification_report(y_valid, y_model_predicts)\n",
    "print(report)  "
   ]
  },
  {
   "cell_type": "code",
   "execution_count": 77,
   "id": "228fe595",
   "metadata": {},
   "outputs": [],
   "source": [
    "# data from -1, 2 and 0 are going into 1, due to crossover of features from 1 - confused\n",
    "# try upsampling -1, 0 and downsampling 1"
   ]
  },
  {
   "cell_type": "code",
   "execution_count": 78,
   "id": "ff57de15",
   "metadata": {},
   "outputs": [],
   "source": [
    "# Results from tuning\n",
    "# 10%,100 = 66   max depth 40\n",
    "# 1%,200 = 68    max depth 40\n",
    "# 0.0005, 400    max depth 40 = 68.7421\n",
    "# 0.0005, 500    max depth 40 = 68.99\n",
    "# 0.0001, 500    max depth 40 = 69.21\n",
    "# 0.0001, 600    max depth 40 = 69.6587\n",
    "# 0.0001, 600    max depth 40 and added features 70.41  ---------------------------------\n",
    "# add feat1 (same as above hp) = 70.25\n",
    "# add feat 2 = 69.97\n",
    "# add feat 3 = 69.94\n",
    "# add feat 4 = 70.1\n",
    "# add feat 5 = 70.32"
   ]
  },
  {
   "cell_type": "code",
   "execution_count": 79,
   "id": "726377da",
   "metadata": {},
   "outputs": [
    {
     "name": "stdout",
     "output_type": "stream",
     "text": [
      "Model 2: Decision Tree Classifier\n"
     ]
    },
    {
     "data": {
      "text/html": [
       "<div>\n",
       "<style scoped>\n",
       "    .dataframe tbody tr th:only-of-type {\n",
       "        vertical-align: middle;\n",
       "    }\n",
       "\n",
       "    .dataframe tbody tr th {\n",
       "        vertical-align: top;\n",
       "    }\n",
       "\n",
       "    .dataframe thead th {\n",
       "        text-align: right;\n",
       "    }\n",
       "</style>\n",
       "<table border=\"1\" class=\"dataframe\">\n",
       "  <thead>\n",
       "    <tr style=\"text-align: right;\">\n",
       "      <th></th>\n",
       "      <th>accuracy</th>\n",
       "    </tr>\n",
       "  </thead>\n",
       "  <tbody>\n",
       "    <tr>\n",
       "      <th>f1-score</th>\n",
       "      <td>0.657396</td>\n",
       "    </tr>\n",
       "  </tbody>\n",
       "</table>\n",
       "</div>"
      ],
      "text/plain": [
       "          accuracy\n",
       "f1-score  0.657396"
      ]
     },
     "execution_count": 79,
     "metadata": {},
     "output_type": "execute_result"
    }
   ],
   "source": [
    "# Model 2: Decision Tree Classifier\n",
    "\n",
    "#Standarise the data\n",
    "standard_scaler = StandardScaler(with_mean=False)\n",
    "X_transformed = standard_scaler.fit_transform(X)\n",
    "\n",
    "decision_tree_model = DecisionTreeClassifier(max_depth = 25, random_state=42)\n",
    "X_train, X_valid, y_train, y_valid = split_data(X_transformed,y)\n",
    "y_model_predicts, y_model_predicts_train = fit_model(X_train, y_train, X_valid, decision_tree_model)\n",
    "print('Model 2: Decision Tree Classifier')\n",
    "DT_f1_train = f1_score_calc(y_train, y_model_predicts_train)\n",
    "DT_f1 = f1_score_calc(y_valid, y_model_predicts)\n",
    "DT_f1"
   ]
  },
  {
   "cell_type": "code",
   "execution_count": 80,
   "id": "244763da",
   "metadata": {},
   "outputs": [
    {
     "name": "stdout",
     "output_type": "stream",
     "text": [
      "              precision    recall  f1-score   support\n",
      "\n",
      "          -1       0.69      0.18      0.29       278\n",
      "           0       0.50      0.31      0.38       425\n",
      "           1       0.67      0.85      0.75      1755\n",
      "           2       0.67      0.58      0.62       706\n",
      "\n",
      "    accuracy                           0.66      3164\n",
      "   macro avg       0.63      0.48      0.51      3164\n",
      "weighted avg       0.65      0.66      0.63      3164\n",
      "\n"
     ]
    }
   ],
   "source": [
    "report = classification_report(y_valid, y_model_predicts)\n",
    "print(report)"
   ]
  },
  {
   "cell_type": "code",
   "execution_count": 81,
   "id": "8b831f04",
   "metadata": {},
   "outputs": [],
   "source": [
    "# general precision good. Learning better than RF. \n",
    "# -1, 0 went elsewhere (low class)\n",
    "# 1, 2 good\n",
    "# try upsampling -1, 0 and downsampling 1"
   ]
  },
  {
   "cell_type": "code",
   "execution_count": 82,
   "id": "18e3d47a",
   "metadata": {},
   "outputs": [],
   "source": [
    "# Results from tuning:\n",
    "# gini, max depth 25 = 65.77  --------------------\n",
    "# added features 63.93\n",
    "# add feat1 = 64.53\n",
    "# add feat 2 = 64.15\n",
    "# add feat 3 = 63.87\n",
    "# add feat 4 = 63.93\n",
    "# add feat 5 = 64.25"
   ]
  },
  {
   "cell_type": "code",
   "execution_count": 83,
   "id": "fc03bb3c",
   "metadata": {},
   "outputs": [
    {
     "name": "stdout",
     "output_type": "stream",
     "text": [
      "Model 3: Support Vector Machine (SVM)\n"
     ]
    },
    {
     "data": {
      "text/html": [
       "<div>\n",
       "<style scoped>\n",
       "    .dataframe tbody tr th:only-of-type {\n",
       "        vertical-align: middle;\n",
       "    }\n",
       "\n",
       "    .dataframe tbody tr th {\n",
       "        vertical-align: top;\n",
       "    }\n",
       "\n",
       "    .dataframe thead th {\n",
       "        text-align: right;\n",
       "    }\n",
       "</style>\n",
       "<table border=\"1\" class=\"dataframe\">\n",
       "  <thead>\n",
       "    <tr style=\"text-align: right;\">\n",
       "      <th></th>\n",
       "      <th>accuracy</th>\n",
       "    </tr>\n",
       "  </thead>\n",
       "  <tbody>\n",
       "    <tr>\n",
       "      <th>f1-score</th>\n",
       "      <td>0.636852</td>\n",
       "    </tr>\n",
       "  </tbody>\n",
       "</table>\n",
       "</div>"
      ],
      "text/plain": [
       "          accuracy\n",
       "f1-score  0.636852"
      ]
     },
     "execution_count": 83,
     "metadata": {},
     "output_type": "execute_result"
    }
   ],
   "source": [
    "# Model 3: Support Vector Machine (SVM)\n",
    "\n",
    "#Standarise the data\n",
    "standard_scaler = StandardScaler(with_mean=False)\n",
    "X_transformed = standard_scaler.fit_transform(X)\n",
    "\n",
    "svc = SVC(random_state = 42)\n",
    "X_train, X_valid, y_train, y_valid = split_data(X_transformed,y)\n",
    "y_model_predicts, y_model_predicts_train = fit_model(X_train, y_train, X_valid, svc)\n",
    "print('Model 3: Support Vector Machine (SVM)')\n",
    "SVM_f1_train = f1_score_calc(y_train, y_model_predicts_train)\n",
    "SVM_f1 = f1_score_calc(y_valid, y_model_predicts)\n",
    "SVM_f1"
   ]
  },
  {
   "cell_type": "code",
   "execution_count": 84,
   "id": "1e9cc13d",
   "metadata": {},
   "outputs": [
    {
     "name": "stdout",
     "output_type": "stream",
     "text": [
      "              precision    recall  f1-score   support\n",
      "\n",
      "          -1       1.00      0.06      0.12       278\n",
      "           0       1.00      0.04      0.08       425\n",
      "           1       0.61      0.99      0.75      1755\n",
      "           2       0.92      0.35      0.51       706\n",
      "\n",
      "    accuracy                           0.64      3164\n",
      "   macro avg       0.88      0.36      0.36      3164\n",
      "weighted avg       0.76      0.64      0.55      3164\n",
      "\n"
     ]
    }
   ],
   "source": [
    "report = classification_report(y_valid, y_model_predicts)\n",
    "print(report)"
   ]
  },
  {
   "cell_type": "code",
   "execution_count": 85,
   "id": "f7f3807e",
   "metadata": {},
   "outputs": [],
   "source": [
    "# -1, 0 went elsewhere\n",
    "# 1 very good (if you have balanced data - does well)\n",
    "# 2 low"
   ]
  },
  {
   "cell_type": "code",
   "execution_count": 86,
   "id": "94e44f9e",
   "metadata": {},
   "outputs": [],
   "source": [
    "# Results from tuning:\n",
    "# linear, 70.8913\n",
    "# rbf, 73.0405 default     ----------------------------------\n",
    "# added features  57.86%\n",
    "# add feat1 = 57.64 very long\n",
    "# feat 2 = 57.71\n",
    "# feat 4 = 57.83\n",
    "# all vectors 73.89"
   ]
  },
  {
   "cell_type": "code",
   "execution_count": 87,
   "id": "445ff10f",
   "metadata": {},
   "outputs": [
    {
     "name": "stdout",
     "output_type": "stream",
     "text": [
      "Model 4: Logistic Regression\n"
     ]
    },
    {
     "data": {
      "text/html": [
       "<div>\n",
       "<style scoped>\n",
       "    .dataframe tbody tr th:only-of-type {\n",
       "        vertical-align: middle;\n",
       "    }\n",
       "\n",
       "    .dataframe tbody tr th {\n",
       "        vertical-align: top;\n",
       "    }\n",
       "\n",
       "    .dataframe thead th {\n",
       "        text-align: right;\n",
       "    }\n",
       "</style>\n",
       "<table border=\"1\" class=\"dataframe\">\n",
       "  <thead>\n",
       "    <tr style=\"text-align: right;\">\n",
       "      <th></th>\n",
       "      <th>accuracy</th>\n",
       "    </tr>\n",
       "  </thead>\n",
       "  <tbody>\n",
       "    <tr>\n",
       "      <th>f1-score</th>\n",
       "      <td>0.767067</td>\n",
       "    </tr>\n",
       "  </tbody>\n",
       "</table>\n",
       "</div>"
      ],
      "text/plain": [
       "          accuracy\n",
       "f1-score  0.767067"
      ]
     },
     "execution_count": 87,
     "metadata": {},
     "output_type": "execute_result"
    }
   ],
   "source": [
    "# Model 4: Logistic Regression\n",
    "\n",
    "Log_model = LogisticRegression(solver='liblinear', random_state=42, C = 5.5)\n",
    "X_train, X_valid, y_train, y_valid = split_data(X,y)\n",
    "y_model_predicts, y_model_predicts_train = fit_model(X_train, y_train, X_valid, Log_model)\n",
    "print('Model 4: Logistic Regression')\n",
    "MLR_f1_train = f1_score_calc(y_train, y_model_predicts_train)\n",
    "MLR_f1 = f1_score_calc(y_valid, y_model_predicts)\n",
    "MLR_f1"
   ]
  },
  {
   "cell_type": "code",
   "execution_count": 88,
   "id": "fc7c7cab",
   "metadata": {},
   "outputs": [
    {
     "name": "stdout",
     "output_type": "stream",
     "text": [
      "              precision    recall  f1-score   support\n",
      "\n",
      "          -1       0.78      0.47      0.59       278\n",
      "           0       0.62      0.47      0.54       425\n",
      "           1       0.79      0.87      0.83      1755\n",
      "           2       0.77      0.80      0.79       706\n",
      "\n",
      "    accuracy                           0.77      3164\n",
      "   macro avg       0.74      0.65      0.68      3164\n",
      "weighted avg       0.76      0.77      0.76      3164\n",
      "\n"
     ]
    }
   ],
   "source": [
    "report = classification_report(y_valid, y_model_predicts)\n",
    "print(report)"
   ]
  },
  {
   "cell_type": "code",
   "execution_count": 89,
   "id": "a546e28e",
   "metadata": {},
   "outputs": [],
   "source": [
    "# -1, 0 50% of values went elsewhere\n",
    "# 1 was good, some went elsewhere\n",
    "# 2 was good, some went elsewhere\n",
    "# upsample -1, 0 to class 2 and see"
   ]
  },
  {
   "cell_type": "code",
   "execution_count": 90,
   "id": "09fee111",
   "metadata": {},
   "outputs": [],
   "source": [
    "# Results from tuning:\n",
    "# lbfgs = 71.33  ------------------------\n",
    "# added features 61%\n",
    "# added feat 1 69.02%\n",
    "# added feat 2 67.03\n",
    "# added feat 3 64.44\n",
    "# added feat 4 62.48\n",
    "# added feat 5 59.73\n",
    "# all vectroizers = 73.79"
   ]
  },
  {
   "cell_type": "code",
   "execution_count": 91,
   "id": "479cdd5d",
   "metadata": {},
   "outputs": [
    {
     "name": "stdout",
     "output_type": "stream",
     "text": [
      "Model 5: Naive Bayes\n"
     ]
    },
    {
     "data": {
      "text/html": [
       "<div>\n",
       "<style scoped>\n",
       "    .dataframe tbody tr th:only-of-type {\n",
       "        vertical-align: middle;\n",
       "    }\n",
       "\n",
       "    .dataframe tbody tr th {\n",
       "        vertical-align: top;\n",
       "    }\n",
       "\n",
       "    .dataframe thead th {\n",
       "        text-align: right;\n",
       "    }\n",
       "</style>\n",
       "<table border=\"1\" class=\"dataframe\">\n",
       "  <thead>\n",
       "    <tr style=\"text-align: right;\">\n",
       "      <th></th>\n",
       "      <th>accuracy</th>\n",
       "    </tr>\n",
       "  </thead>\n",
       "  <tbody>\n",
       "    <tr>\n",
       "      <th>f1-score</th>\n",
       "      <td>0.720923</td>\n",
       "    </tr>\n",
       "  </tbody>\n",
       "</table>\n",
       "</div>"
      ],
      "text/plain": [
       "          accuracy\n",
       "f1-score  0.720923"
      ]
     },
     "execution_count": 91,
     "metadata": {},
     "output_type": "execute_result"
    }
   ],
   "source": [
    "# Model 5: Naive Bayes\n",
    "\n",
    "naive_bayes_model = MultinomialNB()\n",
    "\n",
    "#standard_scaler = StandardScaler(with_mean=False)\n",
    "#X_transformed = standard_scaler.fit_transform(X)\n",
    "\n",
    "X_train, X_valid, y_train, y_valid = split_data(X,y)\n",
    "y_model_predicts, y_model_predicts_train = fit_model(X_train, y_train, X_valid, naive_bayes_model)\n",
    "print('Model 5: Naive Bayes')\n",
    "NB_f1_train = f1_score_calc(y_train, y_model_predicts_train)\n",
    "NB_f1 = f1_score_calc(y_valid, y_model_predicts)\n",
    "NB_f1"
   ]
  },
  {
   "cell_type": "code",
   "execution_count": 92,
   "id": "a66caded",
   "metadata": {},
   "outputs": [
    {
     "name": "stdout",
     "output_type": "stream",
     "text": [
      "              precision    recall  f1-score   support\n",
      "\n",
      "          -1       0.79      0.29      0.43       278\n",
      "           0       0.60      0.38      0.47       425\n",
      "           1       0.76      0.83      0.80      1755\n",
      "           2       0.66      0.81      0.73       706\n",
      "\n",
      "    accuracy                           0.72      3164\n",
      "   macro avg       0.70      0.58      0.60      3164\n",
      "weighted avg       0.72      0.72      0.70      3164\n",
      "\n"
     ]
    }
   ],
   "source": [
    "report = classification_report(y_valid, y_model_predicts)\n",
    "print(report)"
   ]
  },
  {
   "cell_type": "code",
   "execution_count": 93,
   "id": "a4abf8c4",
   "metadata": {},
   "outputs": [],
   "source": [
    "# -1 not good - data from elsewhere in here, not gone else\n",
    "# 1 good but 1 seems to go to -1\n",
    "# 0 ok, going elsewhere\n",
    "# 2 is good, generally - reading news better (features are better predicting for news)\n"
   ]
  },
  {
   "cell_type": "code",
   "execution_count": 94,
   "id": "aa1ff125",
   "metadata": {},
   "outputs": [],
   "source": [
    "# Results from tuning:\n",
    "# added features 67.54\n",
    "# added feat1 67.92\n",
    "# added feat2 68.36  ----------------\n",
    "# added feat3 68.04\n",
    "# added feat 4 67.44\n",
    "# added feat 5 67.54"
   ]
  },
  {
   "cell_type": "code",
   "execution_count": 95,
   "id": "4d8cfd18",
   "metadata": {},
   "outputs": [
    {
     "name": "stdout",
     "output_type": "stream",
     "text": [
      "Model 6: XG Boost\n"
     ]
    },
    {
     "data": {
      "text/html": [
       "<div>\n",
       "<style scoped>\n",
       "    .dataframe tbody tr th:only-of-type {\n",
       "        vertical-align: middle;\n",
       "    }\n",
       "\n",
       "    .dataframe tbody tr th {\n",
       "        vertical-align: top;\n",
       "    }\n",
       "\n",
       "    .dataframe thead th {\n",
       "        text-align: right;\n",
       "    }\n",
       "</style>\n",
       "<table border=\"1\" class=\"dataframe\">\n",
       "  <thead>\n",
       "    <tr style=\"text-align: right;\">\n",
       "      <th></th>\n",
       "      <th>accuracy</th>\n",
       "    </tr>\n",
       "  </thead>\n",
       "  <tbody>\n",
       "    <tr>\n",
       "      <th>f1-score</th>\n",
       "      <td>0.71397</td>\n",
       "    </tr>\n",
       "  </tbody>\n",
       "</table>\n",
       "</div>"
      ],
      "text/plain": [
       "          accuracy\n",
       "f1-score   0.71397"
      ]
     },
     "execution_count": 95,
     "metadata": {},
     "output_type": "execute_result"
    }
   ],
   "source": [
    "# Model 6: XG Boost\n",
    "\n",
    "XG_Boost_model = xgb.XGBClassifier()\n",
    "\n",
    "X_train, X_valid, y_train, y_valid = split_data(X,y)\n",
    "le = LabelEncoder()\n",
    "\n",
    "y_train = le.fit_transform(y_train)\n",
    "y_valid = le.fit_transform(y_valid)\n",
    "y_model_predicts, y_model_predicts_train = fit_model(X_train, y_train, X_valid, XG_Boost_model)\n",
    "print('Model 6: XG Boost')\n",
    "XG_f1_train = f1_score_calc(y_train, y_model_predicts_train)\n",
    "XG_f1 = f1_score_calc(y_valid, y_model_predicts)\n",
    "XG_f1\n",
    "#print(classification_report(y_valid, y_model_predicts))"
   ]
  },
  {
   "cell_type": "code",
   "execution_count": 96,
   "id": "38da3f12",
   "metadata": {},
   "outputs": [
    {
     "name": "stdout",
     "output_type": "stream",
     "text": [
      "              precision    recall  f1-score   support\n",
      "\n",
      "           0       0.76      0.33      0.46       278\n",
      "           1       0.65      0.30      0.41       425\n",
      "           2       0.72      0.87      0.79      1755\n",
      "           3       0.72      0.72      0.72       706\n",
      "\n",
      "    accuracy                           0.71      3164\n",
      "   macro avg       0.71      0.55      0.59      3164\n",
      "weighted avg       0.71      0.71      0.69      3164\n",
      "\n"
     ]
    }
   ],
   "source": [
    "report = classification_report(y_valid, y_model_predicts)\n",
    "print(report)"
   ]
  },
  {
   "cell_type": "code",
   "execution_count": 97,
   "id": "687564ae",
   "metadata": {},
   "outputs": [],
   "source": [
    "# generally good - misclassifying 0,1 sample size "
   ]
  },
  {
   "cell_type": "code",
   "execution_count": 98,
   "id": "1995da98",
   "metadata": {},
   "outputs": [],
   "source": [
    "# Results from tuning:\n",
    "# added feat 5 = 70.95\n",
    "# original data = 70.54"
   ]
  },
  {
   "cell_type": "code",
   "execution_count": 99,
   "id": "d3716070",
   "metadata": {},
   "outputs": [],
   "source": [
    "# Model 7: CatBoost \n",
    "\n",
    "#CB_model = ctb.CatBoostClassifier()\n",
    "#X_train, X_valid, y_train, y_valid = split_data(X,y)\n",
    "#y_model_predicts, y_model_predicts_train = fit_model(X_train, y_train, X_valid, CB_model)\n",
    "#print('Model 7: CatBoost')\n",
    "#CB_f1_train = f1_score_calc(y_train, y_model_predicts_train)\n",
    "#CB_f1 = f1_score_calc(y_valid, y_model_predicts)\n",
    "#CB_f1\n"
   ]
  },
  {
   "cell_type": "code",
   "execution_count": 100,
   "id": "1b34cc21",
   "metadata": {},
   "outputs": [],
   "source": [
    "#report = classification_report(y_valid, y_model_predicts)\n",
    "#print(report)"
   ]
  },
  {
   "cell_type": "code",
   "execution_count": 101,
   "id": "d5180ec5",
   "metadata": {},
   "outputs": [],
   "source": [
    "# Good precision - sample problem"
   ]
  },
  {
   "cell_type": "code",
   "execution_count": 102,
   "id": "ee08f4eb",
   "metadata": {},
   "outputs": [],
   "source": [
    "# Model 8: Light GBM --- count vectorizer issue array\n",
    "\n",
    "#LGB_model = ltb.LGBMClassifier()\n",
    "#X_train, X_valid, y_train, y_valid = split_data(X,y)\n",
    "\n",
    "#X_train.astype(np.float32) \n",
    "#X_valid.astype('float32') \n",
    "#y_train.toarray() \n",
    "#y_valid.toarray() \n",
    "\n",
    "#y_model_predicts, y_model_predicts_train = fit_model(X_train, y_train, X_valid, LGB_model)\n",
    "#print('Model 8: Light GBM')\n",
    "#LGB_f1_train = f1_score_calc(y_train, y_model_predicts_train)\n",
    "#LGB_f1 = f1_score_calc(y_valid, y_model_predicts)\n",
    "#LGB_f1"
   ]
  },
  {
   "cell_type": "code",
   "execution_count": 103,
   "id": "07328295",
   "metadata": {},
   "outputs": [],
   "source": [
    "#report = classification_report(y_valid, y_model_predicts)\n",
    "#print(report)"
   ]
  },
  {
   "cell_type": "code",
   "execution_count": 104,
   "id": "9bf29db1",
   "metadata": {},
   "outputs": [],
   "source": [
    "# Results from tuning:\n",
    "# all vectorizers 73.23"
   ]
  },
  {
   "cell_type": "code",
   "execution_count": 105,
   "id": "71cbb43e",
   "metadata": {},
   "outputs": [
    {
     "name": "stdout",
     "output_type": "stream",
     "text": [
      "Model 9: KNN\n"
     ]
    },
    {
     "data": {
      "text/html": [
       "<div>\n",
       "<style scoped>\n",
       "    .dataframe tbody tr th:only-of-type {\n",
       "        vertical-align: middle;\n",
       "    }\n",
       "\n",
       "    .dataframe tbody tr th {\n",
       "        vertical-align: top;\n",
       "    }\n",
       "\n",
       "    .dataframe thead th {\n",
       "        text-align: right;\n",
       "    }\n",
       "</style>\n",
       "<table border=\"1\" class=\"dataframe\">\n",
       "  <thead>\n",
       "    <tr style=\"text-align: right;\">\n",
       "      <th></th>\n",
       "      <th>accuracy</th>\n",
       "    </tr>\n",
       "  </thead>\n",
       "  <tbody>\n",
       "    <tr>\n",
       "      <th>f1-score</th>\n",
       "      <td>0.589128</td>\n",
       "    </tr>\n",
       "  </tbody>\n",
       "</table>\n",
       "</div>"
      ],
      "text/plain": [
       "          accuracy\n",
       "f1-score  0.589128"
      ]
     },
     "execution_count": 105,
     "metadata": {},
     "output_type": "execute_result"
    }
   ],
   "source": [
    "#Model 9: KNN\n",
    "\n",
    "n_neighbors = 3\n",
    "KNN_model = KNeighborsClassifier(n_neighbors)\n",
    "X_train, X_valid, y_train, y_valid = split_data(X,y)\n",
    "y_model_predicts, y_model_predicts_train = fit_model(X_train, y_train, X_valid, KNN_model)\n",
    "print('Model 9: KNN')\n",
    "KNN_f1_train = f1_score_calc(y_train, y_model_predicts_train)\n",
    "KNN_f1 = f1_score_calc(y_valid, y_model_predicts)\n",
    "KNN_f1\n"
   ]
  },
  {
   "cell_type": "code",
   "execution_count": 106,
   "id": "566730cf",
   "metadata": {},
   "outputs": [
    {
     "name": "stdout",
     "output_type": "stream",
     "text": [
      "              precision    recall  f1-score   support\n",
      "\n",
      "          -1       0.40      0.18      0.25       278\n",
      "           0       0.33      0.49      0.39       425\n",
      "           1       0.65      0.80      0.71      1755\n",
      "           2       0.88      0.29      0.44       706\n",
      "\n",
      "    accuracy                           0.59      3164\n",
      "   macro avg       0.56      0.44      0.45      3164\n",
      "weighted avg       0.63      0.59      0.57      3164\n",
      "\n"
     ]
    }
   ],
   "source": [
    "report = classification_report(y_valid, y_model_predicts)\n",
    "print(report)"
   ]
  },
  {
   "cell_type": "code",
   "execution_count": 107,
   "id": "f4757288",
   "metadata": {},
   "outputs": [],
   "source": [
    "# 1 doing well\n",
    "# news reads better\n",
    "# -1, 0, 2 going elsewhere\n",
    "# sample issue"
   ]
  },
  {
   "cell_type": "code",
   "execution_count": 108,
   "id": "73d3ffdf",
   "metadata": {},
   "outputs": [],
   "source": [
    "# Results from tuning:\n",
    "# best with countvec 57.86"
   ]
  },
  {
   "cell_type": "code",
   "execution_count": 109,
   "id": "647c7cd3",
   "metadata": {},
   "outputs": [],
   "source": [
    "# neural networks - google collab"
   ]
  },
  {
   "cell_type": "code",
   "execution_count": 110,
   "id": "515b015a",
   "metadata": {},
   "outputs": [],
   "source": [
    "# BERT model??"
   ]
  },
  {
   "cell_type": "code",
   "execution_count": 111,
   "id": "a521574b",
   "metadata": {},
   "outputs": [
    {
     "name": "stdout",
     "output_type": "stream",
     "text": [
      "Model 10: SGD Classifier\n"
     ]
    },
    {
     "data": {
      "text/html": [
       "<div>\n",
       "<style scoped>\n",
       "    .dataframe tbody tr th:only-of-type {\n",
       "        vertical-align: middle;\n",
       "    }\n",
       "\n",
       "    .dataframe tbody tr th {\n",
       "        vertical-align: top;\n",
       "    }\n",
       "\n",
       "    .dataframe thead th {\n",
       "        text-align: right;\n",
       "    }\n",
       "</style>\n",
       "<table border=\"1\" class=\"dataframe\">\n",
       "  <thead>\n",
       "    <tr style=\"text-align: right;\">\n",
       "      <th></th>\n",
       "      <th>accuracy</th>\n",
       "    </tr>\n",
       "  </thead>\n",
       "  <tbody>\n",
       "    <tr>\n",
       "      <th>f1-score</th>\n",
       "      <td>0.756005</td>\n",
       "    </tr>\n",
       "  </tbody>\n",
       "</table>\n",
       "</div>"
      ],
      "text/plain": [
       "          accuracy\n",
       "f1-score  0.756005"
      ]
     },
     "execution_count": 111,
     "metadata": {},
     "output_type": "execute_result"
    }
   ],
   "source": [
    "# Model 10: SGD Classifier\n",
    "\n",
    "from sklearn.linear_model import SGDClassifier\n",
    "\n",
    "#standard_scaler = StandardScaler(with_mean=False)\n",
    "#X_transformed = standard_scaler.fit_transform(X)\n",
    "\n",
    "sgd_model = SGDClassifier(random_state = 42, penalty = 'elasticnet')\n",
    "X_train, X_valid, y_train, y_valid = split_data(X,y)\n",
    "y_model_predicts, y_model_predicts_train = fit_model(X_train, y_train, X_valid, sgd_model)\n",
    "print('Model 10: SGD Classifier')\n",
    "SGD_f1_train = f1_score_calc(y_train, y_model_predicts_train)\n",
    "SGD_f1 = f1_score_calc(y_valid, y_model_predicts)\n",
    "SGD_f1"
   ]
  },
  {
   "cell_type": "code",
   "execution_count": 112,
   "id": "d9ad6859",
   "metadata": {},
   "outputs": [
    {
     "name": "stdout",
     "output_type": "stream",
     "text": [
      "              precision    recall  f1-score   support\n",
      "\n",
      "          -1       0.75      0.50      0.60       278\n",
      "           0       0.56      0.45      0.50       425\n",
      "           1       0.79      0.85      0.82      1755\n",
      "           2       0.75      0.81      0.78       706\n",
      "\n",
      "    accuracy                           0.76      3164\n",
      "   macro avg       0.71      0.65      0.68      3164\n",
      "weighted avg       0.75      0.76      0.75      3164\n",
      "\n"
     ]
    }
   ],
   "source": [
    "report = classification_report(y_valid, y_model_predicts)\n",
    "print(report)"
   ]
  },
  {
   "cell_type": "code",
   "execution_count": 123,
   "id": "27b8cf64",
   "metadata": {},
   "outputs": [
    {
     "name": "stdout",
     "output_type": "stream",
     "text": [
      "Model 11: Neural Network\n"
     ]
    },
    {
     "data": {
      "text/html": [
       "<div>\n",
       "<style scoped>\n",
       "    .dataframe tbody tr th:only-of-type {\n",
       "        vertical-align: middle;\n",
       "    }\n",
       "\n",
       "    .dataframe tbody tr th {\n",
       "        vertical-align: top;\n",
       "    }\n",
       "\n",
       "    .dataframe thead th {\n",
       "        text-align: right;\n",
       "    }\n",
       "</style>\n",
       "<table border=\"1\" class=\"dataframe\">\n",
       "  <thead>\n",
       "    <tr style=\"text-align: right;\">\n",
       "      <th></th>\n",
       "      <th>accuracy</th>\n",
       "    </tr>\n",
       "  </thead>\n",
       "  <tbody>\n",
       "    <tr>\n",
       "      <th>f1-score</th>\n",
       "      <td>0.705436</td>\n",
       "    </tr>\n",
       "  </tbody>\n",
       "</table>\n",
       "</div>"
      ],
      "text/plain": [
       "          accuracy\n",
       "f1-score  0.705436"
      ]
     },
     "execution_count": 123,
     "metadata": {},
     "output_type": "execute_result"
    }
   ],
   "source": [
    "# Model 11: Neural Network\n",
    "\n",
    "from sklearn.neural_network import MLPClassifier\n",
    "\n",
    "#X_train, X_test, y_train, y_test = train_test_split(X, y, stratify=y,random_state=1)\n",
    "\n",
    "MPL_NN_model = MLPClassifier(random_state=42, max_iter=100)\n",
    "\n",
    "#standard_scaler = StandardScaler(with_mean=False)\n",
    "#X_transformed = standard_scaler.fit_transform(X)\n",
    "\n",
    "X_train, X_valid, y_train, y_valid = split_data(X,y)\n",
    "y_model_predicts, y_model_predicts_train = fit_model(X_train, y_train, X_valid, MPL_NN_model)\n",
    "print('Model 11: Neural Network')\n",
    "MPL_f1_train = f1_score_calc(y_train, y_model_predicts_train)\n",
    "MPL_f1 = f1_score_calc(y_valid, y_model_predicts)\n",
    "MPL_f1\n"
   ]
  },
  {
   "cell_type": "code",
   "execution_count": null,
   "id": "73162950",
   "metadata": {},
   "outputs": [],
   "source": [
    "report = classification_report(y_valid, y_model_predicts)\n",
    "print(report)"
   ]
  },
  {
   "cell_type": "code",
   "execution_count": null,
   "id": "bc35e0aa",
   "metadata": {},
   "outputs": [],
   "source": [
    "# Model 12: Ridge Classifier\n",
    "\n",
    "from sklearn.linear_model import RidgeClassifierCV\n",
    "\n",
    "RC_CV_model = RidgeClassifierCV()   #RidgeClassifier()\n",
    "\n",
    "#standard_scaler = StandardScaler(with_mean=False)\n",
    "#X_transformed = standard_scaler.fit_transform(X)\n",
    "\n",
    "X_train, X_valid, y_train, y_valid = split_data(X,y)\n",
    "y_model_predicts, y_model_predicts_train = fit_model(X_train, y_train, X_valid, RC_CV_model)\n",
    "print('Model 12: Ridge Classifier')\n",
    "RC_CV_f1_train = f1_score_calc(y_train, y_model_predicts_train)\n",
    "RC_CV_f1 = f1_score_calc(y_valid, y_model_predicts)\n",
    "RC_CV_f1"
   ]
  },
  {
   "cell_type": "code",
   "execution_count": null,
   "id": "f84a76e2",
   "metadata": {},
   "outputs": [],
   "source": []
  },
  {
   "cell_type": "code",
   "execution_count": 114,
   "id": "82a386fe",
   "metadata": {},
   "outputs": [],
   "source": [
    "# -1, 0 sample "
   ]
  },
  {
   "cell_type": "code",
   "execution_count": 115,
   "id": "793408ff",
   "metadata": {},
   "outputs": [
    {
     "data": {
      "text/plain": [
       "(10546,)"
      ]
     },
     "execution_count": 115,
     "metadata": {},
     "output_type": "execute_result"
    }
   ],
   "source": [
    "# Submission to Kaggle\n",
    "\n",
    "#KNN_model\n",
    "#CB_model\n",
    "\n",
    "# Best model was the Logistic Regression model which gave the highest F1 score and ran quicker than some of the other models\n",
    "#sgd_model\n",
    "#Log_model\n",
    "#naive_bayes_model\n",
    "#svc\n",
    "\n",
    "#best_model = svc\n",
    "#predictions = best_model.predict(test_arr)\n",
    "##predictions = predictions.reshape(-1)  #XG boost\n",
    "#submission = pd.DataFrame({'tweetid': df_test['tweetid'], 'sentiment':predictions})\n",
    "#submission.to_csv('submission_25_SVC_CV_TND_DS.csv', index=False)\n",
    "#predictions.shape\n",
    "##rs.shape"
   ]
  },
  {
   "cell_type": "code",
   "execution_count": null,
   "id": "d66e819a",
   "metadata": {},
   "outputs": [],
   "source": []
  },
  {
   "cell_type": "markdown",
   "id": "6b530251",
   "metadata": {},
   "source": [
    "<a id=\"six\"></a>\n",
    "## 6. Model Performance\n",
    "<a class=\"anchor\" id=\"1.1\"></a>\n",
    "<a href=#cont>Back to Table of Contents</a>\n",
    "\n",
    "---\n",
    "    \n",
    "| ⚡ Description: Model performance ⚡ |\n",
    "| :--------------------------- |\n",
    "| In this section you are required to compare the relative performance of the various trained ML models on a holdout dataset and comment on what model is the best and why. |\n",
    "\n",
    "---"
   ]
  },
  {
   "cell_type": "code",
   "execution_count": 116,
   "id": "6a69b5a1",
   "metadata": {},
   "outputs": [],
   "source": [
    "# Compare model performance\n",
    "\n",
    "# Dictionary of results\n",
    "results_dict = {'F1 (Valid)':\n",
    "                    {\n",
    "                        \"Random Forest Classifier\": RF_f1.iat[0,0],\n",
    "                        \"Decision Tree Classifier\": DT_f1.iat[0,0],\n",
    "                        \"Support Vector Machine (SVM)\": SVM_f1.iat[0,0],\n",
    "                        \"Logistic Regression\": MLR_f1.iat[0,0],\n",
    "                        \"Naive Bayes\": NB_f1.iat[0,0],\n",
    "                        \"XG Boost\": XG_f1.iat[0,0],\n",
    "                      #  \"CatBoost\": CB_f1.iat[0,0],\n",
    "                      #  \"Light GBM\": LGB_f1.iat[0,0],\n",
    "                        \"KNN\": KNN_f1.iat[0,0],\n",
    "                        \"SGD\": SGD_f1.iat[0,0] \n",
    "                    },\n",
    "                \n",
    "                'F1 (Train)':\n",
    "                    {\n",
    "                        \"Random Forest Classifier\": RF_f1_train.iat[0,0],\n",
    "                        \"Decision Tree Classifier\": DT_f1_train.iat[0,0],\n",
    "                        \"Support Vector Machine (SVM)\": SVM_f1_train.iat[0,0],\n",
    "                        \"Logistic Regression\": MLR_f1_train.iat[0,0],\n",
    "                        \"Naive Bayes\": NB_f1_train.iat[0,0],\n",
    "                        \"XG Boost\": XG_f1_train.iat[0,0],\n",
    "                       # \"CatBoost\": CB_f1_train.iat[0,0],\n",
    "                       # \"Light GBM\": LGB_f1_train.iat[0,0],\n",
    "                        \"KNN\": KNN_f1_train.iat[0,0],\n",
    "                        \"SGD\": SGD_f1_train.iat[0,0] \n",
    "                    },\n",
    "                            \n",
    "                  }"
   ]
  },
  {
   "cell_type": "code",
   "execution_count": 117,
   "id": "64dc9421",
   "metadata": {},
   "outputs": [
    {
     "data": {
      "text/html": [
       "<div>\n",
       "<style scoped>\n",
       "    .dataframe tbody tr th:only-of-type {\n",
       "        vertical-align: middle;\n",
       "    }\n",
       "\n",
       "    .dataframe tbody tr th {\n",
       "        vertical-align: top;\n",
       "    }\n",
       "\n",
       "    .dataframe thead th {\n",
       "        text-align: right;\n",
       "    }\n",
       "</style>\n",
       "<table border=\"1\" class=\"dataframe\">\n",
       "  <thead>\n",
       "    <tr style=\"text-align: right;\">\n",
       "      <th></th>\n",
       "      <th>F1 (Valid)</th>\n",
       "      <th>F1 (Train)</th>\n",
       "    </tr>\n",
       "  </thead>\n",
       "  <tbody>\n",
       "    <tr>\n",
       "      <th>Random Forest Classifier</th>\n",
       "      <td>0.604930</td>\n",
       "      <td>0.603477</td>\n",
       "    </tr>\n",
       "    <tr>\n",
       "      <th>Decision Tree Classifier</th>\n",
       "      <td>0.657396</td>\n",
       "      <td>0.725010</td>\n",
       "    </tr>\n",
       "    <tr>\n",
       "      <th>Support Vector Machine (SVM)</th>\n",
       "      <td>0.636852</td>\n",
       "      <td>0.960253</td>\n",
       "    </tr>\n",
       "    <tr>\n",
       "      <th>Logistic Regression</th>\n",
       "      <td>0.767067</td>\n",
       "      <td>0.998578</td>\n",
       "    </tr>\n",
       "    <tr>\n",
       "      <th>Naive Bayes</th>\n",
       "      <td>0.720923</td>\n",
       "      <td>0.939550</td>\n",
       "    </tr>\n",
       "    <tr>\n",
       "      <th>XG Boost</th>\n",
       "      <td>0.713970</td>\n",
       "      <td>0.779771</td>\n",
       "    </tr>\n",
       "    <tr>\n",
       "      <th>KNN</th>\n",
       "      <td>0.589128</td>\n",
       "      <td>0.718372</td>\n",
       "    </tr>\n",
       "    <tr>\n",
       "      <th>SGD</th>\n",
       "      <td>0.756005</td>\n",
       "      <td>0.997471</td>\n",
       "    </tr>\n",
       "  </tbody>\n",
       "</table>\n",
       "</div>"
      ],
      "text/plain": [
       "                              F1 (Valid)  F1 (Train)\n",
       "Random Forest Classifier        0.604930    0.603477\n",
       "Decision Tree Classifier        0.657396    0.725010\n",
       "Support Vector Machine (SVM)    0.636852    0.960253\n",
       "Logistic Regression             0.767067    0.998578\n",
       "Naive Bayes                     0.720923    0.939550\n",
       "XG Boost                        0.713970    0.779771\n",
       "KNN                             0.589128    0.718372\n",
       "SGD                             0.756005    0.997471"
      ]
     },
     "execution_count": 117,
     "metadata": {},
     "output_type": "execute_result"
    }
   ],
   "source": [
    "# Create dataframe from dictionary\n",
    "results_df = pd.DataFrame(data=results_dict)\n",
    "results_df"
   ]
  },
  {
   "cell_type": "code",
   "execution_count": 118,
   "id": "dff7e374",
   "metadata": {},
   "outputs": [
    {
     "data": {
      "text/plain": [
       "<AxesSubplot:>"
      ]
     },
     "execution_count": 118,
     "metadata": {},
     "output_type": "execute_result"
    },
    {
     "data": {
      "image/png": "[encoded data removed]",
      "text/plain": [
       "<Figure size 720x360 with 2 Axes>"
      ]
     },
     "metadata": {
      "needs_background": "light"
     },
     "output_type": "display_data"
    }
   ],
   "source": [
    "fig, ax = plt.subplots(1, 2, figsize=(10, 5))\n",
    "results_df.sort_values('F1 (Valid)', ascending=False, inplace=True)\n",
    "results_df.plot(y=['F1 (Valid)'], kind='bar', ax=ax[0], xlim=[0,1.1])\n",
    "results_df.plot(y='F1 (Train)', kind='bar', ax=ax[1])"
   ]
  },
  {
   "cell_type": "code",
   "execution_count": 119,
   "id": "3874a7c6",
   "metadata": {},
   "outputs": [],
   "source": [
    "# Choose best model and motivate why it is the best choice\n",
    "\n",
    "# Best model was the Logistic Regression model which gave the highest F1 score and ran quicker than some of the other models\n"
   ]
  },
  {
   "cell_type": "markdown",
   "id": "a8ad0c0d",
   "metadata": {},
   "source": [
    "<a id=\"seven\"></a>\n",
    "## 7. Model Explanations\n",
    "<a class=\"anchor\" id=\"1.1\"></a>\n",
    "<a href=#cont>Back to Table of Contents</a>\n",
    "\n",
    "---\n",
    "    \n",
    "| ⚡ Description: Model explanation ⚡ |\n",
    "| :--------------------------- |\n",
    "| In this section, you are required to discuss how the best performing model works in a simple way so that both technical and non-technical stakeholders can grasp the intuition behind the model's inner workings. |\n",
    "\n",
    "---"
   ]
  },
  {
   "cell_type": "code",
   "execution_count": 120,
   "id": "5ff741c2",
   "metadata": {},
   "outputs": [],
   "source": [
    "# discuss chosen methods logic\n",
    "\n",
    "#Logistic Regression was the chosen model\n",
    "\n",
    "#Logistic regression is a machine learning model used for classification tasks. \n",
    "#It predicts the probability that observed data belongs to a given class. \n",
    "#It is referred to as regression because it takes the output of the linear regression \n",
    "#function as input and uses a sigmoid function to then estimate the probability that the data belongs to a given class. \n",
    "#Linear regression differs to logistic regression in the output values.\n",
    "#linear regression output is the continuous value which is the predicted values\n",
    "#logistic regression predicts the probability that the data belongs to a given class or not.\n"
   ]
  }
 ],
 "metadata": {
  "kernelspec": {
   "display_name": "Python 3 (ipykernel)",
   "language": "python",
   "name": "python3"
  },
  "language_info": {
   "codemirror_mode": {
    "name": "ipython",
    "version": 3
   },
   "file_extension": ".py",
   "mimetype": "text/x-python",
   "name": "python",
   "nbconvert_exporter": "python",
   "pygments_lexer": "ipython3",
   "version": "3.9.12"
  },
  "latex_envs": {
   "LaTeX_envs_menu_present": true,
   "autoclose": false,
   "autocomplete": true,
   "bibliofile": "biblio.bib",
   "cite_by": "apalike",
   "current_citInitial": 1,
   "eqLabelWithNumbers": true,
   "eqNumInitial": 1,
   "hotkeys": {
    "equation": "Ctrl-E",
    "itemize": "Ctrl-I"
   },
   "labels_anchors": false,
   "latex_user_defs": false,
   "report_style_numbering": false,
   "user_envs_cfg": false
  },
  "toc": {
   "base_numbering": 1,
   "nav_menu": {},
   "number_sections": true,
   "sideBar": true,
   "skip_h1_title": false,
   "title_cell": "Table of Contents",
   "title_sidebar": "Contents",
   "toc_cell": false,
   "toc_position": {},
   "toc_section_display": true,
   "toc_window_display": false
  },
  "varInspector": {
   "cols": {
    "lenName": 16,
    "lenType": 16,
    "lenVar": 40
   },
   "kernels_config": {
    "python": {
     "delete_cmd_postfix": "",
     "delete_cmd_prefix": "del ",
     "library": "var_list.py",
     "varRefreshCmd": "print(var_dic_list())"
    },
    "r": {
     "delete_cmd_postfix": ") ",
     "delete_cmd_prefix": "rm(",
     "library": "var_list.r",
     "varRefreshCmd": "cat(var_dic_list()) "
    }
   },
   "types_to_exclude": [
    "module",
    "function",
    "builtin_function_or_method",
    "instance",
    "_Feature"
   ],
   "window_display": false
  }
 },
 "nbformat": 4,
 "nbformat_minor": 5
}
