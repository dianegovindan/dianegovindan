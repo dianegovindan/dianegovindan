{
  "metadata": {
    "kernelspec": {
      "display_name": "Python 3",
      "name": "python3"
    },
    "language_info": {
      "name": "python",
      "version": "3.10.10",
      "mimetype": "text/x-python",
      "codemirror_mode": {
        "name": "ipython",
        "version": 3
      },
      "pygments_lexer": "ipython3",
      "nbconvert_exporter": "python",
      "file_extension": ".py"
    },
    "colab": {
      "provenance": [],
      "gpuType": "T4"
    },
    "accelerator": "GPU"
  },
  "nbformat_minor": 0,
  "nbformat": 4,
  "cells": [
    {
      "cell_type": "code",
      "source": [
        "# Add packages\n",
        "\n",
        "# Import our regular old heroes\n",
        "import numpy as np\n",
        "import pandas as pd\n",
        "import scipy as sp # <-- The sister of Numpy, used in our code for numerical efficientcy.\n",
        "import matplotlib.pyplot as plt\n",
        "import seaborn as sns\n",
        "import random\n",
        "\n",
        "# Entity featurization and similarity computation\n",
        "import re\n",
        "import nltk\n",
        "import string\n",
        "from nltk.stem import WordNetLemmatizer\n",
        "from nltk.corpus import stopwords\n",
        "from sklearn.metrics.pairwise import cosine_similarity\n",
        "from sklearn.feature_extraction.text import TfidfVectorizer\n",
        "\n",
        "# Libraries used during sorting procedures.\n",
        "import operator # <-- Convienient item retrieval during iteration\n",
        "import heapq # <-- Efficient sorting of large lists\n",
        "\n",
        "# Imported for our sanity\n",
        "import warnings\n",
        "warnings.filterwarnings('ignore')"
      ],
      "metadata": {
        "execution": {
          "iopub.status.busy": "2023-06-25T17:26:40.224500Z",
          "iopub.execute_input": "2023-06-25T17:26:40.224874Z",
          "iopub.status.idle": "2023-06-25T17:26:40.233809Z",
          "shell.execute_reply.started": "2023-06-25T17:26:40.224825Z",
          "shell.execute_reply": "2023-06-25T17:26:40.232488Z"
        },
        "trusted": true,
        "id": "66nIXwsVEtzo"
      },
      "execution_count": 1,
      "outputs": []
    },
    {
      "cell_type": "code",
      "source": [
        "from google.colab import drive\n",
        "\n",
        "drive.mount('/content/drive')"
      ],
      "metadata": {
        "id": "e-3XQNETFd04",
        "outputId": "97435028-308a-4a1f-eb51-8850d01df851",
        "colab": {
          "base_uri": "https://localhost:8080/"
        }
      },
      "execution_count": 2,
      "outputs": [
        {
          "output_type": "stream",
          "name": "stdout",
          "text": [
            "Mounted at /content/drive\n"
          ]
        }
      ]
    },
    {
      "cell_type": "code",
      "source": [
        "\n",
        "#!unzip \"drive/My Drive/train.csv.zip\" -d \"drive/My Drive\"\n",
        "#!unzip \"drive/My Drive/test.csv.zip\" -d \"drive/My Drive\"\n",
        "#!unzip \"drive/My Drive/tags.csv.zip\" -d \"drive/My Drive\"\n",
        "#!unzip \"drive/My Drive/movies.csv.zip\" -d \"drive/My Drive\"\n",
        "#!unzip \"drive/My Drive/links.csv.zip\" -d \"drive/My Drive\"\n",
        "#!unzip \"drive/My Drive/imdb_data.csv.zip\" -d \"drive/My Drive\"\n",
        "#!unzip \"drive/My Drive/genome_scores.csv.zip\" -d \"drive/My Drive\"\n"
      ],
      "metadata": {
        "id": "ugznvQwRG4Zv"
      },
      "execution_count": 3,
      "outputs": []
    },
    {
      "cell_type": "code",
      "source": [
        "# load datasets\n",
        "df_train = pd.read_csv('drive/My Drive/train.csv')\n",
        "df_test = pd.read_csv('drive/My Drive/test.csv')\n",
        "df_movies = pd.read_csv('drive/My Drive/movies.csv')\n",
        "df_imdb_data = pd.read_csv('drive/My Drive/imdb_data.csv')\n",
        "df_genome_tags = pd.read_csv('drive/My Drive/genome_tags.csv')\n",
        "df_genome_scores = pd.read_csv('drive/My Drive/genome_scores.csv')\n",
        "df_tags = pd.read_csv('drive/My Drive/tags.csv')\n",
        "df_links = pd.read_csv('drive/My Drive/links.csv')\n"
      ],
      "metadata": {
        "execution": {
          "iopub.status.busy": "2023-06-25T17:26:40.260266Z",
          "iopub.execute_input": "2023-06-25T17:26:40.261163Z",
          "iopub.status.idle": "2023-06-25T17:26:55.322768Z",
          "shell.execute_reply.started": "2023-06-25T17:26:40.261121Z",
          "shell.execute_reply": "2023-06-25T17:26:55.321867Z"
        },
        "trusted": true,
        "id": "pSynrHRlEtzo"
      },
      "execution_count": 4,
      "outputs": []
    },
    {
      "cell_type": "code",
      "source": [
        "# get sample of train data due to large size\n",
        "\n",
        "N_movies  = 10000\n",
        "df_movies = df_movies.iloc[range(0,N_movies),:]"
      ],
      "metadata": {
        "execution": {
          "iopub.status.busy": "2023-06-25T17:26:55.324798Z",
          "iopub.execute_input": "2023-06-25T17:26:55.325189Z",
          "iopub.status.idle": "2023-06-25T17:26:55.332632Z",
          "shell.execute_reply.started": "2023-06-25T17:26:55.325143Z",
          "shell.execute_reply": "2023-06-25T17:26:55.331553Z"
        },
        "trusted": true,
        "id": "1JOu1E9qEtzq"
      },
      "execution_count": 5,
      "outputs": []
    },
    {
      "cell_type": "code",
      "source": [
        "# create dictionary of counts for each table\n",
        "\n",
        "countdict = {\n",
        "  \"                      Train_Count\": df_train.count(),\n",
        "  \"         Movies_Count\": df_movies.count(),\n",
        "  \"         Imdb_Count\": df_imdb_data.count(),\n",
        "  \"         Genome_Tags_Count\": df_genome_tags.count(),\n",
        "  \"         Genome_Scores_Count\": df_genome_scores.count(),\n",
        "  \"         Test_Count\": df_test.count(),\n",
        "  \"         Tags_Count\": df_tags.count(),\n",
        "  \"         Links_Count\": df_links.count()\n",
        "}\n",
        "print(countdict)"
      ],
      "metadata": {
        "execution": {
          "iopub.status.busy": "2023-06-25T17:26:55.333655Z",
          "iopub.execute_input": "2023-06-25T17:26:55.334341Z",
          "iopub.status.idle": "2023-06-25T17:26:55.856668Z",
          "shell.execute_reply.started": "2023-06-25T17:26:55.334293Z",
          "shell.execute_reply": "2023-06-25T17:26:55.855608Z"
        },
        "trusted": true,
        "id": "gE8M9Vr_Etzq",
        "outputId": "450a5b49-ac13-4feb-b78f-6a94904c1b84",
        "colab": {
          "base_uri": "https://localhost:8080/"
        }
      },
      "execution_count": 6,
      "outputs": [
        {
          "output_type": "stream",
          "name": "stdout",
          "text": [
            "{'                      Train_Count': userId       10000038\n",
            "movieId      10000038\n",
            "rating       10000038\n",
            "timestamp    10000038\n",
            "dtype: int64, '         Movies_Count': movieId    10000\n",
            "title      10000\n",
            "genres     10000\n",
            "dtype: int64, '         Imdb_Count': movieId          27278\n",
            "title_cast       17210\n",
            "director         17404\n",
            "runtime          15189\n",
            "budget            7906\n",
            "plot_keywords    16200\n",
            "dtype: int64, '         Genome_Tags_Count': tagId    1128\n",
            "tag      1128\n",
            "dtype: int64, '         Genome_Scores_Count': movieId      15584448\n",
            "tagId        15584448\n",
            "relevance    15584448\n",
            "dtype: int64, '         Test_Count': userId     5000019\n",
            "movieId    5000019\n",
            "dtype: int64, '         Tags_Count': userId       1093360\n",
            "movieId      1093360\n",
            "tag          1093344\n",
            "timestamp    1093360\n",
            "dtype: int64, '         Links_Count': movieId    62423\n",
            "imdbId     62423\n",
            "tmdbId     62316\n",
            "dtype: int64}\n"
          ]
        }
      ]
    },
    {
      "cell_type": "code",
      "source": [
        "# View heads of dataframe\n",
        "df_train.head(), df_test.head(),df_movies.head()"
      ],
      "metadata": {
        "execution": {
          "iopub.status.busy": "2023-06-25T17:26:55.858213Z",
          "iopub.execute_input": "2023-06-25T17:26:55.858597Z",
          "iopub.status.idle": "2023-06-25T17:26:55.870430Z",
          "shell.execute_reply.started": "2023-06-25T17:26:55.858566Z",
          "shell.execute_reply": "2023-06-25T17:26:55.869366Z"
        },
        "trusted": true,
        "id": "pVyEPU81Etzr",
        "outputId": "7726229b-c89d-4de9-9f9b-55acbbbd9286",
        "colab": {
          "base_uri": "https://localhost:8080/"
        }
      },
      "execution_count": 7,
      "outputs": [
        {
          "output_type": "execute_result",
          "data": {
            "text/plain": [
              "(   userId  movieId  rating   timestamp\n",
              " 0    5163    57669     4.0  1518349992\n",
              " 1  106343        5     4.5  1206238739\n",
              " 2  146790     5459     5.0  1076215539\n",
              " 3  106362    32296     2.0  1423042565\n",
              " 4    9041      366     3.0   833375837,\n",
              "    userId  movieId\n",
              " 0       1     2011\n",
              " 1       1     4144\n",
              " 2       1     5767\n",
              " 3       1     6711\n",
              " 4       1     7318,\n",
              "    movieId                               title  \\\n",
              " 0        1                    Toy Story (1995)   \n",
              " 1        2                      Jumanji (1995)   \n",
              " 2        3             Grumpier Old Men (1995)   \n",
              " 3        4            Waiting to Exhale (1995)   \n",
              " 4        5  Father of the Bride Part II (1995)   \n",
              " \n",
              "                                         genres  \n",
              " 0  Adventure|Animation|Children|Comedy|Fantasy  \n",
              " 1                   Adventure|Children|Fantasy  \n",
              " 2                               Comedy|Romance  \n",
              " 3                         Comedy|Drama|Romance  \n",
              " 4                                       Comedy  )"
            ]
          },
          "metadata": {},
          "execution_count": 7
        }
      ]
    },
    {
      "cell_type": "code",
      "source": [
        "# View heads of dataframe\n",
        "df_imdb_data.head(), df_genome_tags.head(), df_genome_scores.head()"
      ],
      "metadata": {
        "execution": {
          "iopub.status.busy": "2023-06-25T17:26:55.873786Z",
          "iopub.execute_input": "2023-06-25T17:26:55.874109Z",
          "iopub.status.idle": "2023-06-25T17:26:55.892015Z",
          "shell.execute_reply.started": "2023-06-25T17:26:55.874081Z",
          "shell.execute_reply": "2023-06-25T17:26:55.890949Z"
        },
        "trusted": true,
        "id": "A4TeXl-UEtzr",
        "outputId": "3f4656f8-b8a5-4734-90bc-19f92ef32bef",
        "colab": {
          "base_uri": "https://localhost:8080/"
        }
      },
      "execution_count": 8,
      "outputs": [
        {
          "output_type": "execute_result",
          "data": {
            "text/plain": [
              "(   movieId                                         title_cast  \\\n",
              " 0        1  Tom Hanks|Tim Allen|Don Rickles|Jim Varney|Wal...   \n",
              " 1        2  Robin Williams|Jonathan Hyde|Kirsten Dunst|Bra...   \n",
              " 2        3  Walter Matthau|Jack Lemmon|Sophia Loren|Ann-Ma...   \n",
              " 3        4  Whitney Houston|Angela Bassett|Loretta Devine|...   \n",
              " 4        5  Steve Martin|Diane Keaton|Martin Short|Kimberl...   \n",
              " \n",
              "               director  runtime       budget  \\\n",
              " 0        John Lasseter     81.0  $30,000,000   \n",
              " 1   Jonathan Hensleigh    104.0  $65,000,000   \n",
              " 2  Mark Steven Johnson    101.0  $25,000,000   \n",
              " 3       Terry McMillan    124.0  $16,000,000   \n",
              " 4       Albert Hackett    106.0  $30,000,000   \n",
              " \n",
              "                                        plot_keywords  \n",
              " 0                   toy|rivalry|cowboy|cgi animation  \n",
              " 1                   board game|adventurer|fight|game  \n",
              " 2                         boat|lake|neighbor|rivalry  \n",
              " 3  black american|husband wife relationship|betra...  \n",
              " 4                    fatherhood|doberman|dog|mansion  ,\n",
              "    tagId           tag\n",
              " 0      1           007\n",
              " 1      2  007 (series)\n",
              " 2      3  18th century\n",
              " 3      4         1920s\n",
              " 4      5         1930s,\n",
              "    movieId  tagId  relevance\n",
              " 0        1      1    0.02875\n",
              " 1        1      2    0.02375\n",
              " 2        1      3    0.06250\n",
              " 3        1      4    0.07575\n",
              " 4        1      5    0.14075)"
            ]
          },
          "metadata": {},
          "execution_count": 8
        }
      ]
    },
    {
      "cell_type": "code",
      "source": [
        "# View heads of dataframe\n",
        "df_test.head(), df_tags.head(), df_links.head()"
      ],
      "metadata": {
        "execution": {
          "iopub.status.busy": "2023-06-25T17:26:55.893892Z",
          "iopub.execute_input": "2023-06-25T17:26:55.894285Z",
          "iopub.status.idle": "2023-06-25T17:26:55.909008Z",
          "shell.execute_reply.started": "2023-06-25T17:26:55.894249Z",
          "shell.execute_reply": "2023-06-25T17:26:55.907780Z"
        },
        "trusted": true,
        "id": "Awc8W6h_Etzr",
        "outputId": "5c1f5f48-0aae-4f10-f7bc-020f0543c0c8",
        "colab": {
          "base_uri": "https://localhost:8080/"
        }
      },
      "execution_count": 9,
      "outputs": [
        {
          "output_type": "execute_result",
          "data": {
            "text/plain": [
              "(   userId  movieId\n",
              " 0       1     2011\n",
              " 1       1     4144\n",
              " 2       1     5767\n",
              " 3       1     6711\n",
              " 4       1     7318,\n",
              "    userId  movieId               tag   timestamp\n",
              " 0       3      260           classic  1439472355\n",
              " 1       3      260            sci-fi  1439472256\n",
              " 2       4     1732       dark comedy  1573943598\n",
              " 3       4     1732    great dialogue  1573943604\n",
              " 4       4     7569  so bad it's good  1573943455,\n",
              "    movieId  imdbId   tmdbId\n",
              " 0        1  114709    862.0\n",
              " 1        2  113497   8844.0\n",
              " 2        3  113228  15602.0\n",
              " 3        4  114885  31357.0\n",
              " 4        5  113041  11862.0)"
            ]
          },
          "metadata": {},
          "execution_count": 9
        }
      ]
    },
    {
      "cell_type": "code",
      "source": [
        "# get a subset of the train data\n",
        "# clean data and create feature space\n",
        "# dimensionality reduction\n",
        "# create cosine similarity\n",
        "# do the predictions\n",
        "# calculate RMSE\n"
      ],
      "metadata": {
        "execution": {
          "iopub.status.busy": "2023-06-25T17:26:55.910568Z",
          "iopub.execute_input": "2023-06-25T17:26:55.910890Z",
          "iopub.status.idle": "2023-06-25T17:26:55.914938Z",
          "shell.execute_reply.started": "2023-06-25T17:26:55.910862Z",
          "shell.execute_reply": "2023-06-25T17:26:55.913886Z"
        },
        "trusted": true,
        "id": "j0gKs2aXEtzs"
      },
      "execution_count": 10,
      "outputs": []
    },
    {
      "cell_type": "code",
      "source": [
        "# combine movie data\n",
        "df_movies_content = pd.merge(df_movies, df_imdb_data, on=['movieId'], how='left')\n",
        "df_movies_content.info()"
      ],
      "metadata": {
        "execution": {
          "iopub.status.busy": "2023-06-25T17:26:55.916144Z",
          "iopub.execute_input": "2023-06-25T17:26:55.916443Z",
          "iopub.status.idle": "2023-06-25T17:26:55.945276Z",
          "shell.execute_reply.started": "2023-06-25T17:26:55.916417Z",
          "shell.execute_reply": "2023-06-25T17:26:55.944499Z"
        },
        "trusted": true,
        "id": "841726RPEtzs",
        "outputId": "c5ffcd1f-463e-41ae-8541-30d2943f009a",
        "colab": {
          "base_uri": "https://localhost:8080/"
        }
      },
      "execution_count": 11,
      "outputs": [
        {
          "output_type": "stream",
          "name": "stdout",
          "text": [
            "<class 'pandas.core.frame.DataFrame'>\n",
            "Int64Index: 10000 entries, 0 to 9999\n",
            "Data columns (total 8 columns):\n",
            " #   Column         Non-Null Count  Dtype  \n",
            "---  ------         --------------  -----  \n",
            " 0   movieId        10000 non-null  int64  \n",
            " 1   title          10000 non-null  object \n",
            " 2   genres         10000 non-null  object \n",
            " 3   title_cast     5241 non-null   object \n",
            " 4   director       5247 non-null   object \n",
            " 5   runtime        4866 non-null   float64\n",
            " 6   budget         2942 non-null   object \n",
            " 7   plot_keywords  5176 non-null   object \n",
            "dtypes: float64(1), int64(1), object(6)\n",
            "memory usage: 703.1+ KB\n"
          ]
        }
      ]
    },
    {
      "cell_type": "code",
      "source": [
        "df_movies_content.head(100)"
      ],
      "metadata": {
        "execution": {
          "iopub.status.busy": "2023-06-25T17:26:55.946584Z",
          "iopub.execute_input": "2023-06-25T17:26:55.946912Z",
          "iopub.status.idle": "2023-06-25T17:26:55.963212Z",
          "shell.execute_reply.started": "2023-06-25T17:26:55.946885Z",
          "shell.execute_reply": "2023-06-25T17:26:55.962159Z"
        },
        "trusted": true,
        "id": "C-CYa-jxEtzt",
        "outputId": "609aa941-101d-4caf-efd1-858a4032e2f4",
        "colab": {
          "base_uri": "https://localhost:8080/",
          "height": 424
        }
      },
      "execution_count": 12,
      "outputs": [
        {
          "output_type": "execute_result",
          "data": {
            "text/plain": [
              "    movieId                                 title  \\\n",
              "0         1                      Toy Story (1995)   \n",
              "1         2                        Jumanji (1995)   \n",
              "2         3               Grumpier Old Men (1995)   \n",
              "3         4              Waiting to Exhale (1995)   \n",
              "4         5    Father of the Bride Part II (1995)   \n",
              "..      ...                                   ...   \n",
              "95       97               Hate (Haine, La) (1995)   \n",
              "96       98                       Shopping (1994)   \n",
              "97       99  Heidi Fleiss: Hollywood Madam (1995)   \n",
              "98      100                      City Hall (1996)   \n",
              "99      101                  Bottle Rocket (1996)   \n",
              "\n",
              "                                         genres  \\\n",
              "0   Adventure|Animation|Children|Comedy|Fantasy   \n",
              "1                    Adventure|Children|Fantasy   \n",
              "2                                Comedy|Romance   \n",
              "3                          Comedy|Drama|Romance   \n",
              "4                                        Comedy   \n",
              "..                                          ...   \n",
              "95                                  Crime|Drama   \n",
              "96                              Action|Thriller   \n",
              "97                                  Documentary   \n",
              "98                               Drama|Thriller   \n",
              "99               Adventure|Comedy|Crime|Romance   \n",
              "\n",
              "                                           title_cast             director  \\\n",
              "0   Tom Hanks|Tim Allen|Don Rickles|Jim Varney|Wal...        John Lasseter   \n",
              "1   Robin Williams|Jonathan Hyde|Kirsten Dunst|Bra...   Jonathan Hensleigh   \n",
              "2   Walter Matthau|Jack Lemmon|Sophia Loren|Ann-Ma...  Mark Steven Johnson   \n",
              "3   Whitney Houston|Angela Bassett|Loretta Devine|...       Terry McMillan   \n",
              "4   Steve Martin|Diane Keaton|Martin Short|Kimberl...       Albert Hackett   \n",
              "..                                                ...                  ...   \n",
              "95  Vincent Cassel|Hubert Koundé|Saïd Taghmaoui|Ab...    Mathieu Kassovitz   \n",
              "96  Sadie Frost|Jude Law|Sean Pertwee|Fraser James...   Paul W.S. Anderson   \n",
              "97  Nick Broomfield|Nina Xining Zuo|Madam Alex|Cor...      Nick Broomfield   \n",
              "98  Al Pacino|John Cusack|Bridget Fonda|Danny Aiel...           Ken Lipper   \n",
              "99  Luke Wilson|Owen Wilson|Ned Dowd|Shea Fowler|H...          Owen Wilson   \n",
              "\n",
              "    runtime        budget                                      plot_keywords  \n",
              "0      81.0   $30,000,000                   toy|rivalry|cowboy|cgi animation  \n",
              "1     104.0   $65,000,000                   board game|adventurer|fight|game  \n",
              "2     101.0   $25,000,000                         boat|lake|neighbor|rivalry  \n",
              "3     124.0   $16,000,000  black american|husband wife relationship|betra...  \n",
              "4     106.0   $30,000,000                    fatherhood|doberman|dog|mansion  \n",
              "..      ...           ...                                                ...  \n",
              "95     98.0  EUR2,590,000                             police|arab|gun|ghetto  \n",
              "96    105.0           NaN               shopping|shop|shopping mall|stealing  \n",
              "97    106.0           NaN                             narration|prostitution  \n",
              "98    111.0   $40,000,000              mayor|dealer|drug dealer|deputy mayor  \n",
              "99     91.0    $7,000,000                      texas|caper|dark comedy|motel  \n",
              "\n",
              "[100 rows x 8 columns]"
            ],
            "text/html": [
              "\n",
              "  <div id=\"df-9c9c2823-1c46-4ca3-99f3-b3612f65163a\">\n",
              "    <div class=\"colab-df-container\">\n",
              "      <div>\n",
              "<style scoped>\n",
              "    .dataframe tbody tr th:only-of-type {\n",
              "        vertical-align: middle;\n",
              "    }\n",
              "\n",
              "    .dataframe tbody tr th {\n",
              "        vertical-align: top;\n",
              "    }\n",
              "\n",
              "    .dataframe thead th {\n",
              "        text-align: right;\n",
              "    }\n",
              "</style>\n",
              "<table border=\"1\" class=\"dataframe\">\n",
              "  <thead>\n",
              "    <tr style=\"text-align: right;\">\n",
              "      <th></th>\n",
              "      <th>movieId</th>\n",
              "      <th>title</th>\n",
              "      <th>genres</th>\n",
              "      <th>title_cast</th>\n",
              "      <th>director</th>\n",
              "      <th>runtime</th>\n",
              "      <th>budget</th>\n",
              "      <th>plot_keywords</th>\n",
              "    </tr>\n",
              "  </thead>\n",
              "  <tbody>\n",
              "    <tr>\n",
              "      <th>0</th>\n",
              "      <td>1</td>\n",
              "      <td>Toy Story (1995)</td>\n",
              "      <td>Adventure|Animation|Children|Comedy|Fantasy</td>\n",
              "      <td>Tom Hanks|Tim Allen|Don Rickles|Jim Varney|Wal...</td>\n",
              "      <td>John Lasseter</td>\n",
              "      <td>81.0</td>\n",
              "      <td>$30,000,000</td>\n",
              "      <td>toy|rivalry|cowboy|cgi animation</td>\n",
              "    </tr>\n",
              "    <tr>\n",
              "      <th>1</th>\n",
              "      <td>2</td>\n",
              "      <td>Jumanji (1995)</td>\n",
              "      <td>Adventure|Children|Fantasy</td>\n",
              "      <td>Robin Williams|Jonathan Hyde|Kirsten Dunst|Bra...</td>\n",
              "      <td>Jonathan Hensleigh</td>\n",
              "      <td>104.0</td>\n",
              "      <td>$65,000,000</td>\n",
              "      <td>board game|adventurer|fight|game</td>\n",
              "    </tr>\n",
              "    <tr>\n",
              "      <th>2</th>\n",
              "      <td>3</td>\n",
              "      <td>Grumpier Old Men (1995)</td>\n",
              "      <td>Comedy|Romance</td>\n",
              "      <td>Walter Matthau|Jack Lemmon|Sophia Loren|Ann-Ma...</td>\n",
              "      <td>Mark Steven Johnson</td>\n",
              "      <td>101.0</td>\n",
              "      <td>$25,000,000</td>\n",
              "      <td>boat|lake|neighbor|rivalry</td>\n",
              "    </tr>\n",
              "    <tr>\n",
              "      <th>3</th>\n",
              "      <td>4</td>\n",
              "      <td>Waiting to Exhale (1995)</td>\n",
              "      <td>Comedy|Drama|Romance</td>\n",
              "      <td>Whitney Houston|Angela Bassett|Loretta Devine|...</td>\n",
              "      <td>Terry McMillan</td>\n",
              "      <td>124.0</td>\n",
              "      <td>$16,000,000</td>\n",
              "      <td>black american|husband wife relationship|betra...</td>\n",
              "    </tr>\n",
              "    <tr>\n",
              "      <th>4</th>\n",
              "      <td>5</td>\n",
              "      <td>Father of the Bride Part II (1995)</td>\n",
              "      <td>Comedy</td>\n",
              "      <td>Steve Martin|Diane Keaton|Martin Short|Kimberl...</td>\n",
              "      <td>Albert Hackett</td>\n",
              "      <td>106.0</td>\n",
              "      <td>$30,000,000</td>\n",
              "      <td>fatherhood|doberman|dog|mansion</td>\n",
              "    </tr>\n",
              "    <tr>\n",
              "      <th>...</th>\n",
              "      <td>...</td>\n",
              "      <td>...</td>\n",
              "      <td>...</td>\n",
              "      <td>...</td>\n",
              "      <td>...</td>\n",
              "      <td>...</td>\n",
              "      <td>...</td>\n",
              "      <td>...</td>\n",
              "    </tr>\n",
              "    <tr>\n",
              "      <th>95</th>\n",
              "      <td>97</td>\n",
              "      <td>Hate (Haine, La) (1995)</td>\n",
              "      <td>Crime|Drama</td>\n",
              "      <td>Vincent Cassel|Hubert Koundé|Saïd Taghmaoui|Ab...</td>\n",
              "      <td>Mathieu Kassovitz</td>\n",
              "      <td>98.0</td>\n",
              "      <td>EUR2,590,000</td>\n",
              "      <td>police|arab|gun|ghetto</td>\n",
              "    </tr>\n",
              "    <tr>\n",
              "      <th>96</th>\n",
              "      <td>98</td>\n",
              "      <td>Shopping (1994)</td>\n",
              "      <td>Action|Thriller</td>\n",
              "      <td>Sadie Frost|Jude Law|Sean Pertwee|Fraser James...</td>\n",
              "      <td>Paul W.S. Anderson</td>\n",
              "      <td>105.0</td>\n",
              "      <td>NaN</td>\n",
              "      <td>shopping|shop|shopping mall|stealing</td>\n",
              "    </tr>\n",
              "    <tr>\n",
              "      <th>97</th>\n",
              "      <td>99</td>\n",
              "      <td>Heidi Fleiss: Hollywood Madam (1995)</td>\n",
              "      <td>Documentary</td>\n",
              "      <td>Nick Broomfield|Nina Xining Zuo|Madam Alex|Cor...</td>\n",
              "      <td>Nick Broomfield</td>\n",
              "      <td>106.0</td>\n",
              "      <td>NaN</td>\n",
              "      <td>narration|prostitution</td>\n",
              "    </tr>\n",
              "    <tr>\n",
              "      <th>98</th>\n",
              "      <td>100</td>\n",
              "      <td>City Hall (1996)</td>\n",
              "      <td>Drama|Thriller</td>\n",
              "      <td>Al Pacino|John Cusack|Bridget Fonda|Danny Aiel...</td>\n",
              "      <td>Ken Lipper</td>\n",
              "      <td>111.0</td>\n",
              "      <td>$40,000,000</td>\n",
              "      <td>mayor|dealer|drug dealer|deputy mayor</td>\n",
              "    </tr>\n",
              "    <tr>\n",
              "      <th>99</th>\n",
              "      <td>101</td>\n",
              "      <td>Bottle Rocket (1996)</td>\n",
              "      <td>Adventure|Comedy|Crime|Romance</td>\n",
              "      <td>Luke Wilson|Owen Wilson|Ned Dowd|Shea Fowler|H...</td>\n",
              "      <td>Owen Wilson</td>\n",
              "      <td>91.0</td>\n",
              "      <td>$7,000,000</td>\n",
              "      <td>texas|caper|dark comedy|motel</td>\n",
              "    </tr>\n",
              "  </tbody>\n",
              "</table>\n",
              "<p>100 rows × 8 columns</p>\n",
              "</div>\n",
              "      <button class=\"colab-df-convert\" onclick=\"convertToInteractive('df-9c9c2823-1c46-4ca3-99f3-b3612f65163a')\"\n",
              "              title=\"Convert this dataframe to an interactive table.\"\n",
              "              style=\"display:none;\">\n",
              "        \n",
              "  <svg xmlns=\"http://www.w3.org/2000/svg\" height=\"24px\"viewBox=\"0 0 24 24\"\n",
              "       width=\"24px\">\n",
              "    <path d=\"M0 0h24v24H0V0z\" fill=\"none\"/>\n",
              "    <path d=\"M18.56 5.44l.94 2.06.94-2.06 2.06-.94-2.06-.94-.94-2.06-.94 2.06-2.06.94zm-11 1L8.5 8.5l.94-2.06 2.06-.94-2.06-.94L8.5 2.5l-.94 2.06-2.06.94zm10 10l.94 2.06.94-2.06 2.06-.94-2.06-.94-.94-2.06-.94 2.06-2.06.94z\"/><path d=\"M17.41 7.96l-1.37-1.37c-.4-.4-.92-.59-1.43-.59-.52 0-1.04.2-1.43.59L10.3 9.45l-7.72 7.72c-.78.78-.78 2.05 0 2.83L4 21.41c.39.39.9.59 1.41.59.51 0 1.02-.2 1.41-.59l7.78-7.78 2.81-2.81c.8-.78.8-2.07 0-2.86zM5.41 20L4 18.59l7.72-7.72 1.47 1.35L5.41 20z\"/>\n",
              "  </svg>\n",
              "      </button>\n",
              "      \n",
              "  <style>\n",
              "    .colab-df-container {\n",
              "      display:flex;\n",
              "      flex-wrap:wrap;\n",
              "      gap: 12px;\n",
              "    }\n",
              "\n",
              "    .colab-df-convert {\n",
              "      background-color: #E8F0FE;\n",
              "      border: none;\n",
              "      border-radius: 50%;\n",
              "      cursor: pointer;\n",
              "      display: none;\n",
              "      fill: #1967D2;\n",
              "      height: 32px;\n",
              "      padding: 0 0 0 0;\n",
              "      width: 32px;\n",
              "    }\n",
              "\n",
              "    .colab-df-convert:hover {\n",
              "      background-color: #E2EBFA;\n",
              "      box-shadow: 0px 1px 2px rgba(60, 64, 67, 0.3), 0px 1px 3px 1px rgba(60, 64, 67, 0.15);\n",
              "      fill: #174EA6;\n",
              "    }\n",
              "\n",
              "    [theme=dark] .colab-df-convert {\n",
              "      background-color: #3B4455;\n",
              "      fill: #D2E3FC;\n",
              "    }\n",
              "\n",
              "    [theme=dark] .colab-df-convert:hover {\n",
              "      background-color: #434B5C;\n",
              "      box-shadow: 0px 1px 3px 1px rgba(0, 0, 0, 0.15);\n",
              "      filter: drop-shadow(0px 1px 2px rgba(0, 0, 0, 0.3));\n",
              "      fill: #FFFFFF;\n",
              "    }\n",
              "  </style>\n",
              "\n",
              "      <script>\n",
              "        const buttonEl =\n",
              "          document.querySelector('#df-9c9c2823-1c46-4ca3-99f3-b3612f65163a button.colab-df-convert');\n",
              "        buttonEl.style.display =\n",
              "          google.colab.kernel.accessAllowed ? 'block' : 'none';\n",
              "\n",
              "        async function convertToInteractive(key) {\n",
              "          const element = document.querySelector('#df-9c9c2823-1c46-4ca3-99f3-b3612f65163a');\n",
              "          const dataTable =\n",
              "            await google.colab.kernel.invokeFunction('convertToInteractive',\n",
              "                                                     [key], {});\n",
              "          if (!dataTable) return;\n",
              "\n",
              "          const docLinkHtml = 'Like what you see? Visit the ' +\n",
              "            '<a target=\"_blank\" href=https://colab.research.google.com/notebooks/data_table.ipynb>data table notebook</a>'\n",
              "            + ' to learn more about interactive tables.';\n",
              "          element.innerHTML = '';\n",
              "          dataTable['output_type'] = 'display_data';\n",
              "          await google.colab.output.renderOutput(dataTable, element);\n",
              "          const docLink = document.createElement('div');\n",
              "          docLink.innerHTML = docLinkHtml;\n",
              "          element.appendChild(docLink);\n",
              "        }\n",
              "      </script>\n",
              "    </div>\n",
              "  </div>\n",
              "  "
            ]
          },
          "metadata": {},
          "execution_count": 12
        }
      ]
    },
    {
      "cell_type": "code",
      "source": [
        "nltk.download(['punkt','stopwords'])"
      ],
      "metadata": {
        "execution": {
          "iopub.status.busy": "2023-06-25T17:26:55.975444Z",
          "iopub.execute_input": "2023-06-25T17:26:55.975724Z",
          "iopub.status.idle": "2023-06-25T17:26:56.122673Z",
          "shell.execute_reply.started": "2023-06-25T17:26:55.975699Z",
          "shell.execute_reply": "2023-06-25T17:26:56.121570Z"
        },
        "trusted": true,
        "id": "fG-7hj6GEtzu",
        "outputId": "ae9979b6-63c5-43e5-852a-214807e01bab",
        "colab": {
          "base_uri": "https://localhost:8080/"
        }
      },
      "execution_count": 13,
      "outputs": [
        {
          "output_type": "stream",
          "name": "stderr",
          "text": [
            "[nltk_data] Downloading package punkt to /root/nltk_data...\n",
            "[nltk_data]   Unzipping tokenizers/punkt.zip.\n",
            "[nltk_data] Downloading package stopwords to /root/nltk_data...\n",
            "[nltk_data]   Unzipping corpora/stopwords.zip.\n"
          ]
        },
        {
          "output_type": "execute_result",
          "data": {
            "text/plain": [
              "True"
            ]
          },
          "metadata": {},
          "execution_count": 13
        }
      ]
    },
    {
      "cell_type": "code",
      "source": [
        "from nltk.stem import WordNetLemmatizer\n",
        "nltk.download('wordnet')\n",
        "#! unzip /usr/share/nltk_data/corpora/wordnet.zip -d /usr/share/nltk_data/corpora/"
      ],
      "metadata": {
        "execution": {
          "iopub.status.busy": "2023-06-25T17:26:56.124058Z",
          "iopub.execute_input": "2023-06-25T17:26:56.124489Z",
          "iopub.status.idle": "2023-06-25T17:26:56.158919Z",
          "shell.execute_reply.started": "2023-06-25T17:26:56.124459Z",
          "shell.execute_reply": "2023-06-25T17:26:56.157859Z"
        },
        "trusted": true,
        "id": "WNPKyzIhEtzu",
        "outputId": "03740582-f1a4-452c-ca00-cccb74e700ed",
        "colab": {
          "base_uri": "https://localhost:8080/"
        }
      },
      "execution_count": 14,
      "outputs": [
        {
          "output_type": "stream",
          "name": "stderr",
          "text": [
            "[nltk_data] Downloading package wordnet to /root/nltk_data...\n"
          ]
        },
        {
          "output_type": "execute_result",
          "data": {
            "text/plain": [
              "True"
            ]
          },
          "metadata": {},
          "execution_count": 14
        }
      ]
    },
    {
      "cell_type": "code",
      "source": [
        "# initialize\n",
        "\n",
        "tokenizer = nltk.RegexpTokenizer(r\"\\w+\")\n",
        "lemmatizer = WordNetLemmatizer()\n",
        "stopwords = stopwords.words('english')\n"
      ],
      "metadata": {
        "execution": {
          "iopub.status.busy": "2023-06-25T17:26:55.964584Z",
          "iopub.execute_input": "2023-06-25T17:26:55.964892Z",
          "iopub.status.idle": "2023-06-25T17:26:55.974012Z",
          "shell.execute_reply.started": "2023-06-25T17:26:55.964867Z",
          "shell.execute_reply": "2023-06-25T17:26:55.973024Z"
        },
        "trusted": true,
        "id": "HaoDc5QSEtzu"
      },
      "execution_count": 15,
      "outputs": []
    },
    {
      "cell_type": "code",
      "source": [
        "# Tokenize, Lemmatize, Stopwords\n",
        "\n",
        "def text_to_token(s):\n",
        "    tokens = tokenizer.tokenize(s)\n",
        "    lower_cased_tokens = [t.lower() for t in tokens]\n",
        "    lemmatized_tokens = [lemmatizer.lemmatize(t) for t in lower_cased_tokens]\n",
        "    useful_tokens = [t for t in lemmatized_tokens if t not in stopwords]\n",
        "    return useful_tokens"
      ],
      "metadata": {
        "execution": {
          "iopub.status.busy": "2023-06-25T17:26:56.160299Z",
          "iopub.execute_input": "2023-06-25T17:26:56.161369Z",
          "iopub.status.idle": "2023-06-25T17:26:56.168267Z",
          "shell.execute_reply.started": "2023-06-25T17:26:56.161329Z",
          "shell.execute_reply": "2023-06-25T17:26:56.167265Z"
        },
        "trusted": true,
        "id": "Gq-SUonbEtzv"
      },
      "execution_count": 16,
      "outputs": []
    },
    {
      "cell_type": "code",
      "source": [
        "def clean_text_two(text):\n",
        "    #text = str(text)\n",
        "    text = re.sub('[\\d-]', '', text) #remove any numbers\n",
        "    text = re.sub(r'RT', '', text) #remove the retweets\n",
        "    return text"
      ],
      "metadata": {
        "execution": {
          "iopub.status.busy": "2023-06-25T17:26:56.174453Z",
          "iopub.execute_input": "2023-06-25T17:26:56.174756Z",
          "iopub.status.idle": "2023-06-25T17:26:56.180487Z",
          "shell.execute_reply.started": "2023-06-25T17:26:56.174731Z",
          "shell.execute_reply": "2023-06-25T17:26:56.179461Z"
        },
        "trusted": true,
        "id": "yYISPCxFEtzv"
      },
      "execution_count": 17,
      "outputs": []
    },
    {
      "cell_type": "code",
      "source": [
        "def clean_director(text):\n",
        "    #lower case\n",
        "    tokens = tokenizer.tokenize(text)\n",
        "    lower_cased_tokens = [t.lower() for t in tokens]\n",
        "    #join on space\n",
        "    return ''.join(lower_cased_tokens)"
      ],
      "metadata": {
        "execution": {
          "iopub.status.busy": "2023-06-25T17:26:56.181987Z",
          "iopub.execute_input": "2023-06-25T17:26:56.182393Z",
          "iopub.status.idle": "2023-06-25T17:26:56.192117Z",
          "shell.execute_reply.started": "2023-06-25T17:26:56.182357Z",
          "shell.execute_reply": "2023-06-25T17:26:56.191185Z"
        },
        "trusted": true,
        "id": "gi6XyUtlEtzw"
      },
      "execution_count": 18,
      "outputs": []
    },
    {
      "cell_type": "code",
      "source": [
        "def clean_genres(text):\n",
        "\n",
        "    if text == '(no genres listed)':\n",
        "        clean_text = ''\n",
        "    else:\n",
        "        text = text.split('|')\n",
        "        clean_text = [t.lower() for t in text]\n",
        "        clean_text = ' '.join(clean_text)\n",
        "\n",
        "    return clean_text"
      ],
      "metadata": {
        "execution": {
          "iopub.status.busy": "2023-06-25T17:26:56.194255Z",
          "iopub.execute_input": "2023-06-25T17:26:56.194764Z",
          "iopub.status.idle": "2023-06-25T17:26:56.203673Z",
          "shell.execute_reply.started": "2023-06-25T17:26:56.194732Z",
          "shell.execute_reply": "2023-06-25T17:26:56.202760Z"
        },
        "trusted": true,
        "id": "-2QZ-EWrEtzw"
      },
      "execution_count": 19,
      "outputs": []
    },
    {
      "cell_type": "code",
      "source": [
        "def clean_title_cast(text):\n",
        "\n",
        "    text = text.split('|')\n",
        "    clean_text = [t.lower() for t in text]\n",
        "    clean_text = [i.replace(\" \", \"\") for i in clean_text]\n",
        "    clean_text = ' '.join(clean_text)\n",
        "\n",
        "    return clean_text"
      ],
      "metadata": {
        "execution": {
          "iopub.status.busy": "2023-06-25T17:26:56.204746Z",
          "iopub.execute_input": "2023-06-25T17:26:56.205107Z",
          "iopub.status.idle": "2023-06-25T17:26:56.216878Z",
          "shell.execute_reply.started": "2023-06-25T17:26:56.205080Z",
          "shell.execute_reply": "2023-06-25T17:26:56.215835Z"
        },
        "trusted": true,
        "id": "ia6jH3jSEtzw"
      },
      "execution_count": 20,
      "outputs": []
    },
    {
      "cell_type": "code",
      "source": [
        "def remove_punctuation(text):\n",
        "    return ''.join([l for l in text if l not in string.punctuation])"
      ],
      "metadata": {
        "execution": {
          "iopub.status.busy": "2023-06-25T17:26:56.218094Z",
          "iopub.execute_input": "2023-06-25T17:26:56.218462Z",
          "iopub.status.idle": "2023-06-25T17:26:56.228757Z",
          "shell.execute_reply.started": "2023-06-25T17:26:56.218420Z",
          "shell.execute_reply": "2023-06-25T17:26:56.227872Z"
        },
        "trusted": true,
        "id": "WvlIpyVZEtzw"
      },
      "execution_count": 21,
      "outputs": []
    },
    {
      "cell_type": "code",
      "source": [
        "# clean title\n",
        "df_movies_content['title'] = df_movies_content['title'].fillna('')\n",
        "df_movies_content['title'] = df_movies_content['title'].apply(remove_punctuation)\n",
        "df_movies_content['title'] = df_movies_content['title'].apply(text_to_token)\n",
        "df_movies_content['title'] = df_movies_content['title'].apply(lambda x: \" \".join(x))"
      ],
      "metadata": {
        "execution": {
          "iopub.status.busy": "2023-06-25T17:26:56.230038Z",
          "iopub.execute_input": "2023-06-25T17:26:56.230369Z",
          "iopub.status.idle": "2023-06-25T17:26:56.244858Z",
          "shell.execute_reply.started": "2023-06-25T17:26:56.230329Z",
          "shell.execute_reply": "2023-06-25T17:26:56.244032Z"
        },
        "trusted": true,
        "id": "qxtoSZZNEtzx"
      },
      "execution_count": 22,
      "outputs": []
    },
    {
      "cell_type": "code",
      "source": [
        "# clean director\n",
        "\n",
        "df_movies_content['director'] = df_movies_content['director'].fillna('')\n",
        "df_movies_content['director'] = df_movies_content['director'].apply(clean_director)\n"
      ],
      "metadata": {
        "execution": {
          "iopub.status.busy": "2023-06-25T17:26:56.245974Z",
          "iopub.execute_input": "2023-06-25T17:26:56.246393Z",
          "iopub.status.idle": "2023-06-25T17:26:56.256876Z",
          "shell.execute_reply.started": "2023-06-25T17:26:56.246354Z",
          "shell.execute_reply": "2023-06-25T17:26:56.255868Z"
        },
        "trusted": true,
        "id": "mtPvGDt8Etzx"
      },
      "execution_count": 23,
      "outputs": []
    },
    {
      "cell_type": "code",
      "source": [
        "# clean genre\n",
        "\n",
        "df_movies_content['genres'] = df_movies_content['genres'].fillna('')\n",
        "df_movies_content['genres'] = df_movies_content['genres'].apply(clean_genres)\n"
      ],
      "metadata": {
        "execution": {
          "iopub.status.busy": "2023-06-25T17:26:56.260147Z",
          "iopub.execute_input": "2023-06-25T17:26:56.260636Z",
          "iopub.status.idle": "2023-06-25T17:26:56.273586Z",
          "shell.execute_reply.started": "2023-06-25T17:26:56.260600Z",
          "shell.execute_reply": "2023-06-25T17:26:56.272495Z"
        },
        "trusted": true,
        "id": "KtMvCV-NEtzy"
      },
      "execution_count": 24,
      "outputs": []
    },
    {
      "cell_type": "code",
      "source": [
        "# clean keywords\n",
        "df_movies_content['plot_keywords'] = df_movies_content['plot_keywords'].fillna('')\n",
        "df_movies_content['plot_keywords'] = df_movies_content['plot_keywords'].apply(clean_genres)\n",
        "df_movies_content['plot_keywords'] = df_movies_content['plot_keywords'].apply(text_to_token)\n",
        "df_movies_content['plot_keywords'] = df_movies_content['plot_keywords'].apply(lambda x: \" \".join(x))"
      ],
      "metadata": {
        "execution": {
          "iopub.status.busy": "2023-06-25T17:26:56.275056Z",
          "iopub.execute_input": "2023-06-25T17:26:56.275431Z",
          "iopub.status.idle": "2023-06-25T17:26:56.288781Z",
          "shell.execute_reply.started": "2023-06-25T17:26:56.275403Z",
          "shell.execute_reply": "2023-06-25T17:26:56.287766Z"
        },
        "trusted": true,
        "id": "k6DipELAEtzy"
      },
      "execution_count": 25,
      "outputs": []
    },
    {
      "cell_type": "code",
      "source": [
        "# clean title_cast\n",
        "df_movies_content['title_cast'] = df_movies_content['title_cast'].fillna('')\n",
        "df_movies_content['title_cast'] = df_movies_content['title_cast'].apply(clean_title_cast)"
      ],
      "metadata": {
        "execution": {
          "iopub.status.busy": "2023-06-25T17:26:56.289709Z",
          "iopub.execute_input": "2023-06-25T17:26:56.290017Z",
          "iopub.status.idle": "2023-06-25T17:26:56.299520Z",
          "shell.execute_reply.started": "2023-06-25T17:26:56.289992Z",
          "shell.execute_reply": "2023-06-25T17:26:56.298472Z"
        },
        "trusted": true,
        "id": "PV6CpwDIEtzz"
      },
      "execution_count": 26,
      "outputs": []
    },
    {
      "cell_type": "code",
      "source": [
        "df_movies_content.tail()"
      ],
      "metadata": {
        "execution": {
          "iopub.status.busy": "2023-06-25T17:26:56.300818Z",
          "iopub.execute_input": "2023-06-25T17:26:56.301134Z",
          "iopub.status.idle": "2023-06-25T17:26:56.322533Z",
          "shell.execute_reply.started": "2023-06-25T17:26:56.301107Z",
          "shell.execute_reply": "2023-06-25T17:26:56.321382Z"
        },
        "trusted": true,
        "id": "MTuNr3atEtzz",
        "outputId": "0afc6018-df94-4e47-876d-41c38b8d3320",
        "colab": {
          "base_uri": "https://localhost:8080/",
          "height": 206
        }
      },
      "execution_count": 27,
      "outputs": [
        {
          "output_type": "execute_result",
          "data": {
            "text/plain": [
              "      movieId                                        title         genres  \\\n",
              "9995    33750            innocent voice vox inocentes 2004      drama war   \n",
              "9996    33755  godzilla v biollante gojira v biorante 1989  action sci-fi   \n",
              "9997    33760                          anna king siam 1946  drama romance   \n",
              "9998    33767                       good neighbor sam 1964         comedy   \n",
              "9999    33779                 eddie izzard dress kill 1999         comedy   \n",
              "\n",
              "                                             title_cast        director  \\\n",
              "9995  carlospadilla leonorvarela gustavomuñoz joséma...     luismandoki   \n",
              "9996                                                                      \n",
              "9997                                                                      \n",
              "9998                                                                      \n",
              "9999                                        eddieizzard  lawrencejordan   \n",
              "\n",
              "      runtime budget                                     plot_keywords  \n",
              "9995    120.0    NaN                  1980s el salvador boy young love  \n",
              "9996      NaN    NaN                                                    \n",
              "9997      NaN    NaN                                                    \n",
              "9998      NaN    NaN                                                    \n",
              "9999      NaN    NaN  stand special stand stand comedian 2nd amendment  "
            ],
            "text/html": [
              "\n",
              "  <div id=\"df-17914660-665a-45ba-a7a6-dee5c4076e59\">\n",
              "    <div class=\"colab-df-container\">\n",
              "      <div>\n",
              "<style scoped>\n",
              "    .dataframe tbody tr th:only-of-type {\n",
              "        vertical-align: middle;\n",
              "    }\n",
              "\n",
              "    .dataframe tbody tr th {\n",
              "        vertical-align: top;\n",
              "    }\n",
              "\n",
              "    .dataframe thead th {\n",
              "        text-align: right;\n",
              "    }\n",
              "</style>\n",
              "<table border=\"1\" class=\"dataframe\">\n",
              "  <thead>\n",
              "    <tr style=\"text-align: right;\">\n",
              "      <th></th>\n",
              "      <th>movieId</th>\n",
              "      <th>title</th>\n",
              "      <th>genres</th>\n",
              "      <th>title_cast</th>\n",
              "      <th>director</th>\n",
              "      <th>runtime</th>\n",
              "      <th>budget</th>\n",
              "      <th>plot_keywords</th>\n",
              "    </tr>\n",
              "  </thead>\n",
              "  <tbody>\n",
              "    <tr>\n",
              "      <th>9995</th>\n",
              "      <td>33750</td>\n",
              "      <td>innocent voice vox inocentes 2004</td>\n",
              "      <td>drama war</td>\n",
              "      <td>carlospadilla leonorvarela gustavomuñoz joséma...</td>\n",
              "      <td>luismandoki</td>\n",
              "      <td>120.0</td>\n",
              "      <td>NaN</td>\n",
              "      <td>1980s el salvador boy young love</td>\n",
              "    </tr>\n",
              "    <tr>\n",
              "      <th>9996</th>\n",
              "      <td>33755</td>\n",
              "      <td>godzilla v biollante gojira v biorante 1989</td>\n",
              "      <td>action sci-fi</td>\n",
              "      <td></td>\n",
              "      <td></td>\n",
              "      <td>NaN</td>\n",
              "      <td>NaN</td>\n",
              "      <td></td>\n",
              "    </tr>\n",
              "    <tr>\n",
              "      <th>9997</th>\n",
              "      <td>33760</td>\n",
              "      <td>anna king siam 1946</td>\n",
              "      <td>drama romance</td>\n",
              "      <td></td>\n",
              "      <td></td>\n",
              "      <td>NaN</td>\n",
              "      <td>NaN</td>\n",
              "      <td></td>\n",
              "    </tr>\n",
              "    <tr>\n",
              "      <th>9998</th>\n",
              "      <td>33767</td>\n",
              "      <td>good neighbor sam 1964</td>\n",
              "      <td>comedy</td>\n",
              "      <td></td>\n",
              "      <td></td>\n",
              "      <td>NaN</td>\n",
              "      <td>NaN</td>\n",
              "      <td></td>\n",
              "    </tr>\n",
              "    <tr>\n",
              "      <th>9999</th>\n",
              "      <td>33779</td>\n",
              "      <td>eddie izzard dress kill 1999</td>\n",
              "      <td>comedy</td>\n",
              "      <td>eddieizzard</td>\n",
              "      <td>lawrencejordan</td>\n",
              "      <td>NaN</td>\n",
              "      <td>NaN</td>\n",
              "      <td>stand special stand stand comedian 2nd amendment</td>\n",
              "    </tr>\n",
              "  </tbody>\n",
              "</table>\n",
              "</div>\n",
              "      <button class=\"colab-df-convert\" onclick=\"convertToInteractive('df-17914660-665a-45ba-a7a6-dee5c4076e59')\"\n",
              "              title=\"Convert this dataframe to an interactive table.\"\n",
              "              style=\"display:none;\">\n",
              "        \n",
              "  <svg xmlns=\"http://www.w3.org/2000/svg\" height=\"24px\"viewBox=\"0 0 24 24\"\n",
              "       width=\"24px\">\n",
              "    <path d=\"M0 0h24v24H0V0z\" fill=\"none\"/>\n",
              "    <path d=\"M18.56 5.44l.94 2.06.94-2.06 2.06-.94-2.06-.94-.94-2.06-.94 2.06-2.06.94zm-11 1L8.5 8.5l.94-2.06 2.06-.94-2.06-.94L8.5 2.5l-.94 2.06-2.06.94zm10 10l.94 2.06.94-2.06 2.06-.94-2.06-.94-.94-2.06-.94 2.06-2.06.94z\"/><path d=\"M17.41 7.96l-1.37-1.37c-.4-.4-.92-.59-1.43-.59-.52 0-1.04.2-1.43.59L10.3 9.45l-7.72 7.72c-.78.78-.78 2.05 0 2.83L4 21.41c.39.39.9.59 1.41.59.51 0 1.02-.2 1.41-.59l7.78-7.78 2.81-2.81c.8-.78.8-2.07 0-2.86zM5.41 20L4 18.59l7.72-7.72 1.47 1.35L5.41 20z\"/>\n",
              "  </svg>\n",
              "      </button>\n",
              "      \n",
              "  <style>\n",
              "    .colab-df-container {\n",
              "      display:flex;\n",
              "      flex-wrap:wrap;\n",
              "      gap: 12px;\n",
              "    }\n",
              "\n",
              "    .colab-df-convert {\n",
              "      background-color: #E8F0FE;\n",
              "      border: none;\n",
              "      border-radius: 50%;\n",
              "      cursor: pointer;\n",
              "      display: none;\n",
              "      fill: #1967D2;\n",
              "      height: 32px;\n",
              "      padding: 0 0 0 0;\n",
              "      width: 32px;\n",
              "    }\n",
              "\n",
              "    .colab-df-convert:hover {\n",
              "      background-color: #E2EBFA;\n",
              "      box-shadow: 0px 1px 2px rgba(60, 64, 67, 0.3), 0px 1px 3px 1px rgba(60, 64, 67, 0.15);\n",
              "      fill: #174EA6;\n",
              "    }\n",
              "\n",
              "    [theme=dark] .colab-df-convert {\n",
              "      background-color: #3B4455;\n",
              "      fill: #D2E3FC;\n",
              "    }\n",
              "\n",
              "    [theme=dark] .colab-df-convert:hover {\n",
              "      background-color: #434B5C;\n",
              "      box-shadow: 0px 1px 3px 1px rgba(0, 0, 0, 0.15);\n",
              "      filter: drop-shadow(0px 1px 2px rgba(0, 0, 0, 0.3));\n",
              "      fill: #FFFFFF;\n",
              "    }\n",
              "  </style>\n",
              "\n",
              "      <script>\n",
              "        const buttonEl =\n",
              "          document.querySelector('#df-17914660-665a-45ba-a7a6-dee5c4076e59 button.colab-df-convert');\n",
              "        buttonEl.style.display =\n",
              "          google.colab.kernel.accessAllowed ? 'block' : 'none';\n",
              "\n",
              "        async function convertToInteractive(key) {\n",
              "          const element = document.querySelector('#df-17914660-665a-45ba-a7a6-dee5c4076e59');\n",
              "          const dataTable =\n",
              "            await google.colab.kernel.invokeFunction('convertToInteractive',\n",
              "                                                     [key], {});\n",
              "          if (!dataTable) return;\n",
              "\n",
              "          const docLinkHtml = 'Like what you see? Visit the ' +\n",
              "            '<a target=\"_blank\" href=https://colab.research.google.com/notebooks/data_table.ipynb>data table notebook</a>'\n",
              "            + ' to learn more about interactive tables.';\n",
              "          element.innerHTML = '';\n",
              "          dataTable['output_type'] = 'display_data';\n",
              "          await google.colab.output.renderOutput(dataTable, element);\n",
              "          const docLink = document.createElement('div');\n",
              "          docLink.innerHTML = docLinkHtml;\n",
              "          element.appendChild(docLink);\n",
              "        }\n",
              "      </script>\n",
              "    </div>\n",
              "  </div>\n",
              "  "
            ]
          },
          "metadata": {},
          "execution_count": 27
        }
      ]
    },
    {
      "cell_type": "code",
      "source": [
        "df_movies_content['movie_soup'] = (pd.Series(df_movies_content[['title','genres','title_cast','director','plot_keywords']]\n",
        "                                                .fillna('').values.tolist()).str.join(' '))\n",
        "\n",
        "# indexes to map between movie titles and indexes of the movies dataframe\n",
        "#titles = df_movies_content['title']\n",
        "indices = pd.Series(df_movies_content.index, index=df_movies_content['movieId'])"
      ],
      "metadata": {
        "execution": {
          "iopub.status.busy": "2023-06-25T17:26:56.323939Z",
          "iopub.execute_input": "2023-06-25T17:26:56.324659Z",
          "iopub.status.idle": "2023-06-25T17:26:56.334042Z",
          "shell.execute_reply.started": "2023-06-25T17:26:56.324629Z",
          "shell.execute_reply": "2023-06-25T17:26:56.332968Z"
        },
        "trusted": true,
        "id": "EAO3ejhIEtzz"
      },
      "execution_count": 28,
      "outputs": []
    },
    {
      "cell_type": "code",
      "source": [
        "df_movies_content.head()"
      ],
      "metadata": {
        "execution": {
          "iopub.status.busy": "2023-06-25T17:48:39.190604Z",
          "iopub.execute_input": "2023-06-25T17:48:39.191779Z",
          "iopub.status.idle": "2023-06-25T17:48:39.209382Z",
          "shell.execute_reply.started": "2023-06-25T17:48:39.191732Z",
          "shell.execute_reply": "2023-06-25T17:48:39.208171Z"
        },
        "trusted": true,
        "id": "4NRG_LzLEtz0",
        "outputId": "aa5e4185-94df-4da5-97fe-41c111bacd66",
        "colab": {
          "base_uri": "https://localhost:8080/",
          "height": 320
        }
      },
      "execution_count": 29,
      "outputs": [
        {
          "output_type": "execute_result",
          "data": {
            "text/plain": [
              "   movieId                      title  \\\n",
              "0        1             toy story 1995   \n",
              "1        2               jumanji 1995   \n",
              "2        3      grumpier old men 1995   \n",
              "3        4        waiting exhale 1995   \n",
              "4        5  father bride part ii 1995   \n",
              "\n",
              "                                        genres  \\\n",
              "0  adventure animation children comedy fantasy   \n",
              "1                   adventure children fantasy   \n",
              "2                               comedy romance   \n",
              "3                         comedy drama romance   \n",
              "4                                       comedy   \n",
              "\n",
              "                                          title_cast           director  \\\n",
              "0  tomhanks timallen donrickles jimvarney wallace...       johnlasseter   \n",
              "1  robinwilliams jonathanhyde kirstendunst bradle...  jonathanhensleigh   \n",
              "2  waltermatthau jacklemmon sophialoren ann-margr...  markstevenjohnson   \n",
              "3  whitneyhouston angelabassett lorettadevine lel...      terrymcmillan   \n",
              "4  stevemartin dianekeaton martinshort kimberlywi...      alberthackett   \n",
              "\n",
              "   runtime       budget                                      plot_keywords  \\\n",
              "0     81.0  $30,000,000                   toy rivalry cowboy cgi animation   \n",
              "1    104.0  $65,000,000                   board game adventurer fight game   \n",
              "2    101.0  $25,000,000                         boat lake neighbor rivalry   \n",
              "3    124.0  $16,000,000  black american husband wife relationship betra...   \n",
              "4    106.0  $30,000,000                    fatherhood doberman dog mansion   \n",
              "\n",
              "                                          movie_soup  \n",
              "0  toy story 1995 adventure animation children co...  \n",
              "1  jumanji 1995 adventure children fantasy robinw...  \n",
              "2  grumpier old men 1995 comedy romance waltermat...  \n",
              "3  waiting exhale 1995 comedy drama romance whitn...  \n",
              "4  father bride part ii 1995 comedy stevemartin d...  "
            ],
            "text/html": [
              "\n",
              "  <div id=\"df-d1135342-50bf-4de0-be56-2bacc956b3bf\">\n",
              "    <div class=\"colab-df-container\">\n",
              "      <div>\n",
              "<style scoped>\n",
              "    .dataframe tbody tr th:only-of-type {\n",
              "        vertical-align: middle;\n",
              "    }\n",
              "\n",
              "    .dataframe tbody tr th {\n",
              "        vertical-align: top;\n",
              "    }\n",
              "\n",
              "    .dataframe thead th {\n",
              "        text-align: right;\n",
              "    }\n",
              "</style>\n",
              "<table border=\"1\" class=\"dataframe\">\n",
              "  <thead>\n",
              "    <tr style=\"text-align: right;\">\n",
              "      <th></th>\n",
              "      <th>movieId</th>\n",
              "      <th>title</th>\n",
              "      <th>genres</th>\n",
              "      <th>title_cast</th>\n",
              "      <th>director</th>\n",
              "      <th>runtime</th>\n",
              "      <th>budget</th>\n",
              "      <th>plot_keywords</th>\n",
              "      <th>movie_soup</th>\n",
              "    </tr>\n",
              "  </thead>\n",
              "  <tbody>\n",
              "    <tr>\n",
              "      <th>0</th>\n",
              "      <td>1</td>\n",
              "      <td>toy story 1995</td>\n",
              "      <td>adventure animation children comedy fantasy</td>\n",
              "      <td>tomhanks timallen donrickles jimvarney wallace...</td>\n",
              "      <td>johnlasseter</td>\n",
              "      <td>81.0</td>\n",
              "      <td>$30,000,000</td>\n",
              "      <td>toy rivalry cowboy cgi animation</td>\n",
              "      <td>toy story 1995 adventure animation children co...</td>\n",
              "    </tr>\n",
              "    <tr>\n",
              "      <th>1</th>\n",
              "      <td>2</td>\n",
              "      <td>jumanji 1995</td>\n",
              "      <td>adventure children fantasy</td>\n",
              "      <td>robinwilliams jonathanhyde kirstendunst bradle...</td>\n",
              "      <td>jonathanhensleigh</td>\n",
              "      <td>104.0</td>\n",
              "      <td>$65,000,000</td>\n",
              "      <td>board game adventurer fight game</td>\n",
              "      <td>jumanji 1995 adventure children fantasy robinw...</td>\n",
              "    </tr>\n",
              "    <tr>\n",
              "      <th>2</th>\n",
              "      <td>3</td>\n",
              "      <td>grumpier old men 1995</td>\n",
              "      <td>comedy romance</td>\n",
              "      <td>waltermatthau jacklemmon sophialoren ann-margr...</td>\n",
              "      <td>markstevenjohnson</td>\n",
              "      <td>101.0</td>\n",
              "      <td>$25,000,000</td>\n",
              "      <td>boat lake neighbor rivalry</td>\n",
              "      <td>grumpier old men 1995 comedy romance waltermat...</td>\n",
              "    </tr>\n",
              "    <tr>\n",
              "      <th>3</th>\n",
              "      <td>4</td>\n",
              "      <td>waiting exhale 1995</td>\n",
              "      <td>comedy drama romance</td>\n",
              "      <td>whitneyhouston angelabassett lorettadevine lel...</td>\n",
              "      <td>terrymcmillan</td>\n",
              "      <td>124.0</td>\n",
              "      <td>$16,000,000</td>\n",
              "      <td>black american husband wife relationship betra...</td>\n",
              "      <td>waiting exhale 1995 comedy drama romance whitn...</td>\n",
              "    </tr>\n",
              "    <tr>\n",
              "      <th>4</th>\n",
              "      <td>5</td>\n",
              "      <td>father bride part ii 1995</td>\n",
              "      <td>comedy</td>\n",
              "      <td>stevemartin dianekeaton martinshort kimberlywi...</td>\n",
              "      <td>alberthackett</td>\n",
              "      <td>106.0</td>\n",
              "      <td>$30,000,000</td>\n",
              "      <td>fatherhood doberman dog mansion</td>\n",
              "      <td>father bride part ii 1995 comedy stevemartin d...</td>\n",
              "    </tr>\n",
              "  </tbody>\n",
              "</table>\n",
              "</div>\n",
              "      <button class=\"colab-df-convert\" onclick=\"convertToInteractive('df-d1135342-50bf-4de0-be56-2bacc956b3bf')\"\n",
              "              title=\"Convert this dataframe to an interactive table.\"\n",
              "              style=\"display:none;\">\n",
              "        \n",
              "  <svg xmlns=\"http://www.w3.org/2000/svg\" height=\"24px\"viewBox=\"0 0 24 24\"\n",
              "       width=\"24px\">\n",
              "    <path d=\"M0 0h24v24H0V0z\" fill=\"none\"/>\n",
              "    <path d=\"M18.56 5.44l.94 2.06.94-2.06 2.06-.94-2.06-.94-.94-2.06-.94 2.06-2.06.94zm-11 1L8.5 8.5l.94-2.06 2.06-.94-2.06-.94L8.5 2.5l-.94 2.06-2.06.94zm10 10l.94 2.06.94-2.06 2.06-.94-2.06-.94-.94-2.06-.94 2.06-2.06.94z\"/><path d=\"M17.41 7.96l-1.37-1.37c-.4-.4-.92-.59-1.43-.59-.52 0-1.04.2-1.43.59L10.3 9.45l-7.72 7.72c-.78.78-.78 2.05 0 2.83L4 21.41c.39.39.9.59 1.41.59.51 0 1.02-.2 1.41-.59l7.78-7.78 2.81-2.81c.8-.78.8-2.07 0-2.86zM5.41 20L4 18.59l7.72-7.72 1.47 1.35L5.41 20z\"/>\n",
              "  </svg>\n",
              "      </button>\n",
              "      \n",
              "  <style>\n",
              "    .colab-df-container {\n",
              "      display:flex;\n",
              "      flex-wrap:wrap;\n",
              "      gap: 12px;\n",
              "    }\n",
              "\n",
              "    .colab-df-convert {\n",
              "      background-color: #E8F0FE;\n",
              "      border: none;\n",
              "      border-radius: 50%;\n",
              "      cursor: pointer;\n",
              "      display: none;\n",
              "      fill: #1967D2;\n",
              "      height: 32px;\n",
              "      padding: 0 0 0 0;\n",
              "      width: 32px;\n",
              "    }\n",
              "\n",
              "    .colab-df-convert:hover {\n",
              "      background-color: #E2EBFA;\n",
              "      box-shadow: 0px 1px 2px rgba(60, 64, 67, 0.3), 0px 1px 3px 1px rgba(60, 64, 67, 0.15);\n",
              "      fill: #174EA6;\n",
              "    }\n",
              "\n",
              "    [theme=dark] .colab-df-convert {\n",
              "      background-color: #3B4455;\n",
              "      fill: #D2E3FC;\n",
              "    }\n",
              "\n",
              "    [theme=dark] .colab-df-convert:hover {\n",
              "      background-color: #434B5C;\n",
              "      box-shadow: 0px 1px 3px 1px rgba(0, 0, 0, 0.15);\n",
              "      filter: drop-shadow(0px 1px 2px rgba(0, 0, 0, 0.3));\n",
              "      fill: #FFFFFF;\n",
              "    }\n",
              "  </style>\n",
              "\n",
              "      <script>\n",
              "        const buttonEl =\n",
              "          document.querySelector('#df-d1135342-50bf-4de0-be56-2bacc956b3bf button.colab-df-convert');\n",
              "        buttonEl.style.display =\n",
              "          google.colab.kernel.accessAllowed ? 'block' : 'none';\n",
              "\n",
              "        async function convertToInteractive(key) {\n",
              "          const element = document.querySelector('#df-d1135342-50bf-4de0-be56-2bacc956b3bf');\n",
              "          const dataTable =\n",
              "            await google.colab.kernel.invokeFunction('convertToInteractive',\n",
              "                                                     [key], {});\n",
              "          if (!dataTable) return;\n",
              "\n",
              "          const docLinkHtml = 'Like what you see? Visit the ' +\n",
              "            '<a target=\"_blank\" href=https://colab.research.google.com/notebooks/data_table.ipynb>data table notebook</a>'\n",
              "            + ' to learn more about interactive tables.';\n",
              "          element.innerHTML = '';\n",
              "          dataTable['output_type'] = 'display_data';\n",
              "          await google.colab.output.renderOutput(dataTable, element);\n",
              "          const docLink = document.createElement('div');\n",
              "          docLink.innerHTML = docLinkHtml;\n",
              "          element.appendChild(docLink);\n",
              "        }\n",
              "      </script>\n",
              "    </div>\n",
              "  </div>\n",
              "  "
            ]
          },
          "metadata": {},
          "execution_count": 29
        }
      ]
    },
    {
      "cell_type": "code",
      "source": [
        "indices.count()"
      ],
      "metadata": {
        "execution": {
          "iopub.status.busy": "2023-06-25T17:42:42.471395Z",
          "iopub.execute_input": "2023-06-25T17:42:42.471788Z",
          "iopub.status.idle": "2023-06-25T17:42:42.479194Z",
          "shell.execute_reply.started": "2023-06-25T17:42:42.471757Z",
          "shell.execute_reply": "2023-06-25T17:42:42.478045Z"
        },
        "trusted": true,
        "id": "lMty7uQ1Etz0",
        "outputId": "baa4d483-2381-4e3f-e009-bc48a4eb58c2",
        "colab": {
          "base_uri": "https://localhost:8080/"
        }
      },
      "execution_count": 30,
      "outputs": [
        {
          "output_type": "execute_result",
          "data": {
            "text/plain": [
              "10000"
            ]
          },
          "metadata": {},
          "execution_count": 30
        }
      ]
    },
    {
      "cell_type": "code",
      "source": [
        "#tf = TfidfVectorizer(analyzer='word', ngram_range=(1,2), min_df=0, stop_words='english')\n",
        "\n",
        "from sklearn.feature_extraction.text import CountVectorizer\n",
        "tf = CountVectorizer(ngram_range = (1,2))\n",
        "\n",
        "# Produce a feature matrix, where each row corresponds to a movie, with vectorized features as columns\n",
        "tf_movie_soup_matrix = tf.fit_transform(df_movies_content['movie_soup'])"
      ],
      "metadata": {
        "execution": {
          "iopub.status.busy": "2023-06-25T17:43:42.212018Z",
          "iopub.execute_input": "2023-06-25T17:43:42.212411Z",
          "iopub.status.idle": "2023-06-25T17:43:42.221554Z",
          "shell.execute_reply.started": "2023-06-25T17:43:42.212381Z",
          "shell.execute_reply": "2023-06-25T17:43:42.220375Z"
        },
        "trusted": true,
        "id": "8urk0t8HEtz0"
      },
      "execution_count": 31,
      "outputs": []
    },
    {
      "cell_type": "code",
      "source": [
        "print (tf_movie_soup_matrix.shape)"
      ],
      "metadata": {
        "execution": {
          "iopub.status.busy": "2023-06-25T17:43:42.226893Z",
          "iopub.execute_input": "2023-06-25T17:43:42.227195Z",
          "iopub.status.idle": "2023-06-25T17:43:42.234865Z",
          "shell.execute_reply.started": "2023-06-25T17:43:42.227170Z",
          "shell.execute_reply": "2023-06-25T17:43:42.233511Z"
        },
        "trusted": true,
        "id": "LSLO7SbVEtz0",
        "outputId": "073d0955-8864-4534-d251-34287b5eb947",
        "colab": {
          "base_uri": "https://localhost:8080/"
        }
      },
      "execution_count": 32,
      "outputs": [
        {
          "output_type": "stream",
          "name": "stdout",
          "text": [
            "(10000, 187826)\n"
          ]
        }
      ]
    },
    {
      "cell_type": "code",
      "source": [
        "# add other numerical features here"
      ],
      "metadata": {
        "id": "K1DddnzJEtz1"
      },
      "execution_count": 33,
      "outputs": []
    },
    {
      "cell_type": "code",
      "source": [
        "#PCA\n",
        "from sklearn.decomposition import TruncatedSVD\n",
        "from scipy.sparse import csr_matrix\n",
        "\n",
        "svd = TruncatedSVD(n_components = 10)\n",
        "\n",
        "svd_trunc_tf_movie_soup_matrix = csr_matrix(svd.fit_transform(tf_movie_soup_matrix))"
      ],
      "metadata": {
        "execution": {
          "iopub.status.busy": "2023-06-25T17:43:42.236520Z",
          "iopub.execute_input": "2023-06-25T17:43:42.236903Z",
          "iopub.status.idle": "2023-06-25T17:43:42.268543Z",
          "shell.execute_reply.started": "2023-06-25T17:43:42.236874Z",
          "shell.execute_reply": "2023-06-25T17:43:42.266989Z"
        },
        "trusted": true,
        "id": "bolM5gauEtz1"
      },
      "execution_count": 34,
      "outputs": []
    },
    {
      "cell_type": "code",
      "source": [
        "print(svd_trunc_tf_movie_soup_matrix.shape)"
      ],
      "metadata": {
        "execution": {
          "iopub.status.busy": "2023-06-25T17:43:42.274587Z",
          "iopub.execute_input": "2023-06-25T17:43:42.283653Z",
          "iopub.status.idle": "2023-06-25T17:43:42.291709Z",
          "shell.execute_reply.started": "2023-06-25T17:43:42.283577Z",
          "shell.execute_reply": "2023-06-25T17:43:42.290597Z"
        },
        "trusted": true,
        "id": "Ouica-NGEtz1",
        "outputId": "adbfccc5-601d-45bb-a47b-38bbbec41412",
        "colab": {
          "base_uri": "https://localhost:8080/"
        }
      },
      "execution_count": 35,
      "outputs": [
        {
          "output_type": "stream",
          "name": "stdout",
          "text": [
            "(10000, 10)\n"
          ]
        }
      ]
    },
    {
      "cell_type": "code",
      "source": [
        "cosine_sim_movie_soup = cosine_similarity(svd_trunc_tf_movie_soup_matrix, svd_trunc_tf_movie_soup_matrix)\n",
        "\n",
        "print (cosine_sim_movie_soup.shape)"
      ],
      "metadata": {
        "execution": {
          "iopub.status.busy": "2023-06-25T17:43:42.293126Z",
          "iopub.execute_input": "2023-06-25T17:43:42.294196Z",
          "iopub.status.idle": "2023-06-25T17:43:42.305568Z",
          "shell.execute_reply.started": "2023-06-25T17:43:42.294155Z",
          "shell.execute_reply": "2023-06-25T17:43:42.304515Z"
        },
        "trusted": true,
        "id": "J7GISuIAEtz2",
        "outputId": "69467922-1495-438d-9cb1-a414f6031ceb",
        "colab": {
          "base_uri": "https://localhost:8080/"
        }
      },
      "execution_count": 36,
      "outputs": [
        {
          "output_type": "stream",
          "name": "stdout",
          "text": [
            "(10000, 10000)\n"
          ]
        }
      ]
    },
    {
      "cell_type": "code",
      "source": [
        "# Sort train data and limit > 33779\n",
        "df_train = df_train.sort_values('movieId')\n",
        "df_train.head()"
      ],
      "metadata": {
        "execution": {
          "iopub.status.busy": "2023-06-25T17:43:42.308987Z",
          "iopub.execute_input": "2023-06-25T17:43:42.310119Z",
          "iopub.status.idle": "2023-06-25T17:43:43.121535Z",
          "shell.execute_reply.started": "2023-06-25T17:43:42.310032Z",
          "shell.execute_reply": "2023-06-25T17:43:43.120388Z"
        },
        "trusted": true,
        "id": "1ekXCToMEtz2",
        "outputId": "4f17a40e-6604-4120-86f1-477a64771e8a",
        "colab": {
          "base_uri": "https://localhost:8080/",
          "height": 206
        }
      },
      "execution_count": 37,
      "outputs": [
        {
          "output_type": "execute_result",
          "data": {
            "text/plain": [
              "         userId  movieId  rating   timestamp\n",
              "7064283  120877        1     3.0  1135874095\n",
              "3761551  113986        1     4.0   975218175\n",
              "9733691    5152        1     4.0   853732793\n",
              "8766289   93168        1     4.0  1273344738\n",
              "341554   108001        1     3.0   945974900"
            ],
            "text/html": [
              "\n",
              "  <div id=\"df-0aebdfab-a1d4-4f5b-80fc-68b304b06479\">\n",
              "    <div class=\"colab-df-container\">\n",
              "      <div>\n",
              "<style scoped>\n",
              "    .dataframe tbody tr th:only-of-type {\n",
              "        vertical-align: middle;\n",
              "    }\n",
              "\n",
              "    .dataframe tbody tr th {\n",
              "        vertical-align: top;\n",
              "    }\n",
              "\n",
              "    .dataframe thead th {\n",
              "        text-align: right;\n",
              "    }\n",
              "</style>\n",
              "<table border=\"1\" class=\"dataframe\">\n",
              "  <thead>\n",
              "    <tr style=\"text-align: right;\">\n",
              "      <th></th>\n",
              "      <th>userId</th>\n",
              "      <th>movieId</th>\n",
              "      <th>rating</th>\n",
              "      <th>timestamp</th>\n",
              "    </tr>\n",
              "  </thead>\n",
              "  <tbody>\n",
              "    <tr>\n",
              "      <th>7064283</th>\n",
              "      <td>120877</td>\n",
              "      <td>1</td>\n",
              "      <td>3.0</td>\n",
              "      <td>1135874095</td>\n",
              "    </tr>\n",
              "    <tr>\n",
              "      <th>3761551</th>\n",
              "      <td>113986</td>\n",
              "      <td>1</td>\n",
              "      <td>4.0</td>\n",
              "      <td>975218175</td>\n",
              "    </tr>\n",
              "    <tr>\n",
              "      <th>9733691</th>\n",
              "      <td>5152</td>\n",
              "      <td>1</td>\n",
              "      <td>4.0</td>\n",
              "      <td>853732793</td>\n",
              "    </tr>\n",
              "    <tr>\n",
              "      <th>8766289</th>\n",
              "      <td>93168</td>\n",
              "      <td>1</td>\n",
              "      <td>4.0</td>\n",
              "      <td>1273344738</td>\n",
              "    </tr>\n",
              "    <tr>\n",
              "      <th>341554</th>\n",
              "      <td>108001</td>\n",
              "      <td>1</td>\n",
              "      <td>3.0</td>\n",
              "      <td>945974900</td>\n",
              "    </tr>\n",
              "  </tbody>\n",
              "</table>\n",
              "</div>\n",
              "      <button class=\"colab-df-convert\" onclick=\"convertToInteractive('df-0aebdfab-a1d4-4f5b-80fc-68b304b06479')\"\n",
              "              title=\"Convert this dataframe to an interactive table.\"\n",
              "              style=\"display:none;\">\n",
              "        \n",
              "  <svg xmlns=\"http://www.w3.org/2000/svg\" height=\"24px\"viewBox=\"0 0 24 24\"\n",
              "       width=\"24px\">\n",
              "    <path d=\"M0 0h24v24H0V0z\" fill=\"none\"/>\n",
              "    <path d=\"M18.56 5.44l.94 2.06.94-2.06 2.06-.94-2.06-.94-.94-2.06-.94 2.06-2.06.94zm-11 1L8.5 8.5l.94-2.06 2.06-.94-2.06-.94L8.5 2.5l-.94 2.06-2.06.94zm10 10l.94 2.06.94-2.06 2.06-.94-2.06-.94-.94-2.06-.94 2.06-2.06.94z\"/><path d=\"M17.41 7.96l-1.37-1.37c-.4-.4-.92-.59-1.43-.59-.52 0-1.04.2-1.43.59L10.3 9.45l-7.72 7.72c-.78.78-.78 2.05 0 2.83L4 21.41c.39.39.9.59 1.41.59.51 0 1.02-.2 1.41-.59l7.78-7.78 2.81-2.81c.8-.78.8-2.07 0-2.86zM5.41 20L4 18.59l7.72-7.72 1.47 1.35L5.41 20z\"/>\n",
              "  </svg>\n",
              "      </button>\n",
              "      \n",
              "  <style>\n",
              "    .colab-df-container {\n",
              "      display:flex;\n",
              "      flex-wrap:wrap;\n",
              "      gap: 12px;\n",
              "    }\n",
              "\n",
              "    .colab-df-convert {\n",
              "      background-color: #E8F0FE;\n",
              "      border: none;\n",
              "      border-radius: 50%;\n",
              "      cursor: pointer;\n",
              "      display: none;\n",
              "      fill: #1967D2;\n",
              "      height: 32px;\n",
              "      padding: 0 0 0 0;\n",
              "      width: 32px;\n",
              "    }\n",
              "\n",
              "    .colab-df-convert:hover {\n",
              "      background-color: #E2EBFA;\n",
              "      box-shadow: 0px 1px 2px rgba(60, 64, 67, 0.3), 0px 1px 3px 1px rgba(60, 64, 67, 0.15);\n",
              "      fill: #174EA6;\n",
              "    }\n",
              "\n",
              "    [theme=dark] .colab-df-convert {\n",
              "      background-color: #3B4455;\n",
              "      fill: #D2E3FC;\n",
              "    }\n",
              "\n",
              "    [theme=dark] .colab-df-convert:hover {\n",
              "      background-color: #434B5C;\n",
              "      box-shadow: 0px 1px 3px 1px rgba(0, 0, 0, 0.15);\n",
              "      filter: drop-shadow(0px 1px 2px rgba(0, 0, 0, 0.3));\n",
              "      fill: #FFFFFF;\n",
              "    }\n",
              "  </style>\n",
              "\n",
              "      <script>\n",
              "        const buttonEl =\n",
              "          document.querySelector('#df-0aebdfab-a1d4-4f5b-80fc-68b304b06479 button.colab-df-convert');\n",
              "        buttonEl.style.display =\n",
              "          google.colab.kernel.accessAllowed ? 'block' : 'none';\n",
              "\n",
              "        async function convertToInteractive(key) {\n",
              "          const element = document.querySelector('#df-0aebdfab-a1d4-4f5b-80fc-68b304b06479');\n",
              "          const dataTable =\n",
              "            await google.colab.kernel.invokeFunction('convertToInteractive',\n",
              "                                                     [key], {});\n",
              "          if (!dataTable) return;\n",
              "\n",
              "          const docLinkHtml = 'Like what you see? Visit the ' +\n",
              "            '<a target=\"_blank\" href=https://colab.research.google.com/notebooks/data_table.ipynb>data table notebook</a>'\n",
              "            + ' to learn more about interactive tables.';\n",
              "          element.innerHTML = '';\n",
              "          dataTable['output_type'] = 'display_data';\n",
              "          await google.colab.output.renderOutput(dataTable, element);\n",
              "          const docLink = document.createElement('div');\n",
              "          docLink.innerHTML = docLinkHtml;\n",
              "          element.appendChild(docLink);\n",
              "        }\n",
              "      </script>\n",
              "    </div>\n",
              "  </div>\n",
              "  "
            ]
          },
          "metadata": {},
          "execution_count": 37
        }
      ]
    },
    {
      "cell_type": "code",
      "source": [
        "# drop rows with movie id > 101\n",
        "df_train_cropped = df_train[df_train['movieId'] < 10001]\n",
        "df_train_cropped.tail()"
      ],
      "metadata": {
        "execution": {
          "iopub.status.busy": "2023-06-25T17:43:43.122766Z",
          "iopub.execute_input": "2023-06-25T17:43:43.123086Z",
          "iopub.status.idle": "2023-06-25T17:43:43.147373Z",
          "shell.execute_reply.started": "2023-06-25T17:43:43.123059Z",
          "shell.execute_reply": "2023-06-25T17:43:43.146469Z"
        },
        "trusted": true,
        "id": "X4gRZiWsEtz2",
        "outputId": "749ac109-2b84-47a9-ac58-b58e0b791351",
        "colab": {
          "base_uri": "https://localhost:8080/",
          "height": 206
        }
      },
      "execution_count": 38,
      "outputs": [
        {
          "output_type": "execute_result",
          "data": {
            "text/plain": [
              "         userId  movieId  rating   timestamp\n",
              "3560774   85844     9019     3.0  1123845993\n",
              "368958    20055     9019     2.0  1169103924\n",
              "4802835    2177     9019     2.0  1209766894\n",
              "2738864   39905     9019     4.0  1101799135\n",
              "4818801   24412     9019     4.0  1146603902"
            ],
            "text/html": [
              "\n",
              "  <div id=\"df-041e5545-eb76-458c-aeec-f623a5dadaa3\">\n",
              "    <div class=\"colab-df-container\">\n",
              "      <div>\n",
              "<style scoped>\n",
              "    .dataframe tbody tr th:only-of-type {\n",
              "        vertical-align: middle;\n",
              "    }\n",
              "\n",
              "    .dataframe tbody tr th {\n",
              "        vertical-align: top;\n",
              "    }\n",
              "\n",
              "    .dataframe thead th {\n",
              "        text-align: right;\n",
              "    }\n",
              "</style>\n",
              "<table border=\"1\" class=\"dataframe\">\n",
              "  <thead>\n",
              "    <tr style=\"text-align: right;\">\n",
              "      <th></th>\n",
              "      <th>userId</th>\n",
              "      <th>movieId</th>\n",
              "      <th>rating</th>\n",
              "      <th>timestamp</th>\n",
              "    </tr>\n",
              "  </thead>\n",
              "  <tbody>\n",
              "    <tr>\n",
              "      <th>3560774</th>\n",
              "      <td>85844</td>\n",
              "      <td>9019</td>\n",
              "      <td>3.0</td>\n",
              "      <td>1123845993</td>\n",
              "    </tr>\n",
              "    <tr>\n",
              "      <th>368958</th>\n",
              "      <td>20055</td>\n",
              "      <td>9019</td>\n",
              "      <td>2.0</td>\n",
              "      <td>1169103924</td>\n",
              "    </tr>\n",
              "    <tr>\n",
              "      <th>4802835</th>\n",
              "      <td>2177</td>\n",
              "      <td>9019</td>\n",
              "      <td>2.0</td>\n",
              "      <td>1209766894</td>\n",
              "    </tr>\n",
              "    <tr>\n",
              "      <th>2738864</th>\n",
              "      <td>39905</td>\n",
              "      <td>9019</td>\n",
              "      <td>4.0</td>\n",
              "      <td>1101799135</td>\n",
              "    </tr>\n",
              "    <tr>\n",
              "      <th>4818801</th>\n",
              "      <td>24412</td>\n",
              "      <td>9019</td>\n",
              "      <td>4.0</td>\n",
              "      <td>1146603902</td>\n",
              "    </tr>\n",
              "  </tbody>\n",
              "</table>\n",
              "</div>\n",
              "      <button class=\"colab-df-convert\" onclick=\"convertToInteractive('df-041e5545-eb76-458c-aeec-f623a5dadaa3')\"\n",
              "              title=\"Convert this dataframe to an interactive table.\"\n",
              "              style=\"display:none;\">\n",
              "        \n",
              "  <svg xmlns=\"http://www.w3.org/2000/svg\" height=\"24px\"viewBox=\"0 0 24 24\"\n",
              "       width=\"24px\">\n",
              "    <path d=\"M0 0h24v24H0V0z\" fill=\"none\"/>\n",
              "    <path d=\"M18.56 5.44l.94 2.06.94-2.06 2.06-.94-2.06-.94-.94-2.06-.94 2.06-2.06.94zm-11 1L8.5 8.5l.94-2.06 2.06-.94-2.06-.94L8.5 2.5l-.94 2.06-2.06.94zm10 10l.94 2.06.94-2.06 2.06-.94-2.06-.94-.94-2.06-.94 2.06-2.06.94z\"/><path d=\"M17.41 7.96l-1.37-1.37c-.4-.4-.92-.59-1.43-.59-.52 0-1.04.2-1.43.59L10.3 9.45l-7.72 7.72c-.78.78-.78 2.05 0 2.83L4 21.41c.39.39.9.59 1.41.59.51 0 1.02-.2 1.41-.59l7.78-7.78 2.81-2.81c.8-.78.8-2.07 0-2.86zM5.41 20L4 18.59l7.72-7.72 1.47 1.35L5.41 20z\"/>\n",
              "  </svg>\n",
              "      </button>\n",
              "      \n",
              "  <style>\n",
              "    .colab-df-container {\n",
              "      display:flex;\n",
              "      flex-wrap:wrap;\n",
              "      gap: 12px;\n",
              "    }\n",
              "\n",
              "    .colab-df-convert {\n",
              "      background-color: #E8F0FE;\n",
              "      border: none;\n",
              "      border-radius: 50%;\n",
              "      cursor: pointer;\n",
              "      display: none;\n",
              "      fill: #1967D2;\n",
              "      height: 32px;\n",
              "      padding: 0 0 0 0;\n",
              "      width: 32px;\n",
              "    }\n",
              "\n",
              "    .colab-df-convert:hover {\n",
              "      background-color: #E2EBFA;\n",
              "      box-shadow: 0px 1px 2px rgba(60, 64, 67, 0.3), 0px 1px 3px 1px rgba(60, 64, 67, 0.15);\n",
              "      fill: #174EA6;\n",
              "    }\n",
              "\n",
              "    [theme=dark] .colab-df-convert {\n",
              "      background-color: #3B4455;\n",
              "      fill: #D2E3FC;\n",
              "    }\n",
              "\n",
              "    [theme=dark] .colab-df-convert:hover {\n",
              "      background-color: #434B5C;\n",
              "      box-shadow: 0px 1px 3px 1px rgba(0, 0, 0, 0.15);\n",
              "      filter: drop-shadow(0px 1px 2px rgba(0, 0, 0, 0.3));\n",
              "      fill: #FFFFFF;\n",
              "    }\n",
              "  </style>\n",
              "\n",
              "      <script>\n",
              "        const buttonEl =\n",
              "          document.querySelector('#df-041e5545-eb76-458c-aeec-f623a5dadaa3 button.colab-df-convert');\n",
              "        buttonEl.style.display =\n",
              "          google.colab.kernel.accessAllowed ? 'block' : 'none';\n",
              "\n",
              "        async function convertToInteractive(key) {\n",
              "          const element = document.querySelector('#df-041e5545-eb76-458c-aeec-f623a5dadaa3');\n",
              "          const dataTable =\n",
              "            await google.colab.kernel.invokeFunction('convertToInteractive',\n",
              "                                                     [key], {});\n",
              "          if (!dataTable) return;\n",
              "\n",
              "          const docLinkHtml = 'Like what you see? Visit the ' +\n",
              "            '<a target=\"_blank\" href=https://colab.research.google.com/notebooks/data_table.ipynb>data table notebook</a>'\n",
              "            + ' to learn more about interactive tables.';\n",
              "          element.innerHTML = '';\n",
              "          dataTable['output_type'] = 'display_data';\n",
              "          await google.colab.output.renderOutput(dataTable, element);\n",
              "          const docLink = document.createElement('div');\n",
              "          docLink.innerHTML = docLinkHtml;\n",
              "          element.appendChild(docLink);\n",
              "        }\n",
              "      </script>\n",
              "    </div>\n",
              "  </div>\n",
              "  "
            ]
          },
          "metadata": {},
          "execution_count": 38
        }
      ]
    },
    {
      "cell_type": "code",
      "source": [
        "# reindex tables\n",
        "\n",
        "df_users_info = df_train_cropped\n",
        "df_users_info['userId_movieId'] = df_users_info['userId'].apply(str) + \"_\" + df_users_info['movieId'].apply(str)\n",
        "\n",
        "df_users_info = df_users_info.drop(['timestamp'], axis = 1)\n",
        "df_users_info.tail()\n"
      ],
      "metadata": {
        "execution": {
          "iopub.status.busy": "2023-06-25T17:43:43.148986Z",
          "iopub.execute_input": "2023-06-25T17:43:43.149356Z",
          "iopub.status.idle": "2023-06-25T17:43:43.230192Z",
          "shell.execute_reply.started": "2023-06-25T17:43:43.149298Z",
          "shell.execute_reply": "2023-06-25T17:43:43.229138Z"
        },
        "trusted": true,
        "id": "Blo6bPrPEtz2",
        "outputId": "55d9c3b2-a348-4148-ebf9-e943d2a45bf5",
        "colab": {
          "base_uri": "https://localhost:8080/",
          "height": 206
        }
      },
      "execution_count": 39,
      "outputs": [
        {
          "output_type": "execute_result",
          "data": {
            "text/plain": [
              "         userId  movieId  rating userId_movieId\n",
              "3560774   85844     9019     3.0     85844_9019\n",
              "368958    20055     9019     2.0     20055_9019\n",
              "4802835    2177     9019     2.0      2177_9019\n",
              "2738864   39905     9019     4.0     39905_9019\n",
              "4818801   24412     9019     4.0     24412_9019"
            ],
            "text/html": [
              "\n",
              "  <div id=\"df-3a11dd04-11e1-4188-bb57-3e6aa41bf289\">\n",
              "    <div class=\"colab-df-container\">\n",
              "      <div>\n",
              "<style scoped>\n",
              "    .dataframe tbody tr th:only-of-type {\n",
              "        vertical-align: middle;\n",
              "    }\n",
              "\n",
              "    .dataframe tbody tr th {\n",
              "        vertical-align: top;\n",
              "    }\n",
              "\n",
              "    .dataframe thead th {\n",
              "        text-align: right;\n",
              "    }\n",
              "</style>\n",
              "<table border=\"1\" class=\"dataframe\">\n",
              "  <thead>\n",
              "    <tr style=\"text-align: right;\">\n",
              "      <th></th>\n",
              "      <th>userId</th>\n",
              "      <th>movieId</th>\n",
              "      <th>rating</th>\n",
              "      <th>userId_movieId</th>\n",
              "    </tr>\n",
              "  </thead>\n",
              "  <tbody>\n",
              "    <tr>\n",
              "      <th>3560774</th>\n",
              "      <td>85844</td>\n",
              "      <td>9019</td>\n",
              "      <td>3.0</td>\n",
              "      <td>85844_9019</td>\n",
              "    </tr>\n",
              "    <tr>\n",
              "      <th>368958</th>\n",
              "      <td>20055</td>\n",
              "      <td>9019</td>\n",
              "      <td>2.0</td>\n",
              "      <td>20055_9019</td>\n",
              "    </tr>\n",
              "    <tr>\n",
              "      <th>4802835</th>\n",
              "      <td>2177</td>\n",
              "      <td>9019</td>\n",
              "      <td>2.0</td>\n",
              "      <td>2177_9019</td>\n",
              "    </tr>\n",
              "    <tr>\n",
              "      <th>2738864</th>\n",
              "      <td>39905</td>\n",
              "      <td>9019</td>\n",
              "      <td>4.0</td>\n",
              "      <td>39905_9019</td>\n",
              "    </tr>\n",
              "    <tr>\n",
              "      <th>4818801</th>\n",
              "      <td>24412</td>\n",
              "      <td>9019</td>\n",
              "      <td>4.0</td>\n",
              "      <td>24412_9019</td>\n",
              "    </tr>\n",
              "  </tbody>\n",
              "</table>\n",
              "</div>\n",
              "      <button class=\"colab-df-convert\" onclick=\"convertToInteractive('df-3a11dd04-11e1-4188-bb57-3e6aa41bf289')\"\n",
              "              title=\"Convert this dataframe to an interactive table.\"\n",
              "              style=\"display:none;\">\n",
              "        \n",
              "  <svg xmlns=\"http://www.w3.org/2000/svg\" height=\"24px\"viewBox=\"0 0 24 24\"\n",
              "       width=\"24px\">\n",
              "    <path d=\"M0 0h24v24H0V0z\" fill=\"none\"/>\n",
              "    <path d=\"M18.56 5.44l.94 2.06.94-2.06 2.06-.94-2.06-.94-.94-2.06-.94 2.06-2.06.94zm-11 1L8.5 8.5l.94-2.06 2.06-.94-2.06-.94L8.5 2.5l-.94 2.06-2.06.94zm10 10l.94 2.06.94-2.06 2.06-.94-2.06-.94-.94-2.06-.94 2.06-2.06.94z\"/><path d=\"M17.41 7.96l-1.37-1.37c-.4-.4-.92-.59-1.43-.59-.52 0-1.04.2-1.43.59L10.3 9.45l-7.72 7.72c-.78.78-.78 2.05 0 2.83L4 21.41c.39.39.9.59 1.41.59.51 0 1.02-.2 1.41-.59l7.78-7.78 2.81-2.81c.8-.78.8-2.07 0-2.86zM5.41 20L4 18.59l7.72-7.72 1.47 1.35L5.41 20z\"/>\n",
              "  </svg>\n",
              "      </button>\n",
              "      \n",
              "  <style>\n",
              "    .colab-df-container {\n",
              "      display:flex;\n",
              "      flex-wrap:wrap;\n",
              "      gap: 12px;\n",
              "    }\n",
              "\n",
              "    .colab-df-convert {\n",
              "      background-color: #E8F0FE;\n",
              "      border: none;\n",
              "      border-radius: 50%;\n",
              "      cursor: pointer;\n",
              "      display: none;\n",
              "      fill: #1967D2;\n",
              "      height: 32px;\n",
              "      padding: 0 0 0 0;\n",
              "      width: 32px;\n",
              "    }\n",
              "\n",
              "    .colab-df-convert:hover {\n",
              "      background-color: #E2EBFA;\n",
              "      box-shadow: 0px 1px 2px rgba(60, 64, 67, 0.3), 0px 1px 3px 1px rgba(60, 64, 67, 0.15);\n",
              "      fill: #174EA6;\n",
              "    }\n",
              "\n",
              "    [theme=dark] .colab-df-convert {\n",
              "      background-color: #3B4455;\n",
              "      fill: #D2E3FC;\n",
              "    }\n",
              "\n",
              "    [theme=dark] .colab-df-convert:hover {\n",
              "      background-color: #434B5C;\n",
              "      box-shadow: 0px 1px 3px 1px rgba(0, 0, 0, 0.15);\n",
              "      filter: drop-shadow(0px 1px 2px rgba(0, 0, 0, 0.3));\n",
              "      fill: #FFFFFF;\n",
              "    }\n",
              "  </style>\n",
              "\n",
              "      <script>\n",
              "        const buttonEl =\n",
              "          document.querySelector('#df-3a11dd04-11e1-4188-bb57-3e6aa41bf289 button.colab-df-convert');\n",
              "        buttonEl.style.display =\n",
              "          google.colab.kernel.accessAllowed ? 'block' : 'none';\n",
              "\n",
              "        async function convertToInteractive(key) {\n",
              "          const element = document.querySelector('#df-3a11dd04-11e1-4188-bb57-3e6aa41bf289');\n",
              "          const dataTable =\n",
              "            await google.colab.kernel.invokeFunction('convertToInteractive',\n",
              "                                                     [key], {});\n",
              "          if (!dataTable) return;\n",
              "\n",
              "          const docLinkHtml = 'Like what you see? Visit the ' +\n",
              "            '<a target=\"_blank\" href=https://colab.research.google.com/notebooks/data_table.ipynb>data table notebook</a>'\n",
              "            + ' to learn more about interactive tables.';\n",
              "          element.innerHTML = '';\n",
              "          dataTable['output_type'] = 'display_data';\n",
              "          await google.colab.output.renderOutput(dataTable, element);\n",
              "          const docLink = document.createElement('div');\n",
              "          docLink.innerHTML = docLinkHtml;\n",
              "          element.appendChild(docLink);\n",
              "        }\n",
              "      </script>\n",
              "    </div>\n",
              "  </div>\n",
              "  "
            ]
          },
          "metadata": {},
          "execution_count": 39
        }
      ]
    },
    {
      "cell_type": "code",
      "source": [
        "def content_generate_rating_estimate(Comb_Id):\n",
        "\n",
        "    k=2\n",
        "    threshold=0.9\n",
        "\n",
        "    user = int(Comb_Id.split('_')[0])\n",
        "    movie_id = int(Comb_Id.split('_')[1])\n",
        "\n",
        "    # Convert the movie id to a numeric index for our similarity matrix\n",
        "    b_idx = indices[movie_id]\n",
        "    neighbors = [] # <-- Stores our collection of similarity values\n",
        "\n",
        "    # Gather the similarity ratings between each movie the user has rated and the reference movie\n",
        "    for index, row in df_users_info[df_users_info['userId']==user].iterrows():\n",
        "        sim = cosine_sim_movie_soup[b_idx-1, indices[row['movieId']]-1]\n",
        "        neighbors.append((sim, row['rating']))\n",
        "\n",
        "    # Select the top-N values from our collection\n",
        "    k_neighbors = heapq.nlargest(k, neighbors, key=lambda t: t[0])\n",
        "\n",
        "    # Compute the weighted average using similarity scores and\n",
        "    # user item ratings.\n",
        "    simTotal, weightedSum = 0, 0\n",
        "    for (simScore, rating) in k_neighbors:\n",
        "\n",
        "        # Ensure that similarity ratings are above a given threshold\n",
        "        if (simScore > threshold):\n",
        "            simTotal += simScore\n",
        "            weightedSum += simScore * rating\n",
        "    try:\n",
        "        predictedRating = weightedSum / simTotal\n",
        "    except ZeroDivisionError:\n",
        "        # Cold-start problem - No ratings given by user.\n",
        "        # We use the average rating for the reference item as a proxy in this case\n",
        "        predictedRating = np.mean(df_users_info[df_users_info['movieId']==movie_id]['rating'])\n",
        "    return predictedRating"
      ],
      "metadata": {
        "execution": {
          "iopub.status.busy": "2023-06-25T17:43:43.231875Z",
          "iopub.execute_input": "2023-06-25T17:43:43.232518Z",
          "iopub.status.idle": "2023-06-25T17:43:43.243815Z",
          "shell.execute_reply.started": "2023-06-25T17:43:43.232480Z",
          "shell.execute_reply": "2023-06-25T17:43:43.242740Z"
        },
        "trusted": true,
        "id": "bjKK3WknEtz3"
      },
      "execution_count": 40,
      "outputs": []
    },
    {
      "cell_type": "code",
      "source": [
        "df_users_info['predictedRating'] = df_users_info['userId_movieId'].apply(content_generate_rating_estimate)"
      ],
      "metadata": {
        "execution": {
          "iopub.status.busy": "2023-06-25T17:43:43.245134Z",
          "iopub.execute_input": "2023-06-25T17:43:43.245528Z",
          "iopub.status.idle": "2023-06-25T17:44:34.872049Z",
          "shell.execute_reply.started": "2023-06-25T17:43:43.245501Z",
          "shell.execute_reply": "2023-06-25T17:44:34.871025Z"
        },
        "trusted": true,
        "id": "bEjOfEJ8Et0H",
        "outputId": "c8326d1c-7bcb-45e5-ef02-732882801f92",
        "colab": {
          "base_uri": "https://localhost:8080/",
          "height": 311
        }
      },
      "execution_count": 41,
      "outputs": [
        {
          "output_type": "error",
          "ename": "KeyboardInterrupt",
          "evalue": "ignored",
          "traceback": [
            "\u001b[0;31m---------------------------------------------------------------------------\u001b[0m",
            "\u001b[0;31mKeyboardInterrupt\u001b[0m                         Traceback (most recent call last)",
            "\u001b[0;32m<ipython-input-41-c3238d91c975>\u001b[0m in \u001b[0;36m<cell line: 1>\u001b[0;34m()\u001b[0m\n\u001b[0;32m----> 1\u001b[0;31m \u001b[0mdf_users_info\u001b[0m\u001b[0;34m[\u001b[0m\u001b[0;34m'predictedRating'\u001b[0m\u001b[0;34m]\u001b[0m \u001b[0;34m=\u001b[0m \u001b[0mdf_users_info\u001b[0m\u001b[0;34m[\u001b[0m\u001b[0;34m'userId_movieId'\u001b[0m\u001b[0;34m]\u001b[0m\u001b[0;34m.\u001b[0m\u001b[0mapply\u001b[0m\u001b[0;34m(\u001b[0m\u001b[0mcontent_generate_rating_estimate\u001b[0m\u001b[0;34m)\u001b[0m\u001b[0;34m\u001b[0m\u001b[0;34m\u001b[0m\u001b[0m\n\u001b[0m",
            "\u001b[0;32m/usr/local/lib/python3.10/dist-packages/pandas/core/series.py\u001b[0m in \u001b[0;36mapply\u001b[0;34m(self, func, convert_dtype, args, **kwargs)\u001b[0m\n\u001b[1;32m   4769\u001b[0m         \u001b[0mdtype\u001b[0m\u001b[0;34m:\u001b[0m \u001b[0mfloat64\u001b[0m\u001b[0;34m\u001b[0m\u001b[0;34m\u001b[0m\u001b[0m\n\u001b[1;32m   4770\u001b[0m         \"\"\"\n\u001b[0;32m-> 4771\u001b[0;31m         \u001b[0;32mreturn\u001b[0m \u001b[0mSeriesApply\u001b[0m\u001b[0;34m(\u001b[0m\u001b[0mself\u001b[0m\u001b[0;34m,\u001b[0m \u001b[0mfunc\u001b[0m\u001b[0;34m,\u001b[0m \u001b[0mconvert_dtype\u001b[0m\u001b[0;34m,\u001b[0m \u001b[0margs\u001b[0m\u001b[0;34m,\u001b[0m \u001b[0mkwargs\u001b[0m\u001b[0;34m)\u001b[0m\u001b[0;34m.\u001b[0m\u001b[0mapply\u001b[0m\u001b[0;34m(\u001b[0m\u001b[0;34m)\u001b[0m\u001b[0;34m\u001b[0m\u001b[0;34m\u001b[0m\u001b[0m\n\u001b[0m\u001b[1;32m   4772\u001b[0m \u001b[0;34m\u001b[0m\u001b[0m\n\u001b[1;32m   4773\u001b[0m     def _reduce(\n",
            "\u001b[0;32m/usr/local/lib/python3.10/dist-packages/pandas/core/apply.py\u001b[0m in \u001b[0;36mapply\u001b[0;34m(self)\u001b[0m\n\u001b[1;32m   1121\u001b[0m \u001b[0;34m\u001b[0m\u001b[0m\n\u001b[1;32m   1122\u001b[0m         \u001b[0;31m# self.f is Callable\u001b[0m\u001b[0;34m\u001b[0m\u001b[0;34m\u001b[0m\u001b[0m\n\u001b[0;32m-> 1123\u001b[0;31m         \u001b[0;32mreturn\u001b[0m \u001b[0mself\u001b[0m\u001b[0;34m.\u001b[0m\u001b[0mapply_standard\u001b[0m\u001b[0;34m(\u001b[0m\u001b[0;34m)\u001b[0m\u001b[0;34m\u001b[0m\u001b[0;34m\u001b[0m\u001b[0m\n\u001b[0m\u001b[1;32m   1124\u001b[0m \u001b[0;34m\u001b[0m\u001b[0m\n\u001b[1;32m   1125\u001b[0m     \u001b[0;32mdef\u001b[0m \u001b[0magg\u001b[0m\u001b[0;34m(\u001b[0m\u001b[0mself\u001b[0m\u001b[0;34m)\u001b[0m\u001b[0;34m:\u001b[0m\u001b[0;34m\u001b[0m\u001b[0;34m\u001b[0m\u001b[0m\n",
            "\u001b[0;32m/usr/local/lib/python3.10/dist-packages/pandas/core/apply.py\u001b[0m in \u001b[0;36mapply_standard\u001b[0;34m(self)\u001b[0m\n\u001b[1;32m   1172\u001b[0m             \u001b[0;32melse\u001b[0m\u001b[0;34m:\u001b[0m\u001b[0;34m\u001b[0m\u001b[0;34m\u001b[0m\u001b[0m\n\u001b[1;32m   1173\u001b[0m                 \u001b[0mvalues\u001b[0m \u001b[0;34m=\u001b[0m \u001b[0mobj\u001b[0m\u001b[0;34m.\u001b[0m\u001b[0mastype\u001b[0m\u001b[0;34m(\u001b[0m\u001b[0mobject\u001b[0m\u001b[0;34m)\u001b[0m\u001b[0;34m.\u001b[0m\u001b[0m_values\u001b[0m\u001b[0;34m\u001b[0m\u001b[0;34m\u001b[0m\u001b[0m\n\u001b[0;32m-> 1174\u001b[0;31m                 mapped = lib.map_infer(\n\u001b[0m\u001b[1;32m   1175\u001b[0m                     \u001b[0mvalues\u001b[0m\u001b[0;34m,\u001b[0m\u001b[0;34m\u001b[0m\u001b[0;34m\u001b[0m\u001b[0m\n\u001b[1;32m   1176\u001b[0m                     \u001b[0mf\u001b[0m\u001b[0;34m,\u001b[0m\u001b[0;34m\u001b[0m\u001b[0;34m\u001b[0m\u001b[0m\n",
            "\u001b[0;32m/usr/local/lib/python3.10/dist-packages/pandas/_libs/lib.pyx\u001b[0m in \u001b[0;36mpandas._libs.lib.map_infer\u001b[0;34m()\u001b[0m\n",
            "\u001b[0;32m<ipython-input-40-acc00d2fc1a3>\u001b[0m in \u001b[0;36mcontent_generate_rating_estimate\u001b[0;34m(Comb_Id)\u001b[0m\n\u001b[1;32m     12\u001b[0m \u001b[0;34m\u001b[0m\u001b[0m\n\u001b[1;32m     13\u001b[0m     \u001b[0;31m# Gather the similarity ratings between each movie the user has rated and the reference movie\u001b[0m\u001b[0;34m\u001b[0m\u001b[0;34m\u001b[0m\u001b[0m\n\u001b[0;32m---> 14\u001b[0;31m     \u001b[0;32mfor\u001b[0m \u001b[0mindex\u001b[0m\u001b[0;34m,\u001b[0m \u001b[0mrow\u001b[0m \u001b[0;32min\u001b[0m \u001b[0mdf_users_info\u001b[0m\u001b[0;34m[\u001b[0m\u001b[0mdf_users_info\u001b[0m\u001b[0;34m[\u001b[0m\u001b[0;34m'userId'\u001b[0m\u001b[0;34m]\u001b[0m\u001b[0;34m==\u001b[0m\u001b[0muser\u001b[0m\u001b[0;34m]\u001b[0m\u001b[0;34m.\u001b[0m\u001b[0miterrows\u001b[0m\u001b[0;34m(\u001b[0m\u001b[0;34m)\u001b[0m\u001b[0;34m:\u001b[0m\u001b[0;34m\u001b[0m\u001b[0;34m\u001b[0m\u001b[0m\n\u001b[0m\u001b[1;32m     15\u001b[0m         \u001b[0msim\u001b[0m \u001b[0;34m=\u001b[0m \u001b[0mcosine_sim_movie_soup\u001b[0m\u001b[0;34m[\u001b[0m\u001b[0mb_idx\u001b[0m\u001b[0;34m-\u001b[0m\u001b[0;36m1\u001b[0m\u001b[0;34m,\u001b[0m \u001b[0mindices\u001b[0m\u001b[0;34m[\u001b[0m\u001b[0mrow\u001b[0m\u001b[0;34m[\u001b[0m\u001b[0;34m'movieId'\u001b[0m\u001b[0;34m]\u001b[0m\u001b[0;34m]\u001b[0m\u001b[0;34m-\u001b[0m\u001b[0;36m1\u001b[0m\u001b[0;34m]\u001b[0m\u001b[0;34m\u001b[0m\u001b[0;34m\u001b[0m\u001b[0m\n\u001b[1;32m     16\u001b[0m         \u001b[0mneighbors\u001b[0m\u001b[0;34m.\u001b[0m\u001b[0mappend\u001b[0m\u001b[0;34m(\u001b[0m\u001b[0;34m(\u001b[0m\u001b[0msim\u001b[0m\u001b[0;34m,\u001b[0m \u001b[0mrow\u001b[0m\u001b[0;34m[\u001b[0m\u001b[0;34m'rating'\u001b[0m\u001b[0;34m]\u001b[0m\u001b[0;34m)\u001b[0m\u001b[0;34m)\u001b[0m\u001b[0;34m\u001b[0m\u001b[0;34m\u001b[0m\u001b[0m\n",
            "\u001b[0;32m/usr/local/lib/python3.10/dist-packages/pandas/core/ops/common.py\u001b[0m in \u001b[0;36mnew_method\u001b[0;34m(self, other)\u001b[0m\n\u001b[1;32m     70\u001b[0m         \u001b[0mother\u001b[0m \u001b[0;34m=\u001b[0m \u001b[0mitem_from_zerodim\u001b[0m\u001b[0;34m(\u001b[0m\u001b[0mother\u001b[0m\u001b[0;34m)\u001b[0m\u001b[0;34m\u001b[0m\u001b[0;34m\u001b[0m\u001b[0m\n\u001b[1;32m     71\u001b[0m \u001b[0;34m\u001b[0m\u001b[0m\n\u001b[0;32m---> 72\u001b[0;31m         \u001b[0;32mreturn\u001b[0m \u001b[0mmethod\u001b[0m\u001b[0;34m(\u001b[0m\u001b[0mself\u001b[0m\u001b[0;34m,\u001b[0m \u001b[0mother\u001b[0m\u001b[0;34m)\u001b[0m\u001b[0;34m\u001b[0m\u001b[0;34m\u001b[0m\u001b[0m\n\u001b[0m\u001b[1;32m     73\u001b[0m \u001b[0;34m\u001b[0m\u001b[0m\n\u001b[1;32m     74\u001b[0m     \u001b[0;32mreturn\u001b[0m \u001b[0mnew_method\u001b[0m\u001b[0;34m\u001b[0m\u001b[0;34m\u001b[0m\u001b[0m\n",
            "\u001b[0;32m/usr/local/lib/python3.10/dist-packages/pandas/core/arraylike.py\u001b[0m in \u001b[0;36m__eq__\u001b[0;34m(self, other)\u001b[0m\n\u001b[1;32m     40\u001b[0m     \u001b[0;34m@\u001b[0m\u001b[0munpack_zerodim_and_defer\u001b[0m\u001b[0;34m(\u001b[0m\u001b[0;34m\"__eq__\"\u001b[0m\u001b[0;34m)\u001b[0m\u001b[0;34m\u001b[0m\u001b[0;34m\u001b[0m\u001b[0m\n\u001b[1;32m     41\u001b[0m     \u001b[0;32mdef\u001b[0m \u001b[0m__eq__\u001b[0m\u001b[0;34m(\u001b[0m\u001b[0mself\u001b[0m\u001b[0;34m,\u001b[0m \u001b[0mother\u001b[0m\u001b[0;34m)\u001b[0m\u001b[0;34m:\u001b[0m\u001b[0;34m\u001b[0m\u001b[0;34m\u001b[0m\u001b[0m\n\u001b[0;32m---> 42\u001b[0;31m         \u001b[0;32mreturn\u001b[0m \u001b[0mself\u001b[0m\u001b[0;34m.\u001b[0m\u001b[0m_cmp_method\u001b[0m\u001b[0;34m(\u001b[0m\u001b[0mother\u001b[0m\u001b[0;34m,\u001b[0m \u001b[0moperator\u001b[0m\u001b[0;34m.\u001b[0m\u001b[0meq\u001b[0m\u001b[0;34m)\u001b[0m\u001b[0;34m\u001b[0m\u001b[0;34m\u001b[0m\u001b[0m\n\u001b[0m\u001b[1;32m     43\u001b[0m \u001b[0;34m\u001b[0m\u001b[0m\n\u001b[1;32m     44\u001b[0m     \u001b[0;34m@\u001b[0m\u001b[0munpack_zerodim_and_defer\u001b[0m\u001b[0;34m(\u001b[0m\u001b[0;34m\"__ne__\"\u001b[0m\u001b[0;34m)\u001b[0m\u001b[0;34m\u001b[0m\u001b[0;34m\u001b[0m\u001b[0m\n",
            "\u001b[0;32m/usr/local/lib/python3.10/dist-packages/pandas/core/series.py\u001b[0m in \u001b[0;36m_cmp_method\u001b[0;34m(self, other, op)\u001b[0m\n\u001b[1;32m   6241\u001b[0m \u001b[0;34m\u001b[0m\u001b[0m\n\u001b[1;32m   6242\u001b[0m         \u001b[0;32mwith\u001b[0m \u001b[0mnp\u001b[0m\u001b[0;34m.\u001b[0m\u001b[0merrstate\u001b[0m\u001b[0;34m(\u001b[0m\u001b[0mall\u001b[0m\u001b[0;34m=\u001b[0m\u001b[0;34m\"ignore\"\u001b[0m\u001b[0;34m)\u001b[0m\u001b[0;34m:\u001b[0m\u001b[0;34m\u001b[0m\u001b[0;34m\u001b[0m\u001b[0m\n\u001b[0;32m-> 6243\u001b[0;31m             \u001b[0mres_values\u001b[0m \u001b[0;34m=\u001b[0m \u001b[0mops\u001b[0m\u001b[0;34m.\u001b[0m\u001b[0mcomparison_op\u001b[0m\u001b[0;34m(\u001b[0m\u001b[0mlvalues\u001b[0m\u001b[0;34m,\u001b[0m \u001b[0mrvalues\u001b[0m\u001b[0;34m,\u001b[0m \u001b[0mop\u001b[0m\u001b[0;34m)\u001b[0m\u001b[0;34m\u001b[0m\u001b[0;34m\u001b[0m\u001b[0m\n\u001b[0m\u001b[1;32m   6244\u001b[0m \u001b[0;34m\u001b[0m\u001b[0m\n\u001b[1;32m   6245\u001b[0m         \u001b[0;32mreturn\u001b[0m \u001b[0mself\u001b[0m\u001b[0;34m.\u001b[0m\u001b[0m_construct_result\u001b[0m\u001b[0;34m(\u001b[0m\u001b[0mres_values\u001b[0m\u001b[0;34m,\u001b[0m \u001b[0mname\u001b[0m\u001b[0;34m=\u001b[0m\u001b[0mres_name\u001b[0m\u001b[0;34m)\u001b[0m\u001b[0;34m\u001b[0m\u001b[0;34m\u001b[0m\u001b[0m\n",
            "\u001b[0;32m/usr/local/lib/python3.10/dist-packages/pandas/core/ops/array_ops.py\u001b[0m in \u001b[0;36mcomparison_op\u001b[0;34m(left, right, op)\u001b[0m\n\u001b[1;32m    288\u001b[0m \u001b[0;34m\u001b[0m\u001b[0m\n\u001b[1;32m    289\u001b[0m     \u001b[0;32melse\u001b[0m\u001b[0;34m:\u001b[0m\u001b[0;34m\u001b[0m\u001b[0;34m\u001b[0m\u001b[0m\n\u001b[0;32m--> 290\u001b[0;31m         \u001b[0mres_values\u001b[0m \u001b[0;34m=\u001b[0m \u001b[0m_na_arithmetic_op\u001b[0m\u001b[0;34m(\u001b[0m\u001b[0mlvalues\u001b[0m\u001b[0;34m,\u001b[0m \u001b[0mrvalues\u001b[0m\u001b[0;34m,\u001b[0m \u001b[0mop\u001b[0m\u001b[0;34m,\u001b[0m \u001b[0mis_cmp\u001b[0m\u001b[0;34m=\u001b[0m\u001b[0;32mTrue\u001b[0m\u001b[0;34m)\u001b[0m\u001b[0;34m\u001b[0m\u001b[0;34m\u001b[0m\u001b[0m\n\u001b[0m\u001b[1;32m    291\u001b[0m \u001b[0;34m\u001b[0m\u001b[0m\n\u001b[1;32m    292\u001b[0m     \u001b[0;32mreturn\u001b[0m \u001b[0mres_values\u001b[0m\u001b[0;34m\u001b[0m\u001b[0;34m\u001b[0m\u001b[0m\n",
            "\u001b[0;32m/usr/local/lib/python3.10/dist-packages/pandas/core/ops/array_ops.py\u001b[0m in \u001b[0;36m_na_arithmetic_op\u001b[0;34m(left, right, op, is_cmp)\u001b[0m\n\u001b[1;32m    163\u001b[0m \u001b[0;34m\u001b[0m\u001b[0m\n\u001b[1;32m    164\u001b[0m     \u001b[0;32mtry\u001b[0m\u001b[0;34m:\u001b[0m\u001b[0;34m\u001b[0m\u001b[0;34m\u001b[0m\u001b[0m\n\u001b[0;32m--> 165\u001b[0;31m         \u001b[0mresult\u001b[0m \u001b[0;34m=\u001b[0m \u001b[0mfunc\u001b[0m\u001b[0;34m(\u001b[0m\u001b[0mleft\u001b[0m\u001b[0;34m,\u001b[0m \u001b[0mright\u001b[0m\u001b[0;34m)\u001b[0m\u001b[0;34m\u001b[0m\u001b[0;34m\u001b[0m\u001b[0m\n\u001b[0m\u001b[1;32m    166\u001b[0m     \u001b[0;32mexcept\u001b[0m \u001b[0mTypeError\u001b[0m\u001b[0;34m:\u001b[0m\u001b[0;34m\u001b[0m\u001b[0;34m\u001b[0m\u001b[0m\n\u001b[1;32m    167\u001b[0m         \u001b[0;32mif\u001b[0m \u001b[0;32mnot\u001b[0m \u001b[0mis_cmp\u001b[0m \u001b[0;32mand\u001b[0m \u001b[0;34m(\u001b[0m\u001b[0mis_object_dtype\u001b[0m\u001b[0;34m(\u001b[0m\u001b[0mleft\u001b[0m\u001b[0;34m.\u001b[0m\u001b[0mdtype\u001b[0m\u001b[0;34m)\u001b[0m \u001b[0;32mor\u001b[0m \u001b[0mis_object_dtype\u001b[0m\u001b[0;34m(\u001b[0m\u001b[0mright\u001b[0m\u001b[0;34m)\u001b[0m\u001b[0;34m)\u001b[0m\u001b[0;34m:\u001b[0m\u001b[0;34m\u001b[0m\u001b[0;34m\u001b[0m\u001b[0m\n",
            "\u001b[0;32m/usr/local/lib/python3.10/dist-packages/pandas/core/computation/expressions.py\u001b[0m in \u001b[0;36mevaluate\u001b[0;34m(op, a, b, use_numexpr)\u001b[0m\n\u001b[1;32m    239\u001b[0m         \u001b[0;32mif\u001b[0m \u001b[0muse_numexpr\u001b[0m\u001b[0;34m:\u001b[0m\u001b[0;34m\u001b[0m\u001b[0;34m\u001b[0m\u001b[0m\n\u001b[1;32m    240\u001b[0m             \u001b[0;31m# error: \"None\" not callable\u001b[0m\u001b[0;34m\u001b[0m\u001b[0;34m\u001b[0m\u001b[0m\n\u001b[0;32m--> 241\u001b[0;31m             \u001b[0;32mreturn\u001b[0m \u001b[0m_evaluate\u001b[0m\u001b[0;34m(\u001b[0m\u001b[0mop\u001b[0m\u001b[0;34m,\u001b[0m \u001b[0mop_str\u001b[0m\u001b[0;34m,\u001b[0m \u001b[0ma\u001b[0m\u001b[0;34m,\u001b[0m \u001b[0mb\u001b[0m\u001b[0;34m)\u001b[0m  \u001b[0;31m# type: ignore[misc]\u001b[0m\u001b[0;34m\u001b[0m\u001b[0;34m\u001b[0m\u001b[0m\n\u001b[0m\u001b[1;32m    242\u001b[0m     \u001b[0;32mreturn\u001b[0m \u001b[0m_evaluate_standard\u001b[0m\u001b[0;34m(\u001b[0m\u001b[0mop\u001b[0m\u001b[0;34m,\u001b[0m \u001b[0mop_str\u001b[0m\u001b[0;34m,\u001b[0m \u001b[0ma\u001b[0m\u001b[0;34m,\u001b[0m \u001b[0mb\u001b[0m\u001b[0;34m)\u001b[0m\u001b[0;34m\u001b[0m\u001b[0;34m\u001b[0m\u001b[0m\n\u001b[1;32m    243\u001b[0m \u001b[0;34m\u001b[0m\u001b[0m\n",
            "\u001b[0;32m/usr/local/lib/python3.10/dist-packages/pandas/core/computation/expressions.py\u001b[0m in \u001b[0;36m_evaluate_numexpr\u001b[0;34m(op, op_str, a, b)\u001b[0m\n\u001b[1;32m    104\u001b[0m \u001b[0;34m\u001b[0m\u001b[0m\n\u001b[1;32m    105\u001b[0m         \u001b[0;32mtry\u001b[0m\u001b[0;34m:\u001b[0m\u001b[0;34m\u001b[0m\u001b[0;34m\u001b[0m\u001b[0m\n\u001b[0;32m--> 106\u001b[0;31m             result = ne.evaluate(\n\u001b[0m\u001b[1;32m    107\u001b[0m                 \u001b[0;34mf\"a_value {op_str} b_value\"\u001b[0m\u001b[0;34m,\u001b[0m\u001b[0;34m\u001b[0m\u001b[0;34m\u001b[0m\u001b[0m\n\u001b[1;32m    108\u001b[0m                 \u001b[0mlocal_dict\u001b[0m\u001b[0;34m=\u001b[0m\u001b[0;34m{\u001b[0m\u001b[0;34m\"a_value\"\u001b[0m\u001b[0;34m:\u001b[0m \u001b[0ma_value\u001b[0m\u001b[0;34m,\u001b[0m \u001b[0;34m\"b_value\"\u001b[0m\u001b[0;34m:\u001b[0m \u001b[0mb_value\u001b[0m\u001b[0;34m}\u001b[0m\u001b[0;34m,\u001b[0m\u001b[0;34m\u001b[0m\u001b[0;34m\u001b[0m\u001b[0m\n",
            "\u001b[0;32m/usr/local/lib/python3.10/dist-packages/numexpr/necompiler.py\u001b[0m in \u001b[0;36mevaluate\u001b[0;34m(ex, local_dict, global_dict, out, order, casting, **kwargs)\u001b[0m\n\u001b[1;32m    833\u001b[0m     \u001b[0m_numexpr_last\u001b[0m \u001b[0;34m=\u001b[0m \u001b[0mdict\u001b[0m\u001b[0;34m(\u001b[0m\u001b[0mex\u001b[0m\u001b[0;34m=\u001b[0m\u001b[0mcompiled_ex\u001b[0m\u001b[0;34m,\u001b[0m \u001b[0margnames\u001b[0m\u001b[0;34m=\u001b[0m\u001b[0mnames\u001b[0m\u001b[0;34m,\u001b[0m \u001b[0mkwargs\u001b[0m\u001b[0;34m=\u001b[0m\u001b[0mkwargs\u001b[0m\u001b[0;34m)\u001b[0m\u001b[0;34m\u001b[0m\u001b[0;34m\u001b[0m\u001b[0m\n\u001b[1;32m    834\u001b[0m     \u001b[0;32mwith\u001b[0m \u001b[0mevaluate_lock\u001b[0m\u001b[0;34m:\u001b[0m\u001b[0;34m\u001b[0m\u001b[0;34m\u001b[0m\u001b[0m\n\u001b[0;32m--> 835\u001b[0;31m         \u001b[0;32mreturn\u001b[0m \u001b[0mcompiled_ex\u001b[0m\u001b[0;34m(\u001b[0m\u001b[0;34m*\u001b[0m\u001b[0marguments\u001b[0m\u001b[0;34m,\u001b[0m \u001b[0;34m**\u001b[0m\u001b[0mkwargs\u001b[0m\u001b[0;34m)\u001b[0m\u001b[0;34m\u001b[0m\u001b[0;34m\u001b[0m\u001b[0m\n\u001b[0m\u001b[1;32m    836\u001b[0m \u001b[0;34m\u001b[0m\u001b[0m\n\u001b[1;32m    837\u001b[0m \u001b[0;34m\u001b[0m\u001b[0m\n",
            "\u001b[0;31mKeyboardInterrupt\u001b[0m: "
          ]
        }
      ]
    },
    {
      "cell_type": "code",
      "source": [
        "df_users_info.head()"
      ],
      "metadata": {
        "execution": {
          "iopub.status.busy": "2023-06-25T17:44:34.875389Z",
          "iopub.execute_input": "2023-06-25T17:44:34.875822Z",
          "iopub.status.idle": "2023-06-25T17:44:34.888534Z",
          "shell.execute_reply.started": "2023-06-25T17:44:34.875783Z",
          "shell.execute_reply": "2023-06-25T17:44:34.887344Z"
        },
        "trusted": true,
        "id": "ExLzWv13Et0H",
        "outputId": "0699d470-384a-498c-b600-ac734d7759f2",
        "colab": {
          "base_uri": "https://localhost:8080/",
          "height": 206
        }
      },
      "execution_count": 42,
      "outputs": [
        {
          "output_type": "execute_result",
          "data": {
            "text/plain": [
              "         userId  movieId  rating userId_movieId\n",
              "7064283  120877        1     3.0       120877_1\n",
              "3761551  113986        1     4.0       113986_1\n",
              "9733691    5152        1     4.0         5152_1\n",
              "8766289   93168        1     4.0        93168_1\n",
              "341554   108001        1     3.0       108001_1"
            ],
            "text/html": [
              "\n",
              "  <div id=\"df-48d6c058-fefc-482c-8b62-f637f9077fa1\">\n",
              "    <div class=\"colab-df-container\">\n",
              "      <div>\n",
              "<style scoped>\n",
              "    .dataframe tbody tr th:only-of-type {\n",
              "        vertical-align: middle;\n",
              "    }\n",
              "\n",
              "    .dataframe tbody tr th {\n",
              "        vertical-align: top;\n",
              "    }\n",
              "\n",
              "    .dataframe thead th {\n",
              "        text-align: right;\n",
              "    }\n",
              "</style>\n",
              "<table border=\"1\" class=\"dataframe\">\n",
              "  <thead>\n",
              "    <tr style=\"text-align: right;\">\n",
              "      <th></th>\n",
              "      <th>userId</th>\n",
              "      <th>movieId</th>\n",
              "      <th>rating</th>\n",
              "      <th>userId_movieId</th>\n",
              "    </tr>\n",
              "  </thead>\n",
              "  <tbody>\n",
              "    <tr>\n",
              "      <th>7064283</th>\n",
              "      <td>120877</td>\n",
              "      <td>1</td>\n",
              "      <td>3.0</td>\n",
              "      <td>120877_1</td>\n",
              "    </tr>\n",
              "    <tr>\n",
              "      <th>3761551</th>\n",
              "      <td>113986</td>\n",
              "      <td>1</td>\n",
              "      <td>4.0</td>\n",
              "      <td>113986_1</td>\n",
              "    </tr>\n",
              "    <tr>\n",
              "      <th>9733691</th>\n",
              "      <td>5152</td>\n",
              "      <td>1</td>\n",
              "      <td>4.0</td>\n",
              "      <td>5152_1</td>\n",
              "    </tr>\n",
              "    <tr>\n",
              "      <th>8766289</th>\n",
              "      <td>93168</td>\n",
              "      <td>1</td>\n",
              "      <td>4.0</td>\n",
              "      <td>93168_1</td>\n",
              "    </tr>\n",
              "    <tr>\n",
              "      <th>341554</th>\n",
              "      <td>108001</td>\n",
              "      <td>1</td>\n",
              "      <td>3.0</td>\n",
              "      <td>108001_1</td>\n",
              "    </tr>\n",
              "  </tbody>\n",
              "</table>\n",
              "</div>\n",
              "      <button class=\"colab-df-convert\" onclick=\"convertToInteractive('df-48d6c058-fefc-482c-8b62-f637f9077fa1')\"\n",
              "              title=\"Convert this dataframe to an interactive table.\"\n",
              "              style=\"display:none;\">\n",
              "        \n",
              "  <svg xmlns=\"http://www.w3.org/2000/svg\" height=\"24px\"viewBox=\"0 0 24 24\"\n",
              "       width=\"24px\">\n",
              "    <path d=\"M0 0h24v24H0V0z\" fill=\"none\"/>\n",
              "    <path d=\"M18.56 5.44l.94 2.06.94-2.06 2.06-.94-2.06-.94-.94-2.06-.94 2.06-2.06.94zm-11 1L8.5 8.5l.94-2.06 2.06-.94-2.06-.94L8.5 2.5l-.94 2.06-2.06.94zm10 10l.94 2.06.94-2.06 2.06-.94-2.06-.94-.94-2.06-.94 2.06-2.06.94z\"/><path d=\"M17.41 7.96l-1.37-1.37c-.4-.4-.92-.59-1.43-.59-.52 0-1.04.2-1.43.59L10.3 9.45l-7.72 7.72c-.78.78-.78 2.05 0 2.83L4 21.41c.39.39.9.59 1.41.59.51 0 1.02-.2 1.41-.59l7.78-7.78 2.81-2.81c.8-.78.8-2.07 0-2.86zM5.41 20L4 18.59l7.72-7.72 1.47 1.35L5.41 20z\"/>\n",
              "  </svg>\n",
              "      </button>\n",
              "      \n",
              "  <style>\n",
              "    .colab-df-container {\n",
              "      display:flex;\n",
              "      flex-wrap:wrap;\n",
              "      gap: 12px;\n",
              "    }\n",
              "\n",
              "    .colab-df-convert {\n",
              "      background-color: #E8F0FE;\n",
              "      border: none;\n",
              "      border-radius: 50%;\n",
              "      cursor: pointer;\n",
              "      display: none;\n",
              "      fill: #1967D2;\n",
              "      height: 32px;\n",
              "      padding: 0 0 0 0;\n",
              "      width: 32px;\n",
              "    }\n",
              "\n",
              "    .colab-df-convert:hover {\n",
              "      background-color: #E2EBFA;\n",
              "      box-shadow: 0px 1px 2px rgba(60, 64, 67, 0.3), 0px 1px 3px 1px rgba(60, 64, 67, 0.15);\n",
              "      fill: #174EA6;\n",
              "    }\n",
              "\n",
              "    [theme=dark] .colab-df-convert {\n",
              "      background-color: #3B4455;\n",
              "      fill: #D2E3FC;\n",
              "    }\n",
              "\n",
              "    [theme=dark] .colab-df-convert:hover {\n",
              "      background-color: #434B5C;\n",
              "      box-shadow: 0px 1px 3px 1px rgba(0, 0, 0, 0.15);\n",
              "      filter: drop-shadow(0px 1px 2px rgba(0, 0, 0, 0.3));\n",
              "      fill: #FFFFFF;\n",
              "    }\n",
              "  </style>\n",
              "\n",
              "      <script>\n",
              "        const buttonEl =\n",
              "          document.querySelector('#df-48d6c058-fefc-482c-8b62-f637f9077fa1 button.colab-df-convert');\n",
              "        buttonEl.style.display =\n",
              "          google.colab.kernel.accessAllowed ? 'block' : 'none';\n",
              "\n",
              "        async function convertToInteractive(key) {\n",
              "          const element = document.querySelector('#df-48d6c058-fefc-482c-8b62-f637f9077fa1');\n",
              "          const dataTable =\n",
              "            await google.colab.kernel.invokeFunction('convertToInteractive',\n",
              "                                                     [key], {});\n",
              "          if (!dataTable) return;\n",
              "\n",
              "          const docLinkHtml = 'Like what you see? Visit the ' +\n",
              "            '<a target=\"_blank\" href=https://colab.research.google.com/notebooks/data_table.ipynb>data table notebook</a>'\n",
              "            + ' to learn more about interactive tables.';\n",
              "          element.innerHTML = '';\n",
              "          dataTable['output_type'] = 'display_data';\n",
              "          await google.colab.output.renderOutput(dataTable, element);\n",
              "          const docLink = document.createElement('div');\n",
              "          docLink.innerHTML = docLinkHtml;\n",
              "          element.appendChild(docLink);\n",
              "        }\n",
              "      </script>\n",
              "    </div>\n",
              "  </div>\n",
              "  "
            ]
          },
          "metadata": {},
          "execution_count": 42
        }
      ]
    },
    {
      "cell_type": "code",
      "source": [
        "from sklearn.metrics import mean_squared_error\n",
        "\n",
        "#convert column to numpy array\n",
        "actual_r = df_users_info['rating'].to_numpy()\n",
        "predicted_r = df_users_info['predictedRating'].to_numpy()\n",
        "\n",
        "rmse = np.sqrt(mean_squared_error(actual_r, predicted_r))\n",
        "rmse"
      ],
      "metadata": {
        "execution": {
          "iopub.status.busy": "2023-06-25T17:44:34.890673Z",
          "iopub.execute_input": "2023-06-25T17:44:34.891467Z",
          "iopub.status.idle": "2023-06-25T17:44:34.905720Z",
          "shell.execute_reply.started": "2023-06-25T17:44:34.891427Z",
          "shell.execute_reply": "2023-06-25T17:44:34.904387Z"
        },
        "trusted": true,
        "id": "S3PkRWPcEt0I"
      },
      "execution_count": null,
      "outputs": []
    },
    {
      "cell_type": "code",
      "source": [
        "# run predictions on test data"
      ],
      "metadata": {
        "id": "HWOKufqjEt0J"
      },
      "execution_count": null,
      "outputs": []
    },
    {
      "cell_type": "code",
      "source": [
        "# create submission csv\n"
      ],
      "metadata": {
        "id": "Cdn_Mw0SEt0K"
      },
      "execution_count": null,
      "outputs": []
    }
  ]
}